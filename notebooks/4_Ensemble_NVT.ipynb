{
 "cells": [
  {
   "cell_type": "markdown",
   "metadata": {},
   "source": [
    "<a href=\"https://colab.research.google.com/github/elvissoares/EQE595-SimMol/blob/main/notebooks/4_Ensemble_NVT.ipynb\" target=\"_parent\"><img src=\"https://colab.research.google.com/assets/colab-badge.svg\" alt=\"Open In Colab\"/></a>"
   ]
  },
  {
   "cell_type": "markdown",
   "metadata": {},
   "source": [
    "# Aula Prática 04 - Dinâmica Molecular em Ensemble NVT\n",
    "\n",
    "Autor: [Prof. Elvis do A. Soares](https://github.com/elvissoares)\n",
    "\n",
    "Contato: [elvis@peq.coppe.ufrj.br](mailto:elvis@peq.coppe.ufrj.br) - [Programa de Engenharia Química, PEQ/COPPE, UFRJ, Brasil](https://www.peq.coppe.ufrj.br/)\n",
    "\n",
    "---"
   ]
  },
  {
   "cell_type": "markdown",
   "metadata": {},
   "source": [
    "## Dinâmica Molecular em Ensemble NVT\n",
    "\n",
    "- $N$: número de partículas\n",
    "- $V$: volume \n",
    "- $T$: temperatura"
   ]
  },
  {
   "cell_type": "code",
   "execution_count": null,
   "metadata": {},
   "outputs": [],
   "source": [
    "import numpy as np\n",
    "import pandas as pd\n",
    "import matplotlib.pyplot as plt\n",
    "from matplotlib import animation\n",
    "from matplotlib.animation import PillowWriter"
   ]
  },
  {
   "attachments": {
    "image.png": {
     "image/png": "[encoded data removed]"
    }
   },
   "cell_type": "markdown",
   "metadata": {},
   "source": [
    "## Integrador de Langevin\n",
    "\n",
    "A dinâmica de Langevin é dada por \n",
    "\n",
    "$$dq = \\frac{p}{m} dt$$\n",
    "$$dp = - \\nabla U(x) dt - \\gamma p dt + \\left(2 \\gamma k_B T m\\right)^{1/2} dW$$\n",
    "\n",
    "onde $\\gamma$ é um coeficiente de atrito e $dW$ é um processo estocástico gerado a partir de um número aleatório gaussiano com média \n",
    "\n",
    "$$\\langle dW \\rangle = 0$$\n",
    "\n",
    "e variância \n",
    "\n",
    "$$\\langle dW^2 \\rangle = dt^2$$\n",
    "\n",
    "![image.png](attachment:image.png)"
   ]
  },
  {
   "cell_type": "markdown",
   "metadata": {},
   "source": [
    "Função que calcula o potencial de LJ entre pares"
   ]
  },
  {
   "cell_type": "code",
   "execution_count": null,
   "metadata": {},
   "outputs": [],
   "source": [
    "def ulj(r,epsilon=1.0,sigma=1.0):\n",
    "    return 4*epsilon*((sigma/r)**12-(sigma/r)**6)"
   ]
  },
  {
   "cell_type": "markdown",
   "metadata": {},
   "source": [
    "Função que calcula a derivada do potencial de LJ entre pares"
   ]
  },
  {
   "cell_type": "code",
   "execution_count": null,
   "metadata": {},
   "outputs": [],
   "source": [
    "def duljdr(r,epsilon=1.0,sigma=1.0):\n",
    "    return -48*epsilon*((sigma/r)**12-0.5*(sigma/r)**6)/r"
   ]
  },
  {
   "cell_type": "markdown",
   "metadata": {},
   "source": [
    "\n",
    "> ⚠️ Implemente o integrador de langevin usando o procedimento BAOAB\n",
    " "
   ]
  },
  {
   "cell_type": "code",
   "execution_count": null,
   "metadata": {},
   "outputs": [],
   "source": [
    "class LJsystem():\n",
    "    # Função que cria a classe\n",
    "    def __init__(self,N, m = 1.0, epsilon = 1.0, sigma = 1.0, rcut = 2.5, dt = 0.003, integrator='verlet'):\n",
    "        # número de partículas\n",
    "        self.N = N\n",
    "\n",
    "        # passo de tempo\n",
    "        self.dt = dt\n",
    "\n",
    "        # integrador de equações de movimento\n",
    "        self.integrator = integrator\n",
    "\n",
    "        # parametros dos atomos\n",
    "        self.m = m\n",
    "        self.sigma = sigma\n",
    "        self.epsilon = epsilon\n",
    "\n",
    "        # parametro de Langevin\n",
    "        self.gamma = 0.3\n",
    "\n",
    "        # parametro de cutoff da interação de LJ\n",
    "        self.rcut = rcut\n",
    "\n",
    "        # Arrays de posições\n",
    "        self.r = np.zeros((self.N,3))\n",
    "\n",
    "        # Arrays de velocidade\n",
    "        self.v = np.zeros((self.N,3))\n",
    "\n",
    "        # Arrays de aceleração\n",
    "        self.a = np.zeros((self.N,3))\n",
    "\n",
    "    def set_density(self,rho):\n",
    "        self.rho = rho\n",
    "        # calcular o tamanho da caixa necessária \n",
    "        self.Vol = self.N/self.rho\n",
    "        self.L = np.power(self.Vol,1/3.0)\n",
    "\n",
    "    def initialize_positions(self):\n",
    "        # Número de pontos em x e y\n",
    "        Nx = Ny = Nz = int(np.ceil(np.power(self.N/4,1/3.0)))\n",
    "\n",
    "        # Espaçamento entre os átomos\n",
    "        dx = self.L/Nx\n",
    "        dy = self.L/Ny\n",
    "        dz = self.L/Nz\n",
    "\n",
    "        # Posições possíveis em x e y numa rede cristalina tipo FCC\n",
    "        id = 0\n",
    "        for i in range(Nx):\n",
    "            for j in range(Ny):\n",
    "                for k in range(Nz):\n",
    "                    if (id < self.N):\n",
    "                        self.r[id][0] = i*dx\n",
    "                        self.r[id][1] = j*dy\n",
    "                        self.r[id][2] = k*dz\n",
    "                        id +=1\n",
    "\n",
    "                    if (id < self.N):\n",
    "                        self.r[id][0] = i*dx\n",
    "                        self.r[id][1] = (j+0.5)*dy\n",
    "                        self.r[id][2] = (k+0.5)*dz\n",
    "                        id +=1\n",
    "\n",
    "                    if (id < self.N):\n",
    "                        self.r[id][0] = (i+0.5)*dx\n",
    "                        self.r[id][1] = j*dy\n",
    "                        self.r[id][2] = (k+0.5)*dz\n",
    "                        id +=1\n",
    "\n",
    "                    if (id < self.N):\n",
    "                        self.r[id][0] = (i+0.5)*dx\n",
    "                        self.r[id][1] = (j+0.5)*dy\n",
    "                        self.r[id][2] = k*dz\n",
    "                        id +=1\n",
    "                        \n",
    "    def initialize_velocities(self,kT= 1.0):\n",
    "        self.kT = kT\n",
    "\n",
    "        # sorteia uma distribuição normal com devio padrão proporcional a temperatura\n",
    "        self.v = np.sqrt(self.kT/self.m)*np.random.randn(self.N,3)\n",
    "\n",
    "        # remove o momento linear total\n",
    "        self.v[:] -= self.v.mean(axis=0)\n",
    "\n",
    "    def build_neighbor_list(self,rcell=2.8):\n",
    "        \"\"\"Construindo uma lista de vizinhos de Verlet dentro de uma região rcell\"\"\"\n",
    "        self.rcell = rcell\n",
    "        self.NL = [[] for _ in range(self.N)]\n",
    "        for i in range(self.N):\n",
    "            for j in range(i+1, self.N):\n",
    "                # calcula distancia entre duas particulas\n",
    "                rij = self.r[i]-self.r[j]\n",
    "                # testa condição de contorno periodica para imagens\n",
    "                rij[:] -= np.rint(rij/self.L)*self.L\n",
    "                # calcula modulo da distancia \n",
    "                rij_norm = np.linalg.norm(rij)\n",
    "                # Vamos considerar somente interação dentro do raio de corte\n",
    "                if rij_norm < self.rcell*self.sigma:\n",
    "                    self.NL[i].append(j)\n",
    "\n",
    "    def update_forces(self):\n",
    "        self.a.fill(0.0)\n",
    "        self.U = 0.0\n",
    "        self.W = 0.0\n",
    "        for i in range(self.N):\n",
    "            for j in self.NL[i]: # <-------- troca os limites \n",
    "                # calcula distancia entre duas particulas\n",
    "                rij = self.r[i]-self.r[j]\n",
    "                # testa condição de contorno periodica para imagens\n",
    "                rij[:] -= np.rint(rij/self.L)*self.L\n",
    "                # calcula modulo da distancia \n",
    "                rij_norm = np.linalg.norm(rij)\n",
    "                # Vamos considerar somente interação dentro do raio de corte\n",
    "                if rij_norm < self.rcut*self.sigma:\n",
    "                    # calcula a derivada do potencial \n",
    "                    dudr = duljdr(rij_norm,self.epsilon,self.sigma)\n",
    "                    # calcula aceleração na particula i \n",
    "                    self.a[i] += -dudr*rij/rij_norm\n",
    "                    # calcula aceleração na particula j usando 3ª Lei de Newton \n",
    "                    self.a[j] += dudr*rij/rij_norm\n",
    "                    # calcula energia interna\n",
    "                    self.U += ulj(rij_norm,self.epsilon,self.sigma)\n",
    "                    self.W += dudr*rij_norm\n",
    "\n",
    "    def initialize(self,kT=1.0):\n",
    "        self.initialize_positions()\n",
    "        self.initialize_velocities(kT=kT)\n",
    "        self.build_neighbor_list()\n",
    "        self.update_forces()\n",
    "\n",
    "    def potential_energy(self):\n",
    "        return self.U\n",
    "\n",
    "    def kinetic_energy(self):\n",
    "        return 0.5*self.m*np.sum(self.v**2)\n",
    "    \n",
    "    def temperature(self):\n",
    "        K = self.kinetic_energy()\n",
    "        return 2*K/(3*self.N)\n",
    "    \n",
    "    def pressure(self):\n",
    "        K = self.kinetic_energy()\n",
    "        kT = self.temperature()\n",
    "        return self.rho*kT + self.W/(3*self.Vol)\n",
    "\n",
    "    def thermodynamic_properties(self):\n",
    "        K = self.kinetic_energy()\n",
    "        U = self.potential_energy()\n",
    "        T = self.temperature()\n",
    "        P = self.pressure()\n",
    "        E = K + U\n",
    "        return K, U, E, T, P\n",
    "    \n",
    "    def step(self):\n",
    "        if self.integrator == 'verlet':\n",
    "            # update das velocidades\n",
    "            self.v[:] += 0.5*self.a*self.dt\n",
    "            # update das posições\n",
    "            self.r[:] += self.dt * self.v\n",
    "            # condição de contorno periódica\n",
    "            self.r[:] = self.r % self.L\n",
    "            # calcula nova aceleração\n",
    "            self.update_forces()\n",
    "            # update das velocidades\n",
    "            self.v[:] += 0.5*self.a*self.dt\n",
    "        elif self.integrator == 'langevin':\n",
    "            ...\n",
    "\n",
    "\n",
    "    def run(self,N_steps,print_every=50,update_list=20):\n",
    "        self.N_steps = N_steps\n",
    "        self.print_every = print_every # steps to print output\n",
    "        self.update_list = update_list\n",
    "\n",
    "        print(\"iter\\tK\\tU\\tE\\tT\\tP\")\n",
    "        self.data = pd.DataFrame({'t': [], 'K': [], 'U': [], 'E': [], 'T': [], 'P': []})\n",
    "\n",
    "        for step in range(1,self.N_steps+1):\n",
    "\n",
    "            if step % self.update_list == 0:\n",
    "                self.build_neighbor_list()\n",
    "            \n",
    "            self.step()\n",
    "\n",
    "            if step % self.print_every == 0:\n",
    "                K, U, E, T, P = self.thermodynamic_properties()\n",
    "                \n",
    "                print(f\"{step:5d}\\t{K:.4f}\\t{U:.4f}\\t{E:.4f}\\t{T:.4f}\\t{P:.4f}\")\n",
    "                new_row = pd.DataFrame({'t': [step], 'K': [K], 'U': [U], 'E': [E], 'T': [T], 'P': [P]})\n",
    "                self.data = pd.concat([self.data, new_row], ignore_index=True)"
   ]
  },
  {
   "cell_type": "code",
   "execution_count": null,
   "metadata": {},
   "outputs": [],
   "source": [
    "rho = 0.2\n",
    "kT = 1.5\n",
    "\n",
    "N_atoms=256"
   ]
  },
  {
   "cell_type": "code",
   "execution_count": null,
   "metadata": {},
   "outputs": [],
   "source": [
    "lj = LJsystem(N=N_atoms,m=1.0,epsilon=1.0,sigma=1.0, rcut=2.5, dt=0.003, integrator='verlet')\n",
    "lj.set_density(rho=rho)\n",
    "lj.initialize(kT=kT)"
   ]
  },
  {
   "cell_type": "markdown",
   "metadata": {},
   "source": [
    "Gráfico com as posições iniciais das partículas"
   ]
  },
  {
   "cell_type": "code",
   "execution_count": null,
   "metadata": {},
   "outputs": [],
   "source": [
    "plt.figure(figsize=(5,5))\n",
    "plt.plot(lj.r[:,0],lj.r[:,1],'o',ms=10.0,alpha=0.5) # posição das partículas\n",
    "plt.quiver(lj.r[:,0],lj.r[:,1],lj.v[:,0],lj.v[:,1],color='C0') # vetor de velocidade\n",
    "\n",
    "plt.xlim(0,lj.L)\n",
    "plt.ylim(0,lj.L)\n",
    "\n",
    "plt.xlabel('x')\n",
    "plt.ylabel('y')"
   ]
  },
  {
   "cell_type": "code",
   "execution_count": null,
   "metadata": {},
   "outputs": [],
   "source": [
    "lj.run(N_steps=2000, print_every=20, update_list=20)"
   ]
  },
  {
   "cell_type": "markdown",
   "metadata": {},
   "source": [
    "Gráfico com as posições finais"
   ]
  },
  {
   "cell_type": "code",
   "execution_count": null,
   "metadata": {},
   "outputs": [],
   "source": [
    "plt.figure(figsize=(5,5))\n",
    "plt.plot(lj.r[:,0],lj.r[:,1],'o',ms=10.0,alpha=0.5) # posição das partículas\n",
    "plt.quiver(lj.r[:,0],lj.r[:,1],lj.v[:,0],lj.v[:,1],color='C0') # vetor de velocidade\n",
    "\n",
    "plt.xlim(0,lj.L)\n",
    "plt.ylim(0,lj.L)\n",
    "\n",
    "plt.xlabel('x')\n",
    "plt.ylabel('y')"
   ]
  },
  {
   "cell_type": "markdown",
   "metadata": {},
   "source": [
    "Gerar Output com qtds de interesse"
   ]
  },
  {
   "cell_type": "code",
   "execution_count": null,
   "metadata": {},
   "outputs": [],
   "source": [
    "simdata = lj.data\n",
    "\n",
    "# Save as tab-separated .txt file\n",
    "simdata.to_csv(f'simdata-N={N_atoms}-rho={rho:.3f}-kT={kT:.3f}.txt', sep='\\t', index=False)"
   ]
  },
  {
   "cell_type": "markdown",
   "metadata": {},
   "source": [
    "Distribuição das partículas"
   ]
  },
  {
   "cell_type": "code",
   "execution_count": null,
   "metadata": {},
   "outputs": [],
   "source": [
    "fig, axs = plt.subplots(1, 3, sharey=True,figsize=(10,3))\n",
    "\n",
    "n, bins = np.histogram(lj.r[:,0],bins=6,range=(0,lj.L),density=True) # é uma outra forma de fazer histograma\n",
    "meanbins = 0.5*(bins[1:]+bins[:-1])\n",
    "axs[0].scatter(meanbins,n,marker='o',color='C0')\n",
    "axs[0].hlines(y=rho*lj.L**2/lj.N,xmin=0,xmax=lj.L,color='k')\n",
    "axs[0].set_xlabel(r'$x/\\sigma$')\n",
    "axs[0].set_ylabel(r'$\\rho/\\sigma^3$')\n",
    "\n",
    "n, bins = np.histogram(lj.r[:,1],bins=6,range=(0,lj.L),density=True)\n",
    "meanbins = 0.5*(bins[1:]+bins[:-1])\n",
    "axs[1].scatter(meanbins,n,marker='o',color='C1')\n",
    "axs[1].hlines(y=rho*lj.L**2/lj.N,xmin=0,xmax=lj.L,color='k')\n",
    "axs[1].set_xlabel(r'$y/\\sigma$')\n",
    "\n",
    "n, bins = np.histogram(lj.r[:,2],bins=6,range=(0,lj.L),density=True)\n",
    "meanbins = 0.5*(bins[1:]+bins[:-1])\n",
    "axs[2].scatter(meanbins,n,marker='o',color='C2')\n",
    "axs[2].hlines(y=rho*lj.L**2/lj.N,xmin=0,xmax=lj.L,color='k')\n",
    "axs[2].set_xlabel(r'$z/\\sigma$')\n",
    "\n",
    "axs[0].set_ylim(0,0.2)"
   ]
  },
  {
   "cell_type": "markdown",
   "metadata": {},
   "source": [
    "Distribuição de Velocidades"
   ]
  },
  {
   "cell_type": "code",
   "execution_count": null,
   "metadata": {},
   "outputs": [],
   "source": [
    "fig, axs = plt.subplots(1, 3, sharey=True,figsize=(10,3))\n",
    "\n",
    "vx = np.arange(-5,5,0.1)\n",
    "fvx = np.exp(-vx**2/(2*kT))/np.sqrt(2*np.pi*kT)\n",
    "\n",
    "n, bins = np.histogram(lj.v[:,0],bins=10,range=(vx.min(),vx.max()),density=True)\n",
    "meanbins = 0.5*(bins[1:]+bins[:-1])\n",
    "axs[0].scatter(meanbins,n,marker='o',color='C0')\n",
    "axs[0].plot(vx,fvx,'k')\n",
    "axs[0].set_xlabel(r'$v_x$')\n",
    "\n",
    "n, bins = np.histogram(lj.v[:,1],bins=10,range=(vx.min(),vx.max()),density=True)\n",
    "meanbins = 0.5*(bins[1:]+bins[:-1])\n",
    "axs[1].scatter(meanbins,n,marker='o',color='C1')\n",
    "axs[1].plot(vx,fvx,'k')\n",
    "axs[1].set_xlabel(r'$v_y$')\n",
    "\n",
    "n, bins = np.histogram(lj.v[:,2],bins=10,range=(vx.min(),vx.max()),density=True)\n",
    "meanbins = 0.5*(bins[1:]+bins[:-1])\n",
    "axs[2].scatter(meanbins,n,marker='o',color='C2')\n",
    "axs[2].plot(vx,fvx,'k')\n",
    "axs[2].set_xlabel(r'$v_z$')\n",
    "\n",
    "axs[0].set_ylim(0,0.5)"
   ]
  },
  {
   "cell_type": "markdown",
   "metadata": {},
   "source": [
    "Gráfico da evolução de $E$, $U$ e $T$ como função dos passos de iteração"
   ]
  },
  {
   "cell_type": "code",
   "execution_count": null,
   "metadata": {},
   "outputs": [],
   "source": [
    "fig, axs = plt.subplots(3, 1, sharex=True)\n",
    "\n",
    "axs[0].plot(simdata['t'],simdata['E']/lj.N,'k',label='E')\n",
    "axs[0].legend(loc='best')\n",
    "axs[0].set_ylabel(r'$E/(N\\epsilon)$')\n",
    "\n",
    "axs[1].plot(simdata['t'],simdata['U']/lj.N,label='U')\n",
    "axs[1].legend(loc='best')\n",
    "axs[1].set_ylabel(r'$U/(N\\epsilon)$')\n",
    "\n",
    "axs[2].plot(simdata['t'],simdata['T'],color='C3',label='T')\n",
    "axs[2].legend(loc='best')\n",
    "axs[2].set_xlabel(r'$t/\\tau$')\n",
    "axs[2].set_ylabel(r'$k_B T/\\epsilon$')"
   ]
  },
  {
   "cell_type": "markdown",
   "metadata": {},
   "source": [
    "> ⚠️ Analise as distribuições de energia interna, temperatura e pressão.\n"
   ]
  },
  {
   "cell_type": "code",
   "execution_count": null,
   "metadata": {},
   "outputs": [],
   "source": []
  }
 ],
 "metadata": {
  "kernelspec": {
   "display_name": "simmol",
   "language": "python",
   "name": "python3"
  },
  "language_info": {
   "codemirror_mode": {
    "name": "ipython",
    "version": 3
   },
   "file_extension": ".py",
   "mimetype": "text/x-python",
   "name": "python",
   "nbconvert_exporter": "python",
   "pygments_lexer": "ipython3",
   "version": "3.13.3"
  }
 },
 "nbformat": 4,
 "nbformat_minor": 4
}
