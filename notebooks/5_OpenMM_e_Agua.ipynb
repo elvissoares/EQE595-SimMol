{
 "cells": [
  {
   "cell_type": "markdown",
   "metadata": {},
   "source": [
    "<a href=\"https://colab.research.google.com/github/elvissoares/EQE595-SimMol/blob/main/notebooks/5_OpenMM_e_Agua.ipynb\" target=\"_parent\"><img src=\"https://colab.research.google.com/assets/colab-badge.svg\" alt=\"Open In Colab\"/></a>"
   ]
  },
  {
   "cell_type": "markdown",
   "metadata": {},
   "source": [
    "Para usar o OpenMM no Google Colab devemos fazer alguns passos:\n",
    "1. Instalar o `condalab`\n",
    "2. Instalar o `numpy>=2.0` e `cudatoolkit=12.4` para instalação do `openmm`\n"
   ]
  },
  {
   "cell_type": "code",
   "execution_count": null,
   "metadata": {},
   "outputs": [],
   "source": [
    "!pip install -q condacolab\n",
    "import condacolab\n",
    "condacolab.install()"
   ]
  },
  {
   "cell_type": "code",
   "execution_count": null,
   "metadata": {},
   "outputs": [],
   "source": [
    "import condacolab\n",
    "condacolab.check()"
   ]
  },
  {
   "cell_type": "code",
   "execution_count": null,
   "metadata": {},
   "outputs": [],
   "source": [
    "!mamba install -q openmm cudatoolkit=12.4 numpy>=2.0"
   ]
  },
  {
   "cell_type": "markdown",
   "metadata": {},
   "source": [
    "# Aula Prática 05 - Dinâmica Molecular da Molécula de Água\n",
    "\n",
    "Autor: [Prof. Elvis do A. Soares](https://github.com/elvissoares)\n",
    "\n",
    "Contato: [elvis@peq.coppe.ufrj.br](mailto:elvis@peq.coppe.ufrj.br) - [Programa de Engenharia Química, PEQ/COPPE, UFRJ, Brasil](https://www.peq.coppe.ufrj.br/)\n",
    "\n",
    "---"
   ]
  },
  {
   "cell_type": "code",
   "execution_count": 1,
   "metadata": {},
   "outputs": [],
   "source": [
    "from sys import stdout\n",
    "import numpy as np\n",
    "import pandas as pd\n",
    "import matplotlib.pyplot as plt"
   ]
  },
  {
   "cell_type": "code",
   "execution_count": null,
   "metadata": {},
   "outputs": [
    {
     "data": {
      "application/vnd.jupyter.widget-view+json": {
       "model_id": "80aa78c4d84f4ef984f095e14a8b0cc4",
       "version_major": 2,
       "version_minor": 0
      },
      "text/plain": []
     },
     "metadata": {},
     "output_type": "display_data"
    },
    {
     "name": "stderr",
     "output_type": "stream",
     "text": [
      "/home/elvis/.local/lib/python3.13/site-packages/nglview/__init__.py:12: UserWarning: pkg_resources is deprecated as an API. See https://setuptools.pypa.io/en/latest/pkg_resources.html. The pkg_resources package is slated for removal as early as 2025-11-30. Refrain from using this package or pin to Setuptools<81.\n",
      "  import pkg_resources\n"
     ]
    }
   ],
   "source": [
    "# import mdtraj\n",
    "# import nglview\n",
    "\n",
    "from openmm.app import *\n",
    "from openmm import *\n",
    "from openmm.unit import *"
   ]
  },
  {
   "cell_type": "markdown",
   "metadata": {},
   "source": [
    "## Topologia da Molécula de Água\n",
    "\n",
    "![image-2.png](imgs/WaterMoleculeStruct.png)\n",
    "\n",
    "Definindo a topologia da molécula de água H-O-H"
   ]
  },
  {
   "cell_type": "code",
   "execution_count": 3,
   "metadata": {},
   "outputs": [],
   "source": [
    "mol_topology = Topology()\n",
    "chain = mol_topology.addChain()\n",
    "residue = mol_topology.addResidue(\"water\", chain)\n",
    "element_O = Element.getByAtomicNumber(8)\n",
    "element_H = Element.getByAtomicNumber(1)\n",
    "atom0 = mol_topology.addAtom(\"O\", element_O, residue)\n",
    "atom1 = mol_topology.addAtom(\"H\", element_H, residue)\n",
    "atom2 = mol_topology.addAtom(\"H\", element_H, residue)\n",
    "mol_topology.addBond(atom0, atom1)\n",
    "mol_topology.addBond(atom0, atom2)"
   ]
  },
  {
   "cell_type": "code",
   "execution_count": 4,
   "metadata": {},
   "outputs": [
    {
     "name": "stdout",
     "output_type": "stream",
     "text": [
      "<Topology; 1 chains, 1 residues, 3 atoms, 2 bonds>\n",
      "Número de átomos: 3\n",
      "Nome e massa do átomo 0: O, 15.99943 Da\n",
      "Nome e massa do átomo 1: H, 1.007947 Da\n",
      "Nome e massa do átomo 2: H, 1.007947 Da\n"
     ]
    }
   ],
   "source": [
    "print(mol_topology)\n",
    "print(\"Número de átomos:\", mol_topology.getNumAtoms())\n",
    "for iatom, atom in enumerate(mol_topology.atoms()):\n",
    "    print(f\"Nome e massa do átomo {iatom}: {atom.name}, {atom.element.mass}\")"
   ]
  },
  {
   "cell_type": "markdown",
   "metadata": {},
   "source": [
    "## Campos de Força Gerais"
   ]
  },
  {
   "cell_type": "markdown",
   "metadata": {},
   "source": [
    "![image.png](imgs/forcefield.png)"
   ]
  },
  {
   "cell_type": "markdown",
   "metadata": {},
   "source": [
    "## Termos Ligantes\n",
    "\n",
    "### 1. Termo de Comprimento da ligação\n",
    "\n",
    "$$U_\\text{bond} = \\frac{k_l}{2}(l - l_0)^2$$\n",
    "\n",
    "Para água, no TIP3, temos \n",
    "- $l_0=0.09572$ nm\n",
    "- $k_l=462750.4$ kJ/(nm $^2$ mol) \n",
    "\n",
    "### 2. Termo de ângulo de ligação\n",
    "\n",
    "$$ U_{\\text{angle}} = \\frac{k_\\theta}{2}(\\theta-\\theta_0)^2$$\n",
    "\n",
    "Para água no TIP3 temos \n",
    "- $\\theta_0=1.82421813418$ rad\n",
    "- $k_\\theta = 836.8$ kJ/mol\n",
    "\n",
    "### 3. Termo de torção\n",
    "\n",
    "$$ U_\\text{torcao} = \\frac{k_\\text{torcao}}{2}\\cos(n\\phi-\\phi_0)$$\n",
    "\n",
    "## Termos Não-ligantes\n",
    "\n",
    "### 1. Dispersão de van der Waals\n",
    "\n",
    "$$ U_\\text{vdW} = \\frac{A_{ij}}{r_{ij}^{12}} - \\frac{B_{ij}}{r_{ij}^6}$$\n",
    "\n",
    "### 2. Interação eletrostática\n",
    "\n",
    "$$ U_\\text{ele} = \\frac{q_i q_j}{4\\pi \\epsilon r_{ij}}$$"
   ]
  },
  {
   "cell_type": "markdown",
   "metadata": {},
   "source": [
    "Escolhendo o campo de força para a água"
   ]
  },
  {
   "cell_type": "code",
   "execution_count": 5,
   "metadata": {},
   "outputs": [],
   "source": [
    "forcefield = ForceField('amber14/tip3p.xml')"
   ]
  },
  {
   "cell_type": "markdown",
   "metadata": {},
   "source": [
    "Definindo o sistema para simulação "
   ]
  },
  {
   "cell_type": "code",
   "execution_count": 6,
   "metadata": {},
   "outputs": [],
   "source": [
    "system = forcefield.createSystem(mol_topology, nonbondedCutoff=1 * nanometer)\n",
    "\n",
    "platform = Platform.getPlatformByName('CUDA') # ou 'CUDA' se tiver GPU\n",
    "\n",
    "# c. Definition an integrator, mandatory.\n",
    "integrator = VerletIntegrator(1 * femtoseconds)\n",
    "\n",
    "# d. A simulation object in OpenMM combines topology, system and integrator.\n",
    "simulation = Simulation(mol_topology, system, integrator, platform)\n",
    "\n",
    "# Definindo a geometria inicial da molécula\n",
    "bond = 0.9572  # Å\n",
    "angle = 1.82421813418 # rad (104.52° in radians)\n",
    "simulation.context.setPositions(\n",
    "    np.array([\n",
    "    [0.0,         0.0,         0.0        ],  # O\n",
    "    [ bond,       0.0,         0.0        ],  # H1\n",
    "    [ bond*np.cos(angle), bond*np.sin(angle), 0.0 ],  # H2\n",
    "]) * angstrom\n",
    ")"
   ]
  },
  {
   "cell_type": "code",
   "execution_count": 7,
   "metadata": {},
   "outputs": [
    {
     "name": "stdout",
     "output_type": "stream",
     "text": [
      "Parâmetros da força de ligação O-H:\n",
      "Parâmetro 0: [0, 1, Quantity(value=0.09572, unit=nanometer), Quantity(value=462750.4, unit=kilojoule/(nanometer**2*mole))]\n",
      "Parâmetro 1: [0, 2, Quantity(value=0.09572, unit=nanometer), Quantity(value=462750.4, unit=kilojoule/(nanometer**2*mole))]\n",
      "\n",
      "Parâmetros da interação de ângulo H-O-H:\n",
      "Parâmetro 0: [1, 0, 2, Quantity(value=1.82421813418, unit=radian), Quantity(value=836.8, unit=kilojoule/(mole*radian**2))]\n"
     ]
    }
   ],
   "source": [
    "force = system.getForce(0)\n",
    "print(\"Parâmetros da força de ligação O-H:\")\n",
    "for i in range(force.getNumBonds()):\n",
    "    l = force.getBondParameters(i)\n",
    "    print(f\"Parâmetro {i}: {l}\")\n",
    "\n",
    "print()\n",
    "force_angle = system.getForce(3)\n",
    "print(\"Parâmetros da interação de ângulo H-O-H:\")\n",
    "for i in range(force_angle.getNumAngles()):\n",
    "    theta = force_angle.getAngleParameters(i)\n",
    "    print(f\"Parâmetro {i}: {theta}\")"
   ]
  },
  {
   "cell_type": "markdown",
   "metadata": {},
   "source": [
    "## Cálculo de Energia de comprimento da ligação O-H na molécula de H2O"
   ]
  },
  {
   "cell_type": "code",
   "execution_count": 8,
   "metadata": {},
   "outputs": [
    {
     "data": {
      "image/png": "[encoded data removed]",
      "text/plain": [
       "<Figure size 600x400 with 1 Axes>"
      ]
     },
     "metadata": {},
     "output_type": "display_data"
    }
   ],
   "source": [
    "# loop sobre distancias entre o átomo de oxigênio e o hidrogênio 1 e calcula a energia potencial\n",
    "distances = np.linspace(0.5, 1.4, 50) * angstrom\n",
    "energies = []\n",
    "for distance in distances:\n",
    "    simulation.context.setPositions(\n",
    "        np.array([\n",
    "            [0.0, 0.0, 0.0],  # O\n",
    "            [distance.value_in_unit(angstrom), 0.0, 0.0],  # H1\n",
    "            [bond * np.cos(angle), bond * np.sin(angle), 0.0]  # H2\n",
    "        ]) * angstrom\n",
    "    )\n",
    "    state = simulation.context.getState(getEnergy=True)\n",
    "    energies.append(state.getPotentialEnergy().value_in_unit(kilojoule_per_mole))\n",
    "    \n",
    "# Convertendo as energias para um array NumPy\n",
    "energies = np.array(energies)\n",
    "\n",
    "\n",
    "# Criando um gráfico de energia potencial versus distância\n",
    "plt.figure(figsize=(6, 4))\n",
    "plt.plot(distances.value_in_unit(angstrom), energies, marker='o', linestyle='-', color='C0')\n",
    "plt.title('Energia Potencial vs Distância O-H')\n",
    "plt.xlabel('Distância O-H (Å)')\n",
    "plt.ylabel('Energia Potencial (kJ/mol)')\n",
    "plt.grid()\n"
   ]
  },
  {
   "cell_type": "markdown",
   "metadata": {},
   "source": [
    "## Cálculo de Energia de ângulo da ligação H-O-H na molécula de H2O"
   ]
  },
  {
   "cell_type": "code",
   "execution_count": 9,
   "metadata": {},
   "outputs": [
    {
     "data": {
      "image/png": "[encoded data removed]",
      "text/plain": [
       "<Figure size 600x400 with 1 Axes>"
      ]
     },
     "metadata": {},
     "output_type": "display_data"
    }
   ],
   "source": [
    "# loop sobre valores do ângulo entre H-O-H e calcula a energia potencial\n",
    "angles = np.linspace(90, 120, 50) * np.pi / 180  # Ângulos de 90 a 150 graus\n",
    "energies_angle = []\n",
    "for angle in angles:\n",
    "    simulation.context.setPositions(\n",
    "        np.array([\n",
    "            [0.0, 0.0, 0.0],  # O\n",
    "            [bond, 0.0, 0.0],  # H1\n",
    "            [bond * np.cos(angle), bond * np.sin(angle), 0.0]  # H2\n",
    "        ]) * angstrom\n",
    "    )\n",
    "    state = simulation.context.getState(getEnergy=True)\n",
    "    energies_angle.append(state.getPotentialEnergy().value_in_unit(kilojoule_per_mole))\n",
    "\n",
    "# Convertendo as energias para um array NumPy\n",
    "energies_angle = np.array(energies_angle)\n",
    "\n",
    "# Criando um gráfico de energia potencial versus ângulo\n",
    "plt.figure(figsize=(6, 4))\n",
    "plt.plot(np.degrees(angles), energies_angle, marker='o', linestyle='-', color='C1')\n",
    "plt.title('Energia Potencial vs Ângulo H-O-H')\n",
    "plt.xlabel('Ângulo H-O-H (graus)')\n",
    "plt.ylabel('Energia Potencial (kJ/mol)')\n",
    "plt.grid()\n"
   ]
  },
  {
   "cell_type": "markdown",
   "metadata": {},
   "source": [
    "## Cálcula o equilíbrio da molécula"
   ]
  },
  {
   "cell_type": "markdown",
   "metadata": {},
   "source": [
    "Posições antes do equilíbrio"
   ]
  },
  {
   "cell_type": "code",
   "execution_count": 10,
   "metadata": {},
   "outputs": [
    {
     "name": "stdout",
     "output_type": "stream",
     "text": [
      "Energia potencial:  0.26925569772720337 kJ/mol\n",
      "\n",
      "Posições Atômicas\n",
      "[[ 0.          0.          0.        ]\n",
      " [ 0.095       0.          0.        ]\n",
      " [-0.02458781  0.09176295  0.        ]] nm\n",
      "\n"
     ]
    }
   ],
   "source": [
    "# Definindo a geometria inicial da molécula\n",
    "bond = 0.95  # Å\n",
    "angle = 105.0 * np.pi/180\n",
    "simulation.context.setPositions(\n",
    "    np.array([\n",
    "    [0.0,         0.0,         0.0        ],  # O\n",
    "    [ bond,       0.0,         0.0        ],  # H1\n",
    "    [ bond*np.cos(angle), bond*np.sin(angle), 0.0 ],  # H2\n",
    "]) * angstrom\n",
    ")\n",
    "\n",
    "state = simulation.context.getState(getPositions=True, getForces=True, getEnergy=True)\n",
    "print(\"Energia potencial: \", state.getPotentialEnergy())\n",
    "print()\n",
    "print(\"Posições Atômicas\")\n",
    "print(state.getPositions(asNumpy=True))\n",
    "print()"
   ]
  },
  {
   "cell_type": "markdown",
   "metadata": {},
   "source": [
    "Minimiza a energia da molécula de acordo com o campo de força TIP3"
   ]
  },
  {
   "cell_type": "code",
   "execution_count": 11,
   "metadata": {},
   "outputs": [],
   "source": [
    "simulation.minimizeEnergy()"
   ]
  },
  {
   "cell_type": "markdown",
   "metadata": {},
   "source": [
    "Posições e infos após o equilíbrio da molécula"
   ]
  },
  {
   "cell_type": "code",
   "execution_count": 12,
   "metadata": {},
   "outputs": [
    {
     "name": "stdout",
     "output_type": "stream",
     "text": [
      "Energia potencial:  9.281799329130536e-09 kJ/mol\n",
      "\n",
      "Posições Atômicas\n",
      "[[-3.06727074e-04 -3.99716635e-04  0.00000000e+00]\n",
      " [ 9.54123214e-02  1.15921341e-06  0.00000000e+00]\n",
      " [-2.46934034e-02  9.21615064e-02  0.00000000e+00]] nm\n",
      "\n"
     ]
    }
   ],
   "source": [
    "state = simulation.context.getState(getPositions=True, getForces=True, getEnergy=True)\n",
    "print(\"Energia potencial: \", state.getPotentialEnergy())\n",
    "print()\n",
    "print(\"Posições Atômicas\")\n",
    "print(state.getPositions(asNumpy=True))\n",
    "print()"
   ]
  },
  {
   "cell_type": "markdown",
   "metadata": {},
   "source": [
    "Calcula distancia O-H e ângulo H-O-H de equilíbrio"
   ]
  },
  {
   "cell_type": "code",
   "execution_count": 13,
   "metadata": {},
   "outputs": [
    {
     "name": "stdout",
     "output_type": "stream",
     "text": [
      "Comprimento da Ligação O-H:  0.0957198879020557 nm\n",
      "Ângulo da Ligação H-O-H:  1.8242195531644219 rad,  104.52008130156227 graus\n"
     ]
    }
   ],
   "source": [
    "# comprimento O-H, em nanometros.\n",
    "eq_pos = state.getPositions(asNumpy=True)\n",
    "l0 = np.linalg.norm(eq_pos[1] - eq_pos[0])\n",
    "print('Comprimento da Ligação O-H: ',l0,  'nm')\n",
    "\n",
    "# ângulo H-O-H\n",
    "d01 = eq_pos[1] - eq_pos[0]\n",
    "d02 = eq_pos[2] - eq_pos[0]\n",
    "d01 /= np.linalg.norm(d01)\n",
    "d02 /= np.linalg.norm(d02)\n",
    "cosine = np.dot(d01, d02)\n",
    "theta0 = np.arccos(cosine)\n",
    "print('Ângulo da Ligação H-O-H: ', theta0, 'rad, ',np.degrees(theta0), 'graus')"
   ]
  },
  {
   "cell_type": "markdown",
   "metadata": {},
   "source": [
    "---\n",
    "\n",
    "# Dinâmica Molecular com Água"
   ]
  },
  {
   "cell_type": "markdown",
   "metadata": {},
   "source": [
    "Definição da caixa de simulação "
   ]
  },
  {
   "cell_type": "code",
   "execution_count": 14,
   "metadata": {},
   "outputs": [],
   "source": [
    "L = 30 * angstrom\n",
    "\n",
    "box_matrix = L * np.identity(3)\n",
    "topology = Topology()\n",
    "topology.setPeriodicBoxVectors(box_matrix)\n",
    "\n",
    "N_mol = 1000\n",
    "\n",
    "resname = next(mol_topology.residues()).name\n",
    "\n",
    "for i in range(N_mol):\n",
    "    chain   = topology.addChain()\n",
    "    residue = topology.addResidue(resname, chain)\n",
    "    atom_map = {}  \n",
    "\n",
    "    # 1) add atoms\n",
    "    for atom in mol_topology.atoms():\n",
    "        new = topology.addAtom(atom.name, atom.element, residue)\n",
    "        atom_map[atom] = new\n",
    "\n",
    "    # 2) add the same bonds\n",
    "    for bond in mol_topology.bonds():\n",
    "        a1 = atom_map[bond.atom1]\n",
    "        a2 = atom_map[bond.atom2]\n",
    "        topology.addBond(a1, a2)"
   ]
  },
  {
   "cell_type": "markdown",
   "metadata": {},
   "source": [
    "Colocando cada molécula em um lugar distinto da caixa"
   ]
  },
  {
   "cell_type": "code",
   "execution_count": 15,
   "metadata": {},
   "outputs": [],
   "source": [
    "# Coloca cada molécula em uma posição aleatória dentro da caixa cúbica\n",
    "\n",
    "all_pos = []\n",
    "for _ in range(N_mol):\n",
    "    CMpos = np.random.uniform(0, L / nanometer, 3)\n",
    "    coords = CMpos + eq_pos/nanometer\n",
    "    all_pos.append(coords)"
   ]
  },
  {
   "cell_type": "markdown",
   "metadata": {},
   "source": [
    "Definindo integrador para simulação NVT"
   ]
  },
  {
   "cell_type": "code",
   "execution_count": 16,
   "metadata": {},
   "outputs": [],
   "source": [
    "temperatura = 300 * kelvin\n",
    "\n",
    "system = forcefield.createSystem(topology, nonbondedMethod=PME,\n",
    "        nonbondedCutoff=1*nanometer, constraints=HBonds)\n",
    "\n",
    "integrator = LangevinMiddleIntegrator(temperatura, 1/picosecond, 4*femtoseconds)\n",
    "\n",
    "simulation = Simulation(topology, system, integrator,platform)\n",
    "simulation.context.setPositions(np.vstack(all_pos) * angstrom)\n",
    "simulation.minimizeEnergy()\n",
    "simulation.context.setVelocitiesToTemperature(temperatura)"
   ]
  },
  {
   "cell_type": "code",
   "execution_count": 17,
   "metadata": {},
   "outputs": [],
   "source": [
    "positions = simulation.context.getState(getPositions=True).getPositions()\n",
    "\n",
    "PDBFile.writeFile(topology, positions, open('initial_water.pdb', 'w'))"
   ]
  },
  {
   "cell_type": "markdown",
   "metadata": {},
   "source": [
    "Definindo os relatórios"
   ]
  },
  {
   "cell_type": "code",
   "execution_count": 18,
   "metadata": {},
   "outputs": [],
   "source": [
    "# Remove reporters existentes, no caso dessa célula ser executada mais de uma vez.\n",
    "simulation.reporters = []\n",
    "\n",
    "# Escreve cada frame em arquivo DCD de trajetórias a cada 1000 passos\n",
    "simulation.reporters.append(DCDReporter(\"output_water.dcd\", 1000))\n",
    "\n",
    "# Escreve num arquivo csv a cada 20 passos \n",
    "simulation.reporters.append(\n",
    "    StateDataReporter(\n",
    "        \"md_log_water.csv\",\n",
    "        20,\n",
    "        step=True,\n",
    "        time=True,\n",
    "        potentialEnergy=True,\n",
    "        totalEnergy=True,\n",
    "        temperature=True,\n",
    "        volume=True\n",
    "    )\n",
    ")\n",
    "\n",
    "# Escreve na tela a cada 1000 passos \n",
    "simulation.reporters.append(\n",
    "    StateDataReporter(stdout, 1000, step=True, totalEnergy=True,temperature=True,\n",
    "        volume=True)\n",
    ")"
   ]
  },
  {
   "cell_type": "markdown",
   "metadata": {},
   "source": [
    "## Equilibração NVT"
   ]
  },
  {
   "cell_type": "code",
   "execution_count": 19,
   "metadata": {},
   "outputs": [
    {
     "name": "stdout",
     "output_type": "stream",
     "text": [
      "Equilibrando com NVT\n",
      "#\"Step\",\"Total Energy (kJ/mole)\",\"Temperature (K)\",\"Box Volume (nm^3)\"\n",
      "1000,-31704.856655312295,300.1140641838634,27.0\n",
      "2000,-31595.743078155967,303.1952870778102,27.0\n",
      "3000,-31229.681708043965,295.81085219788787,27.0\n",
      "4000,-31448.642464685778,307.3915197726001,27.0\n",
      "5000,-31350.764432327123,295.9645800365456,27.0\n"
     ]
    }
   ],
   "source": [
    "print(\"Equilibrando com NVT\")\n",
    "\n",
    "simulation.step(5000)"
   ]
  },
  {
   "cell_type": "markdown",
   "metadata": {},
   "source": [
    "## Produção NPT"
   ]
  },
  {
   "cell_type": "code",
   "execution_count": 20,
   "metadata": {},
   "outputs": [
    {
     "name": "stdout",
     "output_type": "stream",
     "text": [
      "Rodando NPT\n",
      "6000,-31873.332383420668,290.32800630358713,28.719890799466537\n",
      "7000,-31355.4870110614,289.6474401362809,29.68333568684763\n",
      "8000,-30626.711039636284,304.42755090189127,29.77604881817014\n",
      "9000,-30927.133426179207,300.3022516809816,30.038733609281543\n",
      "10000,-30495.057895788923,307.8458295074587,29.908106307727344\n",
      "11000,-31212.922265718604,293.4606539369204,29.547483712113518\n",
      "12000,-30542.668611896195,305.0057927403925,29.946281919660976\n",
      "13000,-30754.493402848602,296.0679090867562,30.66527521315034\n",
      "14000,-30674.119592789415,301.34759327174083,30.673318440243644\n",
      "15000,-30324.839161208307,306.0696499037629,30.366763836792792\n",
      "16000,-30361.39284566496,310.8362617826939,29.74114105815543\n",
      "17000,-31165.28962789371,300.77494851570214,29.9514883971541\n",
      "18000,-30807.000222124654,294.4088244034916,30.030953511293216\n",
      "19000,-30658.249711273733,302.6168887609005,30.23231753613817\n",
      "20000,-30861.342491430405,297.4143137346622,30.19348988174944\n",
      "21000,-30474.79009868775,300.943192640044,30.236990840728577\n",
      "22000,-30489.220165872946,301.3704207950001,30.11034266741036\n",
      "23000,-30633.150914969534,297.85245148142934,30.213234224463978\n",
      "24000,-30516.01865534205,303.06917442819923,29.969749709917387\n",
      "25000,-30760.65249551955,308.37228642800636,29.77799289445407\n",
      "26000,-30499.240375304158,302.2003633983507,29.894685584907496\n",
      "27000,-30772.61181220293,294.3152080777902,30.556256677159176\n",
      "28000,-30368.180840407324,302.44321644133527,30.060123999067635\n",
      "29000,-30791.70761950803,299.72871515436043,30.35180164099207\n",
      "30000,-30564.025042022404,301.25334435584773,30.42346807094293\n",
      "31000,-30859.57903307394,300.3981727069295,30.133618459361625\n",
      "32000,-30838.392709765,300.9724482791632,30.276792581565694\n",
      "33000,-30992.803971248126,292.206393032123,30.679500924940207\n",
      "34000,-30960.8706212643,304.443129548877,29.673800461334118\n",
      "35000,-30917.211005830235,302.03334949141595,30.43262773396909\n",
      "36000,-30095.017119912838,308.9876575857523,30.237030503181746\n",
      "37000,-30602.72106862036,308.73714211045194,29.89764599042011\n",
      "38000,-30592.176252691628,294.83063984800856,29.903129814653635\n",
      "39000,-30519.42746690614,308.47543612651685,29.93615073039658\n",
      "40000,-30589.629882928886,308.05050484682255,30.368896423922852\n",
      "41000,-30712.14895197755,297.3479012182882,30.180698657250073\n",
      "42000,-30283.75852360335,303.7440552136377,30.548852216717847\n",
      "43000,-30796.45575392904,295.4817457336812,30.620075931181283\n",
      "44000,-30226.17037822993,306.3245510963975,30.16648486729258\n",
      "45000,-30402.112345690723,308.1579281880904,30.06714582491679\n",
      "46000,-30505.42079931419,302.30204404265777,30.02071698464\n",
      "47000,-30857.879254965403,302.5866443617947,29.913399102143174\n",
      "48000,-30801.75410215705,294.5373910916699,29.921962211625825\n",
      "49000,-30457.56440947787,298.75589127266375,30.376980116246404\n",
      "50000,-30979.533035521396,297.9719581734199,30.382630654773767\n",
      "51000,-30546.0322008534,300.37847350707295,30.17040321042771\n",
      "52000,-30517.506850946083,303.8892074572677,30.496122656744078\n",
      "53000,-30650.327925293095,299.84571070514903,29.979782515587363\n",
      "54000,-30496.065774650924,298.58703814764976,29.848653689771993\n",
      "55000,-30525.016261659766,301.5363243938866,30.58205396267597\n",
      "56000,-30433.924190507125,301.8708339400961,30.10963439034775\n",
      "57000,-30938.989049979253,296.8930621692556,29.763623758326382\n",
      "58000,-30918.54809773882,293.14371433940806,29.909568471643208\n",
      "59000,-30681.86150152405,302.26493411142854,30.200949610951383\n",
      "60000,-30453.030240986962,302.3936273444051,30.11168776585259\n",
      "61000,-31066.63220143711,296.5237380147642,30.257720006480863\n",
      "62000,-30658.9152660431,296.6715117799081,30.02909457511271\n",
      "63000,-31048.692935677216,301.29196658956135,29.98124224011787\n",
      "64000,-30336.49524978423,305.25320816044274,29.931163670467253\n",
      "65000,-30908.98501149757,302.59671395506933,29.793919566515875\n",
      "66000,-30476.73167540171,298.1732362056235,30.13953798581843\n",
      "67000,-30617.303611162235,300.2956957624295,30.09557191645727\n",
      "68000,-30907.570898402744,297.2156752960268,30.448341188267797\n",
      "69000,-30925.10693798412,296.4152636227557,30.037619972317493\n",
      "70000,-30486.179988401826,301.74517233307154,29.838931556073963\n",
      "71000,-30939.879703893705,302.12435067357643,30.39832941920038\n",
      "72000,-30765.763281358813,300.1429667455122,30.077075898544933\n",
      "73000,-30247.41763315082,307.0089516177655,30.391121108494733\n",
      "74000,-30533.78632107642,304.48310750668463,30.105273134079766\n",
      "75000,-30879.091039871186,293.8842477563544,30.143166279103614\n"
     ]
    }
   ],
   "source": [
    "pressao = 1*bar\n",
    "\n",
    "system.addForce(MonteCarloBarostat(pressao, temperatura))\n",
    "simulation.context.reinitialize(preserveState=True)\n",
    "\n",
    "\n",
    "print(\"Rodando NPT\")\n",
    "simulation.step(70000)\n",
    "\n",
    "# A próxima linha é necessária para Windows para fechar os arquivos antes de serem abertos\n",
    "del simulation"
   ]
  },
  {
   "cell_type": "markdown",
   "metadata": {},
   "source": [
    "## Análise dos dados"
   ]
  },
  {
   "cell_type": "code",
   "execution_count": 21,
   "metadata": {},
   "outputs": [
    {
     "data": {
      "application/vnd.jupyter.widget-view+json": {
       "model_id": "7f323df51d3c42fabf5a56e3506bc72c",
       "version_major": 2,
       "version_minor": 0
      },
      "text/plain": [
       "NGLWidget(max_frame=74)"
      ]
     },
     "metadata": {},
     "output_type": "display_data"
    }
   ],
   "source": [
    "traj = mdtraj.load(\"output_water.dcd\", top=\"initial_water.pdb\")\n",
    "view = nglview.show_mdtraj(traj, width='600px', height='400px')\n",
    "view.clear_representations()\n",
    "\n",
    "# show all atoms as small spheres\n",
    "# view.add_spacefill(selection='all', radius=0.3)\n",
    "\n",
    "# or, if your water residues are named HOH/resname WATER:\n",
    "view.add_ball_and_stick(selection='resname water')\n",
    "\n",
    "#centralizado\n",
    "view.center(selection='all')\n",
    "\n",
    "# add box\n",
    "view.add_unitcell()\n",
    "view"
   ]
  },
  {
   "cell_type": "code",
   "execution_count": 22,
   "metadata": {},
   "outputs": [],
   "source": [
    "df = pd.read_csv(\"md_log_water.csv\")"
   ]
  },
  {
   "cell_type": "code",
   "execution_count": 23,
   "metadata": {},
   "outputs": [
    {
     "data": {
      "application/vnd.microsoft.datawrangler.viewer.v0+json": {
       "columns": [
        {
         "name": "index",
         "rawType": "int64",
         "type": "integer"
        },
        {
         "name": "#\"Step\"",
         "rawType": "int64",
         "type": "integer"
        },
        {
         "name": "Time (ps)",
         "rawType": "float64",
         "type": "float"
        },
        {
         "name": "Potential Energy (kJ/mole)",
         "rawType": "float64",
         "type": "float"
        },
        {
         "name": "Total Energy (kJ/mole)",
         "rawType": "float64",
         "type": "float"
        },
        {
         "name": "Temperature (K)",
         "rawType": "float64",
         "type": "float"
        },
        {
         "name": "Box Volume (nm^3)",
         "rawType": "float64",
         "type": "float"
        }
       ],
       "ref": "116d70a4-26da-4b20-b0ca-3bf11dd0890f",
       "rows": [
        [
         "0",
         "20",
         "0.08",
         "-41383.92697850015",
         "-33802.465279824624",
         "260.6374883995804",
         "27.0"
        ],
        [
         "1",
         "40",
         "0.1600000000000001",
         "-41730.350135238434",
         "-34074.82046922814",
         "263.18381650150394",
         "27.0"
        ],
        [
         "2",
         "60",
         "0.2400000000000001",
         "-41478.732581527496",
         "-33601.91204873851",
         "270.7914122416555",
         "27.0"
        ],
        [
         "3",
         "80",
         "0.3200000000000002",
         "-41834.500159652496",
         "-33680.5491845762",
         "280.3186756253704",
         "27.0"
        ],
        [
         "4",
         "100",
         "0.4000000000000003",
         "-41399.40567723062",
         "-33704.02787718602",
         "264.55372615546",
         "27.0"
        ]
       ],
       "shape": {
        "columns": 6,
        "rows": 5
       }
      },
      "text/html": [
       "<div>\n",
       "<style scoped>\n",
       "    .dataframe tbody tr th:only-of-type {\n",
       "        vertical-align: middle;\n",
       "    }\n",
       "\n",
       "    .dataframe tbody tr th {\n",
       "        vertical-align: top;\n",
       "    }\n",
       "\n",
       "    .dataframe thead th {\n",
       "        text-align: right;\n",
       "    }\n",
       "</style>\n",
       "<table border=\"1\" class=\"dataframe\">\n",
       "  <thead>\n",
       "    <tr style=\"text-align: right;\">\n",
       "      <th></th>\n",
       "      <th>#\"Step\"</th>\n",
       "      <th>Time (ps)</th>\n",
       "      <th>Potential Energy (kJ/mole)</th>\n",
       "      <th>Total Energy (kJ/mole)</th>\n",
       "      <th>Temperature (K)</th>\n",
       "      <th>Box Volume (nm^3)</th>\n",
       "    </tr>\n",
       "  </thead>\n",
       "  <tbody>\n",
       "    <tr>\n",
       "      <th>0</th>\n",
       "      <td>20</td>\n",
       "      <td>0.08</td>\n",
       "      <td>-41383.926979</td>\n",
       "      <td>-33802.465280</td>\n",
       "      <td>260.637488</td>\n",
       "      <td>27.0</td>\n",
       "    </tr>\n",
       "    <tr>\n",
       "      <th>1</th>\n",
       "      <td>40</td>\n",
       "      <td>0.16</td>\n",
       "      <td>-41730.350135</td>\n",
       "      <td>-34074.820469</td>\n",
       "      <td>263.183817</td>\n",
       "      <td>27.0</td>\n",
       "    </tr>\n",
       "    <tr>\n",
       "      <th>2</th>\n",
       "      <td>60</td>\n",
       "      <td>0.24</td>\n",
       "      <td>-41478.732582</td>\n",
       "      <td>-33601.912049</td>\n",
       "      <td>270.791412</td>\n",
       "      <td>27.0</td>\n",
       "    </tr>\n",
       "    <tr>\n",
       "      <th>3</th>\n",
       "      <td>80</td>\n",
       "      <td>0.32</td>\n",
       "      <td>-41834.500160</td>\n",
       "      <td>-33680.549185</td>\n",
       "      <td>280.318676</td>\n",
       "      <td>27.0</td>\n",
       "    </tr>\n",
       "    <tr>\n",
       "      <th>4</th>\n",
       "      <td>100</td>\n",
       "      <td>0.40</td>\n",
       "      <td>-41399.405677</td>\n",
       "      <td>-33704.027877</td>\n",
       "      <td>264.553726</td>\n",
       "      <td>27.0</td>\n",
       "    </tr>\n",
       "  </tbody>\n",
       "</table>\n",
       "</div>"
      ],
      "text/plain": [
       "   #\"Step\"  Time (ps)  Potential Energy (kJ/mole)  Total Energy (kJ/mole)  \\\n",
       "0       20       0.08               -41383.926979           -33802.465280   \n",
       "1       40       0.16               -41730.350135           -34074.820469   \n",
       "2       60       0.24               -41478.732582           -33601.912049   \n",
       "3       80       0.32               -41834.500160           -33680.549185   \n",
       "4      100       0.40               -41399.405677           -33704.027877   \n",
       "\n",
       "   Temperature (K)  Box Volume (nm^3)  \n",
       "0       260.637488               27.0  \n",
       "1       263.183817               27.0  \n",
       "2       270.791412               27.0  \n",
       "3       280.318676               27.0  \n",
       "4       264.553726               27.0  "
      ]
     },
     "execution_count": 23,
     "metadata": {},
     "output_type": "execute_result"
    }
   ],
   "source": [
    "df.head()"
   ]
  },
  {
   "cell_type": "code",
   "execution_count": 24,
   "metadata": {},
   "outputs": [
    {
     "data": {
      "application/vnd.microsoft.datawrangler.viewer.v0+json": {
       "columns": [
        {
         "name": "index",
         "rawType": "int64",
         "type": "integer"
        },
        {
         "name": "Total Energy (kJ/mole)",
         "rawType": "float64",
         "type": "float"
        }
       ],
       "ref": "4eaf83d0-c097-4bca-98da-e86e4d19a490",
       "rows": [
        [
         "0",
         "-33802.465279824624"
        ],
        [
         "1",
         "-34074.82046922814"
        ],
        [
         "2",
         "-33601.91204873851"
        ],
        [
         "3",
         "-33680.5491845762"
        ],
        [
         "4",
         "-33704.02787718602"
        ],
        [
         "5",
         "-33508.34388237499"
        ],
        [
         "6",
         "-33218.43766666768"
        ],
        [
         "7",
         "-33216.447460494936"
        ],
        [
         "8",
         "-33158.905946706014"
        ],
        [
         "9",
         "-32865.335934100265"
        ],
        [
         "10",
         "-32795.32042986393"
        ],
        [
         "11",
         "-32442.62354520132"
        ],
        [
         "12",
         "-32699.287035657617"
        ],
        [
         "13",
         "-32712.50591489725"
        ],
        [
         "14",
         "-32436.618493684626"
        ],
        [
         "15",
         "-32573.86683020444"
        ],
        [
         "16",
         "-32400.7420693725"
        ],
        [
         "17",
         "-32226.612869258097"
        ],
        [
         "18",
         "-32107.31187783234"
        ],
        [
         "19",
         "-32248.980439804087"
        ],
        [
         "20",
         "-32019.03891692293"
        ],
        [
         "21",
         "-32084.839800425165"
        ],
        [
         "22",
         "-32098.0926087448"
        ],
        [
         "23",
         "-31966.44133768516"
        ],
        [
         "24",
         "-32270.874966776173"
        ],
        [
         "25",
         "-32037.490045684917"
        ],
        [
         "26",
         "-31796.567497339624"
        ],
        [
         "27",
         "-31766.626914055145"
        ],
        [
         "28",
         "-31898.593665907218"
        ],
        [
         "29",
         "-31765.175949276483"
        ],
        [
         "30",
         "-31657.494671680677"
        ],
        [
         "31",
         "-32017.58469293645"
        ],
        [
         "32",
         "-31515.235285156"
        ],
        [
         "33",
         "-31802.707812891866"
        ],
        [
         "34",
         "-31925.062679490133"
        ],
        [
         "35",
         "-31890.959615442374"
        ],
        [
         "36",
         "-31906.35016667756"
        ],
        [
         "37",
         "-31941.501441731176"
        ],
        [
         "38",
         "-31839.80417761352"
        ],
        [
         "39",
         "-31993.565155470103"
        ],
        [
         "40",
         "-32122.38830852933"
        ],
        [
         "41",
         "-31982.66530220589"
        ],
        [
         "42",
         "-31888.451049839205"
        ],
        [
         "43",
         "-31980.99328125321"
        ],
        [
         "44",
         "-32027.197700635123"
        ],
        [
         "45",
         "-31854.295712302497"
        ],
        [
         "46",
         "-31802.840897363203"
        ],
        [
         "47",
         "-31731.20440743916"
        ],
        [
         "48",
         "-31793.830265588185"
        ],
        [
         "49",
         "-31704.85665531229"
        ]
       ],
       "shape": {
        "columns": 1,
        "rows": 3750
       }
      },
      "text/plain": [
       "0      -33802.465280\n",
       "1      -34074.820469\n",
       "2      -33601.912049\n",
       "3      -33680.549185\n",
       "4      -33704.027877\n",
       "            ...     \n",
       "3745   -30764.125314\n",
       "3746   -30746.969148\n",
       "3747   -30730.801377\n",
       "3748   -30750.798994\n",
       "3749   -30879.091040\n",
       "Name: Total Energy (kJ/mole), Length: 3750, dtype: float64"
      ]
     },
     "execution_count": 24,
     "metadata": {},
     "output_type": "execute_result"
    }
   ],
   "source": [
    "df['Total Energy (kJ/mole)']"
   ]
  },
  {
   "cell_type": "code",
   "execution_count": 25,
   "metadata": {},
   "outputs": [
    {
     "data": {
      "text/plain": [
       "Text(0, 0.5, 'Volume (nm$^3$)')"
      ]
     },
     "execution_count": 25,
     "metadata": {},
     "output_type": "execute_result"
    },
    {
     "data": {
      "image/png": "[encoded data removed]",
      "text/plain": [
       "<Figure size 640x480 with 3 Axes>"
      ]
     },
     "metadata": {},
     "output_type": "display_data"
    }
   ],
   "source": [
    "fig, axs = plt.subplots(3, 1, sharex=True)\n",
    "\n",
    "axs[0].plot(df['Time (ps)'],df['Potential Energy (kJ/mole)'],color='C0',label='U')\n",
    "axs[0].legend(loc='best')\n",
    "axs[0].set_ylabel('U (kJ/mole)')\n",
    "\n",
    "axs[1].plot(df['Time (ps)'],df['Temperature (K)'],color='C3',label='T')\n",
    "axs[1].legend(loc='best')\n",
    "axs[1].set_ylabel('T (K)')\n",
    "\n",
    "axs[2].plot(df['Time (ps)'],df['Box Volume (nm^3)'],color='C1',label='V')\n",
    "axs[2].legend(loc='best')\n",
    "axs[2].set_xlabel('Time (ps)')\n",
    "axs[2].set_ylabel('Volume (nm$^3$)')"
   ]
  },
  {
   "cell_type": "markdown",
   "metadata": {},
   "source": [
    "> ⚠️ Qual o melhor tempo para cortar a fase de equilibração?"
   ]
  },
  {
   "cell_type": "code",
   "execution_count": 26,
   "metadata": {},
   "outputs": [],
   "source": [
    "timecut = 50"
   ]
  },
  {
   "cell_type": "code",
   "execution_count": 27,
   "metadata": {},
   "outputs": [],
   "source": [
    "subsetT = df['Temperature (K)'][df['Time (ps)'] > timecut]\n",
    "subsetU = df['Potential Energy (kJ/mole)'][df['Time (ps)'] > timecut]\n",
    "subsetV = df['Box Volume (nm^3)'][df['Time (ps)'] > timecut]"
   ]
  },
  {
   "cell_type": "code",
   "execution_count": 28,
   "metadata": {},
   "outputs": [
    {
     "data": {
      "text/latex": [
       "$\\displaystyle U = -39443.88 \\pm 187.41\\ kJ/mole$"
      ],
      "text/plain": [
       "<IPython.core.display.Math object>"
      ]
     },
     "metadata": {},
     "output_type": "display_data"
    }
   ],
   "source": [
    "from IPython.display import display, Math\n",
    "\n",
    "\n",
    "# Cálculo da média e desvio padrão da energia potencial U\n",
    "Umean = subsetU.mean()\n",
    "sigmaU = subsetU.std()\n",
    "\n",
    "display(Math(rf\"U = {Umean:.2f} \\pm {sigmaU:.2f}\\ kJ/mole\"))"
   ]
  },
  {
   "cell_type": "code",
   "execution_count": 29,
   "metadata": {},
   "outputs": [
    {
     "data": {
      "text/latex": [
       "$\\displaystyle T = 301.66 \\pm 4.84\\ K$"
      ],
      "text/plain": [
       "<IPython.core.display.Math object>"
      ]
     },
     "metadata": {},
     "output_type": "display_data"
    }
   ],
   "source": [
    "# Cálculo da média e desvio padrão da temperatura T\n",
    "Tmean = subsetT.mean()\n",
    "sigmaT = subsetT.std()\n",
    "\n",
    "display(Math(rf\"$T = {Tmean:.2f} \\pm {sigmaT:.2f}\\ K\"))"
   ]
  },
  {
   "cell_type": "code",
   "execution_count": 30,
   "metadata": {},
   "outputs": [
    {
     "data": {
      "text/latex": [
       "$\\displaystyle V = 30.15 \\pm 0.24\\ nm^3$"
      ],
      "text/plain": [
       "<IPython.core.display.Math object>"
      ]
     },
     "metadata": {},
     "output_type": "display_data"
    }
   ],
   "source": [
    "# Cálculo da média e desvio padrão do volume V\n",
    "Vmean = subsetV.mean()\n",
    "sigmaV = subsetV.std()\n",
    "\n",
    "display(Math(rf\"$V = {Vmean:.2f} \\pm {sigmaV:.2f}\\ nm^3\"))"
   ]
  },
  {
   "cell_type": "code",
   "execution_count": 31,
   "metadata": {},
   "outputs": [
    {
     "data": {
      "text/plain": [
       "[<matplotlib.lines.Line2D at 0x7efcaae4b4d0>]"
      ]
     },
     "execution_count": 31,
     "metadata": {},
     "output_type": "execute_result"
    },
    {
     "data": {
      "image/png": "[encoded data removed]",
      "text/plain": [
       "<Figure size 700x400 with 3 Axes>"
      ]
     },
     "metadata": {},
     "output_type": "display_data"
    }
   ],
   "source": [
    "# Gráfico de histogramas com as distribuições de U, T e V\n",
    "fig, axs = plt.subplots(1, 3,figsize=(7,4))\n",
    "\n",
    "axs[0].hist(subsetU,bins=50,density=True)\n",
    "axs[0].set_xlabel(r'$U$ (kJ/mole)')\n",
    "\n",
    "uarray = Umean+np.arange(-5*sigmaU,5*sigmaU,0.01*sigmaU)\n",
    "axs[0].plot(uarray,np.sqrt(1/(2*np.pi*sigmaU**2))*np.exp(-0.5*(uarray-Umean)**2/sigmaU**2),color='k')\n",
    "\n",
    "axs[1].hist(subsetT,bins=50,density=True,color='C3')\n",
    "axs[1].set_xlabel(r'$T$ (K)')\n",
    "\n",
    "Tarray = Tmean + np.arange(-5*sigmaT,5*sigmaT,0.01*sigmaT)\n",
    "axs[1].plot(Tarray,np.sqrt(1/(2*np.pi*sigmaT**2))*np.exp(-0.5*(Tarray-Tmean)**2/sigmaT**2),color='k')\n",
    "\n",
    "axs[2].hist(subsetV,bins=50,density=True,color='C2')\n",
    "axs[2].set_xlabel(r'$V$ (nm$^3$)')\n",
    "\n",
    "Varray = Vmean + np.arange(-5*sigmaV,5*sigmaV,0.01*sigmaV)\n",
    "axs[2].plot(Varray,np.sqrt(1/(2*np.pi*sigmaV**2))*np.exp(-0.5*(Varray-Vmean)**2/sigmaV**2),color='k')"
   ]
  },
  {
   "cell_type": "markdown",
   "metadata": {},
   "source": [
    "**<span style=\"color:#A03;font-size:14pt\">\n",
    "&#x270B; HANDS-ON! &#x1F528;\n",
    "</span>**\n",
    "\n",
    "> - Calcule a densidade da água para essa $T=300$ K e $P = 1$ bar e compare com o valor tabelado pelo NIST em $55315$ mol/m^3. \n",
    "> - Estime a incerteza no valor da densidade calculada.\n",
    "> - Repita o cálculo agora com 500 partículas de água na caixa. A incerteza aumentou ou diminuiu? Por quanto?"
   ]
  },
  {
   "cell_type": "code",
   "execution_count": null,
   "metadata": {},
   "outputs": [],
   "source": [
    "# Cálculo da densidade de moléculas a T = 300 K e P = 1 bar\n",
    "nmean = (N_mol/ 6.022e23) / (Vmean * 1e-27)\n",
    "print(f\"Densidade simulada: {nmean:.2f} mol/m³\")"
   ]
  },
  {
   "cell_type": "code",
   "execution_count": null,
   "metadata": {},
   "outputs": [],
   "source": [
    "# Valor experimental da densidade de água a 300 K e 1 bar\n",
    "nexp = 55315 # mol/m^3\n",
    "print(f\"Densidade experimental: {nexp} mol/m³\")"
   ]
  },
  {
   "cell_type": "code",
   "execution_count": null,
   "metadata": {},
   "outputs": [],
   "source": [
    "# Desvio percentual da densidade simulada em relação à densidade experimental\n",
    "desvio_percentual = np.abs((nmean - nexp) / nexp) * 100\n",
    "print(f\"Desvio percentual: {desvio_percentual:.2f}%\")"
   ]
  },
  {
   "cell_type": "code",
   "execution_count": null,
   "metadata": {},
   "outputs": [],
   "source": [
    "# Cálculo da incerteza da densidade simulada\n",
    "sigma_n = nmean * sigmaV / Vmean\n",
    "print(f\"Densidade simulada: {nmean:.2f} ± {sigma_n:.2f} mol/m³\")"
   ]
  },
  {
   "cell_type": "code",
   "execution_count": null,
   "metadata": {},
   "outputs": [],
   "source": [
    "# Simulação da densidade de água a 300 K e 1 bar com 500 moléculas\n",
    "\n",
    "# 0. Define as variáveis do sistema molecular\n",
    "N_mol = 500\n",
    "L = 25 * angstrom # tamanho inicial da caixa cúbica\n",
    "temperatura = 300 * kelvin # temperatura em Kelvin\n",
    "pressao = 1*bar # pressão em bar\n",
    "\n",
    "## 1. Define a topologia da água\n",
    "print(\"Criando a topologia da água\")\n",
    "mol_topology = Topology()\n",
    "chain = mol_topology.addChain()\n",
    "residue = mol_topology.addResidue(\"water\", chain)\n",
    "element_O = Element.getByAtomicNumber(8)\n",
    "element_H = Element.getByAtomicNumber(1)\n",
    "atom0 = mol_topology.addAtom(\"O\", element_O, residue)\n",
    "atom1 = mol_topology.addAtom(\"H\", element_H, residue)\n",
    "atom2 = mol_topology.addAtom(\"H\", element_H, residue)\n",
    "mol_topology.addBond(atom0, atom1)\n",
    "mol_topology.addBond(atom0, atom2)\n",
    "\n",
    "bond = 0.9572  # Å\n",
    "angle = 1.82421813418 # rad (104.52° in radians)\n",
    "eq_pos = (\n",
    "    np.array([\n",
    "    [0.0,         0.0,         0.0        ],  # O\n",
    "    [ bond,       0.0,         0.0        ],  # H1\n",
    "    [ bond*np.cos(angle), bond*np.sin(angle), 0.0 ],  # H2\n",
    "]) * angstrom\n",
    ")\n",
    "\n",
    "## 2. Define a topologia da caixa com moléculas de água\n",
    "print(\"Criando a topologia da caixa com moléculas de água\")\n",
    "box_matrix = L * np.identity(3)\n",
    "topology = Topology()\n",
    "topology.setPeriodicBoxVectors(box_matrix)\n",
    "resname = next(mol_topology.residues()).name\n",
    "for i in range(N_mol):\n",
    "    chain   = topology.addChain()\n",
    "    residue = topology.addResidue(resname, chain)\n",
    "    atom_map = {}  \n",
    "    for atom in mol_topology.atoms():\n",
    "        new = topology.addAtom(atom.name, atom.element, residue)\n",
    "        atom_map[atom] = new\n",
    "    for bond in mol_topology.bonds():\n",
    "        a1 = atom_map[bond.atom1]\n",
    "        a2 = atom_map[bond.atom2]\n",
    "        topology.addBond(a1, a2)\n",
    "\n",
    "all_pos = []\n",
    "for _ in range(N_mol):\n",
    "    CMpos = np.random.uniform(0, L / nanometer, 3)\n",
    "    coords = CMpos + eq_pos/nanometer\n",
    "    all_pos.append(coords)\n",
    "\n",
    "## 3. Define o campo de força e o sistema\n",
    "print(\"Escolhendo o campo de força e criando o sistema\")\n",
    "forcefield = ForceField('amber14/tip3p.xml')\n",
    "platform = Platform.getPlatformByName('CPU')  # ou 'CUDA' se tiver GPU\n",
    "system = forcefield.createSystem(topology, nonbondedMethod=PME,\n",
    "        nonbondedCutoff=1*nanometer, constraints=HBonds)\n",
    "\n",
    "## 4. Define o integrador e a temperatura\n",
    "integrator = LangevinMiddleIntegrator(temperatura, 1/picosecond, 4*femtoseconds)\n",
    "simulation = Simulation(topology, system, integrator, platform)\n",
    "simulation.context.setPositions(np.vstack(all_pos) * angstrom)\n",
    "simulation.minimizeEnergy()\n",
    "simulation.context.setVelocitiesToTemperature(temperatura)\n",
    "\n",
    "simulation.reporters = []\n",
    "simulation.reporters.append(\n",
    "    StateDataReporter(\n",
    "        \"md_log_water.csv\",\n",
    "        20,\n",
    "        step=True,\n",
    "        time=True,\n",
    "        potentialEnergy=True,\n",
    "        totalEnergy=True,\n",
    "        temperature=True,\n",
    "        volume=True\n",
    "    )\n",
    ")\n",
    "simulation.reporters.append(\n",
    "    StateDataReporter(stdout, 1000, step=True,time=True, totalEnergy=True,temperature=True,\n",
    "        volume=True)\n",
    ")\n",
    "print(\"Equilibrando com NVT\")\n",
    "simulation.step(5000)\n",
    "\n",
    "## 5. Adiciona o barostato e realiza produção NPT\n",
    "system.addForce(MonteCarloBarostat(pressao, temperatura))\n",
    "simulation.context.reinitialize(preserveState=True)\n",
    "print(\"Rodando NPT\")\n",
    "simulation.step(70000)\n",
    "del simulation\n",
    "\n",
    "## 6. Carrega os dados, analisa o volume médio e calcula a densidade\n",
    "print(\"Carregando os dados e calculando a densidade\")\n",
    "df = pd.read_csv(\"md_log_water.csv\")\n",
    "subsetV = df['Box Volume (nm^3)'][df['Time (ps)'] > 50.0]\n",
    "Vmean = subsetV.mean() # em nm³\n",
    "sigmaV = subsetV.std()\n",
    "nmean = (N_mol/ 6.022e23) / (Vmean * 1e-27)\n",
    "sigman = nmean * sigmaV / Vmean\n",
    "print(f\"Densidade de moléculas: {nmean:.2f} ± {sigman:.2f} mol/m³\")\n",
    "Mm = 18.01528  # g/mol\n",
    "densidade = nmean * Mm / 1000  # g/L\n",
    "sigma_densidade = sigman * Mm / 1000  # Cálculo da incerteza da densidade simulada g/L\n",
    "print(f\"Densidade de massa: {densidade:.2f} ± {sigma_densidade:.2f} g/L\")"
   ]
  },
  {
   "cell_type": "markdown",
   "metadata": {},
   "source": [
    "BONUS: Análise da incerteza com respeito ao número de moléculas na caixa "
   ]
  },
  {
   "cell_type": "code",
   "execution_count": null,
   "metadata": {},
   "outputs": [],
   "source": [
    "number_of_molecules = np.array([500, 1000, 2000, 3000, 4000, 5000])\n",
    "density = np.array([54929.37,55151.03,55086.23,55022.79,55071.59,55035.42])\n",
    "density_error = np.array([659.29, 479.79,320.27,266.33,235.66,226.33])  \n",
    "\n",
    "plt.figure(figsize=(6, 4))\n",
    "plt.errorbar(number_of_molecules, density, yerr=density_error, fmt='o', capsize=5, color='C0', label='Densidade simulada - TIP3P')\n",
    "plt.axhline(y=55315, color='k', linestyle='--', label='Densidade experimental')\n",
    "plt.xlabel('Número de moléculas')\n",
    "plt.ylabel('Densidade (mol/m³)')\n",
    "plt.title('Densidade de Água Simulada vs Experimental')\n",
    "plt.legend()\n",
    "plt.grid()\n",
    "plt.tight_layout()"
   ]
  },
  {
   "cell_type": "code",
   "execution_count": null,
   "metadata": {},
   "outputs": [],
   "source": []
  }
 ],
 "metadata": {
  "kernelspec": {
   "display_name": "simmol",
   "language": "python",
   "name": "python3"
  },
  "language_info": {
   "codemirror_mode": {
    "name": "ipython",
    "version": 3
   },
   "file_extension": ".py",
   "mimetype": "text/x-python",
   "name": "python",
   "nbconvert_exporter": "python",
   "pygments_lexer": "ipython3",
   "version": "3.13.3"
  }
 },
 "nbformat": 4,
 "nbformat_minor": 4
}
