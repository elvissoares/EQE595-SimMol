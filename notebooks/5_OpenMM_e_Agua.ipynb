{
 "cells": [
  {
   "cell_type": "markdown",
   "metadata": {},
   "source": [
    "<a href=\"https://colab.research.google.com/github/elvissoares/EQE595-SimMol/blob/main/notebooks/5_OpenMM_e_Agua.ipynb\" target=\"_parent\"><img src=\"https://colab.research.google.com/assets/colab-badge.svg\" alt=\"Open In Colab\"/></a>"
   ]
  },
  {
   "cell_type": "markdown",
   "metadata": {},
   "source": [
    "Para usar o OpenMM no Google Colab devemos fazer alguns passos:\n",
    "1. Instalar o `condalab`\n",
    "2. Instalar o `numpy>=2.0` e `cudatoolkit=11.8` para instalação do `openmm`\n"
   ]
  },
  {
   "cell_type": "code",
   "execution_count": null,
   "metadata": {},
   "outputs": [],
   "source": [
    "!pip install -q condacolab\n",
    "import condacolab\n",
    "condacolab.install()"
   ]
  },
  {
   "cell_type": "code",
   "execution_count": null,
   "metadata": {},
   "outputs": [],
   "source": [
    "import condacolab\n",
    "condacolab.check()"
   ]
  },
  {
   "cell_type": "code",
   "execution_count": null,
   "metadata": {},
   "outputs": [],
   "source": [
    "!mamba install -q openmm cudatoolkit=11.8 numpy>=2.0"
   ]
  },
  {
   "cell_type": "markdown",
   "metadata": {},
   "source": [
    "# Aula Prática 05 - Dinâmica Molecular da Molécula de Água\n",
    "\n",
    "Autor: [Prof. Elvis do A. Soares](https://github.com/elvissoares)\n",
    "\n",
    "Contato: [elvis@peq.coppe.ufrj.br](mailto:elvis@peq.coppe.ufrj.br) - [Programa de Engenharia Química, PEQ/COPPE, UFRJ, Brasil](https://www.peq.coppe.ufrj.br/)\n",
    "\n",
    "---"
   ]
  },
  {
   "cell_type": "code",
   "execution_count": null,
   "metadata": {},
   "outputs": [],
   "source": [
    "from sys import stdout\n",
    "import numpy as np\n",
    "import pandas as pd\n",
    "import matplotlib.pyplot as plt"
   ]
  },
  {
   "cell_type": "code",
   "execution_count": null,
   "metadata": {},
   "outputs": [],
   "source": [
    "import mdtraj\n",
    "import nglview\n",
    "\n",
    "from openmm.app import *\n",
    "from openmm import *\n",
    "from openmm.unit import *"
   ]
  },
  {
   "cell_type": "markdown",
   "metadata": {},
   "source": [
    "## Topologia da Molécula de Água\n",
    "\n",
    "![image-2.png](imgs/WaterMoleculeStruct.png)\n",
    "\n",
    "Definindo a topologia da molécula de água H-O-H"
   ]
  },
  {
   "cell_type": "code",
   "execution_count": null,
   "metadata": {},
   "outputs": [],
   "source": [
    "mol_topology = Topology()\n",
    "chain = mol_topology.addChain()\n",
    "residue = mol_topology.addResidue(\"water\", chain)\n",
    "element_O = Element.getByAtomicNumber(8)\n",
    "element_H = Element.getByAtomicNumber(1)\n",
    "atom0 = mol_topology.addAtom(\"O\", element_O, residue)\n",
    "atom1 = mol_topology.addAtom(\"H\", element_H, residue)\n",
    "atom2 = mol_topology.addAtom(\"H\", element_H, residue)\n",
    "mol_topology.addBond(atom0, atom1)\n",
    "mol_topology.addBond(atom0, atom2)"
   ]
  },
  {
   "cell_type": "code",
   "execution_count": null,
   "metadata": {},
   "outputs": [],
   "source": [
    "print(mol_topology)\n",
    "print(\"Número de átomos:\", mol_topology.getNumAtoms())\n",
    "for iatom, atom in enumerate(mol_topology.atoms()):\n",
    "    print(f\"Nome e massa do átomo {iatom}: {atom.name}, {atom.element.mass}\")"
   ]
  },
  {
   "cell_type": "markdown",
   "metadata": {},
   "source": [
    "## Campos de Força Gerais"
   ]
  },
  {
   "cell_type": "markdown",
   "metadata": {},
   "source": [
    "![image.png](imgs/forcefield.png)"
   ]
  },
  {
   "cell_type": "markdown",
   "metadata": {},
   "source": [
    "## Termos Ligantes\n",
    "\n",
    "### 1. Termo de Comprimento da ligação\n",
    "\n",
    "$$U_\\text{bond} = \\frac{k_l}{2}(l - l_0)^2$$\n",
    "\n",
    "Para água, no TIP3, temos \n",
    "- $l_0=0.09572$ nm\n",
    "- $k_l=462750.4$ kJ/(nm $^2$ mol) \n",
    "\n",
    "### 2. Termo de ângulo de ligação\n",
    "\n",
    "$$ U_{\\text{angle}} = \\frac{k_\\theta}{2}(\\theta-\\theta_0)^2$$\n",
    "\n",
    "Para água no TIP3 temos \n",
    "- $\\theta_0=1.82421813418$ rad\n",
    "- $k_\\theta = 836.8$ kJ/mol\n",
    "\n",
    "### 3. Termo de torção\n",
    "\n",
    "$$ U_\\text{torcao} = \\frac{k_\\text{torcao}}{2}\\cos(n\\phi-\\phi_0)$$\n",
    "\n",
    "## Termos Não-ligantes\n",
    "\n",
    "### 1. Dispersão de van der Waals\n",
    "\n",
    "$$ U_\\text{vdW} = \\frac{A_{ij}}{r_{ij}^{12}} - \\frac{B_{ij}}{r_{ij}^6}$$\n",
    "\n",
    "### 2. Interação eletrostática\n",
    "\n",
    "$$ U_\\text{ele} = \\frac{q_i q_j}{4\\pi \\epsilon r_{ij}}$$"
   ]
  },
  {
   "cell_type": "markdown",
   "metadata": {},
   "source": [
    "Escolhendo o campo de força para a água"
   ]
  },
  {
   "cell_type": "code",
   "execution_count": null,
   "metadata": {},
   "outputs": [],
   "source": [
    "forcefield = ForceField('amber14/tip3p.xml')"
   ]
  },
  {
   "cell_type": "markdown",
   "metadata": {},
   "source": [
    "Definindo o sistema para simulação "
   ]
  },
  {
   "cell_type": "code",
   "execution_count": null,
   "metadata": {},
   "outputs": [],
   "source": [
    "system = forcefield.createSystem(mol_topology, nonbondedCutoff=1 * nanometer)\n",
    "\n",
    "platform = Platform.getPlatformByName('CUDA') # ou 'CUDA' se tiver GPU\n",
    "\n",
    "# c. Definition an integrator, mandatory.\n",
    "integrator = VerletIntegrator(1 * femtoseconds)\n",
    "\n",
    "# d. A simulation object in OpenMM combines topology, system and integrator.\n",
    "simulation = Simulation(mol_topology, system, integrator, platform)\n",
    "\n",
    "# Definindo a geometria inicial da molécula\n",
    "bond = 0.9572  # Å\n",
    "angle = 1.82421813418 # rad (104.52° in radians)\n",
    "simulation.context.setPositions(\n",
    "    np.array([\n",
    "    [0.0,         0.0,         0.0        ],  # O\n",
    "    [ bond,       0.0,         0.0        ],  # H1\n",
    "    [ bond*np.cos(angle), bond*np.sin(angle), 0.0 ],  # H2\n",
    "]) * angstrom\n",
    ")"
   ]
  },
  {
   "cell_type": "code",
   "execution_count": null,
   "metadata": {},
   "outputs": [],
   "source": [
    "force = system.getForce(0)\n",
    "print(\"Parâmetros da força de ligação O-H:\")\n",
    "for i in range(force.getNumBonds()):\n",
    "    l = force.getBondParameters(i)\n",
    "    print(f\"Parâmetro {i}: {l}\")\n",
    "\n",
    "print()\n",
    "force_angle = system.getForce(3)\n",
    "print(\"Parâmetros da interação de ângulo H-O-H:\")\n",
    "for i in range(force_angle.getNumAngles()):\n",
    "    theta = force_angle.getAngleParameters(i)\n",
    "    print(f\"Parâmetro {i}: {theta}\")"
   ]
  },
  {
   "cell_type": "markdown",
   "metadata": {},
   "source": [
    "## Cálculo de Energia de comprimento da ligação O-H na molécula de H2O"
   ]
  },
  {
   "cell_type": "code",
   "execution_count": null,
   "metadata": {},
   "outputs": [],
   "source": [
    "# loop sobre distancias entre o átomo de oxigênio e o hidrogênio 1 e calcula a energia potencial\n",
    "distances = np.linspace(0.5, 1.4, 50) * angstrom\n",
    "energies = []\n",
    "for distance in distances:\n",
    "    simulation.context.setPositions(\n",
    "        np.array([\n",
    "            [0.0, 0.0, 0.0],  # O\n",
    "            [distance.value_in_unit(angstrom), 0.0, 0.0],  # H1\n",
    "            [bond * np.cos(angle), bond * np.sin(angle), 0.0]  # H2\n",
    "        ]) * angstrom\n",
    "    )\n",
    "    state = simulation.context.getState(getEnergy=True)\n",
    "    energies.append(state.getPotentialEnergy().value_in_unit(kilojoule_per_mole))\n",
    "    \n",
    "# Convertendo as energias para um array NumPy\n",
    "energies = np.array(energies)\n",
    "\n",
    "\n",
    "# Criando um gráfico de energia potencial versus distância\n",
    "plt.figure(figsize=(6, 4))\n",
    "plt.plot(distances.value_in_unit(angstrom), energies, marker='o', linestyle='-', color='C0')\n",
    "plt.title('Energia Potencial vs Distância O-H')\n",
    "plt.xlabel('Distância O-H (Å)')\n",
    "plt.ylabel('Energia Potencial (kJ/mol)')\n",
    "plt.grid()\n"
   ]
  },
  {
   "cell_type": "markdown",
   "metadata": {},
   "source": [
    "## Cálculo de Energia de ângulo da ligação H-O-H na molécula de H2O"
   ]
  },
  {
   "cell_type": "code",
   "execution_count": null,
   "metadata": {},
   "outputs": [],
   "source": [
    "# loop sobre valores do ângulo entre H-O-H e calcula a energia potencial\n",
    "angles = np.linspace(90, 120, 50) * np.pi / 180  # Ângulos de 90 a 150 graus\n",
    "energies_angle = []\n",
    "for angle in angles:\n",
    "    simulation.context.setPositions(\n",
    "        np.array([\n",
    "            [0.0, 0.0, 0.0],  # O\n",
    "            [bond, 0.0, 0.0],  # H1\n",
    "            [bond * np.cos(angle), bond * np.sin(angle), 0.0]  # H2\n",
    "        ]) * angstrom\n",
    "    )\n",
    "    state = simulation.context.getState(getEnergy=True)\n",
    "    energies_angle.append(state.getPotentialEnergy().value_in_unit(kilojoule_per_mole))\n",
    "\n",
    "# Convertendo as energias para um array NumPy\n",
    "energies_angle = np.array(energies_angle)\n",
    "\n",
    "# Criando um gráfico de energia potencial versus ângulo\n",
    "plt.figure(figsize=(6, 4))\n",
    "plt.plot(np.degrees(angles), energies_angle, marker='o', linestyle='-', color='C1')\n",
    "plt.title('Energia Potencial vs Ângulo H-O-H')\n",
    "plt.xlabel('Ângulo H-O-H (graus)')\n",
    "plt.ylabel('Energia Potencial (kJ/mol)')\n",
    "plt.grid()\n"
   ]
  },
  {
   "cell_type": "markdown",
   "metadata": {},
   "source": [
    "## Cálcula o equilíbrio da molécula"
   ]
  },
  {
   "cell_type": "markdown",
   "metadata": {},
   "source": [
    "Posições antes do equilíbrio"
   ]
  },
  {
   "cell_type": "code",
   "execution_count": null,
   "metadata": {},
   "outputs": [],
   "source": [
    "# Definindo a geometria inicial da molécula\n",
    "bond = 0.95  # Å\n",
    "angle = 105.0 * np.pi/180\n",
    "simulation.context.setPositions(\n",
    "    np.array([\n",
    "    [0.0,         0.0,         0.0        ],  # O\n",
    "    [ bond,       0.0,         0.0        ],  # H1\n",
    "    [ bond*np.cos(angle), bond*np.sin(angle), 0.0 ],  # H2\n",
    "]) * angstrom\n",
    ")\n",
    "\n",
    "state = simulation.context.getState(getPositions=True, getForces=True, getEnergy=True)\n",
    "print(\"Energia potencial: \", state.getPotentialEnergy())\n",
    "print()\n",
    "print(\"Posições Atômicas\")\n",
    "print(state.getPositions(asNumpy=True))\n",
    "print()"
   ]
  },
  {
   "cell_type": "markdown",
   "metadata": {},
   "source": [
    "Minimiza a energia da molécula de acordo com o campo de força TIP3"
   ]
  },
  {
   "cell_type": "code",
   "execution_count": null,
   "metadata": {},
   "outputs": [],
   "source": [
    "simulation.minimizeEnergy()"
   ]
  },
  {
   "cell_type": "markdown",
   "metadata": {},
   "source": [
    "Posições e infos após o equilíbrio da molécula"
   ]
  },
  {
   "cell_type": "code",
   "execution_count": null,
   "metadata": {},
   "outputs": [],
   "source": [
    "state = simulation.context.getState(getPositions=True, getForces=True, getEnergy=True)\n",
    "print(\"Energia potencial: \", state.getPotentialEnergy())\n",
    "print()\n",
    "print(\"Posições Atômicas\")\n",
    "print(state.getPositions(asNumpy=True))\n",
    "print()"
   ]
  },
  {
   "cell_type": "markdown",
   "metadata": {},
   "source": [
    "Calcula distancia O-H e ângulo H-O-H de equilíbrio"
   ]
  },
  {
   "cell_type": "code",
   "execution_count": null,
   "metadata": {},
   "outputs": [],
   "source": [
    "# comprimento O-H, em nanometros.\n",
    "eq_pos = state.getPositions(asNumpy=True)\n",
    "l0 = np.linalg.norm(eq_pos[1] - eq_pos[0])\n",
    "print('Comprimento da Ligação O-H: ',l0,  'nm')\n",
    "\n",
    "# ângulo H-O-H\n",
    "d01 = eq_pos[1] - eq_pos[0]\n",
    "d02 = eq_pos[2] - eq_pos[0]\n",
    "d01 /= np.linalg.norm(d01)\n",
    "d02 /= np.linalg.norm(d02)\n",
    "cosine = np.dot(d01, d02)\n",
    "theta0 = np.arccos(cosine)\n",
    "print('Ângulo da Ligação H-O-H: ', theta0, 'rad, ',np.degrees(theta0), 'graus')"
   ]
  },
  {
   "cell_type": "markdown",
   "metadata": {},
   "source": [
    "---\n",
    "\n",
    "# Dinâmica Molecular com Água"
   ]
  },
  {
   "cell_type": "markdown",
   "metadata": {},
   "source": [
    "Definição da caixa de simulação "
   ]
  },
  {
   "cell_type": "code",
   "execution_count": null,
   "metadata": {},
   "outputs": [],
   "source": [
    "L = 30 * angstrom\n",
    "\n",
    "box_matrix = L * np.identity(3)\n",
    "topology = Topology()\n",
    "topology.setPeriodicBoxVectors(box_matrix)\n",
    "\n",
    "N_mol = 1000\n",
    "\n",
    "resname = next(mol_topology.residues()).name\n",
    "\n",
    "for i in range(N_mol):\n",
    "    chain   = topology.addChain()\n",
    "    residue = topology.addResidue(resname, chain)\n",
    "    atom_map = {}  \n",
    "\n",
    "    # 1) add atoms\n",
    "    for atom in mol_topology.atoms():\n",
    "        new = topology.addAtom(atom.name, atom.element, residue)\n",
    "        atom_map[atom] = new\n",
    "\n",
    "    # 2) add the same bonds\n",
    "    for bond in mol_topology.bonds():\n",
    "        a1 = atom_map[bond.atom1]\n",
    "        a2 = atom_map[bond.atom2]\n",
    "        topology.addBond(a1, a2)"
   ]
  },
  {
   "cell_type": "markdown",
   "metadata": {},
   "source": [
    "Colocando cada molécula em um lugar distinto da caixa"
   ]
  },
  {
   "cell_type": "code",
   "execution_count": null,
   "metadata": {},
   "outputs": [],
   "source": [
    "# Coloca cada molécula em uma posição aleatória dentro da caixa cúbica\n",
    "\n",
    "all_pos = []\n",
    "for _ in range(N_mol):\n",
    "    CMpos = np.random.uniform(0, L / nanometer, 3)\n",
    "    coords = CMpos + eq_pos/nanometer\n",
    "    all_pos.append(coords)"
   ]
  },
  {
   "cell_type": "markdown",
   "metadata": {},
   "source": [
    "Definindo integrador para simulação NVT"
   ]
  },
  {
   "cell_type": "code",
   "execution_count": null,
   "metadata": {},
   "outputs": [],
   "source": [
    "temperatura = 300 * kelvin\n",
    "\n",
    "system = forcefield.createSystem(topology, nonbondedMethod=PME,\n",
    "        nonbondedCutoff=1*nanometer, constraints=HBonds)\n",
    "\n",
    "integrator = LangevinMiddleIntegrator(temperatura, 1/picosecond, 4*femtoseconds)\n",
    "\n",
    "simulation = Simulation(topology, system, integrator,platform)\n",
    "simulation.context.setPositions(np.vstack(all_pos) * angstrom)\n",
    "simulation.minimizeEnergy()\n",
    "simulation.context.setVelocitiesToTemperature(temperatura)"
   ]
  },
  {
   "cell_type": "code",
   "execution_count": null,
   "metadata": {},
   "outputs": [],
   "source": [
    "positions = simulation.context.getState(getPositions=True).getPositions()\n",
    "\n",
    "PDBFile.writeFile(topology, positions, open('initial_water.pdb', 'w'))"
   ]
  },
  {
   "cell_type": "markdown",
   "metadata": {},
   "source": [
    "Definindo os relatórios"
   ]
  },
  {
   "cell_type": "code",
   "execution_count": null,
   "metadata": {},
   "outputs": [],
   "source": [
    "# Remove reporters existentes, no caso dessa célula ser executada mais de uma vez.\n",
    "simulation.reporters = []\n",
    "\n",
    "# Escreve cada frame em arquivo DCD de trajetórias a cada 1000 passos\n",
    "simulation.reporters.append(DCDReporter(\"output_water.dcd\", 1000))\n",
    "\n",
    "# Escreve num arquivo csv a cada 20 passos \n",
    "simulation.reporters.append(\n",
    "    StateDataReporter(\n",
    "        \"md_log_water.csv\",\n",
    "        20,\n",
    "        step=True,\n",
    "        time=True,\n",
    "        potentialEnergy=True,\n",
    "        totalEnergy=True,\n",
    "        temperature=True,\n",
    "        volume=True\n",
    "    )\n",
    ")\n",
    "\n",
    "# Escreve na tela a cada 1000 passos \n",
    "simulation.reporters.append(\n",
    "    StateDataReporter(stdout, 1000, step=True, totalEnergy=True,temperature=True,\n",
    "        volume=True)\n",
    ")"
   ]
  },
  {
   "cell_type": "markdown",
   "metadata": {},
   "source": [
    "## Equilibração NVT"
   ]
  },
  {
   "cell_type": "code",
   "execution_count": null,
   "metadata": {},
   "outputs": [],
   "source": [
    "print(\"Equilibrando com NVT\")\n",
    "\n",
    "simulation.step(5000)"
   ]
  },
  {
   "cell_type": "markdown",
   "metadata": {},
   "source": [
    "## Produção NPT"
   ]
  },
  {
   "cell_type": "code",
   "execution_count": null,
   "metadata": {},
   "outputs": [],
   "source": [
    "pressao = 1*bar\n",
    "\n",
    "system.addForce(MonteCarloBarostat(pressao, temperatura))\n",
    "simulation.context.reinitialize(preserveState=True)\n",
    "\n",
    "\n",
    "print(\"Rodando NPT\")\n",
    "simulation.step(70000)\n",
    "\n",
    "# A próxima linha é necessária para Windows para fechar os arquivos antes de serem abertos\n",
    "del simulation"
   ]
  },
  {
   "cell_type": "markdown",
   "metadata": {},
   "source": [
    "## Análise dos dados"
   ]
  },
  {
   "cell_type": "code",
   "execution_count": null,
   "metadata": {},
   "outputs": [],
   "source": [
    "traj = mdtraj.load(\"output_water.dcd\", top=\"initial_water.pdb\")\n",
    "view = nglview.show_mdtraj(traj, width='600px', height='400px')\n",
    "view.clear_representations()\n",
    "\n",
    "# show all atoms as small spheres\n",
    "# view.add_spacefill(selection='all', radius=0.3)\n",
    "\n",
    "# or, if your water residues are named HOH/resname WATER:\n",
    "view.add_ball_and_stick(selection='resname water')\n",
    "\n",
    "#centralizado\n",
    "view.center(selection='all')\n",
    "\n",
    "# add box\n",
    "view.add_unitcell()\n",
    "view"
   ]
  },
  {
   "cell_type": "code",
   "execution_count": null,
   "metadata": {},
   "outputs": [],
   "source": [
    "df = pd.read_csv(\"md_log_water.csv\")"
   ]
  },
  {
   "cell_type": "code",
   "execution_count": null,
   "metadata": {},
   "outputs": [],
   "source": [
    "df.head()"
   ]
  },
  {
   "cell_type": "code",
   "execution_count": null,
   "metadata": {},
   "outputs": [],
   "source": [
    "df['Total Energy (kJ/mole)']"
   ]
  },
  {
   "cell_type": "code",
   "execution_count": null,
   "metadata": {},
   "outputs": [],
   "source": [
    "fig, axs = plt.subplots(3, 1, sharex=True)\n",
    "\n",
    "axs[0].plot(df['Time (ps)'],df['Potential Energy (kJ/mole)'],color='C0',label='U')\n",
    "axs[0].legend(loc='best')\n",
    "axs[0].set_ylabel('U (kJ/mole)')\n",
    "\n",
    "axs[1].plot(df['Time (ps)'],df['Temperature (K)'],color='C3',label='T')\n",
    "axs[1].legend(loc='best')\n",
    "axs[1].set_ylabel('T (K)')\n",
    "\n",
    "axs[2].plot(df['Time (ps)'],df['Box Volume (nm^3)'],color='C1',label='V')\n",
    "axs[2].legend(loc='best')\n",
    "axs[2].set_xlabel('Time (ps)')\n",
    "axs[2].set_ylabel('Volume (nm$^3$)')"
   ]
  },
  {
   "cell_type": "markdown",
   "metadata": {},
   "source": [
    "> ⚠️ Qual o melhor tempo para cortar a fase de equilibração?"
   ]
  },
  {
   "cell_type": "code",
   "execution_count": null,
   "metadata": {},
   "outputs": [],
   "source": [
    "timecut = ..."
   ]
  },
  {
   "cell_type": "code",
   "execution_count": null,
   "metadata": {},
   "outputs": [],
   "source": [
    "subsetT = df['Temperature (K)'][df['Time (ps)'] > timecut]\n",
    "subsetU = df['Potential Energy (kJ/mole)'][df['Time (ps)'] > timecut]\n",
    "subsetV = df['Box Volume (nm^3)'][df['Time (ps)'] > timecut]"
   ]
  },
  {
   "cell_type": "code",
   "execution_count": null,
   "metadata": {},
   "outputs": [],
   "source": [
    "from IPython.display import display, Math\n",
    "\n",
    "\n",
    "# Cálculo da média e desvio padrão da energia potencial U\n",
    "Umean = subsetU.mean()\n",
    "sigmaU = subsetU.std()\n",
    "\n",
    "display(Math(rf\"U = {Umean:.2f} \\pm {sigmaU:.2f}\\ kJ/mole\"))"
   ]
  },
  {
   "cell_type": "code",
   "execution_count": null,
   "metadata": {},
   "outputs": [],
   "source": [
    "# Cálculo da média e desvio padrão da temperatura T\n",
    "Tmean = subsetT.mean()\n",
    "sigmaT = subsetT.std()\n",
    "\n",
    "display(Math(rf\"$T = {Tmean:.2f} \\pm {sigmaT:.2f}\\ K\"))"
   ]
  },
  {
   "cell_type": "code",
   "execution_count": null,
   "metadata": {},
   "outputs": [],
   "source": [
    "# Cálculo da média e desvio padrão do volume V\n",
    "Vmean = subsetV.mean()\n",
    "sigmaV = subsetV.std()\n",
    "\n",
    "display(Math(rf\"$V = {Vmean:.2f} \\pm {sigmaV:.2f}\\ nm^3\"))"
   ]
  },
  {
   "cell_type": "code",
   "execution_count": null,
   "metadata": {},
   "outputs": [],
   "source": [
    "# Gráfico de histogramas com as distribuições de U, T e V\n",
    "fig, axs = plt.subplots(1, 3,figsize=(7,4))\n",
    "\n",
    "axs[0].hist(subsetU,bins=50,density=True)\n",
    "axs[0].set_xlabel(r'$U$ (kJ/mole)')\n",
    "\n",
    "uarray = Umean+np.arange(-5*sigmaU,5*sigmaU,0.01*sigmaU)\n",
    "axs[0].plot(uarray,np.sqrt(1/(2*np.pi*sigmaU**2))*np.exp(-0.5*(uarray-Umean)**2/sigmaU**2),color='k')\n",
    "\n",
    "axs[1].hist(subsetT,bins=50,density=True,color='C3')\n",
    "axs[1].set_xlabel(r'$T$ (K)')\n",
    "\n",
    "Tarray = Tmean + np.arange(-5*sigmaT,5*sigmaT,0.01*sigmaT)\n",
    "axs[1].plot(Tarray,np.sqrt(1/(2*np.pi*sigmaT**2))*np.exp(-0.5*(Tarray-Tmean)**2/sigmaT**2),color='k')\n",
    "\n",
    "axs[2].hist(subsetV,bins=50,density=True,color='C2')\n",
    "axs[2].set_xlabel(r'$V$ (nm$^3$)')\n",
    "\n",
    "Varray = Vmean + np.arange(-5*sigmaV,5*sigmaV,0.01*sigmaV)\n",
    "axs[2].plot(Varray,np.sqrt(1/(2*np.pi*sigmaV**2))*np.exp(-0.5*(Varray-Vmean)**2/sigmaV**2),color='k')"
   ]
  },
  {
   "cell_type": "markdown",
   "metadata": {},
   "source": [
    "**<span style=\"color:#A03;font-size:14pt\">\n",
    "&#x270B; HANDS-ON! &#x1F528;\n",
    "</span>**\n",
    "\n",
    "> - Calcule a densidade da água para essa $T=300$ K e $P = 1$ bar e compare com o valor tabelado pelo NIST em $55315$ mol/m^3. \n",
    "> - Estime a incerteza no valor da densidade calculada.\n",
    "> - Repita o cálculo agora com 500 partículas de água na caixa. A incerteza aumentou ou diminuiu? Por quanto?"
   ]
  },
  {
   "cell_type": "code",
   "execution_count": null,
   "metadata": {},
   "outputs": [],
   "source": [
    "# Cálculo da densidade de moléculas a T = 300 K e P = 1 bar\n",
    "nmean = (N_mol/ 6.022e23) / (Vmean * 1e-27)\n",
    "print(f\"Densidade simulada: {nmean:.2f} mol/m³\")"
   ]
  },
  {
   "cell_type": "code",
   "execution_count": null,
   "metadata": {},
   "outputs": [],
   "source": [
    "# Valor experimental da densidade de água a 300 K e 1 bar\n",
    "nexp = 55315 # mol/m^3\n",
    "print(f\"Densidade experimental: {nexp} mol/m³\")"
   ]
  },
  {
   "cell_type": "code",
   "execution_count": null,
   "metadata": {},
   "outputs": [],
   "source": [
    "# Desvio percentual da densidade simulada em relação à densidade experimental\n",
    "desvio_percentual = np.abs((nmean - nexp) / nexp) * 100\n",
    "print(f\"Desvio percentual: {desvio_percentual:.2f}%\")"
   ]
  },
  {
   "cell_type": "code",
   "execution_count": null,
   "metadata": {},
   "outputs": [],
   "source": [
    "# Cálculo da incerteza da densidade simulada\n",
    "sigma_n = nmean * sigmaV / Vmean\n",
    "print(f\"Densidade simulada: {nmean:.2f} ± {sigma_n:.2f} mol/m³\")"
   ]
  },
  {
   "cell_type": "code",
   "execution_count": null,
   "metadata": {},
   "outputs": [],
   "source": [
    "# Simulação da densidade de água a 300 K e 1 bar com 500 moléculas\n",
    "\n",
    "# 0. Define as variáveis do sistema molecular\n",
    "N_mol = 500\n",
    "L = 25 * angstrom # tamanho inicial da caixa cúbica\n",
    "temperatura = 300 * kelvin # temperatura em Kelvin\n",
    "pressao = 1*bar # pressão em bar\n",
    "\n",
    "## 1. Define a topologia da água\n",
    "print(\"Criando a topologia da água\")\n",
    "mol_topology = Topology()\n",
    "chain = mol_topology.addChain()\n",
    "residue = mol_topology.addResidue(\"water\", chain)\n",
    "element_O = Element.getByAtomicNumber(8)\n",
    "element_H = Element.getByAtomicNumber(1)\n",
    "atom0 = mol_topology.addAtom(\"O\", element_O, residue)\n",
    "atom1 = mol_topology.addAtom(\"H\", element_H, residue)\n",
    "atom2 = mol_topology.addAtom(\"H\", element_H, residue)\n",
    "mol_topology.addBond(atom0, atom1)\n",
    "mol_topology.addBond(atom0, atom2)\n",
    "\n",
    "bond = 0.9572  # Å\n",
    "angle = 1.82421813418 # rad (104.52° in radians)\n",
    "eq_pos = (\n",
    "    np.array([\n",
    "    [0.0,         0.0,         0.0        ],  # O\n",
    "    [ bond,       0.0,         0.0        ],  # H1\n",
    "    [ bond*np.cos(angle), bond*np.sin(angle), 0.0 ],  # H2\n",
    "]) * angstrom\n",
    ")\n",
    "\n",
    "## 2. Define a topologia da caixa com moléculas de água\n",
    "print(\"Criando a topologia da caixa com moléculas de água\")\n",
    "box_matrix = L * np.identity(3)\n",
    "topology = Topology()\n",
    "topology.setPeriodicBoxVectors(box_matrix)\n",
    "resname = next(mol_topology.residues()).name\n",
    "for i in range(N_mol):\n",
    "    chain   = topology.addChain()\n",
    "    residue = topology.addResidue(resname, chain)\n",
    "    atom_map = {}  \n",
    "    for atom in mol_topology.atoms():\n",
    "        new = topology.addAtom(atom.name, atom.element, residue)\n",
    "        atom_map[atom] = new\n",
    "    for bond in mol_topology.bonds():\n",
    "        a1 = atom_map[bond.atom1]\n",
    "        a2 = atom_map[bond.atom2]\n",
    "        topology.addBond(a1, a2)\n",
    "\n",
    "all_pos = []\n",
    "for _ in range(N_mol):\n",
    "    CMpos = np.random.uniform(0, L / nanometer, 3)\n",
    "    coords = CMpos + eq_pos/nanometer\n",
    "    all_pos.append(coords)\n",
    "\n",
    "## 3. Define o campo de força e o sistema\n",
    "print(\"Escolhendo o campo de força e criando o sistema\")\n",
    "forcefield = ForceField('amber14/tip3p.xml')\n",
    "platform = Platform.getPlatformByName('CPU')  # ou 'CUDA' se tiver GPU\n",
    "system = forcefield.createSystem(topology, nonbondedMethod=PME,\n",
    "        nonbondedCutoff=1*nanometer, constraints=HBonds)\n",
    "\n",
    "## 4. Define o integrador e a temperatura\n",
    "integrator = LangevinMiddleIntegrator(temperatura, 1/picosecond, 4*femtoseconds)\n",
    "simulation = Simulation(topology, system, integrator, platform)\n",
    "simulation.context.setPositions(np.vstack(all_pos) * angstrom)\n",
    "simulation.minimizeEnergy()\n",
    "simulation.context.setVelocitiesToTemperature(temperatura)\n",
    "\n",
    "simulation.reporters = []\n",
    "simulation.reporters.append(\n",
    "    StateDataReporter(\n",
    "        \"md_log_water.csv\",\n",
    "        20,\n",
    "        step=True,\n",
    "        time=True,\n",
    "        potentialEnergy=True,\n",
    "        totalEnergy=True,\n",
    "        temperature=True,\n",
    "        volume=True\n",
    "    )\n",
    ")\n",
    "simulation.reporters.append(\n",
    "    StateDataReporter(stdout, 1000, step=True,time=True, totalEnergy=True,temperature=True,\n",
    "        volume=True)\n",
    ")\n",
    "print(\"Equilibrando com NVT\")\n",
    "simulation.step(5000)\n",
    "\n",
    "## 5. Adiciona o barostato e realiza produção NPT\n",
    "system.addForce(MonteCarloBarostat(pressao, temperatura))\n",
    "simulation.context.reinitialize(preserveState=True)\n",
    "print(\"Rodando NPT\")\n",
    "simulation.step(70000)\n",
    "del simulation\n",
    "\n",
    "## 6. Carrega os dados, analisa o volume médio e calcula a densidade\n",
    "print(\"Carregando os dados e calculando a densidade\")\n",
    "df = pd.read_csv(\"md_log_water.csv\")\n",
    "subsetV = df['Box Volume (nm^3)'][df['Time (ps)'] > 50.0]\n",
    "Vmean = subsetV.mean() # em nm³\n",
    "sigmaV = subsetV.std()\n",
    "nmean = (N_mol/ 6.022e23) / (Vmean * 1e-27)\n",
    "sigman = nmean * sigmaV / Vmean\n",
    "print(f\"Densidade de moléculas: {nmean:.2f} ± {sigman:.2f} mol/m³\")\n",
    "Mm = 18.01528  # g/mol\n",
    "densidade = nmean * Mm / 1000  # g/L\n",
    "sigma_densidade = sigman * Mm / 1000  # Cálculo da incerteza da densidade simulada g/L\n",
    "print(f\"Densidade de massa: {densidade:.2f} ± {sigma_densidade:.2f} g/L\")"
   ]
  },
  {
   "cell_type": "markdown",
   "metadata": {},
   "source": [
    "BONUS: Análise da incerteza com respeito ao número de moléculas na caixa "
   ]
  },
  {
   "cell_type": "code",
   "execution_count": null,
   "metadata": {},
   "outputs": [],
   "source": [
    "number_of_molecules = np.array([500, 1000, 2000, 3000, 4000, 5000])\n",
    "density = np.array([54929.37,55151.03,55086.23,55022.79,55071.59,55035.42])\n",
    "density_error = np.array([659.29, 479.79,320.27,266.33,235.66,226.33])  \n",
    "\n",
    "plt.figure(figsize=(6, 4))\n",
    "plt.errorbar(number_of_molecules, density, yerr=density_error, fmt='o', capsize=5, color='C0', label='Densidade simulada - TIP3P')\n",
    "plt.axhline(y=55315, color='k', linestyle='--', label='Densidade experimental')\n",
    "plt.xlabel('Número de moléculas')\n",
    "plt.ylabel('Densidade (mol/m³)')\n",
    "plt.title('Densidade de Água Simulada vs Experimental')\n",
    "plt.legend()\n",
    "plt.grid()\n",
    "plt.tight_layout()"
   ]
  },
  {
   "cell_type": "code",
   "execution_count": null,
   "metadata": {},
   "outputs": [],
   "source": []
  }
 ],
 "metadata": {
  "kernelspec": {
   "display_name": "simmol",
   "language": "python",
   "name": "python3"
  },
  "language_info": {
   "codemirror_mode": {
    "name": "ipython",
    "version": 3
   },
   "file_extension": ".py",
   "mimetype": "text/x-python",
   "name": "python",
   "nbconvert_exporter": "python",
   "pygments_lexer": "ipython3",
   "version": "3.11.0"
  }
 },
 "nbformat": 4,
 "nbformat_minor": 4
}
