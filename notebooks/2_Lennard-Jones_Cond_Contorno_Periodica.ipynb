{
  "cells": [
    {
      "cell_type": "markdown",
      "metadata": {
        "id": "view-in-github",
        "colab_type": "text"
      },
      "source": [
        "<a href=\"https://colab.research.google.com/github/elvissoares/EQE595-SimMol/blob/main/notebooks/2_Lennard-Jones_Cond_Contorno_Periodica.ipynb\" target=\"_parent\"><img src=\"https://colab.research.google.com/assets/colab-badge.svg\" alt=\"Open In Colab\"/></a>"
      ]
    },
    {
      "cell_type": "markdown",
      "metadata": {
        "id": "tHVbObr7QvDa"
      },
      "source": [
        "# Aula Prática 02 - Interação de Lennard-Jones e Condição de Contorno Periódica\n",
        "\n",
        "Autor: [Prof. Elvis do A. Soares](https://github.com/elvissoares)\n",
        "\n",
        "Contato: [elvis@peq.coppe.ufrj.br](mailto:elvis@peq.coppe.ufrj.br) - [Programa de Engenharia Química, PEQ/COPPE, UFRJ, Brasil](https://www.peq.coppe.ufrj.br/)\n",
        "\n",
        "---"
      ]
    },
    {
      "cell_type": "code",
      "execution_count": null,
      "metadata": {
        "id": "UCdoSkAzQvDb"
      },
      "outputs": [],
      "source": [
        "# Autor: Elvis do A. Soares\n",
        "# Github: @elvissoares\n",
        "import numpy as np\n",
        "import matplotlib.pyplot as plt\n",
        "from matplotlib import animation\n",
        "from matplotlib.animation import PillowWriter"
      ]
    },
    {
      "cell_type": "markdown",
      "metadata": {
        "id": "b5iSb5g0QvDb"
      },
      "source": [
        "## Interação de Lennard-Jones\n",
        "\n",
        "Para duas partículas interagindo, o potencial de interação Lennard-Jones é dada por\n",
        "\n",
        "$$u(r) = 4\\epsilon\\left[ \\left(\\frac{\\sigma}{r} \\right)^{12}-\\left(\\frac{\\sigma}{r} \\right)^{6}\\right] $$\n",
        "\n",
        "com\n",
        "- $r$: distância entre partículas\n",
        "- $\\epsilon$: energia de interação atrativa;\n",
        "- $\\sigma$: distância de aproximação mínima."
      ]
    },
    {
      "cell_type": "markdown",
      "metadata": {
        "id": "zaNszWGLQvDb"
      },
      "source": [
        "**<span style=\"color:#A03;font-size:14pt\">\n",
        "&#x270B; HANDS-ON! &#x1F528;\n",
        "</span>**\n",
        "\n",
        "> Implemente a função que calcula a interação de LJ entre duas partículas"
      ]
    },
    {
      "cell_type": "code",
      "execution_count": null,
      "metadata": {
        "id": "Ea6s5KR3QvDb"
      },
      "outputs": [],
      "source": [
        "def ulj(r,epsilon=1.0,sigma=1.0): # define função com valores default para epsilon e sigma\n",
        "\n",
        "    return ..."
      ]
    },
    {
      "cell_type": "code",
      "execution_count": null,
      "metadata": {
        "id": "WHWAj5y0QvDb"
      },
      "outputs": [],
      "source": [
        "def ulj(r,epsilon=1.0,sigma=1.0):\n",
        "    sigma_r_6 = (sigma/r)**6\n",
        "    return 4*epsilon*(sigma_r_6**2-sigma_r_6)"
      ]
    },
    {
      "cell_type": "markdown",
      "metadata": {
        "id": "W0S9FFZlQvDb"
      },
      "source": [
        "Gráfico do potencial de interação"
      ]
    },
    {
      "cell_type": "code",
      "execution_count": null,
      "metadata": {
        "id": "Zzm2ZvtDQvDb"
      },
      "outputs": [],
      "source": [
        "r = np.arange(0.01,5,0.01)\n",
        "\n",
        "plt.plot(r,ulj(r))\n",
        "# limite dos eixos\n",
        "plt.ylim(-1,1)\n",
        "plt.xlim(0,5)\n",
        "\n",
        "# nome dos eixos\n",
        "plt.xlabel(r'$r$')\n",
        "plt.ylabel(r'$u(r)$')"
      ]
    },
    {
      "cell_type": "markdown",
      "metadata": {
        "id": "Saukwd31QvDc"
      },
      "source": [
        "## 3 partículas interagindo"
      ]
    },
    {
      "cell_type": "code",
      "execution_count": null,
      "metadata": {
        "id": "1FhuM2czQvDc"
      },
      "outputs": [],
      "source": [
        "# triângulo equilatero de tamanho l\n",
        "l = 1.5\n",
        "\n",
        "r1 = np.array([0.0,0.0]) # posição x e y\n",
        "r2 = np.array([l,0.0])\n",
        "r3 = np.array([l/2,l*np.sqrt(3)/2])"
      ]
    },
    {
      "cell_type": "markdown",
      "metadata": {
        "id": "cMjqkCAoQvDc"
      },
      "source": [
        "Gráfico das 3 partículas"
      ]
    },
    {
      "cell_type": "code",
      "execution_count": null,
      "metadata": {
        "id": "pJpwrewaQvDc"
      },
      "outputs": [],
      "source": [
        "plt.figure(figsize=(5,5)) # faz com que a figura seja quadrada\n",
        "plt.plot(r1[0],r1[1],'o',ms=10.0,alpha=0.5)\n",
        "plt.plot(r2[0],r2[1],'o',ms=10.0,alpha=0.5)\n",
        "plt.plot(r3[0],r3[1],'o',ms=10.0,alpha=0.5)\n",
        "\n",
        "# plt.xlim(0,l)\n",
        "# plt.ylim(0,l)\n",
        "\n",
        "plt.xlabel('x')\n",
        "plt.ylabel('y')"
      ]
    },
    {
      "cell_type": "markdown",
      "metadata": {
        "id": "CuMV0iT4QvDc"
      },
      "source": [
        "Calculando distâncias"
      ]
    },
    {
      "cell_type": "code",
      "execution_count": null,
      "metadata": {
        "id": "qijRaKlIQvDc"
      },
      "outputs": [],
      "source": [
        "r2-r1"
      ]
    },
    {
      "cell_type": "code",
      "execution_count": null,
      "metadata": {
        "id": "z1ep7oaOQvDc"
      },
      "outputs": [],
      "source": [
        "np.linalg.norm(r2-r1)"
      ]
    },
    {
      "cell_type": "code",
      "execution_count": null,
      "metadata": {
        "id": "mmyAel30QvDc"
      },
      "outputs": [],
      "source": [
        "r3-r1"
      ]
    },
    {
      "cell_type": "code",
      "execution_count": null,
      "metadata": {
        "id": "M3d0QwDuQvDc"
      },
      "outputs": [],
      "source": [
        "np.linalg.norm(r3-r1)"
      ]
    },
    {
      "cell_type": "code",
      "execution_count": null,
      "metadata": {
        "id": "HF3vK7rLQvDc"
      },
      "outputs": [],
      "source": [
        "r3-r2"
      ]
    },
    {
      "cell_type": "code",
      "execution_count": null,
      "metadata": {
        "id": "AnYFbljPQvDc"
      },
      "outputs": [],
      "source": [
        "np.linalg.norm(r3-r2)"
      ]
    },
    {
      "cell_type": "markdown",
      "metadata": {
        "id": "F859UQgEQvDc"
      },
      "source": [
        "Calculando energia entre pares"
      ]
    },
    {
      "cell_type": "code",
      "execution_count": null,
      "metadata": {
        "id": "QQmSWFcnQvDc"
      },
      "outputs": [],
      "source": [
        "u12 = ..."
      ]
    },
    {
      "cell_type": "code",
      "execution_count": null,
      "metadata": {
        "id": "lSAQP423QvDc"
      },
      "outputs": [],
      "source": [
        "u13 = ..."
      ]
    },
    {
      "cell_type": "code",
      "execution_count": null,
      "metadata": {
        "id": "MA-G93Z2QvDc"
      },
      "outputs": [],
      "source": [
        "u23 = ..."
      ]
    },
    {
      "cell_type": "markdown",
      "metadata": {
        "id": "g80sbtfqQvDc"
      },
      "source": [
        "Energia total"
      ]
    },
    {
      "cell_type": "code",
      "execution_count": null,
      "metadata": {
        "id": "bGi7m9H5QvDc"
      },
      "outputs": [],
      "source": [
        "Utot = u12 + u13 + u23"
      ]
    },
    {
      "cell_type": "markdown",
      "metadata": {
        "id": "x8IforruQvDc"
      },
      "source": [
        "**<span style=\"color:#A03;font-size:14pt\">\n",
        "&#x270B; HANDS-ON! &#x1F528;\n",
        "</span>**\n",
        "\n",
        "> Crie uma função que distribua as 3 partículas num triângulo de lado $l$ e calcule a energia total de LJ"
      ]
    },
    {
      "cell_type": "code",
      "execution_count": null,
      "metadata": {
        "id": "E6_HgCUUQvDc"
      },
      "outputs": [],
      "source": [
        "def triangulo(l):\n",
        "\n",
        "    return ..."
      ]
    },
    {
      "cell_type": "markdown",
      "metadata": {
        "id": "FxWXG1QyQvDc"
      },
      "source": [
        "**<span style=\"color:#A03;font-size:14pt\">\n",
        "&#x270B; HANDS-ON! &#x1F528;\n",
        "</span>**\n",
        "\n",
        "> Varie o comprimento $l$ e determine qual o valor para que a energia total seja mínima"
      ]
    },
    {
      "cell_type": "code",
      "execution_count": null,
      "metadata": {
        "id": "YHci43j6QvDc"
      },
      "outputs": [],
      "source": []
    },
    {
      "cell_type": "markdown",
      "metadata": {
        "id": "I7t6Ci1HQvDd"
      },
      "source": [
        "## Energia total de várias partículas"
      ]
    },
    {
      "cell_type": "markdown",
      "metadata": {
        "id": "QaXmJrceQvDd"
      },
      "source": [
        "No caso de termos $N$ partículas, podemos calcular a energia total como sendo\n",
        "\n",
        "$$U = \\frac{1}{2}\\sum_{i=1}^N \\sum_{j \\neq i}^N u(r_{ij})$$\n",
        "\n",
        "com\n",
        "- $r_{ij} = |\\boldsymbol{r}_i - \\boldsymbol{r}_j|$: distância entre as duas partículas\n",
        "\n"
      ]
    },
    {
      "cell_type": "markdown",
      "metadata": {
        "id": "4st06DeRQvDd"
      },
      "source": [
        "**<span style=\"color:#A03;font-size:14pt\">\n",
        "&#x270B; HANDS-ON! &#x1F528;\n",
        "</span>**\n",
        "\n",
        "> Mostre que para 3 partículas a energia total se reduz ao calculado no item anterior"
      ]
    },
    {
      "cell_type": "code",
      "execution_count": null,
      "metadata": {
        "id": "Fk4fyzRcQvDd"
      },
      "outputs": [],
      "source": []
    },
    {
      "cell_type": "markdown",
      "metadata": {
        "id": "LRXa_2YVQvDd"
      },
      "source": [
        "## Partículas em uma rede quadrada 2D"
      ]
    },
    {
      "cell_type": "markdown",
      "metadata": {
        "id": "ZYuB2L9IQvDd"
      },
      "source": [
        "Número de partículas"
      ]
    },
    {
      "cell_type": "code",
      "execution_count": null,
      "metadata": {
        "id": "dZmO9-VeQvDd"
      },
      "outputs": [],
      "source": [
        "Nparticles = 36"
      ]
    },
    {
      "cell_type": "markdown",
      "metadata": {
        "id": "5ZMmlfHmQvDd"
      },
      "source": [
        "Tamanho da rede"
      ]
    },
    {
      "cell_type": "code",
      "execution_count": null,
      "metadata": {
        "id": "yx-EJPyJQvDd"
      },
      "outputs": [],
      "source": [
        "L = 10.0"
      ]
    },
    {
      "cell_type": "markdown",
      "metadata": {
        "id": "1cyI33WTQvDd"
      },
      "source": [
        "Vamos distribuir as partículas de forma uniforme ao longo da caixa usando a função `meshgrid`"
      ]
    },
    {
      "cell_type": "code",
      "execution_count": null,
      "metadata": {
        "id": "JMOzrRKiQvDg"
      },
      "outputs": [],
      "source": [
        "# Número de pontos em x e y\n",
        "Nx = int(np.sqrt(Nparticles))\n",
        "Ny = int(np.sqrt(Nparticles))\n",
        "# ou seja, Nx.Ny = Nparticles\n",
        "\n",
        "# Espaçamento entre os átomos\n",
        "dx = L/Nx\n",
        "dy = L/Ny\n",
        "\n",
        "# Posições possíveis em x e y\n",
        "xarray = np.arange(0.5*dx,L,dx)\n",
        "yarray = np.arange(0.5*dy,L,dy)\n",
        "\n",
        "# Cria uma grid em 2D\n",
        "X,Y = np.meshgrid(xarray,yarray,indexing='ij')\n",
        "\n",
        "# Colocando as partículas em suas posições\n",
        "x0 = X.flatten()\n",
        "y0 = Y.flatten()\n",
        "\n",
        "# Array com posições das partículas\n",
        "r = np.zeros((Nparticles,2))\n",
        "r[:,0] = x0\n",
        "r[:,1] = y0"
      ]
    },
    {
      "cell_type": "markdown",
      "metadata": {
        "id": "m--a9XVsQvDg"
      },
      "source": [
        "Figuras com as posições das partículas"
      ]
    },
    {
      "cell_type": "code",
      "execution_count": null,
      "metadata": {
        "id": "fMgFIYQpQvDg"
      },
      "outputs": [],
      "source": [
        "plt.figure(figsize=(5,5)) # faz com que a figura seja quadrada\n",
        "plt.plot(r[:,0],r[:,1],'o',ms=10.0,alpha=0.5)\n",
        "\n",
        "plt.xlim(0,L)\n",
        "plt.ylim(0,L)\n",
        "\n",
        "plt.xlabel('x')\n",
        "plt.ylabel('y')"
      ]
    },
    {
      "cell_type": "markdown",
      "metadata": {
        "id": "QiJt8mh0QvDg"
      },
      "source": [
        "**<span style=\"color:#A03;font-size:14pt\">\n",
        "&#x270B; HANDS-ON! &#x1F528;\n",
        "</span>**\n",
        "\n",
        "> Crie a função que calcula a interação entre todas as partículas da rede quadrada"
      ]
    },
    {
      "cell_type": "code",
      "execution_count": null,
      "metadata": {
        "id": "oy_iG9H6QvDh"
      },
      "outputs": [],
      "source": [
        "def interacao_total(r,epsilon=1.0,sigma=1.0):\n",
        "\n",
        "    return ..."
      ]
    },
    {
      "cell_type": "code",
      "execution_count": null,
      "metadata": {
        "id": "bRmJXHD7QvDh"
      },
      "outputs": [],
      "source": [
        "def interacao_total(r,epsilon=1.0,sigma=1.0):\n",
        "    U = 0.0\n",
        "    for i in range(Nparticles):\n",
        "        for j in range(i+1,Nparticles):\n",
        "            # calcula distancia entre duas particulas\n",
        "            rij = np.linalg.norm(r[i]-r[j])\n",
        "            # calcula energia interna\n",
        "            U += ulj(rij,epsilon,sigma)\n",
        "    return U"
      ]
    },
    {
      "cell_type": "markdown",
      "metadata": {
        "id": "mmWLugN0QvDh"
      },
      "source": [
        "Valor da interação total"
      ]
    },
    {
      "cell_type": "code",
      "execution_count": null,
      "metadata": {
        "id": "YSrD5Bf3QvDh"
      },
      "outputs": [],
      "source": [
        "interacao_total(r,epsilon=1.0,sigma=1.0)"
      ]
    },
    {
      "cell_type": "markdown",
      "metadata": {
        "id": "H7bL1jVzQvDh"
      },
      "source": [
        "## Raio de corte (cutoff)"
      ]
    },
    {
      "cell_type": "markdown",
      "metadata": {
        "id": "ZjJU63u5QvDh"
      },
      "source": [
        "Podemos definir uma distãncia máxima `rcut` (um cutoff) tal que a interação de LJ seja nula a partir dela, ou seja, $ u(r) = 0$ se $ r> r_\\text{cut}$."
      ]
    },
    {
      "cell_type": "code",
      "execution_count": null,
      "metadata": {
        "id": "mR87sngAQvDh"
      },
      "outputs": [],
      "source": [
        "rcut = 2.5"
      ]
    },
    {
      "cell_type": "code",
      "execution_count": null,
      "metadata": {
        "id": "psxCo7PPQvDh"
      },
      "outputs": [],
      "source": [
        "def interacao_total_cutoff(r,epsilon=1.0,sigma=1.0,rcut=2.5):\n",
        "    U = 0.0\n",
        "    for i in range(Nparticles):\n",
        "        for j in range(i+1,Nparticles):\n",
        "            # calcula distancia entre duas particulas\n",
        "            rij = np.linalg.norm(r[i]-r[j])\n",
        "            if rij < rcut:\n",
        "                # calcula energia interna\n",
        "                U += ulj(rij,epsilon,sigma)\n",
        "    return U"
      ]
    },
    {
      "cell_type": "markdown",
      "metadata": {
        "id": "KS-lNSzAQvDh"
      },
      "source": [
        "Valor da interação com cutoff"
      ]
    },
    {
      "cell_type": "code",
      "execution_count": null,
      "metadata": {
        "id": "b1vVxUSIQvDh"
      },
      "outputs": [],
      "source": [
        "interacao_total_cutoff(r,epsilon=1.0,sigma=1.0)"
      ]
    },
    {
      "cell_type": "markdown",
      "metadata": {
        "id": "g0XbVlykQvDh"
      },
      "source": [
        "## Condição de Contorno Períodica\n",
        "\n",
        "![image.png](attachment:image.png)\n",
        "\n",
        "- Se x<0 faremos $ x = x + L$\n",
        "\n",
        "- Se x>L faremos $ x = x- L$"
      ]
    },
    {
      "cell_type": "code",
      "execution_count": null,
      "metadata": {
        "id": "GywK4CZ5QvDh"
      },
      "outputs": [],
      "source": [
        "def pbc(x,L):\n",
        "    if x < 0:\n",
        "        xnew = x + L\n",
        "    elif x > L:\n",
        "        xnew = x - L\n",
        "    else:\n",
        "        xnew = x\n",
        "    return xnew"
      ]
    },
    {
      "cell_type": "code",
      "execution_count": null,
      "metadata": {
        "id": "gP56kWxbQvDh"
      },
      "outputs": [],
      "source": [
        "pbc(15.0,L) # fora da caixa pela direita"
      ]
    },
    {
      "cell_type": "code",
      "execution_count": null,
      "metadata": {
        "id": "GSZcsgKDQvDh"
      },
      "outputs": [],
      "source": [
        "pbc(-10.0,L) # fora da caixa pela esquerda"
      ]
    },
    {
      "cell_type": "code",
      "execution_count": null,
      "metadata": {
        "id": "l-60fuPsQvDh"
      },
      "outputs": [],
      "source": [
        "pbc(5.0,L) # dentro da caixa"
      ]
    },
    {
      "cell_type": "markdown",
      "metadata": {
        "id": "Z7AAlB8JQvDh"
      },
      "source": [
        "Função `rint` faz o mesmo trabalho"
      ]
    },
    {
      "cell_type": "code",
      "execution_count": null,
      "metadata": {
        "id": "7SWG7C3sQvDh"
      },
      "outputs": [],
      "source": [
        "15.0 - np.rint(15.0/L)*L"
      ]
    },
    {
      "cell_type": "code",
      "execution_count": null,
      "metadata": {
        "id": "so2mQl-2QvDh"
      },
      "outputs": [],
      "source": [
        "-10.0 - np.rint(-10.0/L)*L"
      ]
    },
    {
      "cell_type": "markdown",
      "metadata": {
        "id": "oCsBi-6pQvDh"
      },
      "source": [
        "Incluindo a condição de contorno periódica"
      ]
    },
    {
      "cell_type": "code",
      "execution_count": null,
      "metadata": {
        "id": "v4TKJRgIQvDh"
      },
      "outputs": [],
      "source": [
        "def interacao_total_cutoff_pbc(r,epsilon=1.0,sigma=1.0,rcut=2.5):\n",
        "    U = 0.0\n",
        "    for i in range(Nparticles):\n",
        "        for j in range(i+1,Nparticles):\n",
        "            rij = r[i]-r[j]\n",
        "            # aplicando pbc\n",
        "            rij[0] -= np.rint(rij[0]/L)*L # em x\n",
        "            rij[1] -= np.rint(rij[1]/L)*L # em y\n",
        "            # calcula distancia entre duas particulas\n",
        "            rij_norm = np.linalg.norm(rij)\n",
        "            if rij_norm < rcut:\n",
        "                # calcula energia interna\n",
        "                U += ulj(rij_norm,epsilon,sigma)\n",
        "    return U"
      ]
    },
    {
      "cell_type": "code",
      "execution_count": null,
      "metadata": {
        "id": "Z2ql3zOpQvDh"
      },
      "outputs": [],
      "source": [
        "interacao_total_cutoff_pbc(r,epsilon=1.0,sigma=1.0,rcut=2.5)"
      ]
    },
    {
      "cell_type": "markdown",
      "metadata": {
        "id": "PG1TsxgJQvDi"
      },
      "source": [
        "**<span style=\"color:#A03;font-size:14pt\">\n",
        "&#x270B; HANDS-ON! &#x1F528;\n",
        "</span>**\n",
        "\n",
        "> Crie uma função que calcule a energia do sistema mudando o tamanho da rede quadrada $L$;\n",
        "\n",
        "> Faça um gráfico de $U$ como função de $L$"
      ]
    },
    {
      "cell_type": "code",
      "execution_count": null,
      "metadata": {
        "id": "GGvjGJ4GQvDi"
      },
      "outputs": [],
      "source": []
    },
    {
      "cell_type": "markdown",
      "metadata": {
        "id": "b6urZev5QvDi"
      },
      "source": [
        "## Calculando Forças entre Partículas"
      ]
    },
    {
      "cell_type": "markdown",
      "metadata": {
        "id": "pthGLMROQvDi"
      },
      "source": [
        "Vamos calcular a força total que atua sobre a partícula $i$ a partir do gradiente da energia potencial\n",
        "\n",
        "$$ \\boldsymbol{F}_i = - \\nabla_i U_{int} = - \\frac{1}{2}\\sum_{k} \\sum_{j \\neq k} \\frac{\\partial u(r_{kj})}{\\partial r_{kj}} \\frac{\\partial r_{kj}}{\\partial \\boldsymbol{r}_i}=-\\frac{1}{2}\\sum_{k} \\sum_{j \\neq k} \\frac{\\partial u(r_{kj})}{\\partial r_{kj}} \\frac{(\\delta_{ki}-\\delta_{ij})(\\boldsymbol{r}_k -\\boldsymbol{r}_j)}{ |\\boldsymbol{r}_k-\\boldsymbol{r}_j|}$$\n",
        "\n",
        "de modo que\n",
        "\n",
        "$$ \\boldsymbol{F}_i = -\\sum_{j \\neq i} \\frac{\\partial u(r_{ij})}{\\partial r_{ij}} \\frac{\\boldsymbol{r}_{ij}}{ \\boldsymbol{r}_{ij}}$$\n",
        "\n",
        "com $\\boldsymbol{r}_{ij} = \\boldsymbol{r}_{i} - \\boldsymbol{r}_{j}$ sendo o vetor posição relativa da partícula $i$ vista da partícula $j$."
      ]
    },
    {
      "cell_type": "markdown",
      "metadata": {
        "id": "vCKhHCvlQvDi"
      },
      "source": [
        "**<span style=\"color:#A03;font-size:14pt\">\n",
        "&#x270B; HANDS-ON! &#x1F528;\n",
        "</span>**\n",
        "\n",
        "> Implemente a função que calcula a derivada do potencial de LJ:  $ \\frac{\\partial u(r)}{\\partial r}$"
      ]
    },
    {
      "cell_type": "code",
      "execution_count": null,
      "metadata": {
        "id": "KYTFvNuBQvDi"
      },
      "outputs": [],
      "source": [
        "def duljdr(r,epsilon=1.0,sigma=1.0):\n",
        "    return ..."
      ]
    },
    {
      "cell_type": "code",
      "execution_count": null,
      "metadata": {
        "id": "XXxw4PAIQvDi"
      },
      "outputs": [],
      "source": [
        "def duljdr(r,epsilon=1.0,sigma=1.0):\n",
        "    return -4*epsilon*((12*(sigma/r)**12-6*(sigma/r)**6)/r)"
      ]
    },
    {
      "cell_type": "markdown",
      "metadata": {
        "id": "1hktVfRIQvDi"
      },
      "source": [
        "Função que calcula energia e aceleração de LJ"
      ]
    },
    {
      "cell_type": "code",
      "execution_count": null,
      "metadata": {
        "id": "l95ZIkk2QvDi"
      },
      "outputs": [],
      "source": [
        "def lennardjones2d(r,epsilon=1.0,sigma=1.0,rcut=2.5):\n",
        "    U = 0.0\n",
        "    a = np.zeros((Nparticles,2))\n",
        "    for i in range(Nparticles):\n",
        "        for j in range(i+1,Nparticles):\n",
        "            rij = r[i]-r[j]\n",
        "            # aplicando pbc\n",
        "            rij[0] -= np.rint(rij[0]/L)*L # em x\n",
        "            rij[1] -= np.rint(rij[1]/L)*L # em y\n",
        "            # calcula distancia entre duas particulas\n",
        "            rij_norm = np.linalg.norm(rij)\n",
        "            if rij_norm < rcut:\n",
        "                # calcula energia interna\n",
        "                U += ulj(rij_norm,epsilon,sigma)\n",
        "                # calcula a derivada do potencial\n",
        "                dudr = duljdr(rij_norm,epsilon,sigma)\n",
        "                # calcula aceleração na particula i\n",
        "                a[i][0] += -dudr*rij[0]/rij_norm\n",
        "                a[i][1] += -dudr*rij[1]/rij_norm\n",
        "                # calcula aceleração na particula j usando 3ª Lei de Newton\n",
        "                a[j][0] += dudr*rij[0]/rij_norm\n",
        "                a[j][1] += dudr*rij[1]/rij_norm\n",
        "    return U, a"
      ]
    },
    {
      "cell_type": "code",
      "execution_count": null,
      "metadata": {
        "id": "-6Hwy-HRQvDi"
      },
      "outputs": [],
      "source": [
        "U,a = lennardjones2d(r)\n",
        "\n",
        "U, a"
      ]
    },
    {
      "cell_type": "markdown",
      "metadata": {
        "id": "cHxJd3CDQvDi"
      },
      "source": [
        "## Especificando a partícula\n",
        "\n",
        "**Ex:** Para Ar (argônio) temos\n",
        "- $\\sigma = 3,4\\ \\AA$\n",
        "- $\\epsilon/k_B = 119,8$ K"
      ]
    },
    {
      "cell_type": "code",
      "execution_count": null,
      "metadata": {
        "id": "TA1W4BwcQvDi"
      },
      "outputs": [],
      "source": [
        "sigma = 3.4 # em Angstrom\n",
        "epsilon = 119.8 # em Kelvin"
      ]
    },
    {
      "cell_type": "code",
      "execution_count": null,
      "metadata": {
        "id": "JHU7YUy4QvDi"
      },
      "outputs": [],
      "source": [
        "U, a = ..."
      ]
    },
    {
      "cell_type": "markdown",
      "metadata": {
        "id": "VwtpcpdzQvDi"
      },
      "source": [
        "## Generalizando para 3D"
      ]
    },
    {
      "cell_type": "markdown",
      "metadata": {
        "id": "uUNpMQh8QvDi"
      },
      "source": [
        "Definindo o número de partículas"
      ]
    },
    {
      "cell_type": "code",
      "execution_count": null,
      "metadata": {
        "id": "eCv9JoFMQvDi"
      },
      "outputs": [],
      "source": [
        "Nparticles = 216"
      ]
    },
    {
      "cell_type": "markdown",
      "metadata": {
        "id": "vIcu93wrQvDi"
      },
      "source": [
        "Colocando as partículas em posições numa rede cúbica"
      ]
    },
    {
      "cell_type": "code",
      "execution_count": null,
      "metadata": {
        "id": "KRYnizH3QvDi"
      },
      "outputs": [],
      "source": [
        "def rede_cubica(Nparticles, L):\n",
        "    # array como posições das partículas\n",
        "    r = np.zeros((Nparticles,3))\n",
        "    # Número de pontos em x e y\n",
        "    Nx = Ny = Nz = int(np.ceil(np.power(Nparticles,1/3.0)))\n",
        "\n",
        "    # Espaçamento entre os átomos\n",
        "    dx = L/Nx\n",
        "    dy = L/Ny\n",
        "    dz = L/Nz\n",
        "\n",
        "    # Posições possíveis em x e y\n",
        "    id = 0\n",
        "    for i in range(Nx):\n",
        "        for j in range(Ny):\n",
        "            for k in range(Nz):\n",
        "                if (id < Nparticles):\n",
        "                    r[id][0] = (i+0.5)*dx\n",
        "                    r[id][1] = (j+0.5)*dy\n",
        "                    r[id][2] = (k+0.5)*dz\n",
        "                    id +=1\n",
        "    return r"
      ]
    },
    {
      "cell_type": "code",
      "execution_count": null,
      "metadata": {
        "id": "4-rJiLk8QvDi"
      },
      "outputs": [],
      "source": [
        "r = rede_cubica(Nparticles,L)"
      ]
    },
    {
      "cell_type": "code",
      "execution_count": null,
      "metadata": {
        "id": "e00MUQbcQvDi"
      },
      "outputs": [],
      "source": [
        "def lennardjones3d(r,epsilon=1.0,sigma=1.0,rcut=2.5):\n",
        "    U = 0.0\n",
        "    a = np.zeros((Nparticles,3))\n",
        "    for i in range(Nparticles):\n",
        "        for j in range(i+1,Nparticles):\n",
        "            rij = r[i]-r[j]\n",
        "            # aplicando pbc\n",
        "            rij[0] -= np.rint(rij[0]/L)*L # em x\n",
        "            rij[1] -= np.rint(rij[1]/L)*L # em y\n",
        "            rij[2] -= np.rint(rij[2]/L)*L # em z\n",
        "            # calcula distancia entre duas particulas\n",
        "            rij_norm = np.linalg.norm(rij)\n",
        "            if rij_norm < rcut:\n",
        "                # calcula energia interna\n",
        "                U += ulj(rij_norm,epsilon,sigma)\n",
        "                # calcula a derivada do potencial\n",
        "                dudr = duljdr(rij_norm,epsilon,sigma)\n",
        "                # calcula aceleração na particula i\n",
        "                a[i][0] += -dudr*rij[0]/rij_norm\n",
        "                a[i][1] += -dudr*rij[1]/rij_norm\n",
        "                a[i][2] += -dudr*rij[2]/rij_norm\n",
        "                # calcula aceleração na particula j usando 3ª Lei de Newton\n",
        "                a[j][0] += dudr*rij[0]/rij_norm\n",
        "                a[j][1] += dudr*rij[1]/rij_norm\n",
        "                a[j][2] += dudr*rij[2]/rij_norm\n",
        "    return U, a"
      ]
    },
    {
      "cell_type": "markdown",
      "metadata": {
        "id": "B2gLjXo6QvDi"
      },
      "source": [
        "Calcula a energia e as acelerações"
      ]
    },
    {
      "cell_type": "code",
      "execution_count": null,
      "metadata": {
        "id": "R8hhU7Z4QvDi"
      },
      "outputs": [],
      "source": [
        "U0, a0 = lennardjones3d(r,epsilon,sigma)"
      ]
    },
    {
      "cell_type": "code",
      "execution_count": null,
      "metadata": {
        "id": "f0iiL5EuQvDj"
      },
      "outputs": [],
      "source": [
        "U0"
      ]
    },
    {
      "cell_type": "markdown",
      "metadata": {
        "id": "tXlZkHkLQvDj"
      },
      "source": [
        "**<span style=\"color:#A03;font-size:14pt\">\n",
        "&#x270B; HANDS-ON! &#x1F528;\n",
        "</span>**\n",
        "\n",
        "> Implemente uma função que calcula a energia de LJ para a rede cúbica e calcule para vários valores de tamanho da rede $L$.\n",
        "\n",
        "> Faça um gráfico de $U$ como função de $L$"
      ]
    },
    {
      "cell_type": "code",
      "execution_count": null,
      "metadata": {
        "id": "sTsa-wyRQvDj"
      },
      "outputs": [],
      "source": []
    }
  ],
  "metadata": {
    "kernelspec": {
      "display_name": "Python 3",
      "language": "python",
      "name": "python3"
    },
    "language_info": {
      "codemirror_mode": {
        "name": "ipython",
        "version": 3
      },
      "file_extension": ".py",
      "mimetype": "text/x-python",
      "name": "python",
      "nbconvert_exporter": "python",
      "pygments_lexer": "ipython3",
      "version": "3.13.6"
    },
    "colab": {
      "provenance": [],
      "include_colab_link": true
    }
  },
  "nbformat": 4,
  "nbformat_minor": 0
}