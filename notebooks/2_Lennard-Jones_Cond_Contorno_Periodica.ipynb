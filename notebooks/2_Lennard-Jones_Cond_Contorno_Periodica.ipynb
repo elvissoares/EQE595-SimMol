{
  "cells": [
    {
      "cell_type": "markdown",
      "metadata": {
        "id": "view-in-github",
        "colab_type": "text"
      },
      "source": [
        "<a href=\"https://colab.research.google.com/github/elvissoares/EQE595-SimMol/blob/main/notebooks/2_Lennard-Jones_Cond_Contorno_Periodica.ipynb\" target=\"_parent\"><img src=\"https://colab.research.google.com/assets/colab-badge.svg\" alt=\"Open In Colab\"/></a>"
      ]
    },
    {
      "cell_type": "markdown",
      "metadata": {
        "id": "dfnULE35Rkkc"
      },
      "source": [
        "# Aula Prática 02 - Interação de Lennard-Jones e Condição de Contorno Periódica\n",
        "\n",
        "Autor: [Prof. Elvis do A. Soares](https://github.com/elvissoares)\n",
        "\n",
        "Contato: [elvis@peq.coppe.ufrj.br](mailto:elvis@peq.coppe.ufrj.br) - [Programa de Engenharia Química, PEQ/COPPE, UFRJ, Brasil](https://www.peq.coppe.ufrj.br/)\n",
        "\n",
        "---"
      ]
    },
    {
      "cell_type": "code",
      "execution_count": null,
      "metadata": {
        "id": "jbfp8iWbRkkc"
      },
      "outputs": [],
      "source": [
        "# Autor: Elvis do A. Soares\n",
        "# Github: @elvissoares\n",
        "import numpy as np\n",
        "import matplotlib.pyplot as plt"
      ]
    },
    {
      "cell_type": "markdown",
      "metadata": {
        "id": "KTDq3vxURkkd"
      },
      "source": [
        "## Interação de Lennard-Jones\n",
        "\n",
        "Para duas partículas interagindo, o potencial de interação Lennard-Jones é dada por\n",
        "\n",
        "$$u(r) = 4\\epsilon\\left[ \\left(\\frac{\\sigma}{r} \\right)^{12}-\\left(\\frac{\\sigma}{r} \\right)^{6}\\right] $$\n",
        "\n",
        "com\n",
        "- $r$: distância entre partículas\n",
        "- $\\epsilon$: energia de interação atrativa;\n",
        "- $\\sigma$: distância de aproximação mínima."
      ]
    },
    {
      "cell_type": "markdown",
      "metadata": {
        "id": "Z3TOQFTMRkkd"
      },
      "source": [
        "**<span style=\"color:#A03;font-size:14pt\">\n",
        "&#x270B; HANDS-ON! &#x1F528;\n",
        "</span>**\n",
        "\n",
        "> Implemente a função que calcula a interação de LJ entre duas partículas"
      ]
    },
    {
      "cell_type": "code",
      "execution_count": null,
      "metadata": {
        "id": "4oPGr8jHRkkd"
      },
      "outputs": [],
      "source": [
        "def ulj(r,epsilon=1.0,sigma=1.0): # define função com valores default para epsilon e sigma\n",
        "\n",
        "    return ..."
      ]
    },
    {
      "cell_type": "code",
      "execution_count": null,
      "metadata": {
        "id": "Sz-p0rd7Rkkd"
      },
      "outputs": [],
      "source": [
        "def ulj(r,epsilon=1.0,sigma=1.0):\n",
        "    sigma_r_6 = (sigma/r)**6\n",
        "    return 4*epsilon*(sigma_r_6**2-sigma_r_6)"
      ]
    },
    {
      "cell_type": "markdown",
      "metadata": {
        "id": "dnFd3wSORkkd"
      },
      "source": [
        "Gráfico do potencial de interação"
      ]
    },
    {
      "cell_type": "code",
      "execution_count": null,
      "metadata": {
        "id": "xtQ94l2YRkkd"
      },
      "outputs": [],
      "source": [
        "r = np.arange(0.01,5,0.01)\n",
        "\n",
        "plt.plot(r,ulj(r))\n",
        "# limite dos eixos\n",
        "plt.ylim(-1,1)\n",
        "plt.xlim(0,5)\n",
        "\n",
        "# nome dos eixos\n",
        "plt.xlabel(r'$r$')\n",
        "plt.ylabel(r'$u(r)$')"
      ]
    },
    {
      "cell_type": "markdown",
      "metadata": {
        "id": "Q3NkU6ypRkkd"
      },
      "source": [
        "## 3 partículas interagindo"
      ]
    },
    {
      "cell_type": "code",
      "execution_count": null,
      "metadata": {
        "id": "bsY-8THKRkkd"
      },
      "outputs": [],
      "source": [
        "# triângulo equilatero de tamanho l\n",
        "l = 1.5\n",
        "\n",
        "r1 = np.array([0.0,0.0]) # posição x e y\n",
        "r2 = np.array([l,0.0])\n",
        "r3 = np.array([l/2,l*np.sqrt(3)/2])"
      ]
    },
    {
      "cell_type": "markdown",
      "metadata": {
        "id": "-cKsTXGXRkkd"
      },
      "source": [
        "Gráfico das 3 partículas"
      ]
    },
    {
      "cell_type": "code",
      "execution_count": null,
      "metadata": {
        "id": "674dnoVGRkke"
      },
      "outputs": [],
      "source": [
        "plt.figure(figsize=(5,5)) # faz com que a figura seja quadrada\n",
        "plt.plot(r1[0],r1[1],'o',ms=10.0,alpha=0.5)\n",
        "plt.plot(r2[0],r2[1],'o',ms=10.0,alpha=0.5)\n",
        "plt.plot(r3[0],r3[1],'o',ms=10.0,alpha=0.5)\n",
        "\n",
        "# plt.xlim(0,l)\n",
        "# plt.ylim(0,l)\n",
        "\n",
        "plt.xlabel('x')\n",
        "plt.ylabel('y')"
      ]
    },
    {
      "cell_type": "markdown",
      "metadata": {
        "id": "XGf54MA6Rkke"
      },
      "source": [
        "Calculando distâncias"
      ]
    },
    {
      "cell_type": "code",
      "execution_count": null,
      "metadata": {
        "id": "u6lr3qmtRkke"
      },
      "outputs": [],
      "source": [
        "r2-r1"
      ]
    },
    {
      "cell_type": "code",
      "execution_count": null,
      "metadata": {
        "id": "Mwv1MiD-Rkke"
      },
      "outputs": [],
      "source": [
        "np.linalg.norm(r2-r1)"
      ]
    },
    {
      "cell_type": "code",
      "execution_count": null,
      "metadata": {
        "id": "nizocvHDRkke"
      },
      "outputs": [],
      "source": [
        "r3-r1"
      ]
    },
    {
      "cell_type": "code",
      "execution_count": null,
      "metadata": {
        "id": "MAp-lf51Rkke"
      },
      "outputs": [],
      "source": [
        "np.linalg.norm(r3-r1)"
      ]
    },
    {
      "cell_type": "code",
      "execution_count": null,
      "metadata": {
        "id": "aDqgyFfRRkke"
      },
      "outputs": [],
      "source": [
        "r3-r2"
      ]
    },
    {
      "cell_type": "code",
      "execution_count": null,
      "metadata": {
        "id": "m85VXJh6Rkke"
      },
      "outputs": [],
      "source": [
        "np.linalg.norm(r3-r2)"
      ]
    },
    {
      "cell_type": "markdown",
      "metadata": {
        "id": "XIoJ2WbuRkke"
      },
      "source": [
        "Calculando energia entre pares"
      ]
    },
    {
      "cell_type": "code",
      "execution_count": null,
      "metadata": {
        "id": "nVZ_tlEvRkke"
      },
      "outputs": [],
      "source": [
        "u12 = ..."
      ]
    },
    {
      "cell_type": "code",
      "execution_count": null,
      "metadata": {
        "id": "-teqoVgXRkke"
      },
      "outputs": [],
      "source": [
        "u13 = ..."
      ]
    },
    {
      "cell_type": "code",
      "execution_count": null,
      "metadata": {
        "id": "3WE1lNzaRkke"
      },
      "outputs": [],
      "source": [
        "u23 = ..."
      ]
    },
    {
      "cell_type": "markdown",
      "metadata": {
        "id": "knHeuY_iRkke"
      },
      "source": [
        "Energia total"
      ]
    },
    {
      "cell_type": "code",
      "execution_count": null,
      "metadata": {
        "id": "lmlslpTDRkke"
      },
      "outputs": [],
      "source": [
        "Utot = u12 + u13 + u23"
      ]
    },
    {
      "cell_type": "markdown",
      "metadata": {
        "id": "0NNomQKFRkke"
      },
      "source": [
        "**<span style=\"color:#A03;font-size:14pt\">\n",
        "&#x270B; HANDS-ON! &#x1F528;\n",
        "</span>**\n",
        "\n",
        "> Crie uma função que distribua as 3 partículas num triângulo de lado $l$ e calcule a energia total de LJ"
      ]
    },
    {
      "cell_type": "code",
      "execution_count": null,
      "metadata": {
        "id": "KyYAt8SiRkke"
      },
      "outputs": [],
      "source": [
        "def triangulo(l):\n",
        "\n",
        "    return ..."
      ]
    },
    {
      "cell_type": "markdown",
      "metadata": {
        "id": "xLdvaQxFRkke"
      },
      "source": [
        "**<span style=\"color:#A03;font-size:14pt\">\n",
        "&#x270B; HANDS-ON! &#x1F528;\n",
        "</span>**\n",
        "\n",
        "> Varie o comprimento $l$ e determine qual o valor para que a energia total seja mínima"
      ]
    },
    {
      "cell_type": "code",
      "execution_count": null,
      "metadata": {
        "id": "SP53Lnr0Rkke"
      },
      "outputs": [],
      "source": []
    },
    {
      "cell_type": "markdown",
      "metadata": {
        "id": "oNdZXALFRkke"
      },
      "source": [
        "## Energia total de várias partículas"
      ]
    },
    {
      "cell_type": "markdown",
      "metadata": {
        "id": "ivjg7Zw8Rkke"
      },
      "source": [
        "No caso de termos $N$ partículas, podemos calcular a energia total como sendo\n",
        "\n",
        "$$U = \\frac{1}{2}\\sum_{i=1}^N \\sum_{j \\neq i}^N u(r_{ij})$$\n",
        "\n",
        "com\n",
        "- $r_{ij} = |\\boldsymbol{r}_i - \\boldsymbol{r}_j|$: distância entre as duas partículas\n",
        "\n"
      ]
    },
    {
      "cell_type": "markdown",
      "metadata": {
        "id": "W4bLSq_xRkke"
      },
      "source": [
        "**<span style=\"color:#A03;font-size:14pt\">\n",
        "&#x270B; HANDS-ON! &#x1F528;\n",
        "</span>**\n",
        "\n",
        "> Mostre que para 3 partículas a energia total se reduz ao calculado no item anterior"
      ]
    },
    {
      "cell_type": "code",
      "execution_count": null,
      "metadata": {
        "id": "c3rKG7w1Rkke"
      },
      "outputs": [],
      "source": []
    },
    {
      "cell_type": "markdown",
      "metadata": {
        "id": "B1Joi5tsRkke"
      },
      "source": [
        "## Partículas em uma rede quadrada 2D"
      ]
    },
    {
      "cell_type": "markdown",
      "metadata": {
        "id": "QlujIjfIRkkf"
      },
      "source": [
        "Número de partículas"
      ]
    },
    {
      "cell_type": "code",
      "execution_count": null,
      "metadata": {
        "id": "dAD9Vae2Rkkf"
      },
      "outputs": [],
      "source": [
        "Nparticles = 36"
      ]
    },
    {
      "cell_type": "markdown",
      "metadata": {
        "id": "PtBJWtS3Rkkf"
      },
      "source": [
        "Tamanho da rede"
      ]
    },
    {
      "cell_type": "code",
      "execution_count": null,
      "metadata": {
        "id": "Wk79cDCSRkkf"
      },
      "outputs": [],
      "source": [
        "L = 10.0"
      ]
    },
    {
      "cell_type": "markdown",
      "metadata": {
        "id": "n8klTAxURkkf"
      },
      "source": [
        "Vamos distribuir as partículas de forma uniforme ao longo da caixa usando a função `meshgrid`"
      ]
    },
    {
      "cell_type": "code",
      "execution_count": null,
      "metadata": {
        "id": "fPPzDh5_Rkkf"
      },
      "outputs": [],
      "source": [
        "# Número de pontos em x e y\n",
        "Nx = int(np.sqrt(Nparticles))\n",
        "Ny = int(np.sqrt(Nparticles))\n",
        "# ou seja, Nx.Ny = Nparticles\n",
        "\n",
        "# Espaçamento entre os átomos\n",
        "dx = L/Nx\n",
        "dy = L/Ny\n",
        "\n",
        "# Posições possíveis em x e y\n",
        "xarray = np.arange(0.5*dx,L,dx)\n",
        "yarray = np.arange(0.5*dy,L,dy)\n",
        "\n",
        "# Cria uma grid em 2D\n",
        "X,Y = np.meshgrid(xarray,yarray,indexing='ij')\n",
        "\n",
        "# Colocando as partículas em suas posições\n",
        "x0 = X.flatten()\n",
        "y0 = Y.flatten()\n",
        "\n",
        "# Array com posições das partículas\n",
        "r = np.zeros((Nparticles,2))\n",
        "r[:,0] = x0\n",
        "r[:,1] = y0"
      ]
    },
    {
      "cell_type": "markdown",
      "metadata": {
        "id": "3P6b_utMRkkf"
      },
      "source": [
        "Figuras com as posições das partículas"
      ]
    },
    {
      "cell_type": "code",
      "execution_count": null,
      "metadata": {
        "id": "3chFbPqyRkkf"
      },
      "outputs": [],
      "source": [
        "plt.figure(figsize=(5,5)) # faz com que a figura seja quadrada\n",
        "plt.plot(r[:,0],r[:,1],'o',ms=10.0,alpha=0.5)\n",
        "\n",
        "plt.xlim(0,L)\n",
        "plt.ylim(0,L)\n",
        "\n",
        "plt.xlabel('x')\n",
        "plt.ylabel('y')"
      ]
    },
    {
      "cell_type": "markdown",
      "metadata": {
        "id": "-ebQWegeRkkf"
      },
      "source": [
        "**<span style=\"color:#A03;font-size:14pt\">\n",
        "&#x270B; HANDS-ON! &#x1F528;\n",
        "</span>**\n",
        "\n",
        "> Crie a função que calcula a interação entre todas as partículas da rede quadrada"
      ]
    },
    {
      "cell_type": "code",
      "execution_count": null,
      "metadata": {
        "id": "srZxHDajRkkf"
      },
      "outputs": [],
      "source": [
        "def interacao_total(r,epsilon=1.0,sigma=1.0):\n",
        "\n",
        "    return ..."
      ]
    },
    {
      "cell_type": "code",
      "execution_count": null,
      "metadata": {
        "id": "PN3IavKlRkkf"
      },
      "outputs": [],
      "source": [
        "def interacao_total(r,epsilon=1.0,sigma=1.0):\n",
        "    U = 0.0\n",
        "    for i in range(Nparticles):\n",
        "        for j in range(i+1,Nparticles):\n",
        "            # calcula distancia entre duas particulas\n",
        "            rij = np.linalg.norm(r[i]-r[j])\n",
        "            # calcula energia interna\n",
        "            U += ulj(rij,epsilon,sigma)\n",
        "    return U"
      ]
    },
    {
      "cell_type": "markdown",
      "metadata": {
        "id": "3pTBiI-_Rkkg"
      },
      "source": [
        "Valor da interação total"
      ]
    },
    {
      "cell_type": "code",
      "execution_count": null,
      "metadata": {
        "id": "cDzJGc9zRkkg"
      },
      "outputs": [],
      "source": [
        "interacao_total(r,epsilon=1.0,sigma=1.0)"
      ]
    },
    {
      "cell_type": "markdown",
      "metadata": {
        "id": "fmExnbjURkkg"
      },
      "source": [
        "## Raio de corte (cutoff)"
      ]
    },
    {
      "cell_type": "markdown",
      "metadata": {
        "id": "LeY7VaHYRkkg"
      },
      "source": [
        "Podemos definir uma distãncia máxima `rcut` (um cutoff) tal que a interação de LJ seja nula a partir dela, ou seja, $ u(r) = 0$ se $ r> r_\\text{cut}$."
      ]
    },
    {
      "cell_type": "code",
      "execution_count": null,
      "metadata": {
        "id": "LPL4ZcBvRkkg"
      },
      "outputs": [],
      "source": [
        "rcut = 2.5"
      ]
    },
    {
      "cell_type": "code",
      "execution_count": null,
      "metadata": {
        "id": "OeE1cpcmRkkg"
      },
      "outputs": [],
      "source": [
        "def interacao_total_cutoff(r,epsilon=1.0,sigma=1.0,rcut=2.5):\n",
        "    U = 0.0\n",
        "    for i in range(Nparticles):\n",
        "        for j in range(i+1,Nparticles):\n",
        "            # calcula distancia entre duas particulas\n",
        "            rij = np.linalg.norm(r[i]-r[j])\n",
        "            if rij < rcut:\n",
        "                # calcula energia interna\n",
        "                U += ulj(rij,epsilon,sigma)\n",
        "    return U"
      ]
    },
    {
      "cell_type": "markdown",
      "metadata": {
        "id": "XhuZtC-JRkkg"
      },
      "source": [
        "Valor da interação com cutoff"
      ]
    },
    {
      "cell_type": "code",
      "execution_count": null,
      "metadata": {
        "id": "ZoAfucSeRkkg"
      },
      "outputs": [],
      "source": [
        "interacao_total_cutoff(r,epsilon=1.0,sigma=1.0)"
      ]
    },
    {
      "cell_type": "markdown",
      "metadata": {
        "id": "L-XCJ457Rkkg"
      },
      "source": [
        "## Condição de Contorno Períodica\n",
        "\n",
        "![pbc.png](data:image/png;base64,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)\n",
        "\n",
        "- Se x<0 faremos $ x = x + L$\n",
        "\n",
        "- Se x>L faremos $ x = x- L$"
      ]
    },
    {
      "cell_type": "code",
      "execution_count": null,
      "metadata": {
        "id": "bWWTF7IuRkkg"
      },
      "outputs": [],
      "source": [
        "def pbc(x,L):\n",
        "    if x < 0:\n",
        "        xnew = x + L\n",
        "    elif x > L:\n",
        "        xnew = x - L\n",
        "    else:\n",
        "        xnew = x\n",
        "    return xnew"
      ]
    },
    {
      "cell_type": "code",
      "execution_count": null,
      "metadata": {
        "id": "N2RU3TKVRkkg"
      },
      "outputs": [],
      "source": [
        "pbc(15.0,L) # fora da caixa pela direita"
      ]
    },
    {
      "cell_type": "code",
      "execution_count": null,
      "metadata": {
        "id": "xmyWbx6ZRkkg"
      },
      "outputs": [],
      "source": [
        "pbc(-10.0,L) # fora da caixa pela esquerda"
      ]
    },
    {
      "cell_type": "code",
      "execution_count": null,
      "metadata": {
        "id": "RM54zJx2Rkkg"
      },
      "outputs": [],
      "source": [
        "pbc(5.0,L) # dentro da caixa"
      ]
    },
    {
      "cell_type": "markdown",
      "metadata": {
        "id": "xHswA7bbRkkg"
      },
      "source": [
        "Função `rint` faz o mesmo trabalho"
      ]
    },
    {
      "cell_type": "code",
      "execution_count": null,
      "metadata": {
        "id": "TFQU6YvoRkkg"
      },
      "outputs": [],
      "source": [
        "15.0 - np.rint(15.0/L)*L"
      ]
    },
    {
      "cell_type": "code",
      "execution_count": null,
      "metadata": {
        "id": "fIFzvrWpRkkg"
      },
      "outputs": [],
      "source": [
        "-10.0 - np.rint(-10.0/L)*L"
      ]
    },
    {
      "cell_type": "markdown",
      "metadata": {
        "id": "DDo0GsblRkkg"
      },
      "source": [
        "Incluindo a condição de contorno periódica"
      ]
    },
    {
      "cell_type": "code",
      "execution_count": null,
      "metadata": {
        "id": "DxDxZJDNRkkg"
      },
      "outputs": [],
      "source": [
        "def interacao_total_cutoff_pbc(r,epsilon=1.0,sigma=1.0,rcut=2.5):\n",
        "    U = 0.0\n",
        "    for i in range(Nparticles):\n",
        "        for j in range(i+1,Nparticles):\n",
        "            rij = r[i]-r[j]\n",
        "            # aplicando pbc\n",
        "            rij[0] -= np.rint(rij[0]/L)*L # em x\n",
        "            rij[1] -= np.rint(rij[1]/L)*L # em y\n",
        "            # calcula distancia entre duas particulas\n",
        "            rij_norm = np.linalg.norm(rij)\n",
        "            if rij_norm < rcut:\n",
        "                # calcula energia interna\n",
        "                U += ulj(rij_norm,epsilon,sigma)\n",
        "    return U"
      ]
    },
    {
      "cell_type": "code",
      "execution_count": null,
      "metadata": {
        "id": "gRquKoU6Rkkg"
      },
      "outputs": [],
      "source": [
        "interacao_total_cutoff_pbc(r,epsilon=1.0,sigma=1.0,rcut=2.5)"
      ]
    },
    {
      "cell_type": "markdown",
      "metadata": {
        "id": "nHM_9WAWRkkg"
      },
      "source": [
        "**<span style=\"color:#A03;font-size:14pt\">\n",
        "&#x270B; HANDS-ON! &#x1F528;\n",
        "</span>**\n",
        "\n",
        "> Crie uma função que calcule a energia do sistema mudando o tamanho da rede quadrada $L$;\n",
        "\n",
        "> Faça um gráfico de $U$ como função de $L$"
      ]
    },
    {
      "cell_type": "code",
      "execution_count": null,
      "metadata": {
        "id": "XuFoHbpoRkkg"
      },
      "outputs": [],
      "source": []
    },
    {
      "cell_type": "markdown",
      "metadata": {
        "id": "2sX7XOPtRkkg"
      },
      "source": [
        "## Calculando Forças entre Partículas"
      ]
    },
    {
      "cell_type": "markdown",
      "metadata": {
        "id": "RQmQzKC1Rkkh"
      },
      "source": [
        "Vamos calcular a força total que atua sobre a partícula $i$ a partir do gradiente da energia potencial\n",
        "\n",
        "$$ \\boldsymbol{F}_i = - \\nabla_i U_{int} = - \\frac{1}{2}\\sum_{k} \\sum_{j \\neq k} \\frac{\\partial u(r_{kj})}{\\partial r_{kj}} \\frac{\\partial r_{kj}}{\\partial \\boldsymbol{r}_i}=-\\frac{1}{2}\\sum_{k} \\sum_{j \\neq k} \\frac{\\partial u(r_{kj})}{\\partial r_{kj}} \\frac{(\\delta_{ki}-\\delta_{ij})(\\boldsymbol{r}_k -\\boldsymbol{r}_j)}{ |\\boldsymbol{r}_k-\\boldsymbol{r}_j|}$$\n",
        "\n",
        "de modo que\n",
        "\n",
        "$$ \\boldsymbol{F}_i = -\\sum_{j \\neq i} \\frac{\\partial u(r_{ij})}{\\partial r_{ij}} \\frac{\\boldsymbol{r}_{ij}}{ \\boldsymbol{r}_{ij}}$$\n",
        "\n",
        "com $\\boldsymbol{r}_{ij} = \\boldsymbol{r}_{i} - \\boldsymbol{r}_{j}$ sendo o vetor posição relativa da partícula $i$ vista da partícula $j$."
      ]
    },
    {
      "cell_type": "markdown",
      "metadata": {
        "id": "3NUU6uAWRkkh"
      },
      "source": [
        "**<span style=\"color:#A03;font-size:14pt\">\n",
        "&#x270B; HANDS-ON! &#x1F528;\n",
        "</span>**\n",
        "\n",
        "> Implemente a função que calcula a derivada do potencial de LJ:  $ \\frac{\\partial u(r)}{\\partial r}$"
      ]
    },
    {
      "cell_type": "code",
      "execution_count": null,
      "metadata": {
        "id": "5pBkPK-aRkkh"
      },
      "outputs": [],
      "source": [
        "def duljdr(r,epsilon=1.0,sigma=1.0):\n",
        "    return ..."
      ]
    },
    {
      "cell_type": "code",
      "execution_count": null,
      "metadata": {
        "id": "ex9n1H0dRkkh"
      },
      "outputs": [],
      "source": [
        "def duljdr(r,epsilon=1.0,sigma=1.0):\n",
        "    return -4*epsilon*((12*(sigma/r)**12-6*(sigma/r)**6)/r)"
      ]
    },
    {
      "cell_type": "markdown",
      "metadata": {
        "id": "4suwR-GJRkkh"
      },
      "source": [
        "Função que calcula energia e aceleração de LJ"
      ]
    },
    {
      "cell_type": "code",
      "execution_count": null,
      "metadata": {
        "id": "D3D61WoERkkh"
      },
      "outputs": [],
      "source": [
        "def lennardjones2d(r,epsilon=1.0,sigma=1.0,rcut=2.5):\n",
        "    U = 0.0\n",
        "    a = np.zeros((Nparticles,2))\n",
        "    for i in range(Nparticles):\n",
        "        for j in range(i+1,Nparticles):\n",
        "            rij = r[i]-r[j]\n",
        "            # aplicando pbc\n",
        "            rij[0] -= np.rint(rij[0]/L)*L # em x\n",
        "            rij[1] -= np.rint(rij[1]/L)*L # em y\n",
        "            # calcula distancia entre duas particulas\n",
        "            rij_norm = np.linalg.norm(rij)\n",
        "            if rij_norm < rcut:\n",
        "                # calcula energia interna\n",
        "                U += ulj(rij_norm,epsilon,sigma)\n",
        "                # calcula a derivada do potencial\n",
        "                dudr = duljdr(rij_norm,epsilon,sigma)\n",
        "                # calcula aceleração na particula i\n",
        "                a[i][0] += -dudr*rij[0]/rij_norm\n",
        "                a[i][1] += -dudr*rij[1]/rij_norm\n",
        "                # calcula aceleração na particula j usando 3ª Lei de Newton\n",
        "                a[j][0] += dudr*rij[0]/rij_norm\n",
        "                a[j][1] += dudr*rij[1]/rij_norm\n",
        "    return U, a"
      ]
    },
    {
      "cell_type": "code",
      "execution_count": null,
      "metadata": {
        "id": "PWCHLEXGRkkh"
      },
      "outputs": [],
      "source": [
        "U,a = lennardjones2d(r)\n",
        "\n",
        "U, a"
      ]
    },
    {
      "cell_type": "markdown",
      "metadata": {
        "id": "4Md-8Z5-Rkkh"
      },
      "source": [
        "## Especificando a partícula\n",
        "\n",
        "**Ex:** Para Ar (argônio) temos\n",
        "- $\\sigma = 3,4\\ \\AA$\n",
        "- $\\epsilon/k_B = 119,8$ K"
      ]
    },
    {
      "cell_type": "code",
      "execution_count": null,
      "metadata": {
        "id": "sziyum6iRkkh"
      },
      "outputs": [],
      "source": [
        "sigma = 3.4 # em Angstrom\n",
        "epsilon = 119.8 # em Kelvin"
      ]
    },
    {
      "cell_type": "code",
      "execution_count": null,
      "metadata": {
        "id": "9SL_60JgRkkh"
      },
      "outputs": [],
      "source": [
        "U, a = ..."
      ]
    },
    {
      "cell_type": "markdown",
      "metadata": {
        "id": "BbFPmILoRkkh"
      },
      "source": [
        "## Generalizando para 3D"
      ]
    },
    {
      "cell_type": "markdown",
      "metadata": {
        "id": "ZvnaxfHzRkkh"
      },
      "source": [
        "Definindo o número de partículas"
      ]
    },
    {
      "cell_type": "code",
      "execution_count": null,
      "metadata": {
        "id": "yKuPtguKRkkh"
      },
      "outputs": [],
      "source": [
        "Nparticles = 216"
      ]
    },
    {
      "cell_type": "markdown",
      "metadata": {
        "id": "ikaeHfiVRkkh"
      },
      "source": [
        "Colocando as partículas em posições numa rede cúbica"
      ]
    },
    {
      "cell_type": "code",
      "execution_count": null,
      "metadata": {
        "id": "7OlLFZSsRkkh"
      },
      "outputs": [],
      "source": [
        "def rede_cubica(Nparticles, L):\n",
        "    # array como posições das partículas\n",
        "    r = np.zeros((Nparticles,3))\n",
        "    # Número de pontos em x e y\n",
        "    Nx = Ny = Nz = int(np.ceil(np.power(Nparticles,1/3.0)))\n",
        "\n",
        "    # Espaçamento entre os átomos\n",
        "    dx = L/Nx\n",
        "    dy = L/Ny\n",
        "    dz = L/Nz\n",
        "\n",
        "    # Posições possíveis em x e y\n",
        "    id = 0\n",
        "    for i in range(Nx):\n",
        "        for j in range(Ny):\n",
        "            for k in range(Nz):\n",
        "                if (id < Nparticles):\n",
        "                    r[id][0] = (i+0.5)*dx\n",
        "                    r[id][1] = (j+0.5)*dy\n",
        "                    r[id][2] = (k+0.5)*dz\n",
        "                    id +=1\n",
        "    return r"
      ]
    },
    {
      "cell_type": "code",
      "execution_count": null,
      "metadata": {
        "id": "SpcuhFciRkkh"
      },
      "outputs": [],
      "source": [
        "r = rede_cubica(Nparticles,L)"
      ]
    },
    {
      "cell_type": "code",
      "execution_count": null,
      "metadata": {
        "id": "V4WMBQ0_Rkkh"
      },
      "outputs": [],
      "source": [
        "def lennardjones3d(r,epsilon=1.0,sigma=1.0,rcut=2.5):\n",
        "    U = 0.0\n",
        "    a = np.zeros((Nparticles,3))\n",
        "    for i in range(Nparticles):\n",
        "        for j in range(i+1,Nparticles):\n",
        "            rij = r[i]-r[j]\n",
        "            # aplicando pbc\n",
        "            rij[0] -= np.rint(rij[0]/L)*L # em x\n",
        "            rij[1] -= np.rint(rij[1]/L)*L # em y\n",
        "            rij[2] -= np.rint(rij[2]/L)*L # em z\n",
        "            # calcula distancia entre duas particulas\n",
        "            rij_norm = np.linalg.norm(rij)\n",
        "            if rij_norm < rcut:\n",
        "                # calcula energia interna\n",
        "                U += ulj(rij_norm,epsilon,sigma)\n",
        "                # calcula a derivada do potencial\n",
        "                dudr = duljdr(rij_norm,epsilon,sigma)\n",
        "                # calcula aceleração na particula i\n",
        "                a[i][0] += -dudr*rij[0]/rij_norm\n",
        "                a[i][1] += -dudr*rij[1]/rij_norm\n",
        "                a[i][2] += -dudr*rij[2]/rij_norm\n",
        "                # calcula aceleração na particula j usando 3ª Lei de Newton\n",
        "                a[j][0] += dudr*rij[0]/rij_norm\n",
        "                a[j][1] += dudr*rij[1]/rij_norm\n",
        "                a[j][2] += dudr*rij[2]/rij_norm\n",
        "    return U, a"
      ]
    },
    {
      "cell_type": "markdown",
      "metadata": {
        "id": "cXu-OFyyRkkh"
      },
      "source": [
        "Calcula a energia e as acelerações"
      ]
    },
    {
      "cell_type": "code",
      "execution_count": null,
      "metadata": {
        "id": "qJJpiHYnRkkh"
      },
      "outputs": [],
      "source": [
        "U0, a0 = lennardjones3d(r,epsilon,sigma)"
      ]
    },
    {
      "cell_type": "code",
      "execution_count": null,
      "metadata": {
        "id": "1i-hu_X8Rkkh"
      },
      "outputs": [],
      "source": [
        "U0"
      ]
    },
    {
      "cell_type": "markdown",
      "metadata": {
        "id": "pr8iVqz5Rkkh"
      },
      "source": [
        "**<span style=\"color:#A03;font-size:14pt\">\n",
        "&#x270B; HANDS-ON! &#x1F528;\n",
        "</span>**\n",
        "\n",
        "> Implemente uma função que calcula a energia de LJ para a rede cúbica e calcule para vários valores de tamanho da rede $L$.\n",
        "\n",
        "> Faça um gráfico de $U$ como função de $L$"
      ]
    },
    {
      "cell_type": "code",
      "execution_count": null,
      "metadata": {
        "id": "hX1P4wIQRkkh"
      },
      "outputs": [],
      "source": []
    }
  ],
  "metadata": {
    "kernelspec": {
      "display_name": "Python 3",
      "language": "python",
      "name": "python3"
    },
    "language_info": {
      "codemirror_mode": {
        "name": "ipython",
        "version": 3
      },
      "file_extension": ".py",
      "mimetype": "text/x-python",
      "name": "python",
      "nbconvert_exporter": "python",
      "pygments_lexer": "ipython3",
      "version": "3.13.6"
    },
    "colab": {
      "provenance": [],
      "include_colab_link": true
    }
  },
  "nbformat": 4,
  "nbformat_minor": 0
}