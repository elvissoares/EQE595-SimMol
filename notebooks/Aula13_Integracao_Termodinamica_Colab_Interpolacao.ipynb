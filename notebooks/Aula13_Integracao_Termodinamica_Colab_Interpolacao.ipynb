{
  "cells": [
    {
      "cell_type": "markdown",
      "metadata": {
        "id": "zka-Ixpo66Mi"
      },
      "source": [
        "Instalando condacolab"
      ]
    },
    {
      "cell_type": "code",
      "execution_count": null,
      "metadata": {
        "colab": {
          "base_uri": "https://localhost:8080/"
        },
        "id": "wXBO1Nk62j38",
        "outputId": "be9caa26-05c4-43ee-f4e4-56d80e30db2b"
      },
      "outputs": [],
      "source": [
        "!pip install -q condacolab\n",
        "import condacolab\n",
        "condacolab.install()"
      ]
    },
    {
      "cell_type": "code",
      "execution_count": null,
      "metadata": {
        "colab": {
          "base_uri": "https://localhost:8080/"
        },
        "id": "Ra0EaqPD3UQk",
        "outputId": "db0748f0-5df5-4448-8d9c-c6bcf9d60d52"
      },
      "outputs": [],
      "source": [
        "import condacolab\n",
        "condacolab.check()"
      ]
    },
    {
      "cell_type": "markdown",
      "metadata": {
        "id": "vQ85YOwN6-Fh"
      },
      "source": [
        "Instalando OpenMM e OpenMMTools"
      ]
    },
    {
      "cell_type": "code",
      "execution_count": null,
      "metadata": {
        "id": "cXjru4R_3Xq8"
      },
      "outputs": [],
      "source": [
        "!mamba install -q openmm cudatoolkit=11.8 numpy>=2.0"
      ]
    },
    {
      "cell_type": "code",
      "execution_count": null,
      "metadata": {},
      "outputs": [],
      "source": [
        "!mamba install -q openmmtools"
      ]
    },
    {
      "cell_type": "code",
      "execution_count": null,
      "metadata": {
        "id": "o1933zsT2YO3"
      },
      "outputs": [],
      "source": [
        "# Autor: Elvis do A. Soares\n",
        "# Github: @elvissoares\n",
        "from sys import stdout\n",
        "import numpy as np\n",
        "import pandas as pd\n",
        "import matplotlib.pyplot as plt"
      ]
    },
    {
      "cell_type": "markdown",
      "metadata": {
        "id": "ug93NOyI2YO4"
      },
      "source": [
        "# Integração Termodinâmica\n"
      ]
    },
    {
      "cell_type": "code",
      "execution_count": null,
      "metadata": {
        "id": "EFeaOtmk2YO4"
      },
      "outputs": [],
      "source": [
        "from openmm.app import *\n",
        "from openmm import *\n",
        "from openmm.unit import *"
      ]
    },
    {
      "cell_type": "markdown",
      "metadata": {
        "id": "EIy7VVSj2YO4"
      },
      "source": [
        "Qual molécula iremos simular?"
      ]
    },
    {
      "cell_type": "code",
      "execution_count": null,
      "metadata": {
        "id": "QaVpLcEo2YO5"
      },
      "outputs": [],
      "source": [
        "my_molecule = 'methane'"
      ]
    },
    {
      "cell_type": "markdown",
      "metadata": {
        "id": "JmOM4hai2YO5"
      },
      "source": [
        "Condição termodinâmica"
      ]
    },
    {
      "cell_type": "code",
      "execution_count": null,
      "metadata": {
        "id": "VNX90pxX2YO5"
      },
      "outputs": [],
      "source": [
        "Temperatura = 298.15 * kelvin # Temperatura em Kelvin\n",
        "Pressao = 1 * bar # Pressão em bar"
      ]
    },
    {
      "cell_type": "code",
      "execution_count": null,
      "metadata": {
        "id": "AyscHZhk2YO5"
      },
      "outputs": [],
      "source": [
        "pdb = PDBFile(f'{my_molecule}.pdb')"
      ]
    },
    {
      "cell_type": "markdown",
      "metadata": {
        "id": "4G9toN0r2YO5"
      },
      "source": [
        "Escolhendo os arquivos de campo de força OPLS-AA gerados pelo LibParGen"
      ]
    },
    {
      "cell_type": "code",
      "execution_count": null,
      "metadata": {
        "id": "cfn6KFc92YO5"
      },
      "outputs": [],
      "source": [
        "forcefield = ForceField(f'{my_molecule}.xml', 'tip3p.xml')\n",
        "forcefield.setUseGeometricCombinationRule=True # OPLS-AA usa combinação geométrica"
      ]
    },
    {
      "cell_type": "markdown",
      "metadata": {
        "id": "poamrLIN2YO5"
      },
      "source": [
        "Cria a topolgia com moléculas de água ao redor (solvente)"
      ]
    },
    {
      "cell_type": "code",
      "execution_count": null,
      "metadata": {
        "id": "7sc4WIYQ2YO5"
      },
      "outputs": [],
      "source": [
        "modeller = Modeller(pdb.topology, pdb.positions)\n",
        "\n",
        "modeller.addSolvent(forcefield,model='tip3p', padding= 9.61 * angstroms)\n",
        "\n",
        "PDBFile.writeFile(modeller.topology, modeller.positions, open(f'initial_{my_molecule}.pdb', 'w'))"
      ]
    },
    {
      "cell_type": "code",
      "execution_count": null,
      "metadata": {
        "id": "O0ZbptiS2YO5"
      },
      "outputs": [],
      "source": [
        "system = forcefield.createSystem(modeller.topology, nonbondedMethod=PME,\n",
        "        nonbondedCutoff=8.5*angstroms, constraints=HBonds)"
      ]
    },
    {
      "cell_type": "markdown",
      "metadata": {
        "id": "kxUzX1UN2YO5"
      },
      "source": [
        "### Configuração do Sistema Alquímico"
      ]
    },
    {
      "cell_type": "code",
      "execution_count": null,
      "metadata": {
        "colab": {
          "base_uri": "https://localhost:8080/"
        },
        "id": "rEAmQcAm2YO5",
        "outputId": "57d8d6cf-81ca-4d85-b0c7-5da5e4fedb60"
      },
      "outputs": [],
      "source": [
        "# Add alchemical lambda control to methane atoms\n",
        "from openmmtools import alchemy, states\n",
        "\n",
        "solute_atoms = [atom.index for atom in modeller.topology.atoms() if atom.residue.name == \"CH4\"]\n",
        "print(\"Solute atoms:\", solute_atoms)\n",
        "\n",
        "alchemical_region = alchemy.AlchemicalRegion(alchemical_atoms = solute_atoms)\n",
        "solute_system = alchemy.AbsoluteAlchemicalFactory().create_alchemical_system(system, alchemical_region)"
      ]
    },
    {
      "cell_type": "code",
      "execution_count": null,
      "metadata": {
        "id": "l2P362Uh2YO5"
      },
      "outputs": [],
      "source": [
        "# Plataforma (GPU se disponível)\n",
        "platform = Platform.getPlatformByName('CUDA')\n",
        "# platform = Platform.getPlatformByName('CPU')\n",
        "\n",
        "# Integrador\n",
        "integrator = LangevinMiddleIntegrator(Temperatura, 1/picosecond, 2*femtoseconds)\n",
        "simulation = Simulation(modeller.topology, solute_system, integrator, platform)"
      ]
    },
    {
      "cell_type": "code",
      "execution_count": null,
      "metadata": {
        "id": "amvKjhQk2YO5"
      },
      "outputs": [],
      "source": [
        "# below corresponds to fully interacting state\n",
        "simulation.context.setParameter('lambda_electrostatics', 1.0)\n",
        "simulation.context.setParameter('lambda_sterics', 1.0)"
      ]
    },
    {
      "cell_type": "code",
      "execution_count": null,
      "metadata": {
        "id": "AYmeTTN82YO6"
      },
      "outputs": [],
      "source": [
        "n_equil = 10000\n",
        "\n",
        "simulation.context.setPositions(modeller.positions)\n",
        "simulation.minimizeEnergy()\n",
        "\n",
        "simulation.context.setVelocitiesToTemperature(Temperatura)\n",
        "\n",
        "# Add a simple barostat for pressure control\n",
        "solute_system.addForce(MonteCarloBarostat(Pressao, Temperatura))\n",
        "\n",
        "# Equilibration\n",
        "simulation.step(n_equil)\n",
        "\n",
        "initial_positions = simulation.context.getState(getPositions=True).getPositions()"
      ]
    },
    {
      "cell_type": "markdown",
      "metadata": {
        "id": "cFrChSZU2YO6"
      },
      "source": [
        "### Loop de Integração Termodinâmica"
      ]
    },
    {
      "cell_type": "markdown",
      "metadata": {},
      "source": [
        "Somente interação eletrostática"
      ]
    },
    {
      "cell_type": "code",
      "execution_count": null,
      "metadata": {
        "colab": {
          "base_uri": "https://localhost:8080/"
        },
        "id": "hK5na0nI2YO6",
        "outputId": "7982ab57-8eee-4e18-c13e-4c8b9e9c81e1"
      },
      "outputs": [],
      "source": [
        "n_steps = 200 # passos de MD\n",
        "n_samples = 1000 # amostras da energia\n",
        "\n",
        "lambda_ele_grid = np.linspace(1.0, 0.0, 11)\n",
        "U_mean_ele = np.zeros_like(lambda_ele_grid)\n",
        "U_std_ele = np.zeros_like(lambda_ele_grid)\n",
        "\n",
        "for i, l in enumerate(lambda_ele_grid):\n",
        "    print('lambda:',l)\n",
        "\n",
        "    simulation.context.setPositions(initial_positions)\n",
        "    #define novo lambda a ser simulado\n",
        "    simulation.context.setParameter('lambda_electrostatics', l)\n",
        "\n",
        "    #equilibração para novo lambda\n",
        "    simulation.step(n_equil)\n",
        "\n",
        "    #produção para novo lambda\n",
        "    U_lambda = []\n",
        "    for iteration in range(n_samples):\n",
        "        simulation.step(n_steps)\n",
        "        e = simulation.context.getState(energy=True).getPotentialEnergy().value_in_unit(kilojoules_per_mole)\n",
        "        U_lambda.append(e)\n",
        "        # print(iteration,deriv)\n",
        "\n",
        "    U_mean_ele[i] = np.mean(np.array(U_lambda))\n",
        "    U_std_ele[i] = np.std(np.array(U_lambda))\n",
        "    print(f\"U_λ^ele: {U_mean_ele[i]:.4f} +- {U_std_ele[i]:.4f}\")"
      ]
    },
    {
      "cell_type": "code",
      "execution_count": null,
      "metadata": {
        "colab": {
          "base_uri": "https://localhost:8080/",
          "height": 448
        },
        "id": "QzAdYfo92YO6",
        "outputId": "6209b6ee-ff64-40f2-f77b-a37e5ba8d3f9"
      },
      "outputs": [],
      "source": [
        "plt.plot(lambda_ele_grid, U_mean_ele, marker='o', label='U_λ^ele')\n",
        "plt.fill_between(lambda_ele_grid, U_mean_ele - U_std_ele, U_mean_ele + U_std_ele, alpha=0.2)"
      ]
    },
    {
      "cell_type": "markdown",
      "metadata": {},
      "source": [
        "Somente interação dispersiva"
      ]
    },
    {
      "cell_type": "code",
      "execution_count": null,
      "metadata": {
        "colab": {
          "base_uri": "https://localhost:8080/"
        },
        "id": "owU3Ekj32YO6",
        "outputId": "20a2bd77-20bd-401c-af5a-8cb0ef7aada2"
      },
      "outputs": [],
      "source": [
        "lambda_steric_grid = np.linspace(1.0, 0.0, 11)\n",
        "U_mean_steric = np.zeros_like(lambda_steric_grid)\n",
        "U_std_steric = np.zeros_like(lambda_steric_grid)\n",
        "\n",
        "for i, l in enumerate(lambda_steric_grid):\n",
        "    print('lambda:',l)\n",
        "\n",
        "    simulation.context.setPositions(initial_positions)\n",
        "    simulation.context.setParameter('lambda_sterics', l)\n",
        "\n",
        "    simulation.step(n_equil)\n",
        "\n",
        "    # Collect U_λ data\n",
        "    U_lambda = []\n",
        "    for iteration in range(n_samples):\n",
        "        simulation.step(n_steps)\n",
        "        e = simulation.context.getState(energy=True).getPotentialEnergy().value_in_unit(kilojoules_per_mole)\n",
        "        U_lambda.append(e)\n",
        "\n",
        "    U_mean_steric[i] = np.mean(np.array(U_lambda))\n",
        "    U_std_steric[i] = np.std(np.array(U_lambda))\n",
        "    print(f\"U_λ^ste: {U_mean_steric[i]:.4f} +- {U_std_steric[i]:.4f}\")"
      ]
    },
    {
      "cell_type": "code",
      "execution_count": null,
      "metadata": {
        "colab": {
          "base_uri": "https://localhost:8080/",
          "height": 471
        },
        "id": "BFi9ttES2YO6",
        "outputId": "3b037e66-d87a-4509-abd5-d966ff584033"
      },
      "outputs": [],
      "source": [
        "plt.plot(lambda_steric_grid, U_mean_steric, marker='o', color='C1', label='U_λ^ste')\n",
        "plt.fill_between(lambda_steric_grid, U_mean_steric - U_std_steric, U_mean_steric + U_std_steric, color='C1', alpha=0.2)\n",
        "plt.xlabel('$\\lambda$')\n",
        "plt.ylabel('U_λ (kJ/mol)')"
      ]
    },
    {
      "cell_type": "markdown",
      "metadata": {
        "id": "5fNhZxJ4ULUY"
      },
      "source": [
        "Salvando dados em arquivo `.txt`"
      ]
    },
    {
      "cell_type": "code",
      "execution_count": null,
      "metadata": {
        "id": "ouO2jZVCSs_2"
      },
      "outputs": [],
      "source": [
        "# np.savetxt('lambda_electrostatic.txt', [lambda_ele_grid, U_mean_ele, U_std_ele])\n",
        "# np.savetxt('lambda_steric.txt', [lambda_steric_grid, U_mean_steric, U_std_steric])"
      ]
    },
    {
      "cell_type": "markdown",
      "metadata": {
        "id": "Cz2FbQY0UO22"
      },
      "source": [
        "Salvando dados em arquivo `.xls`"
      ]
    },
    {
      "cell_type": "code",
      "execution_count": null,
      "metadata": {
        "id": "wbaKBkwiUKOu"
      },
      "outputs": [],
      "source": [
        "df = pd.DataFrame()\n",
        "df['lambda_ele'] = lambda_ele_grid\n",
        "df['U_ele'] = U_mean_ele\n",
        "df['err U_ele'] = U_std_ele\n",
        "\n",
        "df['lambda_steric'] = lambda_steric_grid\n",
        "df['U_steric'] = U_mean_steric\n",
        "df['err U_steric'] = U_std_steric\n",
        "\n",
        "df.to_excel('integracao_termodinamica.xlsx',sheet_name='sim1', index=False)"
      ]
    },
    {
      "cell_type": "markdown",
      "metadata": {},
      "source": [
        "Vamos fitar uma função para descrever os pontos $U(\\lambda)$ como função de $\\lambda$"
      ]
    },
    {
      "cell_type": "code",
      "execution_count": null,
      "metadata": {
        "colab": {
          "base_uri": "https://localhost:8080/",
          "height": 448
        },
        "id": "98kcQY1b2YO6",
        "outputId": "9d5287f1-aef9-4eaa-bff9-45d14b7b5673"
      },
      "outputs": [],
      "source": [
        "from scipy.optimize import curve_fit\n",
        "\n",
        "# função para ajuste de curva\n",
        "def func(x, a, b, c):\n",
        "    return a * x**2 + b * x + c\n",
        "\n",
        "popt_ele, pcov_ele = curve_fit(func, lambda_ele_grid[::-1], U_mean_ele[::-1], sigma=U_std_ele[::-1])\n",
        "print(\"Parametros para U_mean_ele:\", popt_ele)\n",
        "\n",
        "popt_steric, pcov_steric = curve_fit(func, lambda_steric_grid[::-1], U_mean_steric[::-1], sigma=U_std_steric[::-1])\n",
        "print(\"Parametros para U_mean_steric:\", popt_steric)"
      ]
    },
    {
      "cell_type": "code",
      "execution_count": null,
      "metadata": {},
      "outputs": [],
      "source": [
        "lambda_grid = np.linspace(0.0, 1.0, 100)\n",
        "U_ele = func(lambda_grid,*popt_ele)\n",
        "U_steric = func(lambda_grid,*popt_steric)\n",
        "\n",
        "plt.plot(lambda_ele_grid, U_mean_ele, marker='o',color='C0', label='U_λ^ele')\n",
        "plt.plot(lambda_grid, U_ele, label='U_λ^ele (fitted)', linestyle='--')\n",
        "\n",
        "plt.plot(lambda_steric_grid, U_mean_steric, marker='o', color='C1', label='U_λ^ste')\n",
        "plt.plot(lambda_grid, U_steric, label='U_λ^ste (fitted)', linestyle='--')\n",
        "\n",
        "plt.xlabel('$\\lambda$')\n",
        "plt.ylabel('U_λ (kJ/mol)')\n",
        "plt.title('Fitted U_λ')\n",
        "plt.grid()\n",
        "plt.legend()"
      ]
    },
    {
      "cell_type": "markdown",
      "metadata": {},
      "source": [
        "Agora calcularemos a derivada dU_λ/dλ usando a função fitada"
      ]
    },
    {
      "cell_type": "code",
      "execution_count": null,
      "metadata": {
        "colab": {
          "base_uri": "https://localhost:8080/",
          "height": 448
        },
        "id": "xEx_1OYE2YO6",
        "outputId": "8b48759c-10bc-4fb4-a5dc-716bd86d7375"
      },
      "outputs": [],
      "source": [
        "# função para derivada\n",
        "def deriv(x, a, b, c):\n",
        "    return 2* a * x + b\n",
        "\n",
        "# Calculate the derivatives of the interpolated functions\n",
        "dU_ele_dlambda = deriv(lambda_grid,*popt_ele)\n",
        "dU_steric_dlambda = deriv(lambda_grid,*popt_steric)\n",
        "\n",
        "# Plot the interpolated U_λ\n",
        "plt.plot(lambda_grid, dU_ele_dlambda, label='Derivative U_λ^ele', linestyle='--')\n",
        "plt.plot(lambda_grid, dU_steric_dlambda, label='Derivative U_λ^ste', linestyle='--')\n",
        "\n",
        "plt.xlabel('$\\lambda$')\n",
        "plt.ylabel('dU_λ/dλ (kJ/mol)')\n",
        "plt.title('Derivatives of U_λ')\n",
        "plt.grid()\n",
        "plt.legend()"
      ]
    },
    {
      "cell_type": "code",
      "execution_count": null,
      "metadata": {
        "colab": {
          "base_uri": "https://localhost:8080/"
        },
        "id": "spthuG5z2YO6",
        "outputId": "b01cf04f-31f2-450c-f45b-60a382225c94"
      },
      "outputs": [],
      "source": [
        "deltaG_ele = np.trapezoid(dU_ele_dlambda, lambda_grid)\n",
        "\n",
        "print(f\"ΔG_ele = {deltaG_ele:.3f} kJ/mol\")"
      ]
    },
    {
      "cell_type": "code",
      "execution_count": null,
      "metadata": {
        "colab": {
          "base_uri": "https://localhost:8080/"
        },
        "id": "BN8wdjEb2YO6",
        "outputId": "d6f84e6e-62a3-4feb-f7e8-1234160ca70a"
      },
      "outputs": [],
      "source": [
        "deltaG_steric = np.trapezoid(dU_steric_dlambda, lambda_grid)\n",
        "\n",
        "print(f\"ΔG_steric = {deltaG_steric:.3f} kJ/mol\")"
      ]
    },
    {
      "cell_type": "code",
      "execution_count": null,
      "metadata": {
        "colab": {
          "base_uri": "https://localhost:8080/"
        },
        "id": "9XupstY52YO6",
        "outputId": "ae730f3b-0644-4efe-c512-16c9828be050"
      },
      "outputs": [],
      "source": [
        "1.6e-19*(6.022e23) # conversão de Joules para kJ/mol"
      ]
    },
    {
      "cell_type": "code",
      "execution_count": null,
      "metadata": {
        "colab": {
          "base_uri": "https://localhost:8080/"
        },
        "id": "QNAdGcrY2YO7",
        "outputId": "3fa656ed-40a9-4a62-bf7e-9c6aee406c53"
      },
      "outputs": [],
      "source": [
        "deltaG = deltaG_ele + deltaG_steric\n",
        "print(f\"ΔG_total = {deltaG:.3f} kJ/mol\")\n",
        "# Convert to eV\n",
        "deltaG_eV = deltaG / 96.352\n",
        "print(f\"ΔG_total = {deltaG_eV:.3f} eV\")"
      ]
    },
    {
      "cell_type": "markdown",
      "metadata": {
        "id": "NwZFC48r2YO7"
      },
      "source": [
        "**<span style=\"color:#A03;font-size:14pt\">\n",
        "&#x270B; HANDS-ON! &#x1F528;\n",
        "</span>**\n",
        "\n",
        "> Faça uma estimativa do custo computacional (tempo de simulação) no seu _hardware_ atual para simulações longas da ordem de 1ns.\n",
        ">"
      ]
    },
    {
      "cell_type": "code",
      "execution_count": null,
      "metadata": {
        "id": "tjc8R5iz2YO7"
      },
      "outputs": [],
      "source": []
    }
  ],
  "metadata": {
    "accelerator": "GPU",
    "colab": {
      "gpuType": "T4",
      "provenance": []
    },
    "kernelspec": {
      "display_name": "simmol",
      "language": "python",
      "name": "python3"
    },
    "language_info": {
      "codemirror_mode": {
        "name": "ipython",
        "version": 3
      },
      "file_extension": ".py",
      "mimetype": "text/x-python",
      "name": "python",
      "nbconvert_exporter": "python",
      "pygments_lexer": "ipython3",
      "version": "3.13.3"
    }
  },
  "nbformat": 4,
  "nbformat_minor": 0
}
