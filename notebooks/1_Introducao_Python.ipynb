{
  "cells": [
    {
      "cell_type": "markdown",
      "metadata": {
        "id": "view-in-github",
        "colab_type": "text"
      },
      "source": [
        "<a href=\"https://colab.research.google.com/github/elvissoares/EQE595-SimMol/blob/main/notebooks/1_Introducao_Python.ipynb\" target=\"_parent\"><img src=\"https://colab.research.google.com/assets/colab-badge.svg\" alt=\"Open In Colab\"/></a>"
      ]
    },
    {
      "cell_type": "markdown",
      "metadata": {
        "id": "98W04BaXLWvO"
      },
      "source": [
        "# Bibliotecas Numpy e Matplotlib\n",
        "\n",
        "Autor: [Prof. Elvis do A. Soares](https://github.com/elvissoares)\n",
        "\n",
        "Contato: [elvis@peq.coppe.ufrj.br](mailto:elvis@peq.coppe.ufrj.br) - [Programa de Engenharia Química, PEQ/COPPE, UFRJ, Brasil](https://www.peq.coppe.ufrj.br/)\n",
        "\n",
        "---"
      ]
    },
    {
      "cell_type": "markdown",
      "metadata": {
        "id": "mkDDIW2ELWvO"
      },
      "source": [
        "## Numpy: Operações com Arrays e Matrizes"
      ]
    },
    {
      "cell_type": "markdown",
      "metadata": {
        "id": "RBBTpEFTLWvP"
      },
      "source": [
        "Como importar a biblioteca *numpy*"
      ]
    },
    {
      "cell_type": "code",
      "execution_count": null,
      "metadata": {
        "id": "7x_BXya2LWvP"
      },
      "outputs": [],
      "source": [
        "import numpy as np"
      ]
    },
    {
      "cell_type": "markdown",
      "metadata": {
        "id": "7VHn_C2zLWvP"
      },
      "source": [
        "Existem diversas funções já definidas na biblioteca, as mais comuns são *sin*, *cos*, *exp*, *sinh*, etc"
      ]
    },
    {
      "cell_type": "code",
      "execution_count": null,
      "metadata": {
        "id": "3I-E7twCLWvP"
      },
      "outputs": [],
      "source": [
        "np.sin(0)"
      ]
    },
    {
      "cell_type": "code",
      "execution_count": null,
      "metadata": {
        "id": "e14qpBgkLWvP"
      },
      "outputs": [],
      "source": [
        "np.cos(0)"
      ]
    },
    {
      "cell_type": "markdown",
      "metadata": {
        "id": "5hJJePd6LWvQ"
      },
      "source": [
        "Existem também alguns números bem conhecidos como o *pi* e a constante de euler *e*"
      ]
    },
    {
      "cell_type": "code",
      "execution_count": null,
      "metadata": {
        "id": "neGLMX05LWvQ"
      },
      "outputs": [],
      "source": [
        "np.pi"
      ]
    },
    {
      "cell_type": "code",
      "execution_count": null,
      "metadata": {
        "id": "BrV-CkleLWvQ"
      },
      "outputs": [],
      "source": [
        "format(np.pi, '.20f')"
      ]
    },
    {
      "cell_type": "code",
      "execution_count": null,
      "metadata": {
        "id": "9fxs8aW_LWvQ"
      },
      "outputs": [],
      "source": [
        "np.e"
      ]
    },
    {
      "cell_type": "code",
      "execution_count": null,
      "metadata": {
        "id": "pjsyvKvBLWvQ"
      },
      "outputs": [],
      "source": [
        "np.exp(1)"
      ]
    },
    {
      "cell_type": "code",
      "execution_count": null,
      "metadata": {
        "id": "K52zJzaPLWvQ"
      },
      "outputs": [],
      "source": [
        "np.exp(1) == np.e"
      ]
    },
    {
      "cell_type": "markdown",
      "metadata": {
        "id": "MTZ0mDcRLWvQ"
      },
      "source": [
        "e até o infinito *inf*"
      ]
    },
    {
      "cell_type": "code",
      "execution_count": null,
      "metadata": {
        "id": "8O9lUe2wLWvQ"
      },
      "outputs": [],
      "source": [
        "np.inf"
      ]
    },
    {
      "cell_type": "code",
      "execution_count": null,
      "metadata": {
        "id": "0f0beCB2LWvQ"
      },
      "outputs": [],
      "source": [
        "1.0/np.inf"
      ]
    },
    {
      "cell_type": "markdown",
      "metadata": {
        "id": "-A3AVnCpLWvQ"
      },
      "source": [
        "### Objetos do tipo *lista*"
      ]
    },
    {
      "cell_type": "code",
      "execution_count": null,
      "metadata": {
        "id": "r4MmKjyJLWvQ"
      },
      "outputs": [],
      "source": [
        "l = [0,1,2]"
      ]
    },
    {
      "cell_type": "code",
      "execution_count": null,
      "metadata": {
        "id": "qlqGRsoQLWvQ"
      },
      "outputs": [],
      "source": [
        "l[1]"
      ]
    },
    {
      "cell_type": "code",
      "execution_count": null,
      "metadata": {
        "id": "zyKXg3PMLWvR"
      },
      "outputs": [],
      "source": [
        "l+2"
      ]
    },
    {
      "cell_type": "code",
      "execution_count": null,
      "metadata": {
        "id": "jvKY-gZQLWvR"
      },
      "outputs": [],
      "source": [
        "m = [10,11,12]"
      ]
    },
    {
      "cell_type": "code",
      "execution_count": null,
      "metadata": {
        "id": "7IaBMoWOLWvR"
      },
      "outputs": [],
      "source": [
        "l+m"
      ]
    },
    {
      "cell_type": "markdown",
      "metadata": {
        "id": "6ws9TSvQLWvR"
      },
      "source": [
        "### Objetos do tipo *array*"
      ]
    },
    {
      "cell_type": "code",
      "execution_count": null,
      "metadata": {
        "id": "mEC0BZ9cLWvR"
      },
      "outputs": [],
      "source": [
        "v = np.array([0,1,2])"
      ]
    },
    {
      "cell_type": "code",
      "execution_count": null,
      "metadata": {
        "id": "JjUcytHKLWvR"
      },
      "outputs": [],
      "source": [
        "v[0]"
      ]
    },
    {
      "cell_type": "code",
      "execution_count": null,
      "metadata": {
        "id": "v0io9FYbLWvR"
      },
      "outputs": [],
      "source": [
        "v+2"
      ]
    },
    {
      "cell_type": "code",
      "execution_count": null,
      "metadata": {
        "id": "kycq7f3_LWvR"
      },
      "outputs": [],
      "source": [
        "u = np.array([10,11,12])"
      ]
    },
    {
      "cell_type": "markdown",
      "metadata": {
        "id": "K0kCkBFNLWvR"
      },
      "source": [
        "### Soma de arrays"
      ]
    },
    {
      "cell_type": "code",
      "execution_count": null,
      "metadata": {
        "id": "CY8gO0GPLWvR"
      },
      "outputs": [],
      "source": [
        "v+u"
      ]
    },
    {
      "cell_type": "markdown",
      "metadata": {
        "id": "0lwDua0KLWvR"
      },
      "source": [
        "### Concatenando arrays"
      ]
    },
    {
      "cell_type": "code",
      "execution_count": null,
      "metadata": {
        "id": "sXTP8rsyLWvR"
      },
      "outputs": [],
      "source": [
        "np.concatenate((v,u))"
      ]
    },
    {
      "cell_type": "markdown",
      "metadata": {
        "id": "jn5jk_jMLWvR"
      },
      "source": [
        "### Multiplicação de arrays"
      ]
    },
    {
      "cell_type": "code",
      "execution_count": null,
      "metadata": {
        "id": "iJqZW8gLLWvR"
      },
      "outputs": [],
      "source": [
        "u*v"
      ]
    },
    {
      "cell_type": "markdown",
      "metadata": {
        "id": "Y8Djfk-xLWvR"
      },
      "source": [
        "### Potência de arrays?!"
      ]
    },
    {
      "cell_type": "code",
      "execution_count": null,
      "metadata": {
        "id": "8S2ORrj2LWvR"
      },
      "outputs": [],
      "source": [
        "u**2"
      ]
    },
    {
      "cell_type": "code",
      "execution_count": null,
      "metadata": {
        "id": "3a8YOxawLWvR"
      },
      "outputs": [],
      "source": [
        "u**v"
      ]
    },
    {
      "cell_type": "markdown",
      "metadata": {
        "id": "RMFszL8zLWvR"
      },
      "source": [
        "### Produto escalar"
      ]
    },
    {
      "cell_type": "code",
      "execution_count": null,
      "metadata": {
        "id": "_c4xfxXnLWvR"
      },
      "outputs": [],
      "source": [
        "u@v"
      ]
    },
    {
      "cell_type": "markdown",
      "metadata": {
        "id": "0LFeoUP3LWvR"
      },
      "source": [
        "`vdot` é só para arrays 1D"
      ]
    },
    {
      "cell_type": "code",
      "execution_count": null,
      "metadata": {
        "id": "tev-0VKfLWvS"
      },
      "outputs": [],
      "source": [
        "np.vdot(u,v)"
      ]
    },
    {
      "cell_type": "markdown",
      "metadata": {
        "id": "c2fpiFnWLWvS"
      },
      "source": [
        "`dot` serve para qualquer produto entre arrays"
      ]
    },
    {
      "cell_type": "code",
      "execution_count": null,
      "metadata": {
        "id": "kIHLkqXvLWvS"
      },
      "outputs": [],
      "source": [
        "np.dot(u,v)"
      ]
    },
    {
      "cell_type": "markdown",
      "metadata": {
        "id": "Bp9XtZSlLWvS"
      },
      "source": [
        "### Criando uma matriz, *array 2D*"
      ]
    },
    {
      "cell_type": "code",
      "execution_count": null,
      "metadata": {
        "id": "4PlJyufSLWvS"
      },
      "outputs": [],
      "source": [
        "A = np.array([[1,2,3],\n",
        "              [4,5,6],\n",
        "              [7,8,9]])"
      ]
    },
    {
      "cell_type": "markdown",
      "metadata": {
        "id": "lnn1XQ7SLWvS"
      },
      "source": [
        "### Elementos da matriz"
      ]
    },
    {
      "cell_type": "code",
      "execution_count": null,
      "metadata": {
        "id": "XiDtlAV1LWvS"
      },
      "outputs": [],
      "source": [
        "A[0,0]"
      ]
    },
    {
      "cell_type": "code",
      "execution_count": null,
      "metadata": {
        "id": "WyarxJ4JLWvS"
      },
      "outputs": [],
      "source": [
        "A[1,2]"
      ]
    },
    {
      "cell_type": "markdown",
      "metadata": {
        "id": "6dql0I5DLWvS"
      },
      "source": [
        "### Linhas da matriz"
      ]
    },
    {
      "cell_type": "code",
      "execution_count": null,
      "metadata": {
        "id": "e5gmxXr1LWvS"
      },
      "outputs": [],
      "source": [
        "A[1,:]"
      ]
    },
    {
      "cell_type": "markdown",
      "metadata": {
        "id": "S1GEDt08LWvS"
      },
      "source": [
        "### Colunas da matriz"
      ]
    },
    {
      "cell_type": "code",
      "execution_count": null,
      "metadata": {
        "id": "cz8GF-9QLWvS"
      },
      "outputs": [],
      "source": [
        "A[:,2]"
      ]
    },
    {
      "cell_type": "markdown",
      "metadata": {
        "id": "5h0VcRdBLWvS"
      },
      "source": [
        "### Produto com vetores"
      ]
    },
    {
      "cell_type": "code",
      "execution_count": null,
      "metadata": {
        "id": "sPTC20OTLWvS"
      },
      "outputs": [],
      "source": [
        "A@v"
      ]
    },
    {
      "cell_type": "code",
      "execution_count": null,
      "metadata": {
        "id": "XuyydQ2qLWvS"
      },
      "outputs": [],
      "source": [
        "np.dot(A,v)"
      ]
    },
    {
      "cell_type": "code",
      "execution_count": null,
      "metadata": {
        "id": "rlYMH66-LWvT"
      },
      "outputs": [],
      "source": [
        "A[2,:]@v"
      ]
    },
    {
      "cell_type": "code",
      "execution_count": null,
      "metadata": {
        "id": "h_aRXcocLWvT"
      },
      "outputs": [],
      "source": [
        "def dot_from_for(Matrix,vector):\n",
        "    aux = np.zeros_like(vector)\n",
        "    Nrow, Ncol = Matrix.shape\n",
        "    for i in range(Nrow):\n",
        "        for j in range(Ncol):\n",
        "            aux[i] += Matrix[i,j]*v[j]\n",
        "    return aux"
      ]
    },
    {
      "cell_type": "code",
      "execution_count": null,
      "metadata": {
        "id": "y0yXodEJLWvT"
      },
      "outputs": [],
      "source": [
        "dot_from_for(A,v)"
      ]
    },
    {
      "cell_type": "code",
      "execution_count": null,
      "metadata": {
        "id": "zmjGpZjyLWvT"
      },
      "outputs": [],
      "source": [
        "%timeit -n 100000 A@v"
      ]
    },
    {
      "cell_type": "code",
      "execution_count": null,
      "metadata": {
        "id": "JNSnrm8XLWvT"
      },
      "outputs": [],
      "source": [
        "%timeit -n 100000 np.dot(A,v)"
      ]
    },
    {
      "cell_type": "code",
      "execution_count": null,
      "metadata": {
        "id": "32EOFuXpLWvT"
      },
      "outputs": [],
      "source": [
        "%timeit -n 100000 dot_from_for(A,v)"
      ]
    },
    {
      "cell_type": "markdown",
      "metadata": {
        "id": "LG1O5kCALWvT"
      },
      "source": [
        "### Using numba (Pre-compilation)"
      ]
    },
    {
      "cell_type": "code",
      "execution_count": null,
      "metadata": {
        "id": "YolTXk5QLWvT"
      },
      "outputs": [],
      "source": [
        "pip install numba"
      ]
    },
    {
      "cell_type": "code",
      "execution_count": null,
      "metadata": {
        "id": "cEBMIWvmLWvT"
      },
      "outputs": [],
      "source": [
        "from numba import jit\n",
        "\n",
        "@jit\n",
        "def dot_from_for_jitted(Matrix,vector):\n",
        "    aux = np.zeros_like(vector)\n",
        "    Nrow, Ncol = Matrix.shape\n",
        "    for i in range(Nrow):\n",
        "        for j in range(Ncol):\n",
        "            aux[i] += Matrix[i,j]*v[j]\n",
        "    return aux"
      ]
    },
    {
      "cell_type": "code",
      "execution_count": null,
      "metadata": {
        "id": "en24uwtzLWvT"
      },
      "outputs": [],
      "source": [
        "%timeit -n 100000 dot_from_for_jitted(A,v)"
      ]
    },
    {
      "cell_type": "markdown",
      "metadata": {
        "id": "j0WV4nCyLWvT"
      },
      "source": [
        "### Produto direto"
      ]
    },
    {
      "cell_type": "code",
      "execution_count": null,
      "metadata": {
        "id": "jVY0WDHPLWvT"
      },
      "outputs": [],
      "source": [
        "B = np.diag(np.ones(3))"
      ]
    },
    {
      "cell_type": "code",
      "execution_count": null,
      "metadata": {
        "id": "Lo_8aIcGLWvT"
      },
      "outputs": [],
      "source": [
        "B"
      ]
    },
    {
      "cell_type": "code",
      "execution_count": null,
      "metadata": {
        "id": "2mNecnswLWvT"
      },
      "outputs": [],
      "source": [
        "A@B"
      ]
    },
    {
      "cell_type": "code",
      "execution_count": null,
      "metadata": {
        "id": "V3_6_SgYLWvT"
      },
      "outputs": [],
      "source": [
        "np.tensordot(A,B)"
      ]
    },
    {
      "cell_type": "markdown",
      "metadata": {
        "id": "uJCI13-gLWvT"
      },
      "source": [
        "### Matriz transposta"
      ]
    },
    {
      "cell_type": "code",
      "execution_count": null,
      "metadata": {
        "id": "At23LK_QLWvT"
      },
      "outputs": [],
      "source": [
        "A"
      ]
    },
    {
      "cell_type": "code",
      "execution_count": null,
      "metadata": {
        "id": "0EAlxqoqLWvT"
      },
      "outputs": [],
      "source": [
        "A.T"
      ]
    },
    {
      "cell_type": "markdown",
      "metadata": {
        "id": "Hu363bVmLWvT"
      },
      "source": [
        "### Determinante de Matriz"
      ]
    },
    {
      "cell_type": "code",
      "execution_count": null,
      "metadata": {
        "id": "M5jo0XRTLWvT"
      },
      "outputs": [],
      "source": [
        "C = np.array([[4,1,1],\n",
        "             [5,2,3],\n",
        "             [6,3,2]])"
      ]
    },
    {
      "cell_type": "code",
      "execution_count": null,
      "metadata": {
        "id": "oeFlznjiLWvT"
      },
      "outputs": [],
      "source": [
        "np.linalg.det(C)"
      ]
    },
    {
      "cell_type": "markdown",
      "metadata": {
        "id": "v1f1tmJtLWvU"
      },
      "source": [
        "### Matriz inversa"
      ]
    },
    {
      "cell_type": "code",
      "execution_count": null,
      "metadata": {
        "id": "x_SA8_gHLWvU"
      },
      "outputs": [],
      "source": [
        "np.linalg.inv(C)"
      ]
    },
    {
      "cell_type": "markdown",
      "metadata": {
        "id": "wOUpF93pLWvU"
      },
      "source": [
        "### Diversas formas de inicializar arrays usando Numpy"
      ]
    },
    {
      "cell_type": "markdown",
      "metadata": {
        "id": "EUDW2aOgLWvU"
      },
      "source": [
        "np.array(), np.zeros(), np.ones(), np.empty(), np.arange(), np.linspace(),"
      ]
    },
    {
      "cell_type": "code",
      "execution_count": null,
      "metadata": {
        "id": "8iM7EMcLLWvU"
      },
      "outputs": [],
      "source": [
        "v = np.array([0,1,2])\n",
        "v"
      ]
    },
    {
      "cell_type": "code",
      "execution_count": null,
      "metadata": {
        "id": "825WNL_-LWvU"
      },
      "outputs": [],
      "source": [
        "v0 = np.zeros(3)\n",
        "v0"
      ]
    },
    {
      "cell_type": "code",
      "execution_count": null,
      "metadata": {
        "id": "ClIRYWo-LWvU"
      },
      "outputs": [],
      "source": [
        "v1 = np.ones(3)\n",
        "v1"
      ]
    },
    {
      "cell_type": "code",
      "execution_count": null,
      "metadata": {
        "id": "YWQQy2T0LWvU"
      },
      "outputs": [],
      "source": [
        "ve = np.empty(100000000000)\n",
        "ve"
      ]
    },
    {
      "cell_type": "code",
      "execution_count": null,
      "metadata": {
        "id": "fRfwuh83LWvU"
      },
      "outputs": [],
      "source": [
        "va = np.arange(2,9,1)\n",
        "va"
      ]
    },
    {
      "cell_type": "code",
      "execution_count": null,
      "metadata": {
        "id": "k0YE7_EhLWvU"
      },
      "outputs": [],
      "source": [
        "vl = np.linspace(0,9,10)\n",
        "vl"
      ]
    },
    {
      "cell_type": "code",
      "execution_count": null,
      "metadata": {
        "id": "ZclwDggNLWvU"
      },
      "outputs": [],
      "source": [
        "va.size"
      ]
    },
    {
      "cell_type": "code",
      "execution_count": null,
      "metadata": {
        "id": "HKUDmjMQLWvU"
      },
      "outputs": [],
      "source": [
        "vl.size"
      ]
    },
    {
      "cell_type": "code",
      "execution_count": null,
      "metadata": {
        "id": "g9_vaHFqLWvU"
      },
      "outputs": [],
      "source": [
        "b = vl.reshape(5, 2)"
      ]
    },
    {
      "cell_type": "code",
      "execution_count": null,
      "metadata": {
        "id": "Rs3SMIkMLWvU"
      },
      "outputs": [],
      "source": [
        "b"
      ]
    },
    {
      "cell_type": "markdown",
      "metadata": {
        "id": "jfc0kgtKLWvU"
      },
      "source": [
        "### Informação de vetores"
      ]
    },
    {
      "cell_type": "code",
      "execution_count": null,
      "metadata": {
        "id": "f8wg26F5LWvU"
      },
      "outputs": [],
      "source": [
        "v"
      ]
    },
    {
      "cell_type": "code",
      "execution_count": null,
      "metadata": {
        "id": "kvjI0Hg5LWvU"
      },
      "outputs": [],
      "source": [
        "v.sum()"
      ]
    },
    {
      "cell_type": "code",
      "execution_count": null,
      "metadata": {
        "id": "5dm01E6sLWvU"
      },
      "outputs": [],
      "source": [
        "v.max()"
      ]
    },
    {
      "cell_type": "code",
      "execution_count": null,
      "metadata": {
        "id": "GeKL-omdLWvU"
      },
      "outputs": [],
      "source": [
        "v.min()"
      ]
    },
    {
      "cell_type": "code",
      "execution_count": null,
      "metadata": {
        "id": "S8zlw7zNLWvV"
      },
      "outputs": [],
      "source": [
        "v.mean()"
      ]
    },
    {
      "cell_type": "code",
      "execution_count": null,
      "metadata": {
        "id": "pfysJNsJLWvV"
      },
      "outputs": [],
      "source": [
        "v.std()"
      ]
    },
    {
      "cell_type": "markdown",
      "metadata": {
        "id": "Kl4DXPh2LWvV"
      },
      "source": [
        "**<span style=\"color:#A03;font-size:14pt\">\n",
        "&#x270B; HANDS-ON! &#x1F528;\n",
        "</span>**\n",
        "\n",
        "> Crie um array com a data do seu aniversario na forma `array([dia,mes,ano])` e outro array com a data de hoje no mesmo formato. Faça a diferença entre os arrays. Consegue com isso determinar sua idade em anos, meses e dias?"
      ]
    },
    {
      "cell_type": "code",
      "execution_count": null,
      "metadata": {
        "id": "xEO1uczRLWvV"
      },
      "outputs": [],
      "source": []
    },
    {
      "cell_type": "markdown",
      "metadata": {
        "id": "k53c1Q00LWvV"
      },
      "source": [
        "### Gerador de Números aleatórios"
      ]
    },
    {
      "cell_type": "markdown",
      "metadata": {
        "id": "pS2Up_2iLWvV"
      },
      "source": [
        "Números entre [0,1)"
      ]
    },
    {
      "cell_type": "code",
      "execution_count": null,
      "metadata": {
        "id": "eWsclp7xLWvV"
      },
      "outputs": [],
      "source": [
        "va = np.random.random(100)"
      ]
    },
    {
      "cell_type": "code",
      "execution_count": null,
      "metadata": {
        "id": "7Xb9KWlvLWvV"
      },
      "outputs": [],
      "source": [
        "va"
      ]
    },
    {
      "cell_type": "code",
      "execution_count": null,
      "metadata": {
        "id": "thHRdkdGLWvV"
      },
      "outputs": [],
      "source": [
        "va = np.random.rand(100)"
      ]
    },
    {
      "cell_type": "code",
      "execution_count": null,
      "metadata": {
        "id": "x5rVpEDoLWvV"
      },
      "outputs": [],
      "source": [
        "va"
      ]
    },
    {
      "cell_type": "code",
      "execution_count": null,
      "metadata": {
        "id": "62q9-BWfLWvV"
      },
      "outputs": [],
      "source": [
        "import matplotlib.pyplot as plt\n",
        "count, bins, ignored = plt.hist(va, 10, density=True)\n",
        "plt.show()"
      ]
    },
    {
      "cell_type": "markdown",
      "metadata": {
        "id": "fk9SVFKkLWvV"
      },
      "source": [
        "Números distribuídos gaussianamente"
      ]
    },
    {
      "cell_type": "markdown",
      "metadata": {
        "id": "_BDUu9jsLWvV"
      },
      "source": [
        "`sigma * np.random.randn(...) + mu`"
      ]
    },
    {
      "cell_type": "code",
      "execution_count": null,
      "metadata": {
        "id": "ItwF4siGLWvV"
      },
      "outputs": [],
      "source": [
        "vgauss = np.random.randn(100)"
      ]
    },
    {
      "cell_type": "code",
      "execution_count": null,
      "metadata": {
        "id": "Ejkn9YQGLWvV"
      },
      "outputs": [],
      "source": [
        "vgauss"
      ]
    },
    {
      "cell_type": "code",
      "execution_count": null,
      "metadata": {
        "id": "_2BDTZIxLWvV"
      },
      "outputs": [],
      "source": [
        "vgauss[vgauss>0].size"
      ]
    },
    {
      "cell_type": "code",
      "execution_count": null,
      "metadata": {
        "id": "0QmiDeQqLWvV"
      },
      "outputs": [],
      "source": [
        "vgauss[vgauss<0].size"
      ]
    },
    {
      "cell_type": "markdown",
      "metadata": {
        "id": "4uqcIbYWLWvV"
      },
      "source": [
        "`random.normal(loc=0.0, scale=1.0, size=None)`\n",
        "\n",
        "https://numpy.org/doc/stable/reference/random/generated/numpy.random.normal.html"
      ]
    },
    {
      "cell_type": "code",
      "execution_count": null,
      "metadata": {
        "id": "QicRjB9gLWvV"
      },
      "outputs": [],
      "source": [
        "mu, sigma = 0, 0.1 # mean and standard deviation\n",
        "s = np.random.normal(mu, sigma, 1000)"
      ]
    },
    {
      "cell_type": "code",
      "execution_count": null,
      "metadata": {
        "id": "lWIYVEQkLWvV"
      },
      "outputs": [],
      "source": [
        "import matplotlib.pyplot as plt\n",
        "count, bins, ignored = plt.hist(s, 30, density=True)\n",
        "plt.plot(bins, 1/(sigma * np.sqrt(2 * np.pi)) *\n",
        "               np.exp( - (bins - mu)**2 / (2 * sigma**2) ),\n",
        "         linewidth=2, color='r')\n",
        "plt.show()"
      ]
    },
    {
      "cell_type": "code",
      "execution_count": null,
      "metadata": {
        "id": "4aJLK0NbLWvV"
      },
      "outputs": [],
      "source": [
        "s.mean()"
      ]
    },
    {
      "cell_type": "code",
      "execution_count": null,
      "metadata": {
        "id": "VbgvXPKNLWvV"
      },
      "outputs": [],
      "source": [
        "s.std()"
      ]
    },
    {
      "cell_type": "markdown",
      "metadata": {
        "id": "Wd20anCYLWvW"
      },
      "source": [
        "**<span style=\"color:#A03;font-size:14pt\">\n",
        "&#x270B; HANDS-ON! &#x1F528;\n",
        "</span>**\n",
        "\n",
        "> Faça um array com 100 números aleatórios entre 0 e 1, e outro array com 100 outros números entre 0 e 100. Faça a soma dos dois arrays.\n",
        "\n",
        "> Faça um gráfico de barras da soma dos dois arrays."
      ]
    },
    {
      "cell_type": "markdown",
      "metadata": {
        "id": "TSCzsx46LWvW"
      },
      "source": [
        "---\n",
        "\n",
        "## Matplotlib: Biblioteca de Gráficos"
      ]
    },
    {
      "cell_type": "code",
      "execution_count": null,
      "metadata": {
        "id": "nK0PtocDLWvW"
      },
      "outputs": [],
      "source": [
        "import matplotlib.pyplot as plt"
      ]
    },
    {
      "cell_type": "markdown",
      "metadata": {
        "id": "szx5O5HTLWvW"
      },
      "source": [
        "### Gerando os dados a serem plotados"
      ]
    },
    {
      "cell_type": "code",
      "execution_count": null,
      "metadata": {
        "id": "d7mHAAC-LWvW"
      },
      "outputs": [],
      "source": [
        "x = np.arange(0,48,0.1)\n",
        "y = 298 + 0.5*np.sin(2*np.pi*x/2.0) - 5*np.cos(2*np.pi*x/24.0) + 0.1*np.random.randn(x.size)"
      ]
    },
    {
      "cell_type": "code",
      "execution_count": null,
      "metadata": {
        "id": "DqvAPDCgLWvW"
      },
      "outputs": [],
      "source": [
        "plt.scatter(x,y) # para pontos\n",
        "plt.plot(x,y,color='red') # para linhas"
      ]
    },
    {
      "cell_type": "markdown",
      "metadata": {
        "id": "gMueq2usLWvW"
      },
      "source": [
        "### Nome dos eixos"
      ]
    },
    {
      "cell_type": "code",
      "execution_count": null,
      "metadata": {
        "id": "EyRe2PpgLWvW"
      },
      "outputs": [],
      "source": [
        "plt.plot(x,y)\n",
        "plt.xlabel('Tempo (h)')\n",
        "plt.ylabel('Temperatura (K)')"
      ]
    },
    {
      "cell_type": "markdown",
      "metadata": {
        "id": "HWoHr1xxLWvW"
      },
      "source": [
        "### Adicionando Legenda"
      ]
    },
    {
      "cell_type": "code",
      "execution_count": null,
      "metadata": {
        "id": "wsVBYS0OLWvW"
      },
      "outputs": [],
      "source": [
        "plt.plot(x,y,label='Exp.')\n",
        "plt.xlabel('Tempo (h)')\n",
        "plt.ylabel('Temperatura (K)')\n",
        "plt.legend(loc='upper right')"
      ]
    },
    {
      "cell_type": "markdown",
      "metadata": {
        "id": "kkgAg-9ULWvW"
      },
      "source": [
        "### Adicionando outro gráfico"
      ]
    },
    {
      "cell_type": "code",
      "execution_count": null,
      "metadata": {
        "id": "6EB1BB2ZLWvW"
      },
      "outputs": [],
      "source": [
        "y2 = 298 + 0.5*np.sin(2*np.pi*x/2.0) - 5*np.cos(2*np.pi*x/24.0)\n",
        "y3 = 298 - 5*np.cos(2*np.pi*x/24.0)"
      ]
    },
    {
      "cell_type": "code",
      "execution_count": null,
      "metadata": {
        "id": "m4U030uTLWvW"
      },
      "outputs": [],
      "source": [
        "plt.scatter(x,y,label='Exp.')\n",
        "plt.plot(x,y2,'k-',label='Teo.')\n",
        "plt.plot(x,y3,'C2--',label='Saz.')\n",
        "plt.xlabel('Tempo (h)')\n",
        "plt.ylabel('Temperatura (K)')\n",
        "plt.legend(loc='upper right')"
      ]
    },
    {
      "cell_type": "code",
      "execution_count": null,
      "metadata": {
        "id": "-KF579GMLWvW"
      },
      "outputs": [],
      "source": [
        "plt.scatter(x,y,marker='o',edgecolors='C0',facecolors='None',label='Exp.') # mudando cores dos pontos\n",
        "plt.plot(x,y2,'k-',label='Teo.')\n",
        "plt.plot(x,y3,'C2--',label='Saz.')\n",
        "plt.xlabel('Tempo (h)')\n",
        "plt.ylabel('Temperatura (K)')\n",
        "plt.legend(loc='upper right')"
      ]
    },
    {
      "cell_type": "markdown",
      "metadata": {
        "id": "yTsqL2l5LWvW"
      },
      "source": [
        "### Limite dos Eixos"
      ]
    },
    {
      "cell_type": "code",
      "execution_count": null,
      "metadata": {
        "id": "vttsC3L9LWvW"
      },
      "outputs": [],
      "source": [
        "plt.scatter(x,y,marker='o',edgecolors='C0',facecolors='None',label='Exp.')\n",
        "plt.plot(x,y2,'k-',label='Teo.')\n",
        "plt.plot(x,y3,'C2--',label='Saz.')\n",
        "plt.xlabel('Tempo (h)')\n",
        "plt.ylabel('Temperatura (K)')\n",
        "plt.legend(loc='upper right')\n",
        "plt.xlim(0,24)\n",
        "plt.ylim(None,304)"
      ]
    },
    {
      "cell_type": "markdown",
      "metadata": {
        "id": "mN3bxLpELWvW"
      },
      "source": [
        "### Tamanho das Figuras"
      ]
    },
    {
      "cell_type": "code",
      "execution_count": null,
      "metadata": {
        "id": "3-RKnYA3LWvW"
      },
      "outputs": [],
      "source": [
        "fig = plt.figure(figsize=(8, 6))\n",
        "\n",
        "plt.scatter(x,y,marker='o',edgecolors='C0',facecolors='None',label='Exp.')\n",
        "plt.plot(x,y2,'k-',label='Teo.')\n",
        "plt.plot(x,y3,'C2--',label='Saz.')\n",
        "plt.xlabel('Tempo (h)')\n",
        "plt.ylabel('Temperatura (K)')\n",
        "plt.legend(loc='upper right')\n",
        "plt.xlim(0,24)\n",
        "plt.ylim(None,304)"
      ]
    },
    {
      "cell_type": "markdown",
      "metadata": {
        "id": "_jGtQRNKLWvW"
      },
      "source": [
        "**<span style=\"color:#A03;font-size:14pt\">\n",
        "&#x270B; HANDS-ON! &#x1F528;\n",
        "</span>**\n",
        "\n",
        "> Faça um gráfico das funções $\\sin(t) e^{-\\gamma t}$ e $\\sin(t)$ com $\\gamma = 0.1$ e $t$ entre 0 e 10."
      ]
    },
    {
      "cell_type": "code",
      "execution_count": null,
      "metadata": {
        "id": "HcGy80oxLWvW"
      },
      "outputs": [],
      "source": []
    }
  ],
  "metadata": {
    "kernelspec": {
      "display_name": "usr",
      "language": "python",
      "name": "python3"
    },
    "language_info": {
      "codemirror_mode": {
        "name": "ipython",
        "version": 3
      },
      "file_extension": ".py",
      "mimetype": "text/x-python",
      "name": "python",
      "nbconvert_exporter": "python",
      "pygments_lexer": "ipython3",
      "version": "3.13.2"
    },
    "colab": {
      "provenance": [],
      "include_colab_link": true
    }
  },
  "nbformat": 4,
  "nbformat_minor": 0
}