{
  "cells": [
    {
      "cell_type": "markdown",
      "metadata": {
        "id": "view-in-github",
        "colab_type": "text"
      },
      "source": [
        "<a href=\"https://colab.research.google.com/github/elvissoares/EQE595-SimMol/blob/main/notebooks/3_Ensemble_NVE.ipynb\" target=\"_parent\"><img src=\"https://colab.research.google.com/assets/colab-badge.svg\" alt=\"Open In Colab\"/></a>"
      ]
    },
    {
      "cell_type": "markdown",
      "metadata": {
        "id": "yXpCKP8Ghzob"
      },
      "source": [
        "# Aula Prática 03 - Dinâmica Molecular em Ensemble NVE\n",
        "\n",
        "Autor: [Prof. Elvis do A. Soares](https://github.com/elvissoares)\n",
        "\n",
        "Contato: [elvis@peq.coppe.ufrj.br](mailto:elvis@peq.coppe.ufrj.br) - [Programa de Engenharia Química, PEQ/COPPE, UFRJ, Brasil](https://www.peq.coppe.ufrj.br/)\n",
        "\n",
        "---"
      ]
    },
    {
      "cell_type": "code",
      "execution_count": null,
      "metadata": {
        "id": "_QPplZGKhzoc"
      },
      "outputs": [],
      "source": [
        "import numpy as np\n",
        "import matplotlib.pyplot as plt"
      ]
    },
    {
      "cell_type": "markdown",
      "metadata": {
        "id": "yF-d40dhhzoc"
      },
      "source": [
        "# Dinâmica Molecular no Ensemble NVE\n",
        "\n",
        "- $N$: número de partículas\n",
        "- $V$: volume\n",
        "- $E$: energia\n"
      ]
    },
    {
      "cell_type": "code",
      "execution_count": null,
      "metadata": {
        "id": "J36VlB1ahzoc"
      },
      "outputs": [],
      "source": [
        "def ulj(r,epsilon=1.0,sigma=1.0):\n",
        "    return 4*epsilon*((sigma/r)**12-(sigma/r)**6)\n",
        "\n",
        "def duljdr(r,epsilon=1.0,sigma=1.0):\n",
        "    return -4*epsilon*((12*(sigma/r)**12-6*(sigma/r)**6)/r)"
      ]
    },
    {
      "cell_type": "code",
      "execution_count": null,
      "metadata": {
        "id": "OAqp2dzfhzoc"
      },
      "outputs": [],
      "source": [
        "def posicoes_iniciais(Np, L):\n",
        "    # array como posições das partículas\n",
        "    r = np.zeros((Np,3))\n",
        "\n",
        "    # Número de pontos em x e y\n",
        "    Nx = Ny = Nz = int(np.ceil(np.power(Np,1/3.0)))\n",
        "\n",
        "    # Espaçamento entre os átomos\n",
        "    dx = L/Nx\n",
        "    dy = L/Ny\n",
        "    dz = L/Nz\n",
        "\n",
        "    # Posições possíveis em x e y\n",
        "    id = 0\n",
        "    for i in range(Nx):\n",
        "        for j in range(Ny):\n",
        "            for k in range(Nz):\n",
        "                if (id < Np):\n",
        "                    r[id][0] = (i+0.5)*dx\n",
        "                    r[id][1] = (j+0.5)*dy\n",
        "                    r[id][2] = (k+0.5)*dz\n",
        "                    id +=1\n",
        "    return r"
      ]
    },
    {
      "cell_type": "code",
      "execution_count": null,
      "metadata": {
        "id": "r7U6qpkjhzoc"
      },
      "outputs": [],
      "source": [
        "def interacao_lj(r,L,epsilon=1.0,sigma=1.0,rcut=2.5):\n",
        "    U = 0.0\n",
        "    a = np.zeros_like(r)\n",
        "    for i in range(r.shape[0]):\n",
        "        for j in range(i+1,r.shape[0]):\n",
        "            rij = r[i]-r[j]\n",
        "            # aplicando pbc\n",
        "            rij[0] -= np.rint(rij[0]/L)*L # em x\n",
        "            rij[1] -= np.rint(rij[1]/L)*L # em y\n",
        "            rij[2] -= np.rint(rij[2]/L)*L # em z\n",
        "            # calcula distancia entre duas particulas\n",
        "            rij_norm = np.linalg.norm(rij)\n",
        "            if rij_norm < rcut:\n",
        "                # calcula energia interna\n",
        "                U += ulj(rij_norm,epsilon,sigma)\n",
        "                # calcula a derivada do potencial\n",
        "                dudr = duljdr(rij_norm,epsilon,sigma)\n",
        "                # calcula aceleração na particula i\n",
        "                a[i][0] += -dudr*rij[0]/rij_norm\n",
        "                a[i][1] += -dudr*rij[1]/rij_norm\n",
        "                a[i][2] += -dudr*rij[2]/rij_norm\n",
        "                # calcula aceleração na particula j usando 3ª Lei de Newton\n",
        "                a[j][0] += dudr*rij[0]/rij_norm\n",
        "                a[j][1] += dudr*rij[1]/rij_norm\n",
        "                a[j][2] += dudr*rij[2]/rij_norm\n",
        "    return U, a"
      ]
    },
    {
      "cell_type": "markdown",
      "metadata": {
        "id": "I1XKDAq0hzoc"
      },
      "source": [
        "Criando condição inicial"
      ]
    },
    {
      "cell_type": "code",
      "execution_count": null,
      "metadata": {
        "id": "P1_z1VL9hzoc"
      },
      "outputs": [],
      "source": [
        "Np = 216 # numero de particulas\n",
        "\n",
        "L = 10.0 # tamanho da caixa cúbica\n",
        "\n",
        "r = posicoes_iniciais(Np,L) # posição inicial das partículas\n",
        "\n",
        "U, a = interacao_lj(r,L) # interação entre as partículas\n",
        "\n",
        "print(\"A energia inicial total do sistema é\", U)"
      ]
    },
    {
      "cell_type": "markdown",
      "metadata": {
        "id": "Mf6pxA0Khzoc"
      },
      "source": [
        "## Passo 1: Integrador Velocity-Verlet\n",
        "\n",
        "Apropriado apenas para 2ª Lei de Newton. Utiliza um cálculo a mais de aceleração.\n",
        "\n",
        "$$x_{t+h} = x_t + v_t h + \\frac{1}{2} a_t h^2$$\n",
        "\n",
        "$$v_{t+h} = v_t + \\frac{1}{2}(a_{t+h}+a_t) h $$\n",
        "\n",
        "De modo que o algoritmo consiste em\n",
        "\n",
        "1. Calcula $x_{t+h}$ usando $v_t$ e $a_t$;\n",
        "2. Calcula $a_{t+h}$ usando $x_{t+h}$;\n",
        "3. Calcula $v_{t+h}$ para o próximo passo;\n",
        "4. Volta ao passo 1;\n",
        "\n",
        "Ref: https://pt.wikipedia.org/wiki/M%C3%A9todo_de_Verlet"
      ]
    },
    {
      "cell_type": "markdown",
      "metadata": {
        "id": "EY1gYsdIhzoc"
      },
      "source": [
        "**<span style=\"color:#A03;font-size:14pt\">\n",
        "&#x270B; HANDS-ON! &#x1F528;\n",
        "</span>**\n",
        "\n",
        "> Implemente a função que calcula a os passos de integração de Verlet"
      ]
    },
    {
      "cell_type": "code",
      "execution_count": null,
      "metadata": {
        "id": "jNtnsre6hzod"
      },
      "outputs": [],
      "source": [
        "def integrador_verlet(r,v,a,L,h = 0.001):\n",
        "        ...\n",
        "        return r, v, a, U"
      ]
    },
    {
      "cell_type": "code",
      "execution_count": null,
      "metadata": {
        "id": "3rk8lgfchzod"
      },
      "outputs": [],
      "source": [
        "v = np.random.randn(Np,3)\n",
        "\n",
        "Nsteps = 1000\n",
        "\n",
        "print(f'iter{\" \":7}U{\" \":7}K{\" \":7}E')\n",
        "for i in range(Nsteps):\n",
        "    r[:], v[:], a[:], U, K  = integrador_verlet(r,v,a,L)\n",
        "\n",
        "    if i % 50 == 0:  # para printar a cada 50 passos\n",
        "        print(f'{i:5d}\\t {U:.3f}\\t {K:.3f}\\t {K+U:.3f}')"
      ]
    },
    {
      "cell_type": "code",
      "execution_count": null,
      "metadata": {
        "id": "AKQAkadNhzod"
      },
      "outputs": [],
      "source": [
        "plt.figure(figsize=(5,5))\n",
        "plt.plot(r[:,0],r[:,1],'o',ms=10.0,alpha=0.5) # posição das partículas\n",
        "plt.quiver(r[:,0],r[:,1],v[:,0],v[:,1],color='C0') # vetor de velocidade\n",
        "\n",
        "plt.xlim(0,L)\n",
        "plt.ylim(0,L)\n",
        "\n",
        "plt.xlabel('x')\n",
        "plt.ylabel('y')"
      ]
    },
    {
      "cell_type": "markdown",
      "metadata": {
        "id": "ahhdPKODhzod"
      },
      "source": [
        "## Passo 2: Lista de Vizinhos\n",
        "\n",
        "Nem todas as partículas estão no raio de alcance das outras.\n",
        "\n",
        "![image.png](attachment:image.png)\n",
        "\n",
        "Para partículas mais distantes que $r_s$, somente após $n$ passos poderemos ter uma possível interação.\n",
        "\n",
        "A ideia é construir uma lista que leve em conta somente os vizinhos que estão no interior de uma esfera de raio $r_s$.\n"
      ]
    },
    {
      "cell_type": "code",
      "execution_count": null,
      "metadata": {
        "id": "00K6o2O9hzod"
      },
      "outputs": [],
      "source": [
        "def lista_de_vizinhos(r,rs=2.8):\n",
        "        \"\"\"Construindo uma lista de vizinhos de Verlet dentro de uma região rcell\"\"\"\n",
        "        NL = [[] for _ in range(r.shape[0])]\n",
        "        for i in range(r.shape[0]):\n",
        "            for j in range(i+1,r.shape[0]):\n",
        "                rij = r[i]-r[j]\n",
        "                # aplicando pbc\n",
        "                rij[0] -= np.rint(rij[0]/L)*L # em x\n",
        "                rij[1] -= np.rint(rij[1]/L)*L # em y\n",
        "                rij[2] -= np.rint(rij[2]/L)*L # em z\n",
        "                # calcula distancia entre duas particulas\n",
        "                rij_norm = np.linalg.norm(rij)\n",
        "                # Vamos considerar somente interação dentro do raio de corte\n",
        "                if rij_norm < rs:\n",
        "                    NL[i].append(j)\n",
        "        return NL"
      ]
    },
    {
      "cell_type": "markdown",
      "metadata": {
        "id": "zlWM4zvphzod"
      },
      "source": [
        "Refazendo algumas funções para levar em conta a lista de vizinhos"
      ]
    },
    {
      "cell_type": "code",
      "execution_count": null,
      "metadata": {
        "id": "G0B0li5dhzod"
      },
      "outputs": [],
      "source": [
        "def interacao_lj(r,NL,L,epsilon=1.0,sigma=1.0,rcut=2.5):\n",
        "    U = 0.0\n",
        "    a = np.zeros_like(r)\n",
        "    for i in range(r.shape[0]):\n",
        "        for j in NL[i]:\n",
        "            rij = r[i]-r[j]\n",
        "            # aplicando pbc\n",
        "            rij[0] -= np.rint(rij[0]/L)*L # em x\n",
        "            rij[1] -= np.rint(rij[1]/L)*L # em y\n",
        "            rij[2] -= np.rint(rij[2]/L)*L # em z\n",
        "            # calcula distancia entre duas particulas\n",
        "            rij_norm = np.linalg.norm(rij)\n",
        "            if rij_norm < rcut:\n",
        "                # calcula energia interna\n",
        "                U += ulj(rij_norm,epsilon,sigma)\n",
        "                # calcula a derivada do potencial\n",
        "                dudr = duljdr(rij_norm,epsilon,sigma)\n",
        "                # calcula aceleração na particula i\n",
        "                a[i][0] += -dudr*rij[0]/rij_norm\n",
        "                a[i][1] += -dudr*rij[1]/rij_norm\n",
        "                a[i][2] += -dudr*rij[2]/rij_norm\n",
        "                # calcula aceleração na particula j usando 3ª Lei de Newton\n",
        "                a[j][0] += dudr*rij[0]/rij_norm\n",
        "                a[j][1] += dudr*rij[1]/rij_norm\n",
        "                a[j][2] += dudr*rij[2]/rij_norm\n",
        "    return U, a\n",
        "\n",
        "def integrador_verlet(r,v,a,NL,L,h = 0.001):\n",
        "        # update das velocidades\n",
        "        v[:] += 0.5*a*h\n",
        "        # update das posições\n",
        "        r[:] += h * v\n",
        "        # condição de contorno periódica\n",
        "        r[:] = r % L\n",
        "        # calcula nova aceleração\n",
        "        U, a = interacao_lj(r,NL,L,epsilon=1.0,sigma=1.0,rcut=2.5)\n",
        "        # update das velocidades\n",
        "        v[:] += 0.5*a*h\n",
        "        # calcula energia cinetica\n",
        "        K = 0.5*np.sum(v**2)\n",
        "        return r, v, a, U, K"
      ]
    },
    {
      "cell_type": "markdown",
      "metadata": {
        "id": "IB6UBUdvhzod"
      },
      "source": [
        "Fazendo 1000 integrações usando Lista de Vizinhos"
      ]
    },
    {
      "cell_type": "code",
      "execution_count": null,
      "metadata": {
        "id": "IIry9LyShzod"
      },
      "outputs": [],
      "source": [
        "v = np.random.randn(Np,3)\n",
        "\n",
        "Nsteps = 1000\n",
        "\n",
        "print(f'iter{\" \":7}U{\" \":7}K{\" \":7}E')\n",
        "for i in range(Nsteps):\n",
        "    if i % 20 == 0:  # para refazer a lista de vizinhos\n",
        "        NL = lista_de_vizinhos(r)\n",
        "\n",
        "    r[:], v[:], a[:], U, K  = integrador_verlet(r,v,a,NL,L)\n",
        "\n",
        "    if i % 50 == 0:  # para printar a cada 50 passos\n",
        "        print(f'{i:5d}\\t {U:.3f}\\t {K:.3f}\\t {K+U:.3f}')"
      ]
    },
    {
      "cell_type": "markdown",
      "metadata": {
        "id": "rarEo8YFhzod"
      },
      "source": [
        "## Passo 3: Cálculo da Temperatura\n",
        "\n",
        "Da termodinâmica sabemos que para um gás de partículas simples temos\n",
        "\n",
        "$$\\frac{3}{2} N k_B T = \\sum_{i=1}^N \\frac{m_i v_i^2}{2} = K$$\n",
        "\n",
        "ou seja, a energia cinética total das partículas é igual a energia térmica das partículas. Desta forma, podemos definir a temperatura como sendo\n",
        "\n",
        "$$ k_B T = \\frac{2}{3} \\frac{K}{N}$$\n",
        "\n",
        "a energia cinética média das partículas."
      ]
    },
    {
      "cell_type": "code",
      "execution_count": null,
      "metadata": {
        "id": "PDG3I3v6hzod"
      },
      "outputs": [],
      "source": [
        "v = np.random.randn(Np,3)\n",
        "\n",
        "Nsteps = 1000\n",
        "\n",
        "print(f'{\"iter\":^10} {\"U\":^10} {\"K\":^10} {\"E\":^10} {\"kT\":^10}')\n",
        "for i in range(Nsteps):\n",
        "    if i % 20 == 0:  # para refazer a lista de vizinhos\n",
        "        NL = lista_de_vizinhos(r)\n",
        "\n",
        "    r[:], v[:], a[:], U, K  = integrador_verlet(r,v,a,NL,L)\n",
        "\n",
        "    kT = 2*K/(3*Np)\n",
        "\n",
        "    if i % 50 == 0:  # para printar a cada 50 passos\n",
        "        print(f'{i:5d}\\t {U:.3f}\\t {K:.3f}\\t {K+U:.3f}\\t {kT:.3f}')"
      ]
    },
    {
      "cell_type": "markdown",
      "metadata": {
        "id": "W4iWovHMhzod"
      },
      "source": [
        "## Passo 3: Cálculo da Pressão\n",
        "\n",
        "Vimos que a energia potencial do sistema é dada por\n",
        "\n",
        "$$U = \\frac{1}{2}\\sum_{i=1}^N \\sum_{j \\neq i}^N u(\\boldsymbol{r}_{ij})$$\n",
        "\n",
        "Da termodinâmica, sabemos que\n",
        "\n",
        "$$P = \\rho k_B T - \\left(\\frac{\\partial U}{\\partial V}\\right)_{N,S}$$\n",
        "\n",
        "Como a distância entre duas partículas $\\boldsymbol{r}_{ij}$ pode ser escrita em termos de um comprimento característico da caixa de simulação $\\ell$ tal que $\\boldsymbol{r}_{ij} = \\boldsymbol{s}_{ij} \\ell$ e que $V = \\ell^3$, podemos escrever que\n",
        "\n",
        "$$\\left(\\frac{\\partial U}{\\partial V}\\right)_{N,S} = \\frac{1}{2}\\sum_{i=1}^N \\sum_{j \\neq i}^N \\frac{\\partial u(\\boldsymbol{r}_{ij})}{\\partial \\boldsymbol{r}_{ij}} \\cdot \\frac{\\partial \\boldsymbol{r}_{ij}}{\\partial V}$$\n",
        "\n",
        "e usando que $\\frac{\\partial \\boldsymbol{r}_{ij}}{\\partial V} = \\boldsymbol{r}_{ij}/(3V)$ chegamos a\n",
        "\n",
        "$$P = \\rho k_B T + \\frac{W}{3V}$$\n",
        "\n",
        "$$W=  \\frac{1}{2}\\sum_{i=1}^N \\sum_{j \\neq i}^N \\boldsymbol{f}_{ij} \\cdot \\boldsymbol{r}_{ij}$$\n",
        "\n",
        "sendo $W$ o termo de virial que pode ser calculado pelo produto entre as forças e os deslocamentos."
      ]
    },
    {
      "cell_type": "code",
      "execution_count": null,
      "metadata": {
        "id": "3p_1RiJlhzod"
      },
      "outputs": [],
      "source": [
        "def interacao_lj(r,NL,L,epsilon=1.0,sigma=1.0,rcut=2.5):\n",
        "    U = 0.0\n",
        "    W = 0.0\n",
        "    a = np.zeros_like(r)\n",
        "    for i in range(r.shape[0]):\n",
        "        for j in NL[i]:\n",
        "            rij = r[i]-r[j]\n",
        "            # aplicando pbc\n",
        "            rij[0] -= np.rint(rij[0]/L)*L # em x\n",
        "            rij[1] -= np.rint(rij[1]/L)*L # em y\n",
        "            rij[2] -= np.rint(rij[2]/L)*L # em z\n",
        "            # calcula distancia entre duas particulas\n",
        "            rij_norm = np.linalg.norm(rij)\n",
        "            if rij_norm < rcut:\n",
        "                # calcula energia interna\n",
        "                U += ulj(rij_norm,epsilon,sigma)\n",
        "                # calcula a derivada do potencial\n",
        "                dudr = duljdr(rij_norm,epsilon,sigma)\n",
        "                # calcula aceleração na particula i\n",
        "                a[i][0] += -dudr*rij[0]/rij_norm\n",
        "                a[i][1] += -dudr*rij[1]/rij_norm\n",
        "                a[i][2] += -dudr*rij[2]/rij_norm\n",
        "                # calcula aceleração na particula j usando 3ª Lei de Newton\n",
        "                a[j][0] += dudr*rij[0]/rij_norm\n",
        "                a[j][1] += dudr*rij[1]/rij_norm\n",
        "                a[j][2] += dudr*rij[2]/rij_norm\n",
        "                # calcula correção da pressao\n",
        "                W += dudr*rij_norm\n",
        "    return U, W, a\n",
        "\n",
        "def integrador_verlet(r,v,a,NL,L,h = 0.001):\n",
        "        # update das velocidades\n",
        "        v[:] += 0.5*a*h\n",
        "        # update das posições\n",
        "        r[:] += h * v\n",
        "        # condição de contorno periódica\n",
        "        r[:] = r % L\n",
        "        # calcula nova aceleração\n",
        "        U, W, a = interacao_lj(r,NL,L,epsilon=1.0,sigma=1.0,rcut=2.5)\n",
        "        # update das velocidades\n",
        "        v[:] += 0.5*a*h\n",
        "        # calcula energia cinetica\n",
        "        K = 0.5*np.sum(v**2)\n",
        "        return r, v, a, U, K, W"
      ]
    },
    {
      "cell_type": "code",
      "execution_count": null,
      "metadata": {
        "id": "L44SVEDThzod"
      },
      "outputs": [],
      "source": [
        "v = np.random.randn(Np,3)\n",
        "\n",
        "Nsteps = 1000\n",
        "\n",
        "print(f'{\"iter\":^10} {\"U\":^10} {\"K\":^10} {\"E\":^10} {\"kT\":^10} {\"P\":^10}')\n",
        "for i in range(Nsteps):\n",
        "    if i % 20 == 0:  # para refazer a lista de vizinhos\n",
        "        NL = lista_de_vizinhos(r)\n",
        "\n",
        "    r[:], v[:], a[:], U, K, W  = integrador_verlet(r,v,a,NL,L)\n",
        "\n",
        "    kT = 2*K/(3*Np)\n",
        "    P = (Np*kT + W/3)/(L**3)\n",
        "\n",
        "    if i % 50 == 0:  # para printar a cada 50 passos\n",
        "        print(f'{i:5d}\\t {U:.3f}\\t {K:.3f}\\t {K+U:.3f}\\t {kT:.3f}\\t {P:.3f}')"
      ]
    },
    {
      "cell_type": "markdown",
      "metadata": {
        "id": "h37LzvxGhzod"
      },
      "source": [
        "Distribuição de velocidades"
      ]
    },
    {
      "cell_type": "code",
      "execution_count": null,
      "metadata": {
        "id": "KiDByxE1hzod"
      },
      "outputs": [],
      "source": [
        "fig, axs = plt.subplots(1, 3, sharey=True,figsize=(10,3))\n",
        "\n",
        "vx = np.arange(-5,5,0.1)\n",
        "fvx = np.exp(-vx**2/(2))/np.sqrt(2*np.pi)\n",
        "\n",
        "n, bins = np.histogram(v[:,0],bins=15,range=(vx.min(),vx.max()),density=True)\n",
        "meanbins = 0.5*(bins[1:]+bins[:-1])\n",
        "axs[0].scatter(meanbins,n,marker='o',color='C0')\n",
        "axs[0].plot(vx,fvx,'k')\n",
        "axs[0].set_xlabel(r'$v_x$')\n",
        "\n",
        "n, bins = np.histogram(v[:,1],bins=15,range=(vx.min(),vx.max()),density=True)\n",
        "meanbins = 0.5*(bins[1:]+bins[:-1])\n",
        "axs[1].scatter(meanbins,n,marker='o',color='C1')\n",
        "axs[1].plot(vx,fvx,'k')\n",
        "axs[1].set_xlabel(r'$v_y$')\n",
        "\n",
        "n, bins = np.histogram(v[:,2],bins=15,range=(vx.min(),vx.max()),density=True)\n",
        "meanbins = 0.5*(bins[1:]+bins[:-1])\n",
        "axs[2].scatter(meanbins,n,marker='o',color='C2')\n",
        "axs[2].plot(vx,fvx,'k')\n",
        "axs[2].set_xlabel(r'$v_z$')\n",
        "\n",
        "axs[0].set_ylim(0,0.5)"
      ]
    },
    {
      "cell_type": "markdown",
      "metadata": {
        "id": "6GjeUNSDhzoe"
      },
      "source": [
        "## Grand Finale: Criando uma Classe `LJsystem`"
      ]
    },
    {
      "cell_type": "code",
      "execution_count": null,
      "metadata": {
        "id": "oOHaNorBhzoe"
      },
      "outputs": [],
      "source": [
        "class LJsystem():\n",
        "    # Função que cria a classe\n",
        "    def __init__(self,N_atoms, m = 1.0, epsilon = 1.0, sigma = 1.0, rcut = 2.5):\n",
        "        self.N_atoms = N_atoms\n",
        "\n",
        "        # parametros dos atomos\n",
        "        self.m = m\n",
        "        self.sigma = sigma\n",
        "        self.epsilon = epsilon\n",
        "\n",
        "        # parametro de cutoff da interação de LJ\n",
        "        self.rcut = rcut\n",
        "\n",
        "        # Arrays de posições\n",
        "        self.r = np.zeros((self.N_atoms,3))\n",
        "\n",
        "        # Arrays de velocidade\n",
        "        self.v = np.zeros((self.N_atoms,3))\n",
        "\n",
        "        # Arrays de aceleração\n",
        "        self.a = np.zeros((self.N_atoms,3))\n",
        "\n",
        "    def Set_Density(self,rho):\n",
        "        self.rho = rho\n",
        "        # calcular o tamanho da caixa necessária\n",
        "        self.Vol = self.N_atoms/self.rho\n",
        "        self.L = np.power(self.Vol,1/3.0)\n",
        "\n",
        "    def Initialize_Positions(self):\n",
        "        # Número de pontos em x e y\n",
        "        Nx = Ny = Nz = int(np.ceil(np.power(self.N_atoms/4,1/3.0)))\n",
        "\n",
        "        # Espaçamento entre os átomos\n",
        "        dx = self.L/Nx\n",
        "        dy = self.L/Ny\n",
        "        dz = self.L/Nz\n",
        "\n",
        "        # Posições possíveis em x e y numa rede cristalina tipo FCC\n",
        "        id = 0\n",
        "        for i in range(Nx):\n",
        "            for j in range(Ny):\n",
        "                for k in range(Nz):\n",
        "                    if (id < self.N_atoms):\n",
        "                        self.r[id][0] = i*dx\n",
        "                        self.r[id][1] = j*dy\n",
        "                        self.r[id][2] = k*dz\n",
        "                        id +=1\n",
        "\n",
        "                    if (id < self.N_atoms):\n",
        "                        self.r[id][0] = i*dx\n",
        "                        self.r[id][1] = (j+0.5)*dy\n",
        "                        self.r[id][2] = (k+0.5)*dz\n",
        "                        id +=1\n",
        "\n",
        "                    if (id < self.N_atoms):\n",
        "                        self.r[id][0] = (i+0.5)*dx\n",
        "                        self.r[id][1] = j*dy\n",
        "                        self.r[id][2] = (k+0.5)*dz\n",
        "                        id +=1\n",
        "\n",
        "                    if (id < self.N_atoms):\n",
        "                        self.r[id][0] = (i+0.5)*dx\n",
        "                        self.r[id][1] = (j+0.5)*dy\n",
        "                        self.r[id][2] = k*dz\n",
        "                        id +=1\n",
        "\n",
        "    def Initialize_Velocities(self,kT= 1.0):\n",
        "        self.kT = kT\n",
        "\n",
        "        # sorteia uma distribuição normal com devio padrão proporcional a temperatura\n",
        "        self.v = np.sqrt(self.kT/self.m)*np.random.randn(self.N_atoms,3)\n",
        "\n",
        "        # retira qualquer movimento total\n",
        "        self.v[:] -= self.v.mean(axis=0)\n",
        "\n",
        "    def Get_KineticEnergy(self):\n",
        "        self.K = 0.5*self.m*np.sum(self.v**2)\n",
        "        return self.K\n",
        "\n",
        "    def Build_NeighborList(self,rs=2.8):\n",
        "        \"\"\"Construindo uma lista de vizinhos de Verlet dentro de uma região rcell\"\"\"\n",
        "        self.rs = rs\n",
        "        self.NL = [[] for _ in range(self.N_atoms)]\n",
        "        for i in range(self.N_atoms):\n",
        "            for j in range(i+1, self.N_atoms):\n",
        "                # calcula distancia entre duas particulas\n",
        "                rij = self.r[i]-self.r[j]\n",
        "                # aplicando pbc\n",
        "                rij[:] -= np.rint(rij/self.L)*self.L\n",
        "                # calcula distancia entre duas particulas\n",
        "                rij_norm = np.linalg.norm(rij)\n",
        "                # Vamos considerar somente interação dentro do raio de corte\n",
        "                if rij_norm < self.rs:\n",
        "                    self.NL[i].append(j)\n",
        "\n",
        "    def Calculate_Interactions(self):\n",
        "        self.a[:] = 0.0\n",
        "        self.U = 0.0\n",
        "        self.W = 0.0\n",
        "        for i in range(self.N_atoms):\n",
        "            for j in self.NL[i]: # <-------- troca os limites\n",
        "                # calcula distancia entre duas particulas\n",
        "                rij = self.r[i]-self.r[j]\n",
        "                # aplicando pbc\n",
        "                rij[:] -= np.rint(rij/self.L)*self.L\n",
        "                # calcula distancia entre duas particulas\n",
        "                rij_norm = np.linalg.norm(rij)\n",
        "                if rij_norm < self.rcut:\n",
        "                    # calcula energia interna\n",
        "                    self.U += ulj(rij_norm,self.epsilon,self.sigma)\n",
        "                    # calcula a derivada do potencial\n",
        "                    dudr = duljdr(rij_norm,self.epsilon,self.sigma)\n",
        "                    # calcula aceleração na particula i\n",
        "                    self.a[i] += -dudr*rij/rij_norm\n",
        "                    # calcula aceleração na particula j usando 3ª Lei de Newton\n",
        "                    self.a[j] += dudr*rij/rij_norm\n",
        "                    # calcula correção da pressao\n",
        "                    self.W += dudr*rij_norm\n",
        "\n",
        "    def Get_PotentialEnergy(self):\n",
        "        return self.U\n",
        "\n",
        "    def Get_Energies(self):\n",
        "        self.Get_KineticEnergy()\n",
        "        kT = 2*self.K/(3*self.N_atoms)\n",
        "        return self.K, self.U, kT\n",
        "\n",
        "    def Calculate_Pressure(self):\n",
        "        kT = 2*self.K/(3*self.N_atoms)\n",
        "        return self.rho*kT + self.W/(3*self.Vol)\n",
        "\n",
        "    def Set_TimeStep(self,h):\n",
        "        self.h = h\n",
        "\n",
        "    def Calculate_TimeStep(self):\n",
        "        # update das velocidades\n",
        "        self.v[:] += 0.5*self.a*self.h\n",
        "        # update das posições\n",
        "        self.r[:] += self.h * self.v\n",
        "        # condição de contorno periódica\n",
        "        self.r[:] = self.r % self.L\n",
        "        # calcula nova aceleração\n",
        "        self.Calculate_Interactions()\n",
        "        # update das velocidades\n",
        "        self.v[:] += 0.5*self.a*self.h\n",
        "\n",
        "    def RunSimulation(self,N_steps,Step_to_print=50,Step_tolist_update=20):\n",
        "        self.N_steps = N_steps\n",
        "        self.Step_to_print = Step_to_print # steps to print output\n",
        "        self.Step_tolist_update = Step_tolist_update\n",
        "\n",
        "        self.Build_NeighborList()\n",
        "        self.Calculate_Interactions()\n",
        "\n",
        "        print('iter\\t K\\t U\\t E\\t T\\t P')\n",
        "\n",
        "        t = []\n",
        "        K = []\n",
        "        U = []\n",
        "        E = []\n",
        "        T = []\n",
        "        P = []\n",
        "\n",
        "        Ktemp, Utemp, Ttemp = self.Get_Energies()\n",
        "        Ptemp = self.Calculate_Pressure()\n",
        "        Kmed = Ktemp\n",
        "        Umed = Utemp\n",
        "        Emed = Ktemp+Utemp\n",
        "        Tmed = Ttemp\n",
        "        Pmed = Ptemp\n",
        "\n",
        "        for i in range(1,self.N_steps+1):\n",
        "\n",
        "            if i % self.Step_tolist_update == 0:\n",
        "                self.Build_NeighborList()\n",
        "\n",
        "            self.Calculate_TimeStep()\n",
        "\n",
        "            Ktemp, Utemp, Ttemp = self.Get_Energies()\n",
        "            Ptemp = self.Calculate_Pressure()\n",
        "            Kmed += Ktemp\n",
        "            Umed += Utemp\n",
        "            Tmed += Ttemp\n",
        "            Emed += Ktemp+Utemp\n",
        "            Pmed += Ptemp\n",
        "\n",
        "            if i % self.Step_to_print == 0:\n",
        "                Kmed /= Step_to_print\n",
        "                Umed /= Step_to_print\n",
        "                Emed /= Step_to_print\n",
        "                Tmed /= Step_to_print\n",
        "                Pmed /= Step_to_print\n",
        "                t.append(i)\n",
        "                K.append(Kmed)\n",
        "                U.append(Umed)\n",
        "                E.append(Emed)\n",
        "                T.append(Tmed)\n",
        "                P.append(Pmed)\n",
        "                print(f'{i:5d}\\t {Kmed:.4f}\\t {Umed:.4f}\\t {Emed:.4f}\\t {Tmed:.4f}\\t {Pmed:.4f}')\n",
        "                Kmed = 0.0\n",
        "                Umed = 0.0\n",
        "                Emed = 0.0\n",
        "                Tmed = 0.0\n",
        "                Pmed = 0.0\n",
        "\n",
        "        return np.array(t), np.array(K), np.array(U), np.array(E), np.array(T), np.array(P)"
      ]
    },
    {
      "cell_type": "code",
      "execution_count": null,
      "metadata": {
        "id": "jXYDgw8-hzoe"
      },
      "outputs": [],
      "source": [
        "rho = 0.55\n",
        "kT = 1.38\n",
        "\n",
        "N_atoms=256\n",
        "\n",
        "lj = LJsystem(N_atoms=N_atoms,m=1.0,epsilon=1.0,sigma=1.0)\n",
        "lj.Set_Density(rho=rho)\n",
        "lj.Initialize_Positions()\n",
        "lj.Initialize_Velocities(kT=kT)\n",
        "lj.Set_TimeStep(h=0.003)"
      ]
    },
    {
      "cell_type": "code",
      "execution_count": null,
      "metadata": {
        "id": "ip-FMm0ahzoe"
      },
      "outputs": [],
      "source": [
        "plt.figure(figsize=(5,5))\n",
        "plt.plot(lj.r[:,0],lj.r[:,1],'o',ms=10.0,alpha=0.5) # posição das partículas\n",
        "plt.quiver(lj.r[:,0],lj.r[:,1],lj.v[:,0],lj.v[:,1],color='C0') # vetor de velocidade\n",
        "\n",
        "plt.xlim(0,lj.L)\n",
        "plt.ylim(0,lj.L)\n",
        "\n",
        "plt.xlabel('x')\n",
        "plt.ylabel('y')"
      ]
    },
    {
      "cell_type": "code",
      "execution_count": null,
      "metadata": {
        "id": "IOwkvsJNhzoe"
      },
      "outputs": [],
      "source": [
        "t, K, U, E, T, P = lj.RunSimulation(N_steps=2000,Step_to_print=50)"
      ]
    },
    {
      "cell_type": "markdown",
      "metadata": {
        "id": "-rlABIWIhzoe"
      },
      "source": [
        "Gráfico das posições finais das partículas"
      ]
    },
    {
      "cell_type": "code",
      "execution_count": null,
      "metadata": {
        "id": "RM2YQNDDhzoe"
      },
      "outputs": [],
      "source": [
        "plt.figure(figsize=(5,5))\n",
        "plt.plot(lj.r[:,0],lj.r[:,1],'o',ms=10.0,alpha=0.5) # posição das partículas\n",
        "plt.quiver(lj.r[:,0],lj.r[:,1],lj.v[:,0],lj.v[:,1],color='C0') # vetor de velocidade\n",
        "\n",
        "plt.xlim(0,lj.L)\n",
        "plt.ylim(0,lj.L)\n",
        "\n",
        "plt.xlabel('x')\n",
        "plt.ylabel('y')"
      ]
    },
    {
      "cell_type": "markdown",
      "metadata": {
        "id": "j-o60cAmhzoe"
      },
      "source": [
        "Gráfico da evolução de $U$ e $T$ como função dos passos de iteração"
      ]
    },
    {
      "cell_type": "code",
      "execution_count": null,
      "metadata": {
        "id": "zV0NTW3Ehzoe"
      },
      "outputs": [],
      "source": [
        "fig, axs = plt.subplots(4, 1, sharex=True)\n",
        "\n",
        "axs[0].plot(t,E/lj.N_atoms,'k',label='E')\n",
        "axs[0].legend(loc='best')\n",
        "axs[0].set_ylabel(r'$E/(N\\epsilon)$')\n",
        "\n",
        "axs[1].plot(t,U/lj.N_atoms,label='U')\n",
        "axs[1].legend(loc='best')\n",
        "axs[1].set_ylabel(r'$U/(N\\epsilon)$')\n",
        "\n",
        "axs[2].plot(t,T,color='C3',label='T')\n",
        "axs[2].legend(loc='best')\n",
        "axs[2].set_ylabel(r'$k_B T/\\epsilon$')\n",
        "\n",
        "axs[3].plot(t,P,color='C2',label='P')\n",
        "axs[3].legend(loc='best')\n",
        "axs[3].set_xlabel(r'$t/\\tau$')\n",
        "axs[3].set_ylabel(r'$P \\sigma^3/\\epsilon$')"
      ]
    },
    {
      "cell_type": "markdown",
      "metadata": {
        "id": "vIvUqmeXhzoe"
      },
      "source": [
        "## Calculando Médias e Desvios Padrão"
      ]
    },
    {
      "cell_type": "code",
      "execution_count": null,
      "metadata": {
        "id": "4jMWq2gPhzoe"
      },
      "outputs": [],
      "source": [
        "teq = 150\n",
        "subsett = t[t>teq]\n",
        "subsetT = T[t>teq]\n",
        "subsetP = P[t>teq]\n",
        "subsetU = U[t>teq]/lj.N_atoms"
      ]
    },
    {
      "cell_type": "markdown",
      "metadata": {
        "id": "p8VyR2uphzoe"
      },
      "source": [
        "Energia Interna"
      ]
    },
    {
      "cell_type": "code",
      "execution_count": null,
      "metadata": {
        "id": "qStRW203hzoe"
      },
      "outputs": [],
      "source": [
        "Umean = subsetU.mean()\n",
        "\n",
        "sigmaU = subsetU.std()\n",
        "\n",
        "print(rf\"A energia interna do sistema é {Umean:.2f}+-{sigmaU:.2f} por partícula\")"
      ]
    },
    {
      "cell_type": "code",
      "execution_count": null,
      "metadata": {
        "id": "eQ1vyvSchzol"
      },
      "outputs": [],
      "source": [
        "plt.xlabel(r'$U/\\epsilon$')\n",
        "plt.ylabel('Densidade de Probabilidade')\n",
        "\n",
        "uarray = np.arange(-3.6,-3.2,0.001)\n",
        "plt.plot(uarray,np.sqrt(1/(2*np.pi*sigmaU**2))*np.exp(-0.5*(uarray-Umean)**2/sigmaU**2),color='k')\n",
        "\n",
        "n, bins = np.histogram(subsetU,bins=15,range=(uarray.min(),uarray.max()),density=True)\n",
        "meanbins = 0.5*(bins[1:]+bins[:-1])\n",
        "plt.scatter(meanbins,n,marker='o',color='C0')"
      ]
    },
    {
      "cell_type": "markdown",
      "metadata": {
        "id": "EpTF8OHhhzol"
      },
      "source": [
        "Temperatura"
      ]
    },
    {
      "cell_type": "code",
      "execution_count": null,
      "metadata": {
        "id": "FtefX2oqhzom"
      },
      "outputs": [],
      "source": [
        "Tmean = subsetT.mean()\n",
        "sigmaT = subsetT.std()\n",
        "\n",
        "print(rf\"A temperatura do sistema é {Tmean:.2f}+-{sigmaT:.2f}\")"
      ]
    },
    {
      "cell_type": "code",
      "execution_count": null,
      "metadata": {
        "id": "8BO4EXO7hzom"
      },
      "outputs": [],
      "source": [
        "plt.xlabel(r'$k_B T/\\epsilon$')\n",
        "plt.ylabel('Densidade de Probabilidade')\n",
        "\n",
        "Tarray = np.arange(1.2,1.5,0.001)\n",
        "plt.plot(Tarray,np.sqrt(1/(2*np.pi*sigmaT**2))*np.exp(-0.5*(Tarray-Tmean)**2/sigmaT**2),color='k')\n",
        "\n",
        "n, bins = np.histogram(subsetT,bins=15,range=(Tarray.min(),Tarray.max()),density=True)\n",
        "meanbins = 0.5*(bins[1:]+bins[:-1])\n",
        "plt.scatter(meanbins,n,marker='o',color='C3')"
      ]
    },
    {
      "cell_type": "markdown",
      "metadata": {
        "id": "Q1l-vWtphzom"
      },
      "source": [
        "Pressão"
      ]
    },
    {
      "cell_type": "code",
      "execution_count": null,
      "metadata": {
        "id": "zggRUninhzom"
      },
      "outputs": [],
      "source": [
        "Pmean = subsetP.mean()\n",
        "sigmaP = subsetP.std()\n",
        "\n",
        "print(rf\"A pressão do sistema é {Pmean:.2f}+-{sigmaP:.2f}\")"
      ]
    },
    {
      "cell_type": "code",
      "execution_count": null,
      "metadata": {
        "id": "U9vQ7SmYhzom"
      },
      "outputs": [],
      "source": [
        "plt.xlabel(r'$P \\sigma^3/\\epsilon$')\n",
        "plt.ylabel('Densidade de Probabilidade')\n",
        "\n",
        "Parray = np.arange(0.0,1.6,0.001)\n",
        "plt.plot(Parray,np.sqrt(1/(2*np.pi*sigmaP**2))*np.exp(-0.5*(Parray-Pmean)**2/sigmaP**2),color='k')\n",
        "\n",
        "n, bins = np.histogram(subsetP,bins=15,range=(Parray.min(),Parray.max()),density=True)\n",
        "meanbins = 0.5*(bins[1:]+bins[:-1])\n",
        "plt.scatter(meanbins,n,marker='o',color='C2')"
      ]
    },
    {
      "cell_type": "markdown",
      "metadata": {
        "id": "FvglOIHhhzom"
      },
      "source": [
        "**<span style=\"color:#A03;font-size:14pt\">\n",
        "&#x270B; HANDS-ON! &#x1F528;\n",
        "</span>**\n",
        "\n",
        "> Refaça a simulação usando 864 partículas. Compare os resultados."
      ]
    },
    {
      "cell_type": "code",
      "execution_count": null,
      "metadata": {
        "id": "BT8vDEiOhzom"
      },
      "outputs": [],
      "source": []
    }
  ],
  "metadata": {
    "kernelspec": {
      "display_name": "simmol",
      "language": "python",
      "name": "python3"
    },
    "language_info": {
      "codemirror_mode": {
        "name": "ipython",
        "version": 3
      },
      "file_extension": ".py",
      "mimetype": "text/x-python",
      "name": "python",
      "nbconvert_exporter": "python",
      "pygments_lexer": "ipython3",
      "version": "3.13.3"
    },
    "colab": {
      "provenance": [],
      "include_colab_link": true
    }
  },
  "nbformat": 4,
  "nbformat_minor": 0
}