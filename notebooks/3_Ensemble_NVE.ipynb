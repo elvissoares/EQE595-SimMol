{
  "cells": [
    {
      "cell_type": "markdown",
      "metadata": {
        "id": "view-in-github",
        "colab_type": "text"
      },
      "source": [
        "<a href=\"https://colab.research.google.com/github/elvissoares/EQE595-SimMol/blob/main/notebooks/3_Ensemble_NVE.ipynb\" target=\"_parent\"><img src=\"https://colab.research.google.com/assets/colab-badge.svg\" alt=\"Open In Colab\"/></a>"
      ]
    },
    {
      "cell_type": "markdown",
      "metadata": {
        "id": "yXpCKP8Ghzob"
      },
      "source": [
        "# Aula Prática 03 - Dinâmica Molecular em Ensemble NVE\n",
        "\n",
        "Autor: [Prof. Elvis do A. Soares](https://github.com/elvissoares)\n",
        "\n",
        "Contato: [elvis@peq.coppe.ufrj.br](mailto:elvis@peq.coppe.ufrj.br) - [Programa de Engenharia Química, PEQ/COPPE, UFRJ, Brasil](https://www.peq.coppe.ufrj.br/)\n",
        "\n",
        "---"
      ]
    },
    {
      "cell_type": "code",
      "execution_count": null,
      "metadata": {
        "id": "_QPplZGKhzoc"
      },
      "outputs": [],
      "source": [
        "import numpy as np\n",
        "import matplotlib.pyplot as plt"
      ]
    },
    {
      "cell_type": "markdown",
      "metadata": {
        "id": "yF-d40dhhzoc"
      },
      "source": [
        "# Dinâmica Molecular no Ensemble NVE\n",
        "\n",
        "- $N$: número de partículas\n",
        "- $V$: volume\n",
        "- $E$: energia\n"
      ]
    },
    {
      "cell_type": "code",
      "execution_count": null,
      "metadata": {
        "id": "J36VlB1ahzoc"
      },
      "outputs": [],
      "source": [
        "def ulj(r,epsilon=1.0,sigma=1.0):\n",
        "    return 4*epsilon*((sigma/r)**12-(sigma/r)**6)\n",
        "\n",
        "def duljdr(r,epsilon=1.0,sigma=1.0):\n",
        "    return -4*epsilon*((12*(sigma/r)**12-6*(sigma/r)**6)/r)"
      ]
    },
    {
      "cell_type": "code",
      "execution_count": null,
      "metadata": {
        "id": "OAqp2dzfhzoc"
      },
      "outputs": [],
      "source": [
        "def posicoes_iniciais(Np, L):\n",
        "    # array como posições das partículas\n",
        "    r = np.zeros((Np,3))\n",
        "\n",
        "    # Número de pontos em x e y\n",
        "    Nx = Ny = Nz = int(np.ceil(np.power(Np,1/3.0)))\n",
        "\n",
        "    # Espaçamento entre os átomos\n",
        "    dx = L/Nx\n",
        "    dy = L/Ny\n",
        "    dz = L/Nz\n",
        "\n",
        "    # Posições possíveis em x e y\n",
        "    id = 0\n",
        "    for i in range(Nx):\n",
        "        for j in range(Ny):\n",
        "            for k in range(Nz):\n",
        "                if (id < Np):\n",
        "                    r[id][0] = (i+0.5)*dx\n",
        "                    r[id][1] = (j+0.5)*dy\n",
        "                    r[id][2] = (k+0.5)*dz\n",
        "                    id +=1\n",
        "    return r"
      ]
    },
    {
      "cell_type": "code",
      "execution_count": null,
      "metadata": {
        "id": "r7U6qpkjhzoc"
      },
      "outputs": [],
      "source": [
        "def interacao_lj(r,L,epsilon=1.0,sigma=1.0,rcut=2.5):\n",
        "    U = 0.0\n",
        "    a = np.zeros_like(r)\n",
        "    for i in range(r.shape[0]):\n",
        "        for j in range(i+1,r.shape[0]):\n",
        "            rij = r[i]-r[j]\n",
        "            # aplicando pbc\n",
        "            rij[0] -= np.rint(rij[0]/L)*L # em x\n",
        "            rij[1] -= np.rint(rij[1]/L)*L # em y\n",
        "            rij[2] -= np.rint(rij[2]/L)*L # em z\n",
        "            # calcula distancia entre duas particulas\n",
        "            rij_norm = np.linalg.norm(rij)\n",
        "            if rij_norm < rcut:\n",
        "                # calcula energia interna\n",
        "                U += ulj(rij_norm,epsilon,sigma)\n",
        "                # calcula a derivada do potencial\n",
        "                dudr = duljdr(rij_norm,epsilon,sigma)\n",
        "                # calcula aceleração na particula i\n",
        "                a[i][0] += -dudr*rij[0]/rij_norm\n",
        "                a[i][1] += -dudr*rij[1]/rij_norm\n",
        "                a[i][2] += -dudr*rij[2]/rij_norm\n",
        "                # calcula aceleração na particula j usando 3ª Lei de Newton\n",
        "                a[j][0] += dudr*rij[0]/rij_norm\n",
        "                a[j][1] += dudr*rij[1]/rij_norm\n",
        "                a[j][2] += dudr*rij[2]/rij_norm\n",
        "    return U, a"
      ]
    },
    {
      "cell_type": "markdown",
      "metadata": {
        "id": "I1XKDAq0hzoc"
      },
      "source": [
        "Criando condição inicial"
      ]
    },
    {
      "cell_type": "code",
      "execution_count": null,
      "metadata": {
        "id": "P1_z1VL9hzoc"
      },
      "outputs": [],
      "source": [
        "Np = 216 # numero de particulas\n",
        "\n",
        "L = 10.0 # tamanho da caixa cúbica\n",
        "\n",
        "r = posicoes_iniciais(Np,L) # posição inicial das partículas\n",
        "\n",
        "U, a = interacao_lj(r,L) # interação entre as partículas\n",
        "\n",
        "print(\"A energia inicial total do sistema é\", U)"
      ]
    },
    {
      "cell_type": "markdown",
      "metadata": {
        "id": "Mf6pxA0Khzoc"
      },
      "source": [
        "## Passo 1: Integrador Velocity-Verlet\n",
        "\n",
        "Apropriado apenas para 2ª Lei de Newton. Utiliza um cálculo a mais de aceleração.\n",
        "\n",
        "$$x_{t+h} = x_t + v_t h + \\frac{1}{2} a_t h^2$$\n",
        "\n",
        "$$v_{t+h} = v_t + \\frac{1}{2}(a_{t+h}+a_t) h $$\n",
        "\n",
        "De modo que o algoritmo consiste em\n",
        "\n",
        "1. Calcula $x_{t+h}$ usando $v_t$ e $a_t$;\n",
        "2. Calcula $a_{t+h}$ usando $x_{t+h}$;\n",
        "3. Calcula $v_{t+h}$ para o próximo passo;\n",
        "4. Volta ao passo 1;\n",
        "\n",
        "Ref: https://pt.wikipedia.org/wiki/M%C3%A9todo_de_Verlet"
      ]
    },
    {
      "cell_type": "markdown",
      "metadata": {
        "id": "EY1gYsdIhzoc"
      },
      "source": [
        "**<span style=\"color:#A03;font-size:14pt\">\n",
        "&#x270B; HANDS-ON! &#x1F528;\n",
        "</span>**\n",
        "\n",
        "> Implemente a função que calcula a os passos de integração de Verlet"
      ]
    },
    {
      "cell_type": "code",
      "execution_count": null,
      "metadata": {
        "id": "jNtnsre6hzod"
      },
      "outputs": [],
      "source": [
        "def integrador_verlet(r,v,a,L,h = 0.001):\n",
        "        ...\n",
        "        return r, v, a, U"
      ]
    },
    {
      "cell_type": "code",
      "execution_count": null,
      "metadata": {
        "id": "3rk8lgfchzod"
      },
      "outputs": [],
      "source": [
        "v = np.random.randn(Np,3)\n",
        "\n",
        "Nsteps = 1000\n",
        "\n",
        "print(f'iter{\" \":7}U{\" \":7}K{\" \":7}E')\n",
        "for i in range(Nsteps):\n",
        "    r[:], v[:], a[:], U, K  = integrador_verlet(r,v,a,L)\n",
        "\n",
        "    if i % 50 == 0:  # para printar a cada 50 passos\n",
        "        print(f'{i:5d}\\t {U:.3f}\\t {K:.3f}\\t {K+U:.3f}')"
      ]
    },
    {
      "cell_type": "code",
      "execution_count": null,
      "metadata": {
        "id": "AKQAkadNhzod"
      },
      "outputs": [],
      "source": [
        "plt.figure(figsize=(5,5))\n",
        "plt.plot(r[:,0],r[:,1],'o',ms=10.0,alpha=0.5) # posição das partículas\n",
        "plt.quiver(r[:,0],r[:,1],v[:,0],v[:,1],color='C0') # vetor de velocidade\n",
        "\n",
        "plt.xlim(0,L)\n",
        "plt.ylim(0,L)\n",
        "\n",
        "plt.xlabel('x')\n",
        "plt.ylabel('y')"
      ]
    },
    {
      "cell_type": "markdown",
      "metadata": {
        "id": "ahhdPKODhzod"
      },
      "source": [
        "## Passo 2: Lista de Vizinhos\n",
        "\n",
        "Nem todas as partículas estão no raio de alcance das outras.\n",
        "\n",
        "![verlet_list.jpg](data:image/jpeg;base64,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)\n",
        "\n",
        "Para partículas mais distantes que $r_s$, somente após $n$ passos poderemos ter uma possível interação.\n",
        "\n",
        "A ideia é construir uma lista que leve em conta somente os vizinhos que estão no interior de uma esfera de raio $r_s$.\n"
      ]
    },
    {
      "cell_type": "code",
      "execution_count": null,
      "metadata": {
        "id": "00K6o2O9hzod"
      },
      "outputs": [],
      "source": [
        "def lista_de_vizinhos(r,rs=2.8):\n",
        "        \"\"\"Construindo uma lista de vizinhos de Verlet dentro de uma região rcell\"\"\"\n",
        "        NL = [[] for _ in range(r.shape[0])]\n",
        "        for i in range(r.shape[0]):\n",
        "            for j in range(i+1,r.shape[0]):\n",
        "                rij = r[i]-r[j]\n",
        "                # aplicando pbc\n",
        "                rij[0] -= np.rint(rij[0]/L)*L # em x\n",
        "                rij[1] -= np.rint(rij[1]/L)*L # em y\n",
        "                rij[2] -= np.rint(rij[2]/L)*L # em z\n",
        "                # calcula distancia entre duas particulas\n",
        "                rij_norm = np.linalg.norm(rij)\n",
        "                # Vamos considerar somente interação dentro do raio de corte\n",
        "                if rij_norm < rs:\n",
        "                    NL[i].append(j)\n",
        "        return NL"
      ]
    },
    {
      "cell_type": "markdown",
      "metadata": {
        "id": "zlWM4zvphzod"
      },
      "source": [
        "Refazendo algumas funções para levar em conta a lista de vizinhos"
      ]
    },
    {
      "cell_type": "code",
      "execution_count": null,
      "metadata": {
        "id": "G0B0li5dhzod"
      },
      "outputs": [],
      "source": [
        "def interacao_lj(r,NL,L,epsilon=1.0,sigma=1.0,rcut=2.5):\n",
        "    U = 0.0\n",
        "    a = np.zeros_like(r)\n",
        "    for i in range(r.shape[0]):\n",
        "        for j in NL[i]:\n",
        "            rij = r[i]-r[j]\n",
        "            # aplicando pbc\n",
        "            rij[0] -= np.rint(rij[0]/L)*L # em x\n",
        "            rij[1] -= np.rint(rij[1]/L)*L # em y\n",
        "            rij[2] -= np.rint(rij[2]/L)*L # em z\n",
        "            # calcula distancia entre duas particulas\n",
        "            rij_norm = np.linalg.norm(rij)\n",
        "            if rij_norm < rcut:\n",
        "                # calcula energia interna\n",
        "                U += ulj(rij_norm,epsilon,sigma)\n",
        "                # calcula a derivada do potencial\n",
        "                dudr = duljdr(rij_norm,epsilon,sigma)\n",
        "                # calcula aceleração na particula i\n",
        "                a[i][0] += -dudr*rij[0]/rij_norm\n",
        "                a[i][1] += -dudr*rij[1]/rij_norm\n",
        "                a[i][2] += -dudr*rij[2]/rij_norm\n",
        "                # calcula aceleração na particula j usando 3ª Lei de Newton\n",
        "                a[j][0] += dudr*rij[0]/rij_norm\n",
        "                a[j][1] += dudr*rij[1]/rij_norm\n",
        "                a[j][2] += dudr*rij[2]/rij_norm\n",
        "    return U, a\n",
        "\n",
        "def integrador_verlet(r,v,a,NL,L,h = 0.001):\n",
        "        # update das velocidades\n",
        "        v[:] += 0.5*a*h\n",
        "        # update das posições\n",
        "        r[:] += h * v\n",
        "        # condição de contorno periódica\n",
        "        r[:] = r % L\n",
        "        # calcula nova aceleração\n",
        "        U, a = interacao_lj(r,NL,L,epsilon=1.0,sigma=1.0,rcut=2.5)\n",
        "        # update das velocidades\n",
        "        v[:] += 0.5*a*h\n",
        "        # calcula energia cinetica\n",
        "        K = 0.5*np.sum(v**2)\n",
        "        return r, v, a, U, K"
      ]
    },
    {
      "cell_type": "markdown",
      "metadata": {
        "id": "IB6UBUdvhzod"
      },
      "source": [
        "Fazendo 1000 integrações usando Lista de Vizinhos"
      ]
    },
    {
      "cell_type": "code",
      "execution_count": null,
      "metadata": {
        "id": "IIry9LyShzod"
      },
      "outputs": [],
      "source": [
        "v = np.random.randn(Np,3)\n",
        "\n",
        "Nsteps = 1000\n",
        "\n",
        "print(f'iter{\" \":7}U{\" \":7}K{\" \":7}E')\n",
        "for i in range(Nsteps):\n",
        "    if i % 20 == 0:  # para refazer a lista de vizinhos\n",
        "        NL = lista_de_vizinhos(r)\n",
        "\n",
        "    r[:], v[:], a[:], U, K  = integrador_verlet(r,v,a,NL,L)\n",
        "\n",
        "    if i % 50 == 0:  # para printar a cada 50 passos\n",
        "        print(f'{i:5d}\\t {U:.3f}\\t {K:.3f}\\t {K+U:.3f}')"
      ]
    },
    {
      "cell_type": "markdown",
      "metadata": {
        "id": "rarEo8YFhzod"
      },
      "source": [
        "## Passo 3: Cálculo da Temperatura\n",
        "\n",
        "Da termodinâmica sabemos que para um gás de partículas simples temos\n",
        "\n",
        "$$\\frac{3}{2} N k_B T = \\sum_{i=1}^N \\frac{m_i v_i^2}{2} = K$$\n",
        "\n",
        "ou seja, a energia cinética total das partículas é igual a energia térmica das partículas. Desta forma, podemos definir a temperatura como sendo\n",
        "\n",
        "$$ k_B T = \\frac{2}{3} \\frac{K}{N}$$\n",
        "\n",
        "a energia cinética média das partículas."
      ]
    },
    {
      "cell_type": "code",
      "execution_count": null,
      "metadata": {
        "id": "PDG3I3v6hzod"
      },
      "outputs": [],
      "source": [
        "v = np.random.randn(Np,3)\n",
        "\n",
        "Nsteps = 1000\n",
        "\n",
        "print(f'{\"iter\":^10} {\"U\":^10} {\"K\":^10} {\"E\":^10} {\"kT\":^10}')\n",
        "for i in range(Nsteps):\n",
        "    if i % 20 == 0:  # para refazer a lista de vizinhos\n",
        "        NL = lista_de_vizinhos(r)\n",
        "\n",
        "    r[:], v[:], a[:], U, K  = integrador_verlet(r,v,a,NL,L)\n",
        "\n",
        "    kT = 2*K/(3*Np)\n",
        "\n",
        "    if i % 50 == 0:  # para printar a cada 50 passos\n",
        "        print(f'{i:5d}\\t {U:.3f}\\t {K:.3f}\\t {K+U:.3f}\\t {kT:.3f}')"
      ]
    },
    {
      "cell_type": "markdown",
      "metadata": {
        "id": "W4iWovHMhzod"
      },
      "source": [
        "## Passo 3: Cálculo da Pressão\n",
        "\n",
        "Vimos que a energia potencial do sistema é dada por\n",
        "\n",
        "$$U = \\frac{1}{2}\\sum_{i=1}^N \\sum_{j \\neq i}^N u(\\boldsymbol{r}_{ij})$$\n",
        "\n",
        "Da termodinâmica, sabemos que\n",
        "\n",
        "$$P = \\rho k_B T - \\left(\\frac{\\partial U}{\\partial V}\\right)_{N,S}$$\n",
        "\n",
        "Como a distância entre duas partículas $\\boldsymbol{r}_{ij}$ pode ser escrita em termos de um comprimento característico da caixa de simulação $\\ell$ tal que $\\boldsymbol{r}_{ij} = \\boldsymbol{s}_{ij} \\ell$ e que $V = \\ell^3$, podemos escrever que\n",
        "\n",
        "$$\\left(\\frac{\\partial U}{\\partial V}\\right)_{N,S} = \\frac{1}{2}\\sum_{i=1}^N \\sum_{j \\neq i}^N \\frac{\\partial u(\\boldsymbol{r}_{ij})}{\\partial \\boldsymbol{r}_{ij}} \\cdot \\frac{\\partial \\boldsymbol{r}_{ij}}{\\partial V}$$\n",
        "\n",
        "e usando que $\\frac{\\partial \\boldsymbol{r}_{ij}}{\\partial V} = \\boldsymbol{r}_{ij}/(3V)$ chegamos a\n",
        "\n",
        "$$P = \\rho k_B T + \\frac{W}{3V}$$\n",
        "\n",
        "$$W=  \\frac{1}{2}\\sum_{i=1}^N \\sum_{j \\neq i}^N \\boldsymbol{f}_{ij} \\cdot \\boldsymbol{r}_{ij}$$\n",
        "\n",
        "sendo $W$ o termo de virial que pode ser calculado pelo produto entre as forças e os deslocamentos."
      ]
    },
    {
      "cell_type": "code",
      "execution_count": null,
      "metadata": {
        "id": "3p_1RiJlhzod"
      },
      "outputs": [],
      "source": [
        "def interacao_lj(r,NL,L,epsilon=1.0,sigma=1.0,rcut=2.5):\n",
        "    U = 0.0\n",
        "    W = 0.0\n",
        "    a = np.zeros_like(r)\n",
        "    for i in range(r.shape[0]):\n",
        "        for j in NL[i]:\n",
        "            rij = r[i]-r[j]\n",
        "            # aplicando pbc\n",
        "            rij[0] -= np.rint(rij[0]/L)*L # em x\n",
        "            rij[1] -= np.rint(rij[1]/L)*L # em y\n",
        "            rij[2] -= np.rint(rij[2]/L)*L # em z\n",
        "            # calcula distancia entre duas particulas\n",
        "            rij_norm = np.linalg.norm(rij)\n",
        "            if rij_norm < rcut:\n",
        "                # calcula energia interna\n",
        "                U += ulj(rij_norm,epsilon,sigma)\n",
        "                # calcula a derivada do potencial\n",
        "                dudr = duljdr(rij_norm,epsilon,sigma)\n",
        "                # calcula aceleração na particula i\n",
        "                a[i][0] += -dudr*rij[0]/rij_norm\n",
        "                a[i][1] += -dudr*rij[1]/rij_norm\n",
        "                a[i][2] += -dudr*rij[2]/rij_norm\n",
        "                # calcula aceleração na particula j usando 3ª Lei de Newton\n",
        "                a[j][0] += dudr*rij[0]/rij_norm\n",
        "                a[j][1] += dudr*rij[1]/rij_norm\n",
        "                a[j][2] += dudr*rij[2]/rij_norm\n",
        "                # calcula correção da pressao\n",
        "                W += dudr*rij_norm\n",
        "    return U, W, a\n",
        "\n",
        "def integrador_verlet(r,v,a,NL,L,h = 0.001):\n",
        "        # update das velocidades\n",
        "        v[:] += 0.5*a*h\n",
        "        # update das posições\n",
        "        r[:] += h * v\n",
        "        # condição de contorno periódica\n",
        "        r[:] = r % L\n",
        "        # calcula nova aceleração\n",
        "        U, W, a = interacao_lj(r,NL,L,epsilon=1.0,sigma=1.0,rcut=2.5)\n",
        "        # update das velocidades\n",
        "        v[:] += 0.5*a*h\n",
        "        # calcula energia cinetica\n",
        "        K = 0.5*np.sum(v**2)\n",
        "        return r, v, a, U, K, W"
      ]
    },
    {
      "cell_type": "code",
      "execution_count": null,
      "metadata": {
        "id": "L44SVEDThzod"
      },
      "outputs": [],
      "source": [
        "v = np.random.randn(Np,3)\n",
        "\n",
        "Nsteps = 1000\n",
        "\n",
        "print(f'{\"iter\":^10} {\"U\":^10} {\"K\":^10} {\"E\":^10} {\"kT\":^10} {\"P\":^10}')\n",
        "for i in range(Nsteps):\n",
        "    if i % 20 == 0:  # para refazer a lista de vizinhos\n",
        "        NL = lista_de_vizinhos(r)\n",
        "\n",
        "    r[:], v[:], a[:], U, K, W  = integrador_verlet(r,v,a,NL,L)\n",
        "\n",
        "    kT = 2*K/(3*Np)\n",
        "    P = (Np*kT + W/3)/(L**3)\n",
        "\n",
        "    if i % 50 == 0:  # para printar a cada 50 passos\n",
        "        print(f'{i:5d}\\t {U:.3f}\\t {K:.3f}\\t {K+U:.3f}\\t {kT:.3f}\\t {P:.3f}')"
      ]
    },
    {
      "cell_type": "markdown",
      "metadata": {
        "id": "h37LzvxGhzod"
      },
      "source": [
        "Distribuição de velocidades"
      ]
    },
    {
      "cell_type": "code",
      "execution_count": null,
      "metadata": {
        "id": "KiDByxE1hzod"
      },
      "outputs": [],
      "source": [
        "fig, axs = plt.subplots(1, 3, sharey=True,figsize=(10,3))\n",
        "\n",
        "vx = np.arange(-5,5,0.1)\n",
        "fvx = np.exp(-vx**2/(2))/np.sqrt(2*np.pi)\n",
        "\n",
        "n, bins = np.histogram(v[:,0],bins=15,range=(vx.min(),vx.max()),density=True)\n",
        "meanbins = 0.5*(bins[1:]+bins[:-1])\n",
        "axs[0].scatter(meanbins,n,marker='o',color='C0')\n",
        "axs[0].plot(vx,fvx,'k')\n",
        "axs[0].set_xlabel(r'$v_x$')\n",
        "\n",
        "n, bins = np.histogram(v[:,1],bins=15,range=(vx.min(),vx.max()),density=True)\n",
        "meanbins = 0.5*(bins[1:]+bins[:-1])\n",
        "axs[1].scatter(meanbins,n,marker='o',color='C1')\n",
        "axs[1].plot(vx,fvx,'k')\n",
        "axs[1].set_xlabel(r'$v_y$')\n",
        "\n",
        "n, bins = np.histogram(v[:,2],bins=15,range=(vx.min(),vx.max()),density=True)\n",
        "meanbins = 0.5*(bins[1:]+bins[:-1])\n",
        "axs[2].scatter(meanbins,n,marker='o',color='C2')\n",
        "axs[2].plot(vx,fvx,'k')\n",
        "axs[2].set_xlabel(r'$v_z$')\n",
        "\n",
        "axs[0].set_ylim(0,0.5)"
      ]
    },
    {
      "cell_type": "markdown",
      "metadata": {
        "id": "6GjeUNSDhzoe"
      },
      "source": [
        "## Grand Finale: Criando uma Classe `LJsystem`"
      ]
    },
    {
      "cell_type": "code",
      "execution_count": null,
      "metadata": {
        "id": "oOHaNorBhzoe"
      },
      "outputs": [],
      "source": [
        "class LJsystem():\n",
        "    # Função que cria a classe\n",
        "    def __init__(self,N_atoms, m = 1.0, epsilon = 1.0, sigma = 1.0, rcut = 2.5):\n",
        "        self.N_atoms = N_atoms\n",
        "\n",
        "        # parametros dos atomos\n",
        "        self.m = m\n",
        "        self.sigma = sigma\n",
        "        self.epsilon = epsilon\n",
        "\n",
        "        # parametro de cutoff da interação de LJ\n",
        "        self.rcut = rcut\n",
        "\n",
        "        # Arrays de posições\n",
        "        self.r = np.zeros((self.N_atoms,3))\n",
        "\n",
        "        # Arrays de velocidade\n",
        "        self.v = np.zeros((self.N_atoms,3))\n",
        "\n",
        "        # Arrays de aceleração\n",
        "        self.a = np.zeros((self.N_atoms,3))\n",
        "\n",
        "    def Set_Density(self,rho):\n",
        "        self.rho = rho\n",
        "        # calcular o tamanho da caixa necessária\n",
        "        self.Vol = self.N_atoms/self.rho\n",
        "        self.L = np.power(self.Vol,1/3.0)\n",
        "\n",
        "    def Initialize_Positions(self):\n",
        "        # Número de pontos em x e y\n",
        "        Nx = Ny = Nz = int(np.ceil(np.power(self.N_atoms/4,1/3.0)))\n",
        "\n",
        "        # Espaçamento entre os átomos\n",
        "        dx = self.L/Nx\n",
        "        dy = self.L/Ny\n",
        "        dz = self.L/Nz\n",
        "\n",
        "        # Posições possíveis em x e y numa rede cristalina tipo FCC\n",
        "        id = 0\n",
        "        for i in range(Nx):\n",
        "            for j in range(Ny):\n",
        "                for k in range(Nz):\n",
        "                    if (id < self.N_atoms):\n",
        "                        self.r[id][0] = i*dx\n",
        "                        self.r[id][1] = j*dy\n",
        "                        self.r[id][2] = k*dz\n",
        "                        id +=1\n",
        "\n",
        "                    if (id < self.N_atoms):\n",
        "                        self.r[id][0] = i*dx\n",
        "                        self.r[id][1] = (j+0.5)*dy\n",
        "                        self.r[id][2] = (k+0.5)*dz\n",
        "                        id +=1\n",
        "\n",
        "                    if (id < self.N_atoms):\n",
        "                        self.r[id][0] = (i+0.5)*dx\n",
        "                        self.r[id][1] = j*dy\n",
        "                        self.r[id][2] = (k+0.5)*dz\n",
        "                        id +=1\n",
        "\n",
        "                    if (id < self.N_atoms):\n",
        "                        self.r[id][0] = (i+0.5)*dx\n",
        "                        self.r[id][1] = (j+0.5)*dy\n",
        "                        self.r[id][2] = k*dz\n",
        "                        id +=1\n",
        "\n",
        "    def Initialize_Velocities(self,kT= 1.0):\n",
        "        self.kT = kT\n",
        "\n",
        "        # sorteia uma distribuição normal com devio padrão proporcional a temperatura\n",
        "        self.v = np.sqrt(self.kT/self.m)*np.random.randn(self.N_atoms,3)\n",
        "\n",
        "        # retira qualquer movimento total\n",
        "        self.v[:] -= self.v.mean(axis=0)\n",
        "\n",
        "    def Get_KineticEnergy(self):\n",
        "        self.K = 0.5*self.m*np.sum(self.v**2)\n",
        "        return self.K\n",
        "\n",
        "    def Build_NeighborList(self,rs=2.8):\n",
        "        \"\"\"Construindo uma lista de vizinhos de Verlet dentro de uma região rcell\"\"\"\n",
        "        self.rs = rs\n",
        "        self.NL = [[] for _ in range(self.N_atoms)]\n",
        "        for i in range(self.N_atoms):\n",
        "            for j in range(i+1, self.N_atoms):\n",
        "                # calcula distancia entre duas particulas\n",
        "                rij = self.r[i]-self.r[j]\n",
        "                # aplicando pbc\n",
        "                rij[:] -= np.rint(rij/self.L)*self.L\n",
        "                # calcula distancia entre duas particulas\n",
        "                rij_norm = np.linalg.norm(rij)\n",
        "                # Vamos considerar somente interação dentro do raio de corte\n",
        "                if rij_norm < self.rs:\n",
        "                    self.NL[i].append(j)\n",
        "\n",
        "    def Calculate_Interactions(self):\n",
        "        self.a[:] = 0.0\n",
        "        self.U = 0.0\n",
        "        self.W = 0.0\n",
        "        for i in range(self.N_atoms):\n",
        "            for j in self.NL[i]: # <-------- troca os limites\n",
        "                # calcula distancia entre duas particulas\n",
        "                rij = self.r[i]-self.r[j]\n",
        "                # aplicando pbc\n",
        "                rij[:] -= np.rint(rij/self.L)*self.L\n",
        "                # calcula distancia entre duas particulas\n",
        "                rij_norm = np.linalg.norm(rij)\n",
        "                if rij_norm < self.rcut:\n",
        "                    # calcula energia interna\n",
        "                    self.U += ulj(rij_norm,self.epsilon,self.sigma)\n",
        "                    # calcula a derivada do potencial\n",
        "                    dudr = duljdr(rij_norm,self.epsilon,self.sigma)\n",
        "                    # calcula aceleração na particula i\n",
        "                    self.a[i] += -dudr*rij/rij_norm\n",
        "                    # calcula aceleração na particula j usando 3ª Lei de Newton\n",
        "                    self.a[j] += dudr*rij/rij_norm\n",
        "                    # calcula correção da pressao\n",
        "                    self.W += dudr*rij_norm\n",
        "\n",
        "    def Get_PotentialEnergy(self):\n",
        "        return self.U\n",
        "\n",
        "    def Get_Energies(self):\n",
        "        self.Get_KineticEnergy()\n",
        "        kT = 2*self.K/(3*self.N_atoms)\n",
        "        return self.K, self.U, kT\n",
        "\n",
        "    def Calculate_Pressure(self):\n",
        "        kT = 2*self.K/(3*self.N_atoms)\n",
        "        return self.rho*kT + self.W/(3*self.Vol)\n",
        "\n",
        "    def Set_TimeStep(self,h):\n",
        "        self.h = h\n",
        "\n",
        "    def Calculate_TimeStep(self):\n",
        "        # update das velocidades\n",
        "        self.v[:] += 0.5*self.a*self.h\n",
        "        # update das posições\n",
        "        self.r[:] += self.h * self.v\n",
        "        # condição de contorno periódica\n",
        "        self.r[:] = self.r % self.L\n",
        "        # calcula nova aceleração\n",
        "        self.Calculate_Interactions()\n",
        "        # update das velocidades\n",
        "        self.v[:] += 0.5*self.a*self.h\n",
        "\n",
        "    def RunSimulation(self,N_steps,Step_to_print=50,Step_tolist_update=20):\n",
        "        self.N_steps = N_steps\n",
        "        self.Step_to_print = Step_to_print # steps to print output\n",
        "        self.Step_tolist_update = Step_tolist_update\n",
        "\n",
        "        self.Build_NeighborList()\n",
        "        self.Calculate_Interactions()\n",
        "\n",
        "        print('iter\\t K\\t U\\t E\\t T\\t P')\n",
        "\n",
        "        t = []\n",
        "        K = []\n",
        "        U = []\n",
        "        E = []\n",
        "        T = []\n",
        "        P = []\n",
        "\n",
        "        Ktemp, Utemp, Ttemp = self.Get_Energies()\n",
        "        Ptemp = self.Calculate_Pressure()\n",
        "        Kmed = Ktemp\n",
        "        Umed = Utemp\n",
        "        Emed = Ktemp+Utemp\n",
        "        Tmed = Ttemp\n",
        "        Pmed = Ptemp\n",
        "\n",
        "        for i in range(1,self.N_steps+1):\n",
        "\n",
        "            if i % self.Step_tolist_update == 0:\n",
        "                self.Build_NeighborList()\n",
        "\n",
        "            self.Calculate_TimeStep()\n",
        "\n",
        "            Ktemp, Utemp, Ttemp = self.Get_Energies()\n",
        "            Ptemp = self.Calculate_Pressure()\n",
        "            Kmed += Ktemp\n",
        "            Umed += Utemp\n",
        "            Tmed += Ttemp\n",
        "            Emed += Ktemp+Utemp\n",
        "            Pmed += Ptemp\n",
        "\n",
        "            if i % self.Step_to_print == 0:\n",
        "                Kmed /= Step_to_print\n",
        "                Umed /= Step_to_print\n",
        "                Emed /= Step_to_print\n",
        "                Tmed /= Step_to_print\n",
        "                Pmed /= Step_to_print\n",
        "                t.append(i)\n",
        "                K.append(Kmed)\n",
        "                U.append(Umed)\n",
        "                E.append(Emed)\n",
        "                T.append(Tmed)\n",
        "                P.append(Pmed)\n",
        "                print(f'{i:5d}\\t {Kmed:.4f}\\t {Umed:.4f}\\t {Emed:.4f}\\t {Tmed:.4f}\\t {Pmed:.4f}')\n",
        "                Kmed = 0.0\n",
        "                Umed = 0.0\n",
        "                Emed = 0.0\n",
        "                Tmed = 0.0\n",
        "                Pmed = 0.0\n",
        "\n",
        "        return np.array(t), np.array(K), np.array(U), np.array(E), np.array(T), np.array(P)"
      ]
    },
    {
      "cell_type": "code",
      "execution_count": null,
      "metadata": {
        "id": "jXYDgw8-hzoe"
      },
      "outputs": [],
      "source": [
        "rho = 0.55\n",
        "kT = 1.38\n",
        "\n",
        "N_atoms=256\n",
        "\n",
        "lj = LJsystem(N_atoms=N_atoms,m=1.0,epsilon=1.0,sigma=1.0)\n",
        "lj.Set_Density(rho=rho)\n",
        "lj.Initialize_Positions()\n",
        "lj.Initialize_Velocities(kT=kT)\n",
        "lj.Set_TimeStep(h=0.003)"
      ]
    },
    {
      "cell_type": "code",
      "execution_count": null,
      "metadata": {
        "id": "ip-FMm0ahzoe"
      },
      "outputs": [],
      "source": [
        "plt.figure(figsize=(5,5))\n",
        "plt.plot(lj.r[:,0],lj.r[:,1],'o',ms=10.0,alpha=0.5) # posição das partículas\n",
        "plt.quiver(lj.r[:,0],lj.r[:,1],lj.v[:,0],lj.v[:,1],color='C0') # vetor de velocidade\n",
        "\n",
        "plt.xlim(0,lj.L)\n",
        "plt.ylim(0,lj.L)\n",
        "\n",
        "plt.xlabel('x')\n",
        "plt.ylabel('y')"
      ]
    },
    {
      "cell_type": "code",
      "execution_count": null,
      "metadata": {
        "id": "IOwkvsJNhzoe"
      },
      "outputs": [],
      "source": [
        "t, K, U, E, T, P = lj.RunSimulation(N_steps=2000,Step_to_print=50)"
      ]
    },
    {
      "cell_type": "markdown",
      "metadata": {
        "id": "-rlABIWIhzoe"
      },
      "source": [
        "Gráfico das posições finais das partículas"
      ]
    },
    {
      "cell_type": "code",
      "execution_count": null,
      "metadata": {
        "id": "RM2YQNDDhzoe"
      },
      "outputs": [],
      "source": [
        "plt.figure(figsize=(5,5))\n",
        "plt.plot(lj.r[:,0],lj.r[:,1],'o',ms=10.0,alpha=0.5) # posição das partículas\n",
        "plt.quiver(lj.r[:,0],lj.r[:,1],lj.v[:,0],lj.v[:,1],color='C0') # vetor de velocidade\n",
        "\n",
        "plt.xlim(0,lj.L)\n",
        "plt.ylim(0,lj.L)\n",
        "\n",
        "plt.xlabel('x')\n",
        "plt.ylabel('y')"
      ]
    },
    {
      "cell_type": "markdown",
      "metadata": {
        "id": "j-o60cAmhzoe"
      },
      "source": [
        "Gráfico da evolução de $U$ e $T$ como função dos passos de iteração"
      ]
    },
    {
      "cell_type": "code",
      "execution_count": null,
      "metadata": {
        "id": "zV0NTW3Ehzoe"
      },
      "outputs": [],
      "source": [
        "fig, axs = plt.subplots(4, 1, sharex=True)\n",
        "\n",
        "axs[0].plot(t,E/lj.N_atoms,'k',label='E')\n",
        "axs[0].legend(loc='best')\n",
        "axs[0].set_ylabel(r'$E/(N\\epsilon)$')\n",
        "\n",
        "axs[1].plot(t,U/lj.N_atoms,label='U')\n",
        "axs[1].legend(loc='best')\n",
        "axs[1].set_ylabel(r'$U/(N\\epsilon)$')\n",
        "\n",
        "axs[2].plot(t,T,color='C3',label='T')\n",
        "axs[2].legend(loc='best')\n",
        "axs[2].set_ylabel(r'$k_B T/\\epsilon$')\n",
        "\n",
        "axs[3].plot(t,P,color='C2',label='P')\n",
        "axs[3].legend(loc='best')\n",
        "axs[3].set_xlabel(r'$t/\\tau$')\n",
        "axs[3].set_ylabel(r'$P \\sigma^3/\\epsilon$')"
      ]
    },
    {
      "cell_type": "markdown",
      "metadata": {
        "id": "vIvUqmeXhzoe"
      },
      "source": [
        "## Calculando Médias e Desvios Padrão"
      ]
    },
    {
      "cell_type": "code",
      "execution_count": null,
      "metadata": {
        "id": "4jMWq2gPhzoe"
      },
      "outputs": [],
      "source": [
        "teq = 150\n",
        "subsett = t[t>teq]\n",
        "subsetT = T[t>teq]\n",
        "subsetP = P[t>teq]\n",
        "subsetU = U[t>teq]/lj.N_atoms"
      ]
    },
    {
      "cell_type": "markdown",
      "metadata": {
        "id": "p8VyR2uphzoe"
      },
      "source": [
        "Energia Interna"
      ]
    },
    {
      "cell_type": "code",
      "execution_count": null,
      "metadata": {
        "id": "qStRW203hzoe"
      },
      "outputs": [],
      "source": [
        "Umean = subsetU.mean()\n",
        "\n",
        "sigmaU = subsetU.std()\n",
        "\n",
        "print(rf\"A energia interna do sistema é {Umean:.2f}+-{sigmaU:.2f} por partícula\")"
      ]
    },
    {
      "cell_type": "code",
      "execution_count": null,
      "metadata": {
        "id": "eQ1vyvSchzol"
      },
      "outputs": [],
      "source": [
        "plt.xlabel(r'$U/\\epsilon$')\n",
        "plt.ylabel('Densidade de Probabilidade')\n",
        "\n",
        "uarray = np.arange(-3.6,-3.2,0.001)\n",
        "plt.plot(uarray,np.sqrt(1/(2*np.pi*sigmaU**2))*np.exp(-0.5*(uarray-Umean)**2/sigmaU**2),color='k')\n",
        "\n",
        "n, bins = np.histogram(subsetU,bins=15,range=(uarray.min(),uarray.max()),density=True)\n",
        "meanbins = 0.5*(bins[1:]+bins[:-1])\n",
        "plt.scatter(meanbins,n,marker='o',color='C0')"
      ]
    },
    {
      "cell_type": "markdown",
      "metadata": {
        "id": "EpTF8OHhhzol"
      },
      "source": [
        "Temperatura"
      ]
    },
    {
      "cell_type": "code",
      "execution_count": null,
      "metadata": {
        "id": "FtefX2oqhzom"
      },
      "outputs": [],
      "source": [
        "Tmean = subsetT.mean()\n",
        "sigmaT = subsetT.std()\n",
        "\n",
        "print(rf\"A temperatura do sistema é {Tmean:.2f}+-{sigmaT:.2f}\")"
      ]
    },
    {
      "cell_type": "code",
      "execution_count": null,
      "metadata": {
        "id": "8BO4EXO7hzom"
      },
      "outputs": [],
      "source": [
        "plt.xlabel(r'$k_B T/\\epsilon$')\n",
        "plt.ylabel('Densidade de Probabilidade')\n",
        "\n",
        "Tarray = np.arange(1.2,1.5,0.001)\n",
        "plt.plot(Tarray,np.sqrt(1/(2*np.pi*sigmaT**2))*np.exp(-0.5*(Tarray-Tmean)**2/sigmaT**2),color='k')\n",
        "\n",
        "n, bins = np.histogram(subsetT,bins=15,range=(Tarray.min(),Tarray.max()),density=True)\n",
        "meanbins = 0.5*(bins[1:]+bins[:-1])\n",
        "plt.scatter(meanbins,n,marker='o',color='C3')"
      ]
    },
    {
      "cell_type": "markdown",
      "metadata": {
        "id": "Q1l-vWtphzom"
      },
      "source": [
        "Pressão"
      ]
    },
    {
      "cell_type": "code",
      "execution_count": null,
      "metadata": {
        "id": "zggRUninhzom"
      },
      "outputs": [],
      "source": [
        "Pmean = subsetP.mean()\n",
        "sigmaP = subsetP.std()\n",
        "\n",
        "print(rf\"A pressão do sistema é {Pmean:.2f}+-{sigmaP:.2f}\")"
      ]
    },
    {
      "cell_type": "code",
      "execution_count": null,
      "metadata": {
        "id": "U9vQ7SmYhzom"
      },
      "outputs": [],
      "source": [
        "plt.xlabel(r'$P \\sigma^3/\\epsilon$')\n",
        "plt.ylabel('Densidade de Probabilidade')\n",
        "\n",
        "Parray = np.arange(0.0,1.6,0.001)\n",
        "plt.plot(Parray,np.sqrt(1/(2*np.pi*sigmaP**2))*np.exp(-0.5*(Parray-Pmean)**2/sigmaP**2),color='k')\n",
        "\n",
        "n, bins = np.histogram(subsetP,bins=15,range=(Parray.min(),Parray.max()),density=True)\n",
        "meanbins = 0.5*(bins[1:]+bins[:-1])\n",
        "plt.scatter(meanbins,n,marker='o',color='C2')"
      ]
    },
    {
      "cell_type": "markdown",
      "metadata": {
        "id": "FvglOIHhhzom"
      },
      "source": [
        "**<span style=\"color:#A03;font-size:14pt\">\n",
        "&#x270B; HANDS-ON! &#x1F528;\n",
        "</span>**\n",
        "\n",
        "> Refaça a simulação usando 864 partículas. Compare os resultados."
      ]
    },
    {
      "cell_type": "code",
      "execution_count": null,
      "metadata": {
        "id": "BT8vDEiOhzom"
      },
      "outputs": [],
      "source": []
    }
  ],
  "metadata": {
    "kernelspec": {
      "display_name": "simmol",
      "language": "python",
      "name": "python3"
    },
    "language_info": {
      "codemirror_mode": {
        "name": "ipython",
        "version": 3
      },
      "file_extension": ".py",
      "mimetype": "text/x-python",
      "name": "python",
      "nbconvert_exporter": "python",
      "pygments_lexer": "ipython3",
      "version": "3.13.3"
    },
    "colab": {
      "provenance": [],
      "include_colab_link": true
    }
  },
  "nbformat": 4,
  "nbformat_minor": 0
}