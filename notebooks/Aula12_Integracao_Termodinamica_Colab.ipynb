{
  "cells": [
    {
      "cell_type": "markdown",
      "metadata": {
        "id": "zka-Ixpo66Mi"
      },
      "source": [
        "Instalando condacolab"
      ]
    },
    {
      "cell_type": "code",
      "execution_count": null,
      "metadata": {
        "colab": {
          "base_uri": "https://localhost:8080/"
        },
        "id": "wXBO1Nk62j38",
        "outputId": "fa3af277-c4d4-4630-f664-53c152d21781"
      },
      "outputs": [],
      "source": [
        "!pip install -q condacolab\n",
        "import condacolab\n",
        "condacolab.install()"
      ]
    },
    {
      "cell_type": "code",
      "execution_count": null,
      "metadata": {
        "colab": {
          "base_uri": "https://localhost:8080/"
        },
        "id": "Ra0EaqPD3UQk",
        "outputId": "e40771e3-dc7e-4c69-d29c-6c9b378912ad"
      },
      "outputs": [],
      "source": [
        "import condacolab\n",
        "condacolab.check()"
      ]
    },
    {
      "cell_type": "markdown",
      "metadata": {
        "id": "vQ85YOwN6-Fh"
      },
      "source": [
        "Instalando OpenMM e OpenMMTools"
      ]
    },
    {
      "cell_type": "code",
      "execution_count": null,
      "metadata": {
        "colab": {
          "base_uri": "https://localhost:8080/"
        },
        "id": "cXjru4R_3Xq8",
        "outputId": "1b08c7be-7feb-42da-dbe5-b992e204efc4"
      },
      "outputs": [],
      "source": [
        "!mamba install -q cudatoolkit=11.6 openmm"
      ]
    },
    {
      "cell_type": "code",
      "execution_count": null,
      "metadata": {
        "id": "o1933zsT2YO3"
      },
      "outputs": [],
      "source": [
        "# Autor: Elvis do A. Soares\n",
        "# Github: @elvissoares\n",
        "from sys import stdout\n",
        "import numpy as np\n",
        "import pandas as pd\n",
        "import matplotlib.pyplot as plt"
      ]
    },
    {
      "cell_type": "markdown",
      "metadata": {
        "id": "ug93NOyI2YO4"
      },
      "source": [
        "# Integração Termodinâmica\n"
      ]
    },
    {
      "cell_type": "code",
      "execution_count": null,
      "metadata": {
        "colab": {
          "base_uri": "https://localhost:8080/",
          "height": 1000
        },
        "id": "EFeaOtmk2YO4",
        "outputId": "2c4b48fe-7181-42d1-c5e3-b71fcf84bd4d"
      },
      "outputs": [],
      "source": [
        "from openmm.app import *\n",
        "from openmm import *\n",
        "from openmm.unit import *"
      ]
    },
    {
      "cell_type": "markdown",
      "metadata": {
        "id": "EIy7VVSj2YO4"
      },
      "source": [
        "Qual molécula iremos simular?"
      ]
    },
    {
      "cell_type": "code",
      "execution_count": null,
      "metadata": {
        "id": "QaVpLcEo2YO5"
      },
      "outputs": [],
      "source": [
        "my_molecule = 'methane'"
      ]
    },
    {
      "cell_type": "markdown",
      "metadata": {
        "id": "JmOM4hai2YO5"
      },
      "source": [
        "Condição termodinâmica"
      ]
    },
    {
      "cell_type": "code",
      "execution_count": null,
      "metadata": {
        "colab": {
          "base_uri": "https://localhost:8080/",
          "height": 166
        },
        "id": "VNX90pxX2YO5",
        "outputId": "1879305b-d7bb-4dd6-97ff-e2bbd5c1bd78"
      },
      "outputs": [],
      "source": [
        "Temperatura = 298.15 * kelvin # Temperatura em Kelvin\n",
        "Pressao = 1 * bar # Pressão em bar"
      ]
    },
    {
      "cell_type": "code",
      "execution_count": null,
      "metadata": {
        "colab": {
          "base_uri": "https://localhost:8080/",
          "height": 147
        },
        "id": "AyscHZhk2YO5",
        "outputId": "eed719fb-5d4b-47c1-ca43-9f6fa2da70f9"
      },
      "outputs": [],
      "source": [
        "pdb = PDBFile(f'{my_molecule}.pdb')"
      ]
    },
    {
      "cell_type": "markdown",
      "metadata": {
        "id": "4G9toN0r2YO5"
      },
      "source": [
        "Escolhendo os arquivos de campo de força OPLS-AA gerados pelo LibParGen"
      ]
    },
    {
      "cell_type": "code",
      "execution_count": null,
      "metadata": {
        "id": "cfn6KFc92YO5"
      },
      "outputs": [],
      "source": [
        "forcefield = ForceField(f'{my_molecule}.xml', 'tip3p.xml')\n",
        "forcefield.setUseGeometricCombinationRule=True # OPLS-AA usa combinação geométrica"
      ]
    },
    {
      "cell_type": "markdown",
      "metadata": {
        "id": "poamrLIN2YO5"
      },
      "source": [
        "Cria a topolgia com moléculas de água ao redor (solvente)"
      ]
    },
    {
      "cell_type": "code",
      "execution_count": null,
      "metadata": {
        "id": "7sc4WIYQ2YO5"
      },
      "outputs": [],
      "source": [
        "modeller = Modeller(pdb.topology, pdb.positions)\n",
        "\n",
        "modeller.addSolvent(forcefield,model='tip3p', padding= 9.61 * angstroms)\n",
        "\n",
        "PDBFile.writeFile(modeller.topology, modeller.positions, open(f'initial_{my_molecule}.pdb', 'w'))"
      ]
    },
    {
      "cell_type": "code",
      "execution_count": null,
      "metadata": {
        "id": "O0ZbptiS2YO5"
      },
      "outputs": [],
      "source": [
        "system = forcefield.createSystem(modeller.topology, nonbondedMethod=PME,\n",
        "        nonbondedCutoff=8.5*angstroms, constraints=HBonds)"
      ]
    },
    {
      "cell_type": "markdown",
      "metadata": {
        "id": "kxUzX1UN2YO5"
      },
      "source": [
        "### Configuração do Sistema Alquímico"
      ]
    },
    {
      "cell_type": "code",
      "execution_count": null,
      "metadata": {
        "id": "K27MDK5q8iSI"
      },
      "outputs": [],
      "source": [
        "!mamba install -q openmmtools"
      ]
    },
    {
      "cell_type": "code",
      "execution_count": null,
      "metadata": {
        "colab": {
          "base_uri": "https://localhost:8080/"
        },
        "id": "rEAmQcAm2YO5",
        "outputId": "d71d2a1f-03ae-44a5-b74a-0252d76c4847"
      },
      "outputs": [],
      "source": [
        "# Add alchemical lambda control to methane atoms\n",
        "from openmmtools import alchemy, states\n",
        "\n",
        "solute_atoms = [atom.index for atom in modeller.topology.atoms() if atom.residue.name == \"CH4\"]\n",
        "print(\"Solute atoms:\", solute_atoms)\n",
        "\n",
        "alchemical_region = alchemy.AlchemicalRegion(alchemical_atoms = solute_atoms)\n",
        "solute_system = alchemy.AbsoluteAlchemicalFactory().create_alchemical_system(system, alchemical_region)"
      ]
    },
    {
      "cell_type": "code",
      "execution_count": null,
      "metadata": {
        "colab": {
          "base_uri": "https://localhost:8080/",
          "height": 336
        },
        "id": "l2P362Uh2YO5",
        "outputId": "eda66ead-3ce2-47ab-f3cc-43998e264e11"
      },
      "outputs": [],
      "source": [
        "# Plataforma (GPU se disponível)\n",
        "platform = Platform.getPlatformByName('CUDA')\n",
        "# platform = Platform.getPlatformByName('CPU')\n",
        "\n",
        "# Integrador\n",
        "integrator = LangevinMiddleIntegrator(Temperatura, 1/picosecond, 2*femtoseconds)\n",
        "simulation = Simulation(modeller.topology, solute_system, integrator, platform)"
      ]
    },
    {
      "cell_type": "code",
      "execution_count": null,
      "metadata": {
        "colab": {
          "base_uri": "https://localhost:8080/",
          "height": 184
        },
        "id": "amvKjhQk2YO5",
        "outputId": "24f31bd9-2e2a-4f09-9085-562b2044e369"
      },
      "outputs": [],
      "source": [
        "# below corresponds to fully interacting state\n",
        "simulation.context.setParameter('lambda_electrostatics', 1.0)\n",
        "simulation.context.setParameter('lambda_sterics', 1.0)"
      ]
    },
    {
      "cell_type": "code",
      "execution_count": null,
      "metadata": {
        "id": "AYmeTTN82YO6"
      },
      "outputs": [],
      "source": [
        "n_equil = 10000\n",
        "\n",
        "simulation.context.setPositions(modeller.positions)\n",
        "simulation.minimizeEnergy()\n",
        "\n",
        "simulation.context.setVelocitiesToTemperature(Temperatura)\n",
        "\n",
        "# Add a simple barostat for pressure control\n",
        "# solute_system.addForce(MonteCarloBarostat(Pressao, Temperatura))\n",
        "\n",
        "# Equilibration\n",
        "simulation.step(n_equil)\n",
        "\n",
        "initial_positions = simulation.context.getState(getPositions=True).getPositions()"
      ]
    },
    {
      "cell_type": "markdown",
      "metadata": {
        "id": "cFrChSZU2YO6"
      },
      "source": [
        "### Loop de Integração Termodinâmica"
      ]
    },
    {
      "cell_type": "code",
      "execution_count": null,
      "metadata": {
        "id": "hK5na0nI2YO6",
        "outputId": "cb69ea74-9365-479d-82ab-5d71a2f6e4df"
      },
      "outputs": [],
      "source": [
        "n_steps = 200\n",
        "n_samples = 200\n",
        "\n",
        "lambda_ele_grid = np.linspace(1.0, 0.0, 11)\n",
        "U_mean_ele = np.zeros_like(lambda_ele_grid)\n",
        "U_std_ele = np.zeros_like(lambda_ele_grid)\n",
        "\n",
        "for i, l in enumerate(lambda_ele_grid):\n",
        "    print('lambda:',l)\n",
        "\n",
        "    simulation.context.setPositions(initial_positions)\n",
        "    simulation.context.setParameter('lambda_electrostatics', l)\n",
        "\n",
        "    simulation.step(n_equil)\n",
        "\n",
        "    # Collect U_λ data\n",
        "    U_lambda = []\n",
        "    for iteration in range(n_samples):\n",
        "        simulation.step(n_steps)\n",
        "        e = simulation.context.getState(energy=True).getPotentialEnergy().value_in_unit(kilojoules_per_mole)\n",
        "        U_lambda.append(e)\n",
        "        # print(iteration,deriv)\n",
        "\n",
        "    U_mean_ele[i] = np.mean(np.array(U_lambda))\n",
        "    U_std_ele[i] = np.std(np.array(U_lambda))\n",
        "    print(f\"U_λ^ele: {U_mean_ele[i]:.4f} +- {U_std_ele[i]:.4f}\")"
      ]
    },
    {
      "cell_type": "code",
      "execution_count": null,
      "metadata": {
        "id": "QzAdYfo92YO6",
        "outputId": "1f125fbd-91b1-41ca-b5b0-d081b62f3a9f"
      },
      "outputs": [],
      "source": [
        "plt.plot(lambda_ele_grid, U_mean_ele, marker='o', label='U_λ^ele')\n",
        "plt.fill_between(lambda_ele_grid, U_mean_ele - U_std_ele, U_mean_ele + U_std_ele, alpha=0.2)"
      ]
    },
    {
      "cell_type": "code",
      "execution_count": null,
      "metadata": {
        "id": "owU3Ekj32YO6",
        "outputId": "0cd98b17-0506-4d8d-e5f5-1ca3076d6f37"
      },
      "outputs": [],
      "source": [
        "lambda_steric_grid = np.linspace(1.0, 0.0, 11)\n",
        "U_mean_steric = np.zeros_like(lambda_steric_grid)\n",
        "U_std_steric = np.zeros_like(lambda_steric_grid)\n",
        "\n",
        "for i, l in enumerate(lambda_steric_grid):\n",
        "    print('lambda:',l)\n",
        "\n",
        "    simulation.context.setPositions(initial_positions)\n",
        "    simulation.context.setParameter('lambda_sterics', l)\n",
        "\n",
        "    simulation.step(n_equil)\n",
        "\n",
        "    # Collect U_λ data\n",
        "    U_lambda = []\n",
        "    for iteration in range(n_samples):\n",
        "        simulation.step(n_steps)\n",
        "        e = simulation.context.getState(energy=True).getPotentialEnergy().value_in_unit(kilojoules_per_mole)\n",
        "        U_lambda.append(e)\n",
        "\n",
        "    U_mean_steric[i] = np.mean(np.array(U_lambda))\n",
        "    U_std_steric[i] = np.std(np.array(U_lambda))\n",
        "    print(f\"U_λ^ste: {U_mean_steric[i]:.4f} +- {U_std_steric[i]:.4f}\")"
      ]
    },
    {
      "cell_type": "code",
      "execution_count": null,
      "metadata": {
        "id": "BFi9ttES2YO6",
        "outputId": "b71fe367-4133-48f4-f62f-cda43a02a91a"
      },
      "outputs": [],
      "source": [
        "plt.plot(lambda_steric_grid, U_mean_steric, marker='o', color='C1', label='U_λ^ste')\n",
        "plt.fill_between(lambda_steric_grid, U_mean_steric - U_std_steric, U_mean_steric + U_std_steric, color='C1', alpha=0.2)\n",
        "plt.xlabel('$\\lambda$')\n",
        "plt.ylabel('U_λ (kJ/mol)')"
      ]
    },
    {
      "cell_type": "code",
      "execution_count": null,
      "metadata": {
        "id": "98kcQY1b2YO6",
        "outputId": "b7e25da6-1b96-4523-81c8-04948ef2b2fb"
      },
      "outputs": [],
      "source": [
        "# Interpolate U_λ with a smooth function and calculate the derivative\n",
        "from scipy.interpolate import CubicSpline\n",
        "interp_func_ele = CubicSpline(lambda_ele_grid[::-1], U_mean_ele[::-1])\n",
        "interp_func_steric = CubicSpline(lambda_steric_grid[::-1], U_mean_steric[::-1])\n",
        "lambda_grid = np.linspace(0.0, 1.0, 100)\n",
        "U_ele = interp_func_ele(lambda_grid)\n",
        "U_steric = interp_func_steric(lambda_grid)\n",
        "\n",
        "plt.plot(lambda_grid, U_ele, label='U_λ^ele (interpolated)', linestyle='--')\n",
        "plt.plot(lambda_grid, U_steric, label='U_λ^ste (interpolated)', linestyle='--')\n",
        "plt.plot(lambda_ele_grid, U_mean_ele, marker='o',color='C0', label='U_λ^ele')\n",
        "plt.plot(lambda_steric_grid, U_mean_steric, marker='o', color='C1', label='U_λ^ste')\n",
        "plt.legend()"
      ]
    },
    {
      "cell_type": "code",
      "execution_count": null,
      "metadata": {
        "id": "xEx_1OYE2YO6",
        "outputId": "0ce74608-603c-44a5-b854-d261913d67a0"
      },
      "outputs": [],
      "source": [
        "# Calculate the derivatives of the interpolated functions\n",
        "dU_ele_dlambda = interp_func_ele.derivative()(lambda_grid)\n",
        "dU_steric_dlambda = interp_func_steric.derivative()(lambda_grid)\n",
        "\n",
        "# Plot the interpolated U_λ\n",
        "plt.plot(lambda_grid, dU_ele_dlambda, label='Interpolated U_λ^ele', linestyle='--')\n",
        "plt.plot(lambda_grid, dU_steric_dlambda, label='Interpolated U_λ^ste', linestyle='--')\n",
        "plt.legend()"
      ]
    },
    {
      "cell_type": "code",
      "execution_count": null,
      "metadata": {
        "id": "spthuG5z2YO6",
        "outputId": "704bc828-ca05-4591-bdb2-1af680c3f19a"
      },
      "outputs": [],
      "source": [
        "deltaG_ele = np.trapezoid(dU_ele_dlambda, lambda_grid)\n",
        "\n",
        "print(f\"ΔG_ele = {deltaG_ele:.3f} kJ/mol\")"
      ]
    },
    {
      "cell_type": "code",
      "execution_count": null,
      "metadata": {
        "id": "BN8wdjEb2YO6",
        "outputId": "ea562b7d-fb7c-4968-f6a8-07e234a4582b"
      },
      "outputs": [],
      "source": [
        "deltaG_steric = np.trapezoid(dU_steric_dlambda, lambda_grid)\n",
        "\n",
        "print(f\"ΔG_steric = {deltaG_steric:.3f} kJ/mol\")"
      ]
    },
    {
      "cell_type": "code",
      "execution_count": null,
      "metadata": {
        "id": "9XupstY52YO6",
        "outputId": "cf015959-cfaa-4156-cea6-fb0d6f7052d8"
      },
      "outputs": [],
      "source": [
        "1.6e-19*(6.022e23) # conversão de Joules para kJ/mol"
      ]
    },
    {
      "cell_type": "code",
      "execution_count": null,
      "metadata": {
        "id": "QNAdGcrY2YO7",
        "outputId": "1d7c16d3-ab07-4440-a26c-099402689a4b"
      },
      "outputs": [],
      "source": [
        "deltaG = deltaG_ele + deltaG_steric\n",
        "print(f\"ΔG_total = {deltaG:.3f} kJ/mol\")\n",
        "# Convert to eV\n",
        "deltaG_eV = deltaG / 96.352\n",
        "print(f\"ΔG_total = {deltaG_eV:.3f} eV\")"
      ]
    },
    {
      "cell_type": "code",
      "execution_count": null,
      "metadata": {
        "id": "tF4nJ5FQ2YO7",
        "outputId": "e38aa652-b854-44cf-bf87-6f5739b2db20"
      },
      "outputs": [],
      "source": [
        "3.4/40"
      ]
    },
    {
      "cell_type": "markdown",
      "metadata": {
        "id": "NwZFC48r2YO7"
      },
      "source": [
        "**<span style=\"color:#A03;font-size:14pt\">\n",
        "&#x270B; HANDS-ON! &#x1F528;\n",
        "</span>**\n",
        "\n",
        "> Faça uma estimativa do custo computacional (tempo de simulação) no seu _hardware_ atual para simulações longas da ordem de 1ns.\n",
        ">"
      ]
    },
    {
      "cell_type": "code",
      "execution_count": null,
      "metadata": {
        "id": "tjc8R5iz2YO7"
      },
      "outputs": [],
      "source": []
    }
  ],
  "metadata": {
    "accelerator": "GPU",
    "colab": {
      "gpuType": "T4",
      "provenance": []
    },
    "kernelspec": {
      "display_name": "simmol",
      "language": "python",
      "name": "python3"
    },
    "language_info": {
      "codemirror_mode": {
        "name": "ipython",
        "version": 3
      },
      "file_extension": ".py",
      "mimetype": "text/x-python",
      "name": "python",
      "nbconvert_exporter": "python",
      "pygments_lexer": "ipython3",
      "version": "3.13.3"
    }
  },
  "nbformat": 4,
  "nbformat_minor": 0
}
