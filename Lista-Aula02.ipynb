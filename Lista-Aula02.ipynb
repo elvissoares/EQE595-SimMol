{
 "cells": [
  {
   "cell_type": "code",
   "execution_count": null,
   "metadata": {},
   "outputs": [],
   "source": [
    "# Autor: Elvis do A. Soares\n",
    "# Github: @elvissoares\n",
    "import numpy as np\n",
    "import matplotlib.pyplot as plt\n",
    "import scienceplots\n",
    "plt.style.use(['science','notebook'])"
   ]
  },
  {
   "cell_type": "markdown",
   "metadata": {},
   "source": [
    "# EQE 535 - Modelagem e Simulação Molecular\n",
    "\n",
    "# Nome do Aluno:\n",
    "\n",
    "# DRE: \n",
    "\n",
    "---"
   ]
  },
  {
   "cell_type": "markdown",
   "metadata": {},
   "source": [
    "## Este Notebook deve ser entregue preenchido via e-mail para elvis@peq.coppe.ufrj.br até a próxima segunda-feira (31/03) com horário limite de 23:59. "
   ]
  },
  {
   "cell_type": "markdown",
   "metadata": {},
   "source": [
    "# Questão 1:  Oscilador Harmônico Amortecido e Forçado\n",
    "\n",
    "\n",
    "A equação diferencial que descreve o movimento de um oscilador forçado é dada por \n",
    "\n",
    "$$\\frac{d^2 x}{dt^2} = -\\gamma\\frac{d x}{dt} - \\omega_0^2 x + f \\cos(\\omega t)$$\n",
    "\n",
    "onde os parãmetros do problema são \n",
    "- $\\omega_0$ é a frequência natural de oscilação;\n",
    "- $\\gamma$ a constante de atrito;\n",
    "- $f$ amplitude da força externa; \n",
    "- $\\omega$ frequência de oscilação da força externa; \n"
   ]
  },
  {
   "cell_type": "markdown",
   "metadata": {},
   "source": [
    "a) Copie a função criada na aula do método de Runge-Kutta de 4ª ordem para a célula abaixo: "
   ]
  },
  {
   "cell_type": "code",
   "execution_count": null,
   "metadata": {},
   "outputs": [],
   "source": [
    "def solver(u0,ti,tf,h,args,edo):\n",
    "    ##\n",
    "    return u, t"
   ]
  },
  {
   "cell_type": "markdown",
   "metadata": {},
   "source": [
    "Podemos quebrar a EDO de 2ª ordem para esse problema em duas EDOs de 1ª ordem, como \n",
    "\n",
    "$$\\frac{d x}{dt} = v, \\qquad \\text{e} \\qquad\\frac{d v}{dt} = -\\gamma v- \\omega_0^2 x + f \\cos(\\omega t)$$\n",
    "\n",
    "b) Implemente a função que define o sistema de EDOs para esse problema:"
   ]
  },
  {
   "cell_type": "code",
   "execution_count": null,
   "metadata": {},
   "outputs": [],
   "source": [
    "# Função para definição da EDO do problema do OHS\n",
    "def edo_ohf(u,t,args):\n",
    "    ##\n",
    "    return dudt"
   ]
  },
  {
   "cell_type": "markdown",
   "metadata": {},
   "source": [
    "c) Dado que $\\omega_0 = 1.0$, $\\gamma=0.1$, $f = 2.0$, $\\omega = 1.5$, defina as variáveis para esses valores na célula abaixo"
   ]
  },
  {
   "cell_type": "code",
   "execution_count": null,
   "metadata": {},
   "outputs": [],
   "source": []
  },
  {
   "cell_type": "markdown",
   "metadata": {},
   "source": [
    "d) A condição inicial do problema é $x_0 = 1.0$ e $v_0 = 0$. Defina o array $u_0$ para essa condição inicial na próxima célula"
   ]
  },
  {
   "cell_type": "code",
   "execution_count": null,
   "metadata": {},
   "outputs": [],
   "source": []
  },
  {
   "cell_type": "markdown",
   "metadata": {},
   "source": [
    "e) Usando a função 'solver', resolva a edo 'edo_ohf' para o intervalo de tempo de t = [0,100] usando um passo de tempo h = 0.01:"
   ]
  },
  {
   "cell_type": "code",
   "execution_count": null,
   "metadata": {},
   "outputs": [],
   "source": []
  },
  {
   "cell_type": "markdown",
   "metadata": {},
   "source": [
    "f) Faça um gráfico de x como função de t"
   ]
  },
  {
   "cell_type": "code",
   "execution_count": null,
   "metadata": {},
   "outputs": [],
   "source": []
  },
  {
   "cell_type": "markdown",
   "metadata": {},
   "source": [
    "g) Troque a condição inicial para $x_0 = 0.0$ e $v_0 = 0.0$ e resolva a 'edo_ohf' usando novamente o método 'solver' e faça um gráfico de x como função de t para essa nova solução e para a solução do item (e) simultaneamente. "
   ]
  },
  {
   "cell_type": "code",
   "execution_count": null,
   "metadata": {},
   "outputs": [],
   "source": []
  },
  {
   "cell_type": "markdown",
   "metadata": {},
   "source": [
    "h) Resolva a 'edo_ohf' usando as mesmas duas condições iniciais mas agora mude o parâmetro $\\omega$ da força externa para $\\omega = 0.997$ e compare os gráficos;"
   ]
  },
  {
   "cell_type": "code",
   "execution_count": null,
   "metadata": {},
   "outputs": [],
   "source": []
  },
  {
   "cell_type": "markdown",
   "metadata": {},
   "source": [
    "OBS: Notou que as oscilações agora ficaram com uma amplitude muito grande?! Esse fenômeno se chama **ressonância** e está associado ao fato que o oscilador tem uma frequência natural de oscilação e a força externa está com uma frequência muito próxima a essa, ou seja, $\\omega \\approx \\omega_0$. "
   ]
  },
  {
   "cell_type": "markdown",
   "metadata": {},
   "source": [
    "---"
   ]
  },
  {
   "cell_type": "markdown",
   "metadata": {},
   "source": [
    "**DESAFIO:** Escolha uma das condições inciais e faça uma simulação para cada valor de $\\omega$ no intervalo $\\omega = [0.1,2.0]$ usando um passo de 0.05 e faça um gráfico da amplitude final de oscilação, $A$, como função do $\\omega$. "
   ]
  },
  {
   "cell_type": "code",
   "execution_count": null,
   "metadata": {},
   "outputs": [],
   "source": []
  }
 ],
 "metadata": {
  "kernelspec": {
   "display_name": "usr",
   "language": "python",
   "name": "python3"
  },
  "language_info": {
   "codemirror_mode": {
    "name": "ipython",
    "version": 3
   },
   "file_extension": ".py",
   "mimetype": "text/x-python",
   "name": "python",
   "nbconvert_exporter": "python",
   "pygments_lexer": "ipython3",
   "version": "3.13.2"
  }
 },
 "nbformat": 4,
 "nbformat_minor": 4
}
