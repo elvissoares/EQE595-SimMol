{
 "cells": [
  {
   "cell_type": "code",
   "execution_count": null,
   "metadata": {},
   "outputs": [],
   "source": [
    "# Autor: Elvis do A. Soares\n",
    "# Github: @elvissoares\n",
    "import numpy as np\n",
    "import matplotlib.pyplot as plt\n",
    "import scienceplots\n",
    "plt.style.use(['science','notebook'])"
   ]
  },
  {
   "cell_type": "markdown",
   "metadata": {},
   "source": [
    "# Dinâmica Newtoniana e Integradores\n",
    "\n",
    "Sabemos que a 2ª Lei de Newton para um corpo qualquer é dade pela EDO de 2ª ordem na forma \n",
    "\n",
    "$$ m\\frac{d^2\\boldsymbol{r}}{d t^2} = \\boldsymbol{F}_R $$\n",
    "\n",
    "sendo $m$ a massa do corpo e $\\boldsymbol{F}_R$ a força resultante que atua sobre o corpo."
   ]
  },
  {
   "cell_type": "markdown",
   "metadata": {},
   "source": [
    "# 1. Oscilador Harmônico Simples (OHS)\n",
    "Nesse caso temos que \n",
    "\n",
    "$$\\boldsymbol{F}_R = - k \\boldsymbol{x}$$\n",
    "\n",
    "levando em conta só o movimento em $x$ teremos que \n",
    "\n",
    "$$m\\frac{d^2 x}{dt^2} = - k x$$\n",
    "\n",
    "\n",
    "que pode ser quebrado em duas EDOs de 1ª ordem\n",
    "\n",
    "$$\\frac{d x}{dt} = v, \\qquad \\text{e} \\qquad\\frac{d v}{dt} = - \\omega_0^2 x$$\n",
    "\n",
    "definimos, usualmente, $\\omega_0 = \\sqrt{k/m}$.\n",
    "\n",
    "Cuja solução analítica é \n",
    "\n",
    "$$ x(t) = x_0 \\cos(\\omega_0 t) + (v_0/\\omega_0) \\sin(\\omega_0 t)$$\n"
   ]
  },
  {
   "cell_type": "code",
   "execution_count": null,
   "metadata": {},
   "outputs": [],
   "source": [
    "# Função que retorna a solução analítica do OHS\n",
    "def ohs_analitica(u0,ti,tf,h,args):\n",
    "    t = np.arange(ti,tf,h)\n",
    "    omega0 = args\n",
    "    x0,v0 = u0\n",
    "    return np.array([x0*np.cos(omega0*t)+(v0/omega0)*np.sin(omega0*t),-x0*omega0*np.sin(omega0*t) + v0*np.cos(omega0*t)]), t"
   ]
  },
  {
   "cell_type": "markdown",
   "metadata": {},
   "source": [
    "## Método de Euler Explícito\n",
    "\n",
    "Para qualquer sistema de EDOs de 1ª ordem temos que \n",
    "\n",
    "$$ \\frac{d \\boldsymbol{u}}{dt} = \\boldsymbol{f}(t)$$\n",
    "\n",
    "de modo que ao integrarmos de $t$ até $t+h$, teremos que \n",
    "\n",
    "$$\\int_t^{t+h} \\frac{d \\boldsymbol{u}}{dt} dt = \\boldsymbol{u}_{t+h} - \\boldsymbol{u}_t = \\int_t^{t+h} \\boldsymbol{f}(t') dt' $$\n",
    "\n",
    "E usando a aproximação de Euler, temos que $\\int_t^{t+h} \\boldsymbol{f}(t') dt' = \\boldsymbol{f}_t h$\n",
    "\n",
    "$$ \\boldsymbol{u}_{t+h} = \\boldsymbol{u}_t + \\boldsymbol{f}_t h$$"
   ]
  },
  {
   "cell_type": "code",
   "execution_count": null,
   "metadata": {},
   "outputs": [],
   "source": [
    "# Função geral que implementa o integrador de Euler para EDOs genéricas\n",
    "def solver_Euler(u0,ti,tf,h,args,edo):\n",
    "    ...\n",
    "    return u,t"
   ]
  },
  {
   "cell_type": "code",
   "execution_count": null,
   "metadata": {},
   "outputs": [],
   "source": [
    "# Função para definição da EDO do problema do OHS\n",
    "def edo_ohs(u,t,args):\n",
    "    ...\n",
    "    return dudt"
   ]
  },
  {
   "cell_type": "markdown",
   "metadata": {},
   "source": [
    "Condição Inicial:\n",
    "- $x_0 = 1.0$\n",
    "- $v_0 = 0.0$"
   ]
  },
  {
   "cell_type": "code",
   "execution_count": null,
   "metadata": {},
   "outputs": [],
   "source": [
    "# Condição Inicial\n",
    "x0 = ...\n",
    "v0 = ...\n",
    "\n",
    "# Array de condições iniciais\n",
    "u0 = ..."
   ]
  },
  {
   "cell_type": "markdown",
   "metadata": {},
   "source": [
    "$\\omega_0 = 1.0$"
   ]
  },
  {
   "cell_type": "code",
   "execution_count": null,
   "metadata": {},
   "outputs": [],
   "source": [
    "# Parâmetros necessários para a EDO\n",
    "omega0 = ..."
   ]
  },
  {
   "cell_type": "markdown",
   "metadata": {},
   "source": [
    "$ t= [0,30.0]$ com $h = 0.1$"
   ]
  },
  {
   "cell_type": "code",
   "execution_count": null,
   "metadata": {},
   "outputs": [],
   "source": [
    "# Cria o array que armazena a solução numérica usando o método de Euler\n",
    "sol_ohs_euler, t = ...\n",
    "\n",
    "# Formato do output\n",
    "# x(t) = sol_ohs_euler[0]\n",
    "# v(t) = sol_ohs_euler[1]"
   ]
  },
  {
   "cell_type": "code",
   "execution_count": null,
   "metadata": {},
   "outputs": [],
   "source": [
    "# Cria o array que armazena a solução analítica\n",
    "sol_ohs_analitica, t_analitico = ..."
   ]
  },
  {
   "cell_type": "code",
   "execution_count": null,
   "metadata": {},
   "outputs": [],
   "source": [
    "# Gráfico de x como função de t \n"
   ]
  },
  {
   "cell_type": "markdown",
   "metadata": {},
   "source": [
    "Energia do Oscilador \n",
    "\n",
    "$$ E = \\frac{m v^2}{2} + \\frac{k x^2}{2}$$\n",
    "\n",
    "$$ 2 E /m = v^2 + \\omega_0^2 x^2"
   ]
  },
  {
   "cell_type": "code",
   "execution_count": null,
   "metadata": {},
   "outputs": [],
   "source": [
    "# Gráfico de E como função de t "
   ]
  },
  {
   "attachments": {
    "image.png": {
     "image/png": "[encoded data removed]"
    }
   },
   "cell_type": "markdown",
   "metadata": {},
   "source": [
    "## Método de Runge-Kutta\n",
    "\n",
    "Um método baseado em passos intermediários para cálculo da EDO. Seja a EDO \n",
    "\n",
    "$$\\frac{d y}{d t} = f(y,t)$$\n",
    "\n",
    "com condição inicial dada por $y(t_n) = y_n$, de modo que  \n",
    "\n",
    "$$k_1 = f(y_n,t_n)$$\n",
    "$$k_2 = f(y_n+\\frac{h}{2}k_1, t_n + \\frac{h}{2})$$\n",
    "$$k_3 = f(y_n+\\frac{h}{2}k_2, t_n + \\frac{h}{2})$$\n",
    "$$k_4 = f(y_n+h k_3, t_n + h)$$\n",
    "\n",
    "com o passo final sendo \n",
    "\n",
    "$$y_{n+1} = y_n + \\frac{h}{6}(k_1+2k_2+2k_3+k_4)$$\n",
    "\n",
    "![image.png](attachment:image.png)\n",
    "\n",
    "Ref: https://pt.wikipedia.org/wiki/M%C3%A9todo_de_Runge-Kutta"
   ]
  },
  {
   "cell_type": "code",
   "execution_count": null,
   "metadata": {},
   "outputs": [],
   "source": [
    "def solver_RK4(u0,ti,tf,h,args,edo):\n",
    "    ...\n",
    "    return u, t"
   ]
  },
  {
   "cell_type": "code",
   "execution_count": null,
   "metadata": {},
   "outputs": [],
   "source": [
    "# Resolvendo o problema para os instantes t\n",
    "sol_ohs_rk4,_ = ..."
   ]
  },
  {
   "cell_type": "code",
   "execution_count": null,
   "metadata": {},
   "outputs": [],
   "source": [
    "# Gráfico de x como função de t "
   ]
  },
  {
   "cell_type": "code",
   "execution_count": null,
   "metadata": {},
   "outputs": [],
   "source": [
    "# Gráfico de E como função de t "
   ]
  },
  {
   "cell_type": "markdown",
   "metadata": {},
   "source": [
    "## Método de Velocity Verlet\n",
    "\n",
    "Apropriado apenas para 2ª Lei de Newton. Utiliza um cálculo a mais de aceleração. \n",
    "\n",
    "$$x_{t+h} = x_t + v_t h + \\frac{1}{2} a_t h^2$$\n",
    "\n",
    "$$v_{t+h} = v_t + \\frac{1}{2}(a_{t+h}+a_t) h $$\n",
    "\n",
    "De modo que o algoritmo consiste em \n",
    "\n",
    "1. Calcula $x_{t+h}$ usando $v_t$ e $a_t$;\n",
    "2. Calcula $a_{t+h}$ usando $x_{t+h}$ e $v_t$, se necessário;\n",
    "3. Calcula $v_{t+h}$ para o próximo passo;\n",
    "4. Volta ao passo 1;\n",
    "\n",
    "Ref: https://pt.wikipedia.org/wiki/M%C3%A9todo_de_Verlet"
   ]
  },
  {
   "cell_type": "code",
   "execution_count": null,
   "metadata": {},
   "outputs": [],
   "source": [
    "def solver_VelocityVerlet(u0,ti,tf,h,args,edo):\n",
    "    ...\n",
    "    return u,t"
   ]
  },
  {
   "cell_type": "code",
   "execution_count": null,
   "metadata": {},
   "outputs": [],
   "source": [
    "# Resolvendo o problema para os instantes t\n",
    "sol_ohs_vv,_ = ..."
   ]
  },
  {
   "cell_type": "code",
   "execution_count": null,
   "metadata": {},
   "outputs": [],
   "source": [
    "# Gráfico de x como função de t "
   ]
  },
  {
   "cell_type": "code",
   "execution_count": null,
   "metadata": {},
   "outputs": [],
   "source": [
    "# Gráfico de E como função de t "
   ]
  },
  {
   "cell_type": "code",
   "execution_count": null,
   "metadata": {},
   "outputs": [],
   "source": [
    "# Gráfico de v como função de x (Espaço de Fase) "
   ]
  },
  {
   "cell_type": "code",
   "execution_count": null,
   "metadata": {},
   "outputs": [],
   "source": [
    "# Calculando o erro dependendo do passo de tempo h\n",
    "harray = np.array([1e-4,0.001,0.01,0.1,1.0])\n",
    "err = ...\n",
    "\n",
    "for i in range(harray.size): \n",
    "    ..."
   ]
  },
  {
   "cell_type": "code",
   "execution_count": null,
   "metadata": {},
   "outputs": [],
   "source": [
    "# Gráfico do erro como função do h\n",
    "plt.yscale('log') # para escala logaritma no eixo \n",
    "plt.xscale('log')\n",
    "\n",
    "plt.plot(...)\n"
   ]
  },
  {
   "cell_type": "markdown",
   "metadata": {},
   "source": [
    "### Testando Performance"
   ]
  },
  {
   "cell_type": "code",
   "execution_count": null,
   "metadata": {},
   "outputs": [],
   "source": [
    "%timeit -n 20 solver_Euler(...)"
   ]
  },
  {
   "cell_type": "code",
   "execution_count": null,
   "metadata": {},
   "outputs": [],
   "source": [
    "%timeit -n 20 solver_RK4(...)"
   ]
  },
  {
   "cell_type": "code",
   "execution_count": null,
   "metadata": {},
   "outputs": [],
   "source": [
    "%timeit -n 20 solver_VelocityVerlet(...)"
   ]
  },
  {
   "cell_type": "markdown",
   "metadata": {},
   "source": [
    "# 2. Oscilador Harmônico Amortecido (OHA)\n",
    "\n",
    "Uma EDO do tipo\n",
    "\n",
    "$$ m\\frac{d^2 x}{d t^2} = -b\\frac{d x}{d t} - k x $$\n",
    "\n",
    "que re-escrita fica como \n",
    "\n",
    "$$\\frac{d x}{d t} = v \\qquad \\text{e} \\qquad \\frac{d v}{d t} = -\\gamma v - \\omega_0^2 x$$\n"
   ]
  },
  {
   "cell_type": "code",
   "execution_count": null,
   "metadata": {},
   "outputs": [],
   "source": [
    "# Função para definição da EDO\n",
    "def edo_oha(u,t,args):\n",
    "    ..."
   ]
  },
  {
   "cell_type": "markdown",
   "metadata": {},
   "source": [
    "Parâmetros\n",
    "- $\\gamma = 0.1$\n",
    "- $\\omega_0 = 1.0$\n"
   ]
  },
  {
   "cell_type": "code",
   "execution_count": null,
   "metadata": {},
   "outputs": [],
   "source": [
    "# Define os parâmetros\n"
   ]
  },
  {
   "cell_type": "markdown",
   "metadata": {},
   "source": [
    "Condição Inicial\n",
    "- $x_0 = 2.0$\n",
    "- $v_0 = 0.0$"
   ]
  },
  {
   "cell_type": "code",
   "execution_count": null,
   "metadata": {},
   "outputs": [],
   "source": [
    "# Define as condições iniciais\n"
   ]
  },
  {
   "cell_type": "markdown",
   "metadata": {},
   "source": [
    "Intervalo de Tempo\n",
    "\n",
    "$t = [0,50.0]$ com $h = 0.01$"
   ]
  },
  {
   "cell_type": "code",
   "execution_count": null,
   "metadata": {},
   "outputs": [],
   "source": [
    "sol_oha_vv_gamma0,t = ... # solução sem atrito\n",
    "sol_oha_vv,t = ... # solução com atrito "
   ]
  },
  {
   "cell_type": "code",
   "execution_count": null,
   "metadata": {},
   "outputs": [],
   "source": [
    "# Gráfico de x como função de t"
   ]
  },
  {
   "cell_type": "code",
   "execution_count": null,
   "metadata": {},
   "outputs": [],
   "source": [
    "# Gráfico de espaço de fase"
   ]
  },
  {
   "cell_type": "markdown",
   "metadata": {},
   "source": [
    "## 3. Movimento de Projéteis\n",
    "\n",
    "Para um projétil sendo lançado no ar, num ângulo $\\theta$ em relação a horizontal, sob a ação da gravidade temos que a força resultante será\n",
    "\n",
    "$$\\boldsymbol{F}_R = m \\boldsymbol{g} - b \\boldsymbol{v}$$\n",
    "\n",
    "Podemos escrever a 2ª Lei de Newton em \n",
    "\n",
    "$$ m\\frac{d^2\\boldsymbol{r}}{d t^2}  = m\\boldsymbol{g} - b \\boldsymbol{v}$$\n",
    "\n",
    "em componentes fica \n",
    "\n",
    "$$ \\frac{dx}{d t}  = v_x $$\n",
    "$$ \\frac{dy}{d t}  = v_y $$\n",
    "$$ \\frac{d v_x}{d t}  = - \\frac{b}{m} v_x$$\n",
    "$$ \\frac{d v_y}{d t}  = -g - \\frac{b}{m} v_y$$\n",
    "\n",
    "Nesse caso, só conhecemos a solução analítica quando $b=0$ é dada por \n",
    "\n",
    "$$x = x_0 + (v_0 \\cos{\\theta}) t$$\n",
    "$$ y = y_0 + (v_0 \\sin{\\theta}) t - \\frac{g}{2} t^2$$"
   ]
  },
  {
   "cell_type": "code",
   "execution_count": null,
   "metadata": {},
   "outputs": [],
   "source": [
    "# Função com solução analitica do movimento de projeteis em 2D\n",
    "def projetil_analitico(u0,ti,tf,h,args):\n",
    "    t = np.arange(ti,tf,h)\n",
    "    b, g = args\n",
    "    x0,y0,vx,vy = u0\n",
    "    return np.array([x0+vx*t,y0+vy*t-0.5*g*t**2]),t"
   ]
  },
  {
   "cell_type": "code",
   "execution_count": null,
   "metadata": {},
   "outputs": [],
   "source": [
    "# Função que define o sistema de EDOs do projetil para usar em um solver\n",
    "def edo_projetil(u,t,args):\n",
    "    ...\n",
    "    return dudt"
   ]
  },
  {
   "cell_type": "markdown",
   "metadata": {},
   "source": [
    "Parâmetros do modelo\n",
    "- $b/m = 0.1$\n",
    "- $g= 9.81$"
   ]
  },
  {
   "cell_type": "code",
   "execution_count": null,
   "metadata": {},
   "outputs": [],
   "source": [
    "# Parâmetros do modelo\n"
   ]
  },
  {
   "cell_type": "markdown",
   "metadata": {},
   "source": [
    "Condição Inicial\n",
    "- $\\theta = \\pi/4$\n",
    "- $v_0 = 10.0$"
   ]
  },
  {
   "cell_type": "code",
   "execution_count": null,
   "metadata": {},
   "outputs": [],
   "source": [
    "# Condição Inicial"
   ]
  },
  {
   "cell_type": "code",
   "execution_count": null,
   "metadata": {},
   "outputs": [],
   "source": [
    "# Resolvendo numericamente (caso b = 0.1)\n",
    "sol_ode,t = ...\n",
    "\n",
    "# Resolvendo numericamente (caso b = 0.0)\n",
    "sol_ode_b0,t = ...\n",
    "\n",
    "# Solução analítica (caso b = 0.0)\n",
    "sol_ana, _ = ..."
   ]
  },
  {
   "cell_type": "code",
   "execution_count": null,
   "metadata": {},
   "outputs": [],
   "source": [
    "# Gráfico de y como função de x"
   ]
  },
  {
   "cell_type": "markdown",
   "metadata": {},
   "source": [
    "## 4. Movimento Planetário\n",
    "\n",
    "Considere um planeta de massa $m$ em torno do Sol de massa $M$, cuja dinâmica é dada pela Lei da Gravitação de Newton na forma \n",
    "\n",
    "$$ m \\frac{d^2 \\boldsymbol{r}}{d t^2} = - \\frac{G M m}{r^2}\\boldsymbol{\\hat{r}} $$\n",
    "\n",
    "tal que \n",
    "\n",
    "$$\\frac{d^2 x}{d t^2} = - \\frac{G M}{r^3}x, \\qquad \\frac{d^2 y}{d t^2} = - \\frac{G M}{r^3}y$$\n",
    "\n",
    "Ref: https://pt.wikipedia.org/wiki/Lei_da_gravita%C3%A7%C3%A3o_universal"
   ]
  },
  {
   "cell_type": "code",
   "execution_count": null,
   "metadata": {},
   "outputs": [],
   "source": [
    "def edo_planeta(u,t,args):\n",
    "    ...\n",
    "    return dudt"
   ]
  },
  {
   "cell_type": "markdown",
   "metadata": {},
   "source": [
    "Parâmetros do Modelo\n",
    "- $G = 1$\n",
    "- $M = 1$"
   ]
  },
  {
   "cell_type": "code",
   "execution_count": null,
   "metadata": {},
   "outputs": [],
   "source": [
    "# parametro do modelo (unidades astronomicas)\n"
   ]
  },
  {
   "cell_type": "markdown",
   "metadata": {},
   "source": [
    "Condição Inicial\n",
    "- $x_0 = 0.5$\n",
    "- $y_0 = 0.0$\n",
    "- $v_{0x} = 0.0$\n",
    "- $v_{0y} = 1.63$"
   ]
  },
  {
   "cell_type": "code",
   "execution_count": null,
   "metadata": {},
   "outputs": [],
   "source": [
    "# condição inicial\n"
   ]
  },
  {
   "cell_type": "markdown",
   "metadata": {},
   "source": [
    "$t = [0,100]$ com $h = 0.1$"
   ]
  },
  {
   "cell_type": "code",
   "execution_count": null,
   "metadata": {},
   "outputs": [],
   "source": [
    "# solução do problema \n"
   ]
  },
  {
   "cell_type": "code",
   "execution_count": null,
   "metadata": {},
   "outputs": [],
   "source": [
    "# Gráfico da órbita"
   ]
  },
  {
   "cell_type": "markdown",
   "metadata": {},
   "source": [
    "Na teoria da relatividade Geral de Einstein conseguimos calcular a correção da gravitação para planetas que tem órbitas muito próximas do Sol, como Mercúrio, tal que \n",
    "\n",
    "$$ \\frac{d^2 \\boldsymbol{r}}{d t^2} = - \\frac{G M}{r^2}\\boldsymbol{\\hat{r}} + \\frac{\\alpha M}{r^3}\\boldsymbol{\\hat{r}} $$\n",
    "\n",
    "com $\\alpha \\ll 1 $. \n",
    "\n",
    "Ref: https://pt.wikipedia.org/wiki/Relatividade_geral"
   ]
  },
  {
   "cell_type": "code",
   "execution_count": null,
   "metadata": {},
   "outputs": [],
   "source": [
    "def edo_planeta_GR(u,t,args):\n",
    "    ...\n",
    "    return dudt"
   ]
  },
  {
   "cell_type": "markdown",
   "metadata": {},
   "source": [
    "Novo parâmetro \n",
    "\n",
    "$\\alpha = 0.05$"
   ]
  },
  {
   "cell_type": "code",
   "execution_count": null,
   "metadata": {},
   "outputs": [],
   "source": [
    "# Solução da EDO"
   ]
  },
  {
   "cell_type": "code",
   "execution_count": null,
   "metadata": {},
   "outputs": [],
   "source": [
    "# Gráfico das órbitas"
   ]
  },
  {
   "cell_type": "markdown",
   "metadata": {},
   "source": [
    "# Outras EDOs\n",
    "\n",
    "Nossos integradores, como RK4, podem ser usados para resolver modelos baseados em EDOs genéricos. \n",
    "\n",
    "## 1. Atrator de Lorenz\n",
    "\n",
    "É um modelo matemático simplificado para convecção atmosférica. Um sistema não-linear de EDOs acopladas dado por \n",
    "\n",
    "$$\\frac{dx}{dt} = \\sigma (y-x)$$\n",
    "\n",
    "$$\\frac{dy}{dt} = x (\\rho-z) - y$$\n",
    "\n",
    "$$\\frac{dz}{dt} = x y - \\beta z$$\n",
    "\n",
    "com parâmetros $\\sigma$, $\\rho$ e $\\beta$.\n",
    "\n",
    "Ref: https://en.wikipedia.org/wiki/Lorenz_system\n"
   ]
  },
  {
   "cell_type": "code",
   "execution_count": null,
   "metadata": {},
   "outputs": [],
   "source": [
    "# Função para definição da EDO\n",
    "def edo_lorenz(u,t,args):\n",
    "    ..."
   ]
  },
  {
   "cell_type": "markdown",
   "metadata": {},
   "source": [
    "Condição inicial: \n",
    "- $x_0 = 0.0$\n",
    "- $y_0 = 1.0$\n",
    "- $z_0 = 1.05$"
   ]
  },
  {
   "cell_type": "code",
   "execution_count": null,
   "metadata": {},
   "outputs": [],
   "source": [
    "# Condição Inicial\n"
   ]
  },
  {
   "cell_type": "markdown",
   "metadata": {},
   "source": [
    "Parâmetros\n",
    "- $\\sigma = 10$\n",
    "- $\\rho = [13,14,15,28]$\n",
    "- $\\beta = 8/3$\n",
    "\n",
    "Intervalo de tempo \n",
    "\n",
    "$t = [0,50]$ com $h = 0.01$"
   ]
  },
  {
   "cell_type": "code",
   "execution_count": null,
   "metadata": {},
   "outputs": [],
   "source": [
    "sol_lorenz1, t = ...\n",
    "sol_lorenz2, _ = ...\n",
    "sol_lorenz3, _ = ...\n",
    "sol_lorenz4, _ = ..."
   ]
  },
  {
   "cell_type": "code",
   "execution_count": null,
   "metadata": {},
   "outputs": [],
   "source": [
    "# Gráfico de y como função de t"
   ]
  },
  {
   "cell_type": "code",
   "execution_count": null,
   "metadata": {},
   "outputs": [],
   "source": [
    "# Gráfico de z como função de x"
   ]
  },
  {
   "cell_type": "code",
   "execution_count": null,
   "metadata": {},
   "outputs": [],
   "source": [
    "# Biblioteca para gráfico 3D\n",
    "from mpl_toolkits.mplot3d import Axes3D "
   ]
  },
  {
   "cell_type": "code",
   "execution_count": null,
   "metadata": {},
   "outputs": [],
   "source": [
    "ax = plt.figure().add_subplot(projection='3d')\n",
    "\n",
    "ax.plot(*sol_lorenz1,color='C0')\n",
    "# ax.plot(*sol_lorenz2,color='C1')\n",
    "# ax.plot(*sol_lorenz3,color='C2')\n",
    "# ax.plot(*sol_lorenz4,color='C3')\n",
    "ax.set_xlabel(\"x\")\n",
    "ax.set_ylabel(\"y\")\n",
    "ax.set_zlabel(\"z\")"
   ]
  },
  {
   "cell_type": "markdown",
   "metadata": {},
   "source": [
    "Mudança da condição inicial\n",
    "- $x_0, y_0, z_0 = [0, 1, 1.05]$\n",
    "- $x_0, y_0, z_0 = [10^{-4}, 1, 1.05]$"
   ]
  },
  {
   "cell_type": "code",
   "execution_count": null,
   "metadata": {},
   "outputs": [],
   "source": [
    "sol_lorenz_ic1, _ = ...\n",
    "sol_lorenz_ic2, _ = ..."
   ]
  },
  {
   "cell_type": "code",
   "execution_count": null,
   "metadata": {},
   "outputs": [],
   "source": [
    "# Gráfico 3D"
   ]
  },
  {
   "attachments": {
    "image.png": {
     "image/png": "[encoded data removed]"
    }
   },
   "cell_type": "markdown",
   "metadata": {},
   "source": [
    "## 2. Modelo SIR\n",
    "\n",
    "Modelo de epidemiologia que envolve pessoas susceptíveis (S), pessoas infectadas (I) e pessoas recuperadas (R), cuja dinâmica é dada por \n",
    "\n",
    "$$\\frac{d S}{d t} = -\\frac{\\beta}{N} I S, $$\n",
    "\n",
    "$$ \\frac{d I}{d t} = \\frac{\\beta}{N} I S - \\gamma I, $$\n",
    "\n",
    "$$ \\frac{d R}{d t} = \\gamma I, $$\n",
    "\n",
    "Os parâmetros estão asssociados a \n",
    "\n",
    "- $\\beta$: taxa de infecção \n",
    "- $\\gamma$: taxa de recuperação\n",
    "\n",
    "![image.png](attachment:image.png)\n",
    "\n",
    "Ref: https://en.wikipedia.org/wiki/Compartmental_models_in_epidemiology"
   ]
  },
  {
   "cell_type": "code",
   "execution_count": null,
   "metadata": {},
   "outputs": [],
   "source": [
    "# Função para definição da EDO\n",
    "def edo_sir(u,t,args):\n",
    "    ..."
   ]
  },
  {
   "cell_type": "markdown",
   "metadata": {},
   "source": [
    "Parâmetros do modelo \n",
    "- $\\beta = 0.5$ por dia \n",
    "- $\\gamma = 0.05$ por dia \n",
    "- $N = 1000$ Nº total de habitantes"
   ]
  },
  {
   "cell_type": "code",
   "execution_count": null,
   "metadata": {},
   "outputs": [],
   "source": [
    "# Definição dos parâmetros do modelo\n"
   ]
  },
  {
   "cell_type": "markdown",
   "metadata": {},
   "source": [
    "Condição Inicial\n",
    "- $S_0 = 999$\n",
    "- $I_0 = 1$\n",
    "- $R_0 = 0$"
   ]
  },
  {
   "cell_type": "code",
   "execution_count": null,
   "metadata": {},
   "outputs": [],
   "source": [
    "# Condição Inicial"
   ]
  },
  {
   "cell_type": "code",
   "execution_count": null,
   "metadata": {},
   "outputs": [],
   "source": [
    "# Resolvendo o problema para os instantes t\n"
   ]
  },
  {
   "cell_type": "code",
   "execution_count": null,
   "metadata": {},
   "outputs": [],
   "source": [
    "# Gráfico das variáveis como função do tempo\n"
   ]
  },
  {
   "cell_type": "markdown",
   "metadata": {},
   "source": [
    "$N = S + I + R$ sendo constante. "
   ]
  },
  {
   "cell_type": "code",
   "execution_count": null,
   "metadata": {},
   "outputs": [],
   "source": [
    "# Gráfico da soma como função do tempo"
   ]
  },
  {
   "cell_type": "markdown",
   "metadata": {},
   "source": [
    "Novo parâmetro\n",
    "\n",
    "$\\beta = 0.2$"
   ]
  },
  {
   "cell_type": "code",
   "execution_count": null,
   "metadata": {},
   "outputs": [],
   "source": [
    "# Resolvendo o problema para os instantes t"
   ]
  },
  {
   "cell_type": "code",
   "execution_count": null,
   "metadata": {},
   "outputs": [],
   "source": [
    "# Gráfico das variáveis como função do tempo (para os dois valores de beta)"
   ]
  },
  {
   "cell_type": "code",
   "execution_count": null,
   "metadata": {},
   "outputs": [],
   "source": [
    "# Gráfico de I_t como função de R_t"
   ]
  }
 ],
 "metadata": {
  "kernelspec": {
   "display_name": "usr",
   "language": "python",
   "name": "python3"
  },
  "language_info": {
   "codemirror_mode": {
    "name": "ipython",
    "version": 3
   },
   "file_extension": ".py",
   "mimetype": "text/x-python",
   "name": "python",
   "nbconvert_exporter": "python",
   "pygments_lexer": "ipython3",
   "version": "3.13.2"
  }
 },
 "nbformat": 4,
 "nbformat_minor": 4
}
