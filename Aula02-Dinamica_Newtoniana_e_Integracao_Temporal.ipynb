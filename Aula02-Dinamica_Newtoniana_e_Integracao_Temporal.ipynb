{
 "cells": [
  {
   "cell_type": "code",
   "execution_count": 2,
   "metadata": {},
   "outputs": [],
   "source": [
    "# Autor: Elvis do A. Soares\n",
    "# Github: @elvissoares\n",
    "import numpy as np\n",
    "import matplotlib.pyplot as plt\n",
    "import scienceplots\n",
    "plt.style.use(['science','notebook'])"
   ]
  },
  {
   "cell_type": "markdown",
   "metadata": {},
   "source": [
    "# Dinâmica Newtoniana\n",
    "\n",
    "Sabemos que a 2ª Lei de Newton para um corpo qualquer é dade pela EDO de 2ª ordem na forma \n",
    "\n",
    "$$ m\\frac{d^2\\boldsymbol{r}}{d t^2} = \\boldsymbol{F}_R $$\n",
    "\n",
    "sendo $m$ a massa do corpo e $\\boldsymbol{F}_R$ a força resultante que atua sobre o corpo."
   ]
  },
  {
   "cell_type": "markdown",
   "metadata": {},
   "source": [
    "# 1. Oscilador Harmônico Simples (OHS)\n",
    "Nesse caso temos que \n",
    "\n",
    "$$\\boldsymbol{F}_R = - k \\boldsymbol{x}$$\n",
    "\n",
    "levando em conta só o movimento em $x$ teremos que \n",
    "\n",
    "$$m\\frac{d^2 x}{dt^2} = - k x$$\n",
    "\n",
    "\n",
    "que pode ser quebrado em duas EDOs de 1ª ordem\n",
    "\n",
    "$$\\frac{d x}{dt} = v, \\qquad \\text{e} \\qquad\\frac{d v}{dt} = - \\omega_0^2 x$$\n",
    "\n",
    "definimos, usualmente, $\\omega_0 = \\sqrt{k/m}$.\n",
    "\n",
    "Cuja solução analítica é \n",
    "\n",
    "$$ x(t) = x_0 \\cos(\\omega_0 t) + (v_0/\\omega_0) \\sin(\\omega_0 t)$$\n"
   ]
  },
  {
   "cell_type": "code",
   "execution_count": 3,
   "metadata": {},
   "outputs": [],
   "source": [
    "# Função que retorna a solução analítica do OHS\n",
    "def ohs_analitica(u0,ti,tf,h,args):\n",
    "    t = np.arange(ti,tf,h)\n",
    "    omega0 = args\n",
    "    x0,v0 = u0\n",
    "    return np.array([x0*np.cos(omega0*t)+(v0/omega0)*np.sin(omega0*t),-x0*omega0*np.sin(omega0*t) + v0*np.cos(omega0*t)]), t"
   ]
  },
  {
   "cell_type": "markdown",
   "metadata": {},
   "source": [
    "## Método de Euler Explícito\n",
    "\n",
    "Para qualquer sistema de EDOs de 1ª ordem temos que \n",
    "\n",
    "$$ \\frac{d \\boldsymbol{u}}{dt} = \\boldsymbol{f}(t)$$\n",
    "\n",
    "de modo que ao integrarmos de $t$ até $t+h$, teremos que \n",
    "\n",
    "$$\\int_t^{t+h} \\frac{d \\boldsymbol{u}}{dt} dt = \\boldsymbol{u}_{t+h} - \\boldsymbol{u}_t = \\int_t^{t+h} \\boldsymbol{f}(t') dt' $$\n",
    "\n",
    "E usando a aproximação de Euler, temos que $\\int_t^{t+h} \\boldsymbol{f}(t') dt' = \\boldsymbol{f}_t h$\n",
    "\n",
    "$$ \\boldsymbol{u}_{t+h} = \\boldsymbol{u}_t + \\boldsymbol{f}_t h$$"
   ]
  },
  {
   "cell_type": "code",
   "execution_count": 4,
   "metadata": {},
   "outputs": [],
   "source": [
    "# Função geral que implementa o integrador de Euler para EDOs genéricas\n",
    "def solver_Euler(u0,ti,tf,h,args,edo):\n",
    "    ...\n",
    "    return u,t"
   ]
  },
  {
   "cell_type": "code",
   "execution_count": 5,
   "metadata": {},
   "outputs": [],
   "source": [
    "# Função para definição da EDO do problema do OHS\n",
    "def edo_ohs(u,t,args):\n",
    "    ...\n",
    "    return dudt"
   ]
  },
  {
   "cell_type": "markdown",
   "metadata": {},
   "source": [
    "Condição Inicial:\n",
    "- $x_0 = 1.0$\n",
    "- $v_0 = 0.0$"
   ]
  },
  {
   "cell_type": "code",
   "execution_count": 6,
   "metadata": {},
   "outputs": [],
   "source": [
    "# Condição Inicial\n",
    "x0 = ...\n",
    "v0 = ...\n",
    "\n",
    "# Array de condições iniciais\n",
    "u0 = ..."
   ]
  },
  {
   "cell_type": "markdown",
   "metadata": {},
   "source": [
    "$\\omega_0 = 1.0$"
   ]
  },
  {
   "cell_type": "code",
   "execution_count": null,
   "metadata": {},
   "outputs": [],
   "source": [
    "# Parâmetros necessários para a EDO\n",
    "omega0 = ..."
   ]
  },
  {
   "cell_type": "markdown",
   "metadata": {},
   "source": [
    "$ t= [0,30.0]$ com $h = 0.1$"
   ]
  },
  {
   "cell_type": "code",
   "execution_count": null,
   "metadata": {},
   "outputs": [],
   "source": [
    "# Cria o array que armazena a solução numérica usando o método de Euler\n",
    "sol_ohs_euler, t = ...\n",
    "\n",
    "# Formato do output\n",
    "# x(t) = sol_ohs_euler[0]\n",
    "# v(t) = sol_ohs_euler[1]"
   ]
  },
  {
   "cell_type": "code",
   "execution_count": null,
   "metadata": {},
   "outputs": [],
   "source": [
    "# Cria o array que armazena a solução analítica\n",
    "sol_ohs_analitica, t_analitico = ..."
   ]
  },
  {
   "cell_type": "code",
   "execution_count": null,
   "metadata": {},
   "outputs": [],
   "source": [
    "# Gráfico de x como função de t \n"
   ]
  },
  {
   "cell_type": "markdown",
   "metadata": {},
   "source": [
    "Energia do Oscilador \n",
    "\n",
    "$$ E = \\frac{m v^2}{2} + \\frac{k x^2}{2}$$\n",
    "\n",
    "$$ 2 E /m = v^2 + \\omega_0^2 x^2"
   ]
  },
  {
   "cell_type": "code",
   "execution_count": null,
   "metadata": {},
   "outputs": [],
   "source": [
    "# Gráfico de E como função de t "
   ]
  },
  {
   "attachments": {
    "image.png": {
     "image/png": "[encoded data removed]"
    }
   },
   "cell_type": "markdown",
   "metadata": {},
   "source": [
    "## Método de Runge-Kutta\n",
    "\n",
    "Um método baseado em passos intermediários para cálculo da EDO. Seja a EDO \n",
    "\n",
    "$$\\frac{d y}{d t} = f(y,t)$$\n",
    "\n",
    "com condição inicial dada por $y(t_n) = y_n$, de modo que  \n",
    "\n",
    "$$k_1 = f(y_n,t_n)$$\n",
    "$$k_2 = f(y_n+\\frac{h}{2}k_1, t_n + \\frac{h}{2})$$\n",
    "$$k_3 = f(y_n+\\frac{h}{2}k_2, t_n + \\frac{h}{2})$$\n",
    "$$k_4 = f(y_n+h k_3, t_n + h)$$\n",
    "\n",
    "com o passo final sendo \n",
    "\n",
    "$$y_{n+1} = y_n + \\frac{h}{6}(k_1+2k_2+2k_3+k_4)$$\n",
    "\n",
    "![image.png](attachment:image.png)\n",
    "\n",
    "Ref: https://pt.wikipedia.org/wiki/M%C3%A9todo_de_Runge-Kutta"
   ]
  },
  {
   "cell_type": "code",
   "execution_count": null,
   "metadata": {},
   "outputs": [],
   "source": [
    "def solver_RK4(u0,ti,tf,h,args,edo):\n",
    "    ...\n",
    "    return u, t"
   ]
  },
  {
   "cell_type": "markdown",
   "metadata": {},
   "source": [
    "Resolve as equações de $ t= [0,30.0]$ com $h = 0.1$"
   ]
  },
  {
   "cell_type": "code",
   "execution_count": null,
   "metadata": {},
   "outputs": [],
   "source": [
    "# Resolvendo o problema para os instantes t\n",
    "sol_ohs_rk4,_ = ..."
   ]
  },
  {
   "cell_type": "markdown",
   "metadata": {},
   "source": [
    "Faça um gráfico da solução $x(t)$ como função de t"
   ]
  },
  {
   "cell_type": "code",
   "execution_count": null,
   "metadata": {},
   "outputs": [],
   "source": [
    "# Gráfico de x como função de t "
   ]
  },
  {
   "cell_type": "code",
   "execution_count": null,
   "metadata": {},
   "outputs": [],
   "source": [
    "# Gráfico de E como função de t "
   ]
  },
  {
   "cell_type": "markdown",
   "metadata": {},
   "source": [
    "### Testando Performance"
   ]
  },
  {
   "cell_type": "code",
   "execution_count": null,
   "metadata": {},
   "outputs": [
    {
     "ename": "NameError",
     "evalue": "name 'solver_Euler' is not defined",
     "output_type": "error",
     "traceback": [
      "\u001b[0;31m---------------------------------------------------------------------------\u001b[0m",
      "\u001b[0;31mNameError\u001b[0m                                 Traceback (most recent call last)",
      "Cell \u001b[0;32mIn[1], line 1\u001b[0m\n\u001b[0;32m----> 1\u001b[0m \u001b[43mget_ipython\u001b[49m\u001b[43m(\u001b[49m\u001b[43m)\u001b[49m\u001b[38;5;241;43m.\u001b[39;49m\u001b[43mrun_line_magic\u001b[49m\u001b[43m(\u001b[49m\u001b[38;5;124;43m'\u001b[39;49m\u001b[38;5;124;43mtimeit\u001b[39;49m\u001b[38;5;124;43m'\u001b[39;49m\u001b[43m,\u001b[49m\u001b[43m \u001b[49m\u001b[38;5;124;43m'\u001b[39;49m\u001b[38;5;124;43m-n 20 solver_Euler(u0,ti=0.0,tf=30.0,h=0.1,args=omega0,edo=edo_ohs)\u001b[39;49m\u001b[38;5;124;43m'\u001b[39;49m\u001b[43m)\u001b[49m\n",
      "File \u001b[0;32m/usr/lib/python3.13/site-packages/IPython/core/interactiveshell.py:2480\u001b[0m, in \u001b[0;36mInteractiveShell.run_line_magic\u001b[0;34m(self, magic_name, line, _stack_depth)\u001b[0m\n\u001b[1;32m   2478\u001b[0m     kwargs[\u001b[38;5;124m'\u001b[39m\u001b[38;5;124mlocal_ns\u001b[39m\u001b[38;5;124m'\u001b[39m] \u001b[38;5;241m=\u001b[39m \u001b[38;5;28mself\u001b[39m\u001b[38;5;241m.\u001b[39mget_local_scope(stack_depth)\n\u001b[1;32m   2479\u001b[0m \u001b[38;5;28;01mwith\u001b[39;00m \u001b[38;5;28mself\u001b[39m\u001b[38;5;241m.\u001b[39mbuiltin_trap:\n\u001b[0;32m-> 2480\u001b[0m     result \u001b[38;5;241m=\u001b[39m \u001b[43mfn\u001b[49m\u001b[43m(\u001b[49m\u001b[38;5;241;43m*\u001b[39;49m\u001b[43margs\u001b[49m\u001b[43m,\u001b[49m\u001b[43m \u001b[49m\u001b[38;5;241;43m*\u001b[39;49m\u001b[38;5;241;43m*\u001b[39;49m\u001b[43mkwargs\u001b[49m\u001b[43m)\u001b[49m\n\u001b[1;32m   2482\u001b[0m \u001b[38;5;66;03m# The code below prevents the output from being displayed\u001b[39;00m\n\u001b[1;32m   2483\u001b[0m \u001b[38;5;66;03m# when using magics with decorator @output_can_be_silenced\u001b[39;00m\n\u001b[1;32m   2484\u001b[0m \u001b[38;5;66;03m# when the last Python token in the expression is a ';'.\u001b[39;00m\n\u001b[1;32m   2485\u001b[0m \u001b[38;5;28;01mif\u001b[39;00m \u001b[38;5;28mgetattr\u001b[39m(fn, magic\u001b[38;5;241m.\u001b[39mMAGIC_OUTPUT_CAN_BE_SILENCED, \u001b[38;5;28;01mFalse\u001b[39;00m):\n",
      "File \u001b[0;32m/usr/lib/python3.13/site-packages/IPython/core/magics/execution.py:1189\u001b[0m, in \u001b[0;36mExecutionMagics.timeit\u001b[0;34m(self, line, cell, local_ns)\u001b[0m\n\u001b[1;32m   1186\u001b[0m         \u001b[38;5;28;01mif\u001b[39;00m time_number \u001b[38;5;241m>\u001b[39m\u001b[38;5;241m=\u001b[39m \u001b[38;5;241m0.2\u001b[39m:\n\u001b[1;32m   1187\u001b[0m             \u001b[38;5;28;01mbreak\u001b[39;00m\n\u001b[0;32m-> 1189\u001b[0m all_runs \u001b[38;5;241m=\u001b[39m \u001b[43mtimer\u001b[49m\u001b[38;5;241;43m.\u001b[39;49m\u001b[43mrepeat\u001b[49m\u001b[43m(\u001b[49m\u001b[43mrepeat\u001b[49m\u001b[43m,\u001b[49m\u001b[43m \u001b[49m\u001b[43mnumber\u001b[49m\u001b[43m)\u001b[49m\n\u001b[1;32m   1190\u001b[0m best \u001b[38;5;241m=\u001b[39m \u001b[38;5;28mmin\u001b[39m(all_runs) \u001b[38;5;241m/\u001b[39m number\n\u001b[1;32m   1191\u001b[0m worst \u001b[38;5;241m=\u001b[39m \u001b[38;5;28mmax\u001b[39m(all_runs) \u001b[38;5;241m/\u001b[39m number\n",
      "File \u001b[0;32m/usr/lib64/python3.13/timeit.py:208\u001b[0m, in \u001b[0;36mTimer.repeat\u001b[0;34m(self, repeat, number)\u001b[0m\n\u001b[1;32m    206\u001b[0m r \u001b[38;5;241m=\u001b[39m []\n\u001b[1;32m    207\u001b[0m \u001b[38;5;28;01mfor\u001b[39;00m i \u001b[38;5;129;01min\u001b[39;00m \u001b[38;5;28mrange\u001b[39m(repeat):\n\u001b[0;32m--> 208\u001b[0m     t \u001b[38;5;241m=\u001b[39m \u001b[38;5;28;43mself\u001b[39;49m\u001b[38;5;241;43m.\u001b[39;49m\u001b[43mtimeit\u001b[49m\u001b[43m(\u001b[49m\u001b[43mnumber\u001b[49m\u001b[43m)\u001b[49m\n\u001b[1;32m    209\u001b[0m     r\u001b[38;5;241m.\u001b[39mappend(t)\n\u001b[1;32m    210\u001b[0m \u001b[38;5;28;01mreturn\u001b[39;00m r\n",
      "File \u001b[0;32m/usr/lib/python3.13/site-packages/IPython/core/magics/execution.py:173\u001b[0m, in \u001b[0;36mTimer.timeit\u001b[0;34m(self, number)\u001b[0m\n\u001b[1;32m    171\u001b[0m gc\u001b[38;5;241m.\u001b[39mdisable()\n\u001b[1;32m    172\u001b[0m \u001b[38;5;28;01mtry\u001b[39;00m:\n\u001b[0;32m--> 173\u001b[0m     timing \u001b[38;5;241m=\u001b[39m \u001b[38;5;28;43mself\u001b[39;49m\u001b[38;5;241;43m.\u001b[39;49m\u001b[43minner\u001b[49m\u001b[43m(\u001b[49m\u001b[43mit\u001b[49m\u001b[43m,\u001b[49m\u001b[43m \u001b[49m\u001b[38;5;28;43mself\u001b[39;49m\u001b[38;5;241;43m.\u001b[39;49m\u001b[43mtimer\u001b[49m\u001b[43m)\u001b[49m\n\u001b[1;32m    174\u001b[0m \u001b[38;5;28;01mfinally\u001b[39;00m:\n\u001b[1;32m    175\u001b[0m     \u001b[38;5;28;01mif\u001b[39;00m gcold:\n",
      "File \u001b[0;32m<magic-timeit>:1\u001b[0m, in \u001b[0;36minner\u001b[0;34m(_it, _timer)\u001b[0m\n",
      "\u001b[0;31mNameError\u001b[0m: name 'solver_Euler' is not defined"
     ]
    }
   ],
   "source": [
    "%timeit -n 20 solver_Euler(u0,ti=0.0,tf=30.0,h=0.01,args=omega0,edo=edo_ohs)"
   ]
  },
  {
   "cell_type": "code",
   "execution_count": null,
   "metadata": {},
   "outputs": [],
   "source": [
    "%timeit -n 20 solver_RK4(u0,ti=0.0,tf=30.0,h=0.1,args=omega0,edo=edo_ohs)"
   ]
  },
  {
   "cell_type": "markdown",
   "metadata": {},
   "source": [
    "# 2. Oscilador Harmônico Amortecido (OHA)\n",
    "\n",
    "Uma EDO do tipo\n",
    "\n",
    "$$ m\\frac{d^2 x}{d t^2} = -b\\frac{d x}{d t} - k x $$\n",
    "\n",
    "que re-escrita fica como \n",
    "\n",
    "$$\\frac{d x}{d t} = v \\qquad \\text{e} \\qquad \\frac{d v}{d t} = -\\gamma v - \\omega_0^2 x$$"
   ]
  },
  {
   "cell_type": "markdown",
   "metadata": {},
   "source": [
    "Construir a função da EDO para o OHA"
   ]
  },
  {
   "cell_type": "code",
   "execution_count": null,
   "metadata": {},
   "outputs": [],
   "source": [
    "# Função para definição da EDO\n",
    "def edo_oha(u,t,args):\n",
    "    gamma, omega0 = args\n",
    "    x, v = u\n",
    "    return np.array([v,-gamma*v-omega0**2*x])"
   ]
  },
  {
   "cell_type": "markdown",
   "metadata": {},
   "source": [
    "Definir os parâmetros do modelo\n",
    "\n",
    "- $\\gamma = 0.1$\n",
    "- $\\omega_0 = 1.0$\n",
    "\n",
    "e a condição inicial $x_0 = 2.0$ e $v_0 = 0.0$"
   ]
  },
  {
   "cell_type": "code",
   "execution_count": null,
   "metadata": {},
   "outputs": [],
   "source": [
    "gamma = 0.1\n",
    "omega0 = 1.0\n",
    "\n",
    "u0 = np.array([2.0,0.0])"
   ]
  },
  {
   "cell_type": "markdown",
   "metadata": {},
   "source": [
    "Resolve o problema usando o método de RK4 para $\\gamma = 0$ e $\\gamma = 0.1$."
   ]
  },
  {
   "cell_type": "code",
   "execution_count": null,
   "metadata": {},
   "outputs": [],
   "source": [
    "sol_oha_vv_gamma0,t = solver_RK4(u0,ti=0.0,tf=50.0,h=0.01,args=[0.0,omega0],edo=edo_oha)\n",
    "sol_oha_vv,t = solver_RK4(u0,ti=0.0,tf=50.0,h=0.01,args=[gamma,omega0],edo=edo_oha)"
   ]
  },
  {
   "cell_type": "markdown",
   "metadata": {},
   "source": [
    "Gráfico de $x(t)$ como função de $t$"
   ]
  },
  {
   "cell_type": "code",
   "execution_count": null,
   "metadata": {},
   "outputs": [],
   "source": [
    "plt.plot(t,sol_oha_vv_gamma0[0],label=r'$\\gamma=0$')\n",
    "plt.plot(t,sol_oha_vv[0],label=r'$\\gamma=0.1$')\n",
    "plt.legend(loc='best')\n",
    "plt.xlabel('t')\n",
    "plt.ylabel('x')"
   ]
  },
  {
   "cell_type": "markdown",
   "metadata": {},
   "source": [
    "Gráfico do espaço de fase"
   ]
  },
  {
   "cell_type": "code",
   "execution_count": null,
   "metadata": {},
   "outputs": [],
   "source": [
    "plt.scatter(*u0)\n",
    "plt.plot(sol_oha_vv[0],sol_oha_vv[1])\n",
    "plt.xlabel('x')\n",
    "plt.ylabel('v')"
   ]
  }
 ],
 "metadata": {
  "kernelspec": {
   "display_name": "usr",
   "language": "python",
   "name": "python3"
  },
  "language_info": {
   "codemirror_mode": {
    "name": "ipython",
    "version": 3
   },
   "file_extension": ".py",
   "mimetype": "text/x-python",
   "name": "python",
   "nbconvert_exporter": "python",
   "pygments_lexer": "ipython3",
   "version": "3.13.2"
  }
 },
 "nbformat": 4,
 "nbformat_minor": 4
}
