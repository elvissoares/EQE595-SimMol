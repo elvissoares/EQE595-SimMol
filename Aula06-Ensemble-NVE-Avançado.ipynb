{
 "cells": [
  {
   "cell_type": "code",
   "execution_count": null,
   "metadata": {},
   "outputs": [],
   "source": [
    "# Autor: Elvis do A. Soares\n",
    "# Github: @elvissoares\n",
    "import numpy as np\n",
    "import matplotlib.pyplot as plt\n",
    "from matplotlib import animation\n",
    "from matplotlib.animation import PillowWriter\n",
    "import scienceplots\n",
    "plt.style.use(['science','notebook'])"
   ]
  },
  {
   "cell_type": "markdown",
   "metadata": {},
   "source": [
    "# Dinâmica Molecular no Ensemble NVE \n",
    "\n",
    "- $N$: número de partículas\n",
    "- $V$: volume \n",
    "- $E$: energia\n"
   ]
  },
  {
   "attachments": {
    "image.png": {
     "image/png": "[encoded data removed]"
    }
   },
   "cell_type": "markdown",
   "metadata": {},
   "source": [
    "## Lista de Vizinhos\n",
    "\n",
    "Nem todas as partículas estão no raio de alcance das outras. \n",
    "\n",
    "![image.png](attachment:image.png)\n",
    "\n",
    "Para partículas mais distantes que $r_l$, somente após $n$ passos poderemos ter uma possível interação. \n",
    "\n",
    "A ideia é construir uma lista que leve em conta somente os vizinhos que estão no interior de uma esfera de raio $r_l$. \n",
    "\n",
    "## Cálculo da Pressão\n",
    "\n",
    "Vimos que a energia potencial do sistema é dada por \n",
    "\n",
    "$$U = \\frac{1}{2}\\sum_{i=1}^N \\sum_{j \\neq i}^N u(\\boldsymbol{r}_{ij})$$\n",
    "\n",
    "Da termodinâmica, sabemos que \n",
    "\n",
    "$$P = \\rho k_B T - \\left(\\frac{\\partial U}{\\partial V}\\right)_{N,S}$$\n",
    "\n",
    "Como a distância entre duas partículas $\\boldsymbol{r}_{ij}$ pode ser escrita em termos de um comprimento característico da caixa de simulação $\\ell$ tal que $\\boldsymbol{r}_{ij} = \\boldsymbol{s}_{ij} \\ell$ e que $V = \\ell^3$, podemos escrever que \n",
    "\n",
    "$$\\left(\\frac{\\partial U}{\\partial V}\\right)_{N,S} = \\frac{1}{2}\\sum_{i=1}^N \\sum_{j \\neq i}^N \\frac{\\partial u(\\boldsymbol{r}_{ij})}{\\partial \\boldsymbol{r}_{ij}} \\cdot \\frac{\\partial \\boldsymbol{r}_{ij}}{\\partial V}$$\n",
    "\n",
    "e usando que $\\frac{\\partial \\boldsymbol{r}_{ij}}{\\partial V} = \\boldsymbol{r}_{ij}/(3V)$ chegamos a \n",
    "\n",
    "$$P = \\rho k_B T + \\frac{W}{3V}$$\n",
    "\n",
    "$$W=  \\frac{1}{2}\\sum_{i=1}^N \\sum_{j \\neq i}^N \\boldsymbol{f}_{ij} \\cdot \\boldsymbol{r}_{ij}$$\n",
    "\n",
    "sendo $W$ o termo de virial que pode ser calculado pelo produto entre as forças e os deslocamentos. \n"
   ]
  },
  {
   "cell_type": "markdown",
   "metadata": {},
   "source": [
    "Função que calcula o potencial de LJ entre pares"
   ]
  },
  {
   "cell_type": "code",
   "execution_count": null,
   "metadata": {},
   "outputs": [],
   "source": [
    "def ulj(r,epsilon=1.0,sigma=1.0):\n",
    "    return 4*epsilon*((sigma/r)**12-(sigma/r)**6)"
   ]
  },
  {
   "cell_type": "markdown",
   "metadata": {},
   "source": [
    "Função que calcula a derivada do potencial de LJ entre pares"
   ]
  },
  {
   "cell_type": "code",
   "execution_count": null,
   "metadata": {},
   "outputs": [],
   "source": [
    "def duljdr(r,epsilon=1.0,sigma=1.0):\n",
    "    return -48*epsilon*((sigma/r)**12-0.5*(sigma/r)**6)/r"
   ]
  },
  {
   "cell_type": "code",
   "execution_count": null,
   "metadata": {},
   "outputs": [],
   "source": [
    "class LJsystem():\n",
    "    # Função que cria a classe\n",
    "    def __init__(self,N_atoms, m = 1.0, epsilon = 1.0, sigma = 1.0, rcut = 2.5):\n",
    "        self.N_atoms = N_atoms\n",
    "\n",
    "        # parametros dos atomos\n",
    "        self.m = m*np.ones(self.N_atoms)\n",
    "        self.sigma = sigma*np.ones(self.N_atoms)\n",
    "        self.epsilon = epsilon*np.ones(self.N_atoms)\n",
    "\n",
    "        # parametro de cutoff da interação de LJ\n",
    "        self.rcut = rcut\n",
    "\n",
    "        # Arrays de posições\n",
    "        self.x = np.zeros(self.N_atoms)\n",
    "        self.y = np.zeros(self.N_atoms)\n",
    "        self.z = np.zeros(self.N_atoms)\n",
    "\n",
    "        # Arrays de velocidade\n",
    "        self.vx = np.zeros(self.N_atoms)        \n",
    "        self.vy = np.zeros(self.N_atoms) \n",
    "        self.vz = np.zeros(self.N_atoms) \n",
    "\n",
    "        # Arrays de aceleração\n",
    "        self.ax = np.zeros(self.N_atoms)        \n",
    "        self.ay = np.zeros(self.N_atoms)\n",
    "        self.az = np.zeros(self.N_atoms)\n",
    "\n",
    "    def Set_Density(self,rho):\n",
    "        self.rho = rho\n",
    "        # calcular o tamanho da caixa necessária \n",
    "        self.Vol = self.N_atoms/self.rho\n",
    "        self.Lx = self.Ly = self.Lz = np.power(self.Vol,1/3.0)\n",
    "\n",
    "    def Initialize_Positions(self):\n",
    "        # Número de pontos em x e y\n",
    "        Nx = Ny = Nz = int(np.ceil(np.power(self.N_atoms/4,1/3.0)))\n",
    "\n",
    "        # Espaçamento entre os átomos\n",
    "        dx = self.Lx/Nx\n",
    "        dy = self.Ly/Ny\n",
    "        dz = self.Lz/Nz\n",
    "\n",
    "        # Posições possíveis em x e y numa rede cristalina tipo FCC\n",
    "        id = 0\n",
    "        for i in range(Nx):\n",
    "            for j in range(Ny):\n",
    "                for k in range(Nz):\n",
    "                    if (id < self.N_atoms):\n",
    "                        self.x[id] = i*dx\n",
    "                        self.y[id] = j*dy\n",
    "                        self.z[id] = k*dz\n",
    "                        id +=1\n",
    "\n",
    "                    if (id < self.N_atoms):\n",
    "                        self.x[id] = i*dx\n",
    "                        self.y[id] = (j+0.5)*dy\n",
    "                        self.z[id] = (k+0.5)*dz\n",
    "                        id +=1\n",
    "\n",
    "                    if (id < self.N_atoms):\n",
    "                        self.x[id] = (i+0.5)*dx\n",
    "                        self.y[id] = j*dy\n",
    "                        self.z[id] = (k+0.5)*dz\n",
    "                        id +=1\n",
    "\n",
    "                    if (id < self.N_atoms):\n",
    "                        self.x[id] = (i+0.5)*dx\n",
    "                        self.y[id] = (j+0.5)*dy\n",
    "                        self.z[id] = k*dz\n",
    "                        id +=1\n",
    "                        \n",
    "    def Initialize_Velocities(self,kT= 1.0):\n",
    "        self.kT = kT\n",
    "\n",
    "        # sorteia uma distribuição normal com devio padrão proporcional a temperatura\n",
    "        self.vx[:] = np.random.normal(loc=0.0, scale=np.sqrt(self.kT/self.m),size=self.N_atoms)\n",
    "        self.vy[:] = np.random.normal(loc=0.0, scale=np.sqrt(self.kT/self.m),size=self.N_atoms)\n",
    "        self.vz[:] = np.random.normal(loc=0.0, scale=np.sqrt(self.kT/self.m),size=self.N_atoms)\n",
    "\n",
    "        # retira qualquer movimento total\n",
    "        self.vx[:] -= self.vx.mean()\n",
    "        self.vy[:] -= self.vy.mean()\n",
    "        self.vz[:] -= self.vz.mean()\n",
    "\n",
    "    def Get_KineticEnergy(self):\n",
    "        self.K = np.sum(0.5*self.m*(self.vx**2+self.vy**2+self.vz**2))\n",
    "        return self.K\n",
    "    \n",
    "    def Build_NeighborList(self,rcell=2.8):\n",
    "        \"\"\"Construindo uma lista de vizinhos de Verlet dentro de uma região rcell\"\"\"\n",
    "        self.rcell = rcell\n",
    "        self.NL = [[] for _ in range(self.N_atoms)]\n",
    "        ...\n",
    "\n",
    "    def Calculate_Interactions(self):\n",
    "        self.ax[:] = 0.0\n",
    "        self.ay[:] = 0.0\n",
    "        self.az[:] = 0.0\n",
    "        self.U = 0.0\n",
    "        self.W = 0.0\n",
    "        for i in range(self.N_atoms):\n",
    "            for j in self.NL[i]: # <-------- troca os limites \n",
    "                # calcula distancia entre duas particulas\n",
    "                rx = self.x[i] - self.x[j]\n",
    "                ry = self.y[i] - self.y[j]\n",
    "                rz = self.z[i] - self.z[j]\n",
    "                # testa condição de contorno periodica para imagens\n",
    "                rx -= np.rint(rx/self.Lx)*self.Lx # em x\n",
    "                ry -= np.rint(ry/self.Ly)*self.Ly # em y\n",
    "                rz -= np.rint(rz/self.Lz)*self.Lz # em y\n",
    "                # calcula modulo da distancia \n",
    "                r = np.sqrt(rx**2 + ry**2 + rz**2)\n",
    "                # regra de combinação de Lorenz-Berthelot\n",
    "                epsilonij = np.sqrt(self.epsilon[i]*self.epsilon[j])\n",
    "                sigmaij = 0.5*(self.sigma[i]+self.sigma[j])\n",
    "                # Vamos considerar somente interação dentro do raio de corte\n",
    "                if r < self.rcut*sigmaij:\n",
    "                    # calcula a derivada do potencial \n",
    "                    dudr = duljdr(r,epsilonij,sigmaij)\n",
    "                    # calcula aceleração na particula i \n",
    "                    self.ax[i] += -dudr*rx/r\n",
    "                    self.ay[i] += -dudr*ry/r\n",
    "                    self.az[i] += -dudr*rz/r\n",
    "                    # calcula aceleração na particula j usando 3ª Lei de Newton \n",
    "                    self.ax[j] += dudr*rx/r\n",
    "                    self.ay[j] += dudr*ry/r\n",
    "                    self.az[j] += dudr*rz/r\n",
    "                    # calcula energia interna\n",
    "                    self.U += ulj(r,epsilonij,sigmaij)\n",
    "                    self.W += ...\n",
    "\n",
    "    def Get_PotentialEnergy(self):\n",
    "        return self.U\n",
    "    \n",
    "    def Get_Energies(self):\n",
    "        self.Get_KineticEnergy()\n",
    "        kT = 2*self.K/(3*self.N_atoms)\n",
    "        return self.K, self.U, kT\n",
    "    \n",
    "    def Calculate_Pressure(self):\n",
    "        kT = 2*self.K/(3*self.N_atoms)\n",
    "        return self.rho*kT + self.W/(3*self.Vol)\n",
    "    \n",
    "    def Set_TimeStep(self,h):\n",
    "        self.h = h\n",
    "    \n",
    "    def Calculate_TimeStep(self):\n",
    "        # update das velocidades\n",
    "        self.vx[:] += 0.5*self.ax*self.h\n",
    "        self.vy[:] += 0.5*self.ay*self.h\n",
    "        self.vz[:] += 0.5*self.az*self.h\n",
    "        # update das posições\n",
    "        self.x[:] += self.h * self.vx\n",
    "        self.y[:] += self.h * self.vy\n",
    "        self.z[:] += self.h * self.vz\n",
    "        # condição de contorno periódica se pártícula saiu da caixa\n",
    "        self.x[:] = self.x % self.Lx # em x\n",
    "        self.y[:] = self.y % self.Ly # em y\n",
    "        self.z[:] = self.z % self.Lz # em z\n",
    "        # calcula nova aceleração \n",
    "        self.Calculate_Interactions()\n",
    "        # update das velocidades\n",
    "        self.vx[:] += 0.5*self.ax*self.h\n",
    "        self.vy[:] += 0.5*self.ay*self.h\n",
    "        self.vz[:] += 0.5*self.az*self.h\n",
    "\n",
    "    def RunSimulation(self,N_steps,Step_to_print=10,Step_tolist_update=20):\n",
    "        self.N_steps = N_steps\n",
    "        self.Step_to_print = Step_to_print # steps to print output\n",
    "        self.Step_tolist_update = Step_tolist_update\n",
    "\n",
    "        self.Build_NeighborList()\n",
    "        self.Calculate_Interactions()\n",
    "\n",
    "        print('iter\\t K\\t U\\t E\\t T\\t P')\n",
    "\n",
    "        t = []\n",
    "        K = []\n",
    "        U = []\n",
    "        E = []\n",
    "        T = []\n",
    "        P = []\n",
    "\n",
    "        Ktemp, Utemp, Ttemp = self.Get_Energies()\n",
    "        Ptemp = self.Calculate_Pressure()\n",
    "        Kmed = Ktemp\n",
    "        Umed = Utemp\n",
    "        Emed = Ktemp+Utemp\n",
    "        Tmed = Ttemp\n",
    "        Pmed = Ptemp\n",
    "\n",
    "        for i in range(1,self.N_steps+1):\n",
    "\n",
    "            if i % self.Step_tolist_update == 0:\n",
    "                self.Build_NeighborList()\n",
    "\n",
    "            self.Calculate_TimeStep()\n",
    "\n",
    "            Ktemp, Utemp, Ttemp = self.Get_Energies()\n",
    "            Ptemp = self.Calculate_Pressure()\n",
    "            Kmed += Ktemp\n",
    "            Umed += Utemp\n",
    "            Tmed += Ttemp\n",
    "            Emed += Ktemp+Utemp\n",
    "            Pmed += Ptemp\n",
    "\n",
    "            if i % self.Step_to_print == 0:\n",
    "                Kmed /= Step_to_print\n",
    "                Umed /= Step_to_print\n",
    "                Emed /= Step_to_print\n",
    "                Tmed /= Step_to_print\n",
    "                Pmed /= Step_to_print\n",
    "                t.append(i)\n",
    "                K.append(Kmed)\n",
    "                U.append(Umed)\n",
    "                E.append(Emed)\n",
    "                T.append(Tmed)\n",
    "                P.append(Pmed)\n",
    "                print(f'{i:5d}\\t {Kmed:.4f}\\t {Umed:.4f}\\t {Emed:.4f}\\t {Tmed:.4f}\\t {Pmed:.4f}')\n",
    "                Kmed = 0.0\n",
    "                Umed = 0.0\n",
    "                Emed = 0.0\n",
    "                Tmed = 0.0\n",
    "                Pmed = 0.0\n",
    "\n",
    "        return np.array(t), np.array(K), np.array(U), np.array(E), np.array(T), np.array(P)"
   ]
  },
  {
   "cell_type": "code",
   "execution_count": null,
   "metadata": {},
   "outputs": [],
   "source": [
    "rho = 0.55\n",
    "kT = 1.38\n",
    "\n",
    "N_atoms=256\n",
    "# N_atoms=864"
   ]
  },
  {
   "cell_type": "code",
   "execution_count": null,
   "metadata": {},
   "outputs": [],
   "source": [
    "lj = LJsystem(N_atoms=N_atoms,m=1.0,epsilon=1.0,sigma=1.0)\n",
    "lj.Set_Density(rho=rho)\n",
    "lj.Initialize_Positions()\n",
    "lj.Initialize_Velocities(kT=kT)\n",
    "lj.Set_TimeStep(h=0.003)"
   ]
  },
  {
   "cell_type": "code",
   "execution_count": null,
   "metadata": {},
   "outputs": [],
   "source": [
    "t, K, U, E, T, P = lj.RunSimulation(N_steps=600,Step_to_print=20)"
   ]
  },
  {
   "cell_type": "markdown",
   "metadata": {},
   "source": [
    "Gráfico das posições finais das partículas"
   ]
  },
  {
   "cell_type": "code",
   "execution_count": null,
   "metadata": {},
   "outputs": [],
   "source": [
    "plt.figure(figsize=(5,5))\n",
    "plt.plot(lj.x,lj.y,'o',ms=10.0,alpha=0.5) # posição das partículas\n",
    "plt.quiver(lj.x,lj.y,lj.vx,lj.vy,color='C0') # vetor de velocidade\n",
    "\n",
    "plt.xlim(0,lj.Lx)\n",
    "plt.ylim(0,lj.Ly)\n",
    "\n",
    "plt.xlabel('x')\n",
    "plt.ylabel('y')"
   ]
  },
  {
   "cell_type": "markdown",
   "metadata": {},
   "source": [
    "Distribuição das partículas"
   ]
  },
  {
   "cell_type": "code",
   "execution_count": null,
   "metadata": {},
   "outputs": [],
   "source": [
    "fig, axs = plt.subplots(1, 3, sharey=True,figsize=(10,3))\n",
    "\n",
    "n, bins = np.histogram(lj.x,bins=6,range=(0,lj.Lx),density=True) # é uma outra forma de fazer histograma\n",
    "meanbins = 0.5*(bins[1:]+bins[:-1])\n",
    "axs[0].scatter(meanbins,n,marker='o',color='C0')\n",
    "axs[0].hlines(y=rho*lj.Lx*lj.Ly/lj.N_atoms,xmin=0,xmax=lj.Lx,color='k')\n",
    "axs[0].set_xlabel(r'$x/\\sigma$')\n",
    "\n",
    "n, bins = np.histogram(lj.y,bins=6,range=(0,lj.Ly),density=True)\n",
    "meanbins = 0.5*(bins[1:]+bins[:-1])\n",
    "axs[1].scatter(meanbins,n,marker='o',color='C1')\n",
    "axs[1].hlines(y=rho*lj.Lx*lj.Lz/lj.N_atoms,xmin=0,xmax=lj.Ly,color='k')\n",
    "axs[1].set_xlabel(r'$y/\\sigma$')\n",
    "\n",
    "n, bins = np.histogram(lj.z,bins=6,range=(0,lj.Lz),density=True)\n",
    "meanbins = 0.5*(bins[1:]+bins[:-1])\n",
    "axs[2].scatter(meanbins,n,marker='o',color='C2')\n",
    "axs[2].hlines(y=rho*lj.Ly*lj.Lz/lj.N_atoms,xmin=0,xmax=lj.Lz,color='k')\n",
    "axs[2].set_xlabel(r'$z/\\sigma$')\n",
    "\n",
    "axs[0].set_ylim(0,0.2)"
   ]
  },
  {
   "cell_type": "markdown",
   "metadata": {},
   "source": [
    "Distribuição de Velocidades"
   ]
  },
  {
   "cell_type": "code",
   "execution_count": null,
   "metadata": {},
   "outputs": [],
   "source": [
    "fig, axs = plt.subplots(1, 3, sharey=True,figsize=(10,3))\n",
    "\n",
    "vx = np.arange(-5,5,0.1)\n",
    "fvx = np.exp(-vx**2/(2*T[-1]))/np.sqrt(2*np.pi*T[-1])\n",
    "\n",
    "n, bins = np.histogram(lj.vx,bins=20,range=(vx.min(),vx.max()),density=True)\n",
    "meanbins = 0.5*(bins[1:]+bins[:-1])\n",
    "axs[0].scatter(meanbins,n,marker='o',color='C0')\n",
    "axs[0].plot(vx,fvx,'k')\n",
    "axs[0].set_xlabel(r'$v_x$')\n",
    "\n",
    "n, bins = np.histogram(lj.vy,bins=20,range=(vx.min(),vx.max()),density=True)\n",
    "meanbins = 0.5*(bins[1:]+bins[:-1])\n",
    "axs[1].scatter(meanbins,n,marker='o',color='C1')\n",
    "axs[1].plot(vx,fvx,'k')\n",
    "axs[1].set_xlabel(r'$v_y$')\n",
    "\n",
    "n, bins = np.histogram(lj.vz,bins=20,range=(vx.min(),vx.max()),density=True)\n",
    "meanbins = 0.5*(bins[1:]+bins[:-1])\n",
    "axs[2].scatter(meanbins,n,marker='o',color='C2')\n",
    "axs[2].plot(vx,fvx,'k')\n",
    "axs[2].set_xlabel(r'$v_z$')\n",
    "\n",
    "axs[0].set_ylim(0,0.5)"
   ]
  },
  {
   "cell_type": "markdown",
   "metadata": {},
   "source": [
    "Gráfico da evolução de $U$ e $T$ como função dos passos de iteração"
   ]
  },
  {
   "cell_type": "code",
   "execution_count": null,
   "metadata": {},
   "outputs": [],
   "source": [
    "fig, axs = plt.subplots(4, 1, sharex=True)\n",
    "\n",
    "axs[0].plot(t,E/lj.N_atoms,'k',label='E')\n",
    "axs[0].legend(loc='best')\n",
    "axs[0].set_ylabel(r'$E/(N\\epsilon)$')\n",
    "\n",
    "axs[1].plot(t,U/lj.N_atoms,label='U')\n",
    "axs[1].legend(loc='best')\n",
    "axs[1].set_ylabel(r'$U/(N\\epsilon)$')\n",
    "\n",
    "axs[2].plot(t,T,color='C3',label='T')\n",
    "axs[2].legend(loc='best')\n",
    "axs[2].set_ylabel(r'$k_B T/\\epsilon$')\n",
    "\n",
    "axs[3].plot(t,P,color='C2',label='P')\n",
    "axs[3].legend(loc='best')\n",
    "axs[3].set_xlabel(r'$t/\\tau$')\n",
    "axs[3].set_ylabel(r'$P \\sigma^3/\\epsilon$')"
   ]
  },
  {
   "cell_type": "markdown",
   "metadata": {},
   "source": [
    "## Calculando Médias e Desvios Padrão"
   ]
  },
  {
   "cell_type": "code",
   "execution_count": null,
   "metadata": {},
   "outputs": [],
   "source": [
    "teq = 150\n",
    "subsett = t[t>teq]\n",
    "subsetT = T[t>teq]\n",
    "subsetP = P[t>teq]\n",
    "subsetU = U[t>teq]/lj.N_atoms"
   ]
  },
  {
   "cell_type": "markdown",
   "metadata": {},
   "source": [
    "Energia Interna"
   ]
  },
  {
   "cell_type": "code",
   "execution_count": null,
   "metadata": {},
   "outputs": [],
   "source": [
    "Umean = subsetU.mean()\n",
    "\n",
    "print(Umean)"
   ]
  },
  {
   "cell_type": "code",
   "execution_count": null,
   "metadata": {},
   "outputs": [],
   "source": [
    "sigmaU = subsetU.std()\n",
    "\n",
    "print(sigmaU)"
   ]
  },
  {
   "cell_type": "markdown",
   "metadata": {},
   "source": [
    "$$u^* = U/N\\epsilon = -3.43 \\pm 0.02 $$"
   ]
  },
  {
   "cell_type": "code",
   "execution_count": null,
   "metadata": {},
   "outputs": [],
   "source": [
    "# plt.hist(subsetU,bins=6,density=True)\n",
    "plt.xlabel(r'$U/\\epsilon$')\n",
    "plt.ylabel('Densidade de Probabilidade')\n",
    "\n",
    "uarray = np.arange(-3.6,-3.2,0.001)\n",
    "plt.plot(uarray,np.sqrt(1/(2*np.pi*sigmaU**2))*np.exp(-0.5*(uarray-Umean)**2/sigmaU**2),color='k')\n",
    "\n",
    "n, bins = np.histogram(subsetU,bins=20,range=(uarray.min(),uarray.max()),density=True)\n",
    "meanbins = 0.5*(bins[1:]+bins[:-1])\n",
    "plt.scatter(meanbins,n,marker='o',color='C0')"
   ]
  },
  {
   "cell_type": "markdown",
   "metadata": {},
   "source": [
    "Temperatura"
   ]
  },
  {
   "cell_type": "code",
   "execution_count": null,
   "metadata": {},
   "outputs": [],
   "source": [
    "Tmean = subsetT.mean()\n",
    "\n",
    "print(Tmean)"
   ]
  },
  {
   "cell_type": "code",
   "execution_count": null,
   "metadata": {},
   "outputs": [],
   "source": [
    "sigmaT = subsetT.std()\n",
    "\n",
    "print(sigmaT)"
   ]
  },
  {
   "cell_type": "markdown",
   "metadata": {},
   "source": [
    "$$ T^* = k_B T /\\epsilon = 1.29 \\pm 0.02$$"
   ]
  },
  {
   "cell_type": "code",
   "execution_count": null,
   "metadata": {},
   "outputs": [],
   "source": [
    "# plt.hist(subsetT,bins=6,density=True,color='C3')\n",
    "plt.xlabel(r'$k_B T/\\epsilon$')\n",
    "plt.ylabel('Densidade de Probabilidade')\n",
    "\n",
    "Tarray = np.arange(1.2,1.45,0.001)\n",
    "plt.plot(Tarray,np.sqrt(1/(2*np.pi*sigmaT**2))*np.exp(-0.5*(Tarray-Tmean)**2/sigmaT**2),color='k')\n",
    "\n",
    "n, bins = np.histogram(subsetT,bins=20,range=(Tarray.min(),Tarray.max()),density=True)\n",
    "meanbins = 0.5*(bins[1:]+bins[:-1])\n",
    "plt.scatter(meanbins,n,marker='o',color='C3')"
   ]
  },
  {
   "cell_type": "markdown",
   "metadata": {},
   "source": [
    "Pressão"
   ]
  },
  {
   "cell_type": "code",
   "execution_count": null,
   "metadata": {},
   "outputs": [],
   "source": [
    "Pmean = subsetP.mean()\n",
    "\n",
    "print(Pmean)"
   ]
  },
  {
   "cell_type": "code",
   "execution_count": null,
   "metadata": {},
   "outputs": [],
   "source": [
    "sigmaP = subsetP.std()\n",
    "\n",
    "print(sigmaP)"
   ]
  },
  {
   "cell_type": "markdown",
   "metadata": {},
   "source": [
    "$$P^* = P \\sigma^3 /\\epsilon = 0.84 \\pm 0.16 $$"
   ]
  },
  {
   "cell_type": "code",
   "execution_count": null,
   "metadata": {},
   "outputs": [],
   "source": [
    "# plt.hist(subsetP,bins=6,density=True,color='C2')\n",
    "plt.xlabel(r'$P \\sigma^3/\\epsilon$')\n",
    "plt.ylabel('Densidade de Probabilidade')\n",
    "\n",
    "Parray = np.arange(0.0,1.6,0.001)\n",
    "plt.plot(Parray,np.sqrt(1/(2*np.pi*sigmaP**2))*np.exp(-0.5*(Parray-Pmean)**2/sigmaP**2),color='k')\n",
    "\n",
    "n, bins = np.histogram(subsetP,bins=20,range=(Parray.min(),Parray.max()),density=True)\n",
    "meanbins = 0.5*(bins[1:]+bins[:-1])\n",
    "plt.scatter(meanbins,n,marker='o',color='C2')"
   ]
  },
  {
   "cell_type": "code",
   "execution_count": null,
   "metadata": {},
   "outputs": [],
   "source": []
  }
 ],
 "metadata": {
  "kernelspec": {
   "display_name": "Python 3",
   "language": "python",
   "name": "python3"
  },
  "language_info": {
   "codemirror_mode": {
    "name": "ipython",
    "version": 3
   },
   "file_extension": ".py",
   "mimetype": "text/x-python",
   "name": "python",
   "nbconvert_exporter": "python",
   "pygments_lexer": "ipython3",
   "version": "3.12.4"
  }
 },
 "nbformat": 4,
 "nbformat_minor": 4
}
