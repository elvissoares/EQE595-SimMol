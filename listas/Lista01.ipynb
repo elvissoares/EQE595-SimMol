{
  "cells": [
    {
      "cell_type": "markdown",
      "metadata": {
        "id": "view-in-github",
        "colab_type": "text"
      },
      "source": [
        "<a href=\"https://colab.research.google.com/github/elvissoares/EQE595-SimMol/blob/main/listas/Lista01.ipynb\" target=\"_parent\"><img src=\"https://colab.research.google.com/assets/colab-badge.svg\" alt=\"Open In Colab\"/></a>"
      ]
    },
    {
      "cell_type": "markdown",
      "metadata": {
        "id": "0GHRUXilRXzo"
      },
      "source": [
        "# EQE595 - Modelagem e Simulação Molecular\n",
        "\n",
        "Autor: [Prof. Elvis do A. Soares](https://github.com/elvissoares)\n",
        "\n",
        "Contato: [elvis@peq.coppe.ufrj.br](mailto:elvis@peq.coppe.ufrj.br) - [Programa de Engenharia Química, PEQ/COPPE, UFRJ, Brasil](https://www.peq.coppe.ufrj.br/)\n",
        "\n",
        "---\n",
        "\n",
        "## Nome do Aluno:\n",
        "\n",
        "## DRE:\n",
        "\n",
        "\n",
        "---"
      ]
    },
    {
      "cell_type": "markdown",
      "metadata": {
        "id": "1JLNLihrRXzp"
      },
      "source": [
        "### Este Notebook deve ser entregue preenchido via e-mail para elvis@peq.coppe.ufrj.br até a próxima segunda-feira (25/08) com horário limite de 23:59."
      ]
    },
    {
      "cell_type": "code",
      "execution_count": null,
      "metadata": {
        "id": "XomobexBRXzp"
      },
      "outputs": [],
      "source": [
        "import numpy as np\n",
        "import matplotlib.pyplot as plt"
      ]
    },
    {
      "cell_type": "markdown",
      "metadata": {
        "id": "hn6EfJ8bRXzq"
      },
      "source": [
        "# Questão 1:  Interação de LJ numa rede FCC\n",
        "\n",
        "\n",
        "Vamos calcular a interação entre $N$ partículas dispostas numa rede FCC\n"
      ]
    },
    {
      "cell_type": "markdown",
      "metadata": {
        "id": "gTJ03GdFRXzq"
      },
      "source": [
        "A função abaixo cria uma caixa cúbica do tipo FCC para colocar as partículas"
      ]
    },
    {
      "cell_type": "code",
      "execution_count": null,
      "metadata": {
        "id": "iif57O3lRXzq"
      },
      "outputs": [],
      "source": [
        "def FCC(Nparticles, L):\n",
        "    # array como posições das partículas\n",
        "    r = np.zeros((Nparticles,3))\n",
        "\n",
        "    # Número de pontos em x e y\n",
        "    Nx = Ny = Nz = int(np.ceil(np.power(Nparticles/4,1/3.0)))\n",
        "\n",
        "    # Espaçamento entre os átomos\n",
        "    dx = L/Nx\n",
        "    dy = L/Ny\n",
        "    dz = L/Nz\n",
        "\n",
        "    # Posições possíveis em x e y numa rede cristalina tipo FCC\n",
        "    id = 0\n",
        "    for i in range(Nx):\n",
        "        for j in range(Ny):\n",
        "            for k in range(Nz):\n",
        "                if (id < Nparticles):\n",
        "                    r[id][0] = i*dx\n",
        "                    r[id][1] = j*dy\n",
        "                    r[id][2] = k*dz\n",
        "                    id +=1\n",
        "\n",
        "                if (id < Nparticles):\n",
        "                    r[id][0] = i*dx\n",
        "                    r[id][1] = (j+0.5)*dy\n",
        "                    r[id][2] = (k+0.5)*dz\n",
        "                    id +=1\n",
        "\n",
        "                if (id < Nparticles):\n",
        "                    r[id][0] = (i+0.5)*dx\n",
        "                    r[id][1] = j*dy\n",
        "                    r[id][2] = (k+0.5)*dz\n",
        "                    id +=1\n",
        "\n",
        "                if (id < Nparticles):\n",
        "                    r[id][0] = (i+0.5)*dx\n",
        "                    r[id][1] = (j+0.5)*dy\n",
        "                    r[id][2] = k*dz\n",
        "                    id +=1\n",
        "\n",
        "    return r"
      ]
    },
    {
      "cell_type": "markdown",
      "metadata": {
        "id": "sHzELUoaRXzq"
      },
      "source": [
        "a) Coloque $N=216$ partículas numa caixa FCC de tamanho $L=8$ e faça um gráfico 2D das posições em $z=0$."
      ]
    },
    {
      "cell_type": "code",
      "execution_count": null,
      "metadata": {
        "id": "ePpN-JenRXzq"
      },
      "outputs": [],
      "source": []
    },
    {
      "cell_type": "markdown",
      "metadata": {
        "id": "iZqUPywDRXzq"
      },
      "source": [
        "b) Copie as funções da Aula 2 chamadas `lj`, `duljdr` e `lennardjones3d` e calcule a energia de interação entre o sistema de partículas;"
      ]
    },
    {
      "cell_type": "code",
      "execution_count": null,
      "metadata": {
        "id": "QQxU2qh3RXzq"
      },
      "outputs": [],
      "source": []
    },
    {
      "cell_type": "markdown",
      "metadata": {
        "id": "ZmmELxNVRXzq"
      },
      "source": [
        "c) Faça uma função que calcule a energia de LJ entre as partículas dispostas numa rede FCC como tamanho $L$. Calcule as energias $U$ para varios tamanhos $L$ e faça um gráfico de $U$ como função de $L$."
      ]
    },
    {
      "cell_type": "code",
      "execution_count": null,
      "metadata": {
        "id": "Aac5pJOERXzq"
      },
      "outputs": [],
      "source": []
    },
    {
      "cell_type": "markdown",
      "source": [
        "d) Calcule o mínimo da energia $U$ e o seu valor por partícula $U/N$. Compare esse valor com aquele da rede cúbica simples encontrado na Aula 02."
      ],
      "metadata": {
        "id": "Ny5xxNQciZjc"
      }
    },
    {
      "cell_type": "code",
      "source": [],
      "metadata": {
        "id": "0qNpcaJXh7PT"
      },
      "execution_count": null,
      "outputs": []
    }
  ],
  "metadata": {
    "kernelspec": {
      "display_name": "usr",
      "language": "python",
      "name": "python3"
    },
    "language_info": {
      "codemirror_mode": {
        "name": "ipython",
        "version": 3
      },
      "file_extension": ".py",
      "mimetype": "text/x-python",
      "name": "python",
      "nbconvert_exporter": "python",
      "pygments_lexer": "ipython3",
      "version": "3.13.2"
    },
    "colab": {
      "provenance": [],
      "include_colab_link": true
    }
  },
  "nbformat": 4,
  "nbformat_minor": 0
}