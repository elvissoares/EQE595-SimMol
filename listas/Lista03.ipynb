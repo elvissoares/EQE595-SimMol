{
  "cells": [
    {
      "cell_type": "markdown",
      "metadata": {
        "colab_type": "text",
        "id": "view-in-github"
      },
      "source": [
        "<a href=\"https://colab.research.google.com/github/elvissoares/EQE595-SimMol/blob/main/listas/Lista03.ipynb\" target=\"_parent\"><img src=\"https://colab.research.google.com/assets/colab-badge.svg\" alt=\"Open In Colab\"/></a>"
      ]
    },
    {
      "cell_type": "markdown",
      "metadata": {
        "id": "3s7d7sEyjxNq"
      },
      "source": [
        "# EQE595 - Modelagem e Simulação Molecular\n",
        "\n",
        "Autor: [Prof. Elvis do A. Soares](https://github.com/elvissoares)\n",
        "\n",
        "Contato: [elvis@peq.coppe.ufrj.br](mailto:elvis@peq.coppe.ufrj.br) - [Programa de Engenharia Química, PEQ/COPPE, UFRJ, Brasil](https://www.peq.coppe.ufrj.br/)\n",
        "\n",
        "---\n",
        "\n",
        "## Nome do Aluno:\n",
        "\n",
        "## DRE:\n",
        "\n",
        "\n",
        "---"
      ]
    },
    {
      "cell_type": "markdown",
      "metadata": {
        "id": "ZtboGqf-jxNr"
      },
      "source": [
        "### Este Notebook deve ser entregue preenchido via e-mail para elvis@peq.coppe.ufrj.br até a próxima segunda-feira (27/10) com horário limite de 23:59."
      ]
    },
    {
      "cell_type": "code",
      "execution_count": null,
      "metadata": {
        "id": "RLqj8nHsjxNr"
      },
      "outputs": [],
      "source": [
        "import numpy as np\n",
        "import matplotlib.pyplot as plt"
      ]
    },
    {
      "cell_type": "markdown",
      "metadata": {
        "id": "d8kuLVxYjxNr"
      },
      "source": [
        "# Questão 1:  Dinâmica Molecular no Ensemble NVT\n"
      ]
    },
    {
      "cell_type": "markdown",
      "metadata": {
        "id": "suLRPY-kjxNr"
      },
      "source": [
        "a) Copie a classe `LJsystem` da Aula 04 e suas funções auxiliares para o seguinte bloco de código:"
      ]
    },
    {
      "cell_type": "code",
      "execution_count": null,
      "metadata": {
        "id": "kI8n0GzcjxNr"
      },
      "outputs": [],
      "source": []
    },
    {
      "cell_type": "markdown",
      "metadata": {
        "id": "Dmb_XM1ajxNr"
      },
      "source": [
        "b) Inicialize a classe com 864 partículas e use $\\sigma=1$, $\\epsilon=1$ e $m=1$."
      ]
    },
    {
      "cell_type": "code",
      "execution_count": null,
      "metadata": {
        "id": "Bj06cVpcjxNr"
      },
      "outputs": [],
      "source": []
    },
    {
      "cell_type": "markdown",
      "metadata": {
        "id": "szAutYkajxNs"
      },
      "source": [
        "c) Para $\\rho^* = 0.84$ e $T^* = 0.71$ faça uma simulação `NVT` com 5000 passos no total com $h=0.003$ e escrevendo os resultados a cada 50 passos."
      ]
    },
    {
      "cell_type": "code",
      "execution_count": null,
      "metadata": {
        "id": "Zo5B9VyHjxNs"
      },
      "outputs": [],
      "source": []
    },
    {
      "cell_type": "markdown",
      "metadata": {
        "id": "HKyUMxowjxNs"
      },
      "source": [
        "d) Faça um gráfico da evolução de $E^*$, $U^* $, $T^*$ e $P^*$ como função do tempo."
      ]
    },
    {
      "cell_type": "code",
      "execution_count": null,
      "metadata": {
        "id": "Zb3pcryvjxNs"
      },
      "outputs": [],
      "source": []
    },
    {
      "cell_type": "markdown",
      "metadata": {
        "id": "webN4PKVjxNs"
      },
      "source": [
        "e) Determine a média de $T^*$ e $P^*$ assumindo que os primeiros 200 passos devem ser descartados."
      ]
    },
    {
      "cell_type": "code",
      "execution_count": null,
      "metadata": {
        "id": "BTgJXwvdjxNs"
      },
      "outputs": [],
      "source": []
    },
    {
      "cell_type": "markdown",
      "metadata": {
        "id": "0ykhofAxjxNs"
      },
      "source": [
        "f) A molécula de metano pode ser modelada como um partícula de Lennard-Jones com $\\sigma = 3.73 Ang$ e $\\epsilon/k_B = 148 K$. Calcule $T$ e $P$ a partir de $T^*$ e $P^*$ em unidades do Sistema Internacional.\n",
        "\n",
        "Lembre que\n",
        "\n",
        "$$T^* = \\frac{k_B T}{\\epsilon}$$\n",
        "\n",
        "$$P^* = \\frac{P \\sigma^3}{\\epsilon}$$"
      ]
    },
    {
      "cell_type": "code",
      "execution_count": null,
      "metadata": {
        "id": "d2m-0ghTjxNs"
      },
      "outputs": [],
      "source": []
    }
  ],
  "metadata": {
    "colab": {
      "include_colab_link": true,
      "provenance": []
    },
    "kernelspec": {
      "display_name": "base",
      "language": "python",
      "name": "python3"
    },
    "language_info": {
      "codemirror_mode": {
        "name": "ipython",
        "version": 3
      },
      "file_extension": ".py",
      "mimetype": "text/x-python",
      "name": "python",
      "nbconvert_exporter": "python",
      "pygments_lexer": "ipython3",
      "version": "3.10.9"
    }
  },
  "nbformat": 4,
  "nbformat_minor": 0
}
