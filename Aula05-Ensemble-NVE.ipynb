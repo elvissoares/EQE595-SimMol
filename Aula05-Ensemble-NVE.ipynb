{
 "cells": [
  {
   "cell_type": "code",
   "execution_count": null,
   "metadata": {},
   "outputs": [],
   "source": [
    "# Autor: Elvis do A. Soares\n",
    "# Github: @elvissoares\n",
    "import numpy as np\n",
    "import matplotlib.pyplot as plt\n",
    "from matplotlib import animation\n",
    "from matplotlib.animation import PillowWriter\n",
    "import scienceplots\n",
    "plt.style.use(['science','notebook'])"
   ]
  },
  {
   "cell_type": "markdown",
   "metadata": {},
   "source": [
    "# Dinâmica Molecular no Ensemble NVE \n",
    "\n",
    "- $N$: número de partículas\n",
    "- $V$: volume \n",
    "- $E$: energia\n"
   ]
  },
  {
   "cell_type": "markdown",
   "metadata": {},
   "source": [
    "## Unidades reduzidas\n",
    "\n",
    "Iremos usar unidades reduzidas\n",
    "\n",
    "$$T^* = \\frac{k_B T}{\\epsilon}$$\n",
    "\n",
    "$$\\rho^* = \\rho \\sigma^2 $$\n",
    "\n",
    "$$ t^* = \\left( \\frac{\\epsilon}{m \\sigma^2} \\right)^{1/2} t$$\n",
    "\n",
    "## Integrador Velocity-Verlet\n",
    "\n",
    "Apropriado apenas para 2ª Lei de Newton. Utiliza um cálculo a mais de aceleração. \n",
    "\n",
    "$$x_{t+h} = x_t + v_t h + \\frac{1}{2} a_t h^2$$\n",
    "\n",
    "$$v_{t+h} = v_t + \\frac{1}{2}(a_{t+h}+a_t) h $$\n",
    "\n",
    "De modo que o algoritmo consiste em \n",
    "\n",
    "1. Calcula $x_{t+h}$ usando $v_t$ e $a_t$;\n",
    "2. Calcula $a_{t+h}$ usando $x_{t+h}$;\n",
    "3. Calcula $v_{t+h}$ para o próximo passo;\n",
    "4. Volta ao passo 1;\n",
    "\n",
    "Ref: https://pt.wikipedia.org/wiki/M%C3%A9todo_de_Verlet"
   ]
  },
  {
   "cell_type": "markdown",
   "metadata": {},
   "source": [
    "Função que calcula o potencial de LJ entre pares"
   ]
  },
  {
   "cell_type": "code",
   "execution_count": null,
   "metadata": {},
   "outputs": [],
   "source": [
    "def ulj(r,epsilon=1.0,sigma=1.0):\n",
    "    return 4*epsilon*((sigma/r)**12-(sigma/r)**6)"
   ]
  },
  {
   "cell_type": "markdown",
   "metadata": {},
   "source": [
    "Função que calcula a derivada do potencial de LJ entre pares"
   ]
  },
  {
   "cell_type": "code",
   "execution_count": null,
   "metadata": {},
   "outputs": [],
   "source": [
    "def duljdr(r,epsilon=1.0,sigma=1.0):\n",
    "    return -4*epsilon*(12*(sigma/r)**12-6*(sigma/r)**6)/r"
   ]
  },
  {
   "cell_type": "code",
   "execution_count": null,
   "metadata": {},
   "outputs": [],
   "source": [
    "class LJsystem():\n",
    "    # Função que cria a classe\n",
    "    def __init__(self,N_atoms, m = 1.0, epsilon = 1.0, sigma = 1.0, rcut = 2.5):\n",
    "        self.N_atoms = N_atoms\n",
    "\n",
    "        # parametros dos atomos\n",
    "        self.m = m*np.ones(self.N_atoms)\n",
    "        self.sigma = sigma*np.ones(self.N_atoms)\n",
    "        self.epsilon = epsilon*np.ones(self.N_atoms)\n",
    "\n",
    "        # parametro de cutoff da interação de LJ\n",
    "        self.rcut = rcut\n",
    "\n",
    "        # Arrays de posições\n",
    "        self.x = np.zeros(self.N_atoms)\n",
    "        self.y = np.zeros(self.N_atoms)\n",
    "        self.z = np.zeros(self.N_atoms)\n",
    "\n",
    "        # Arrays de velocidade\n",
    "        self.vx = np.zeros(self.N_atoms)        \n",
    "        self.vy = np.zeros(self.N_atoms) \n",
    "        self.vz = np.zeros(self.N_atoms) \n",
    "\n",
    "        # Arrays de aceleração\n",
    "        self.ax = np.zeros(self.N_atoms)        \n",
    "        self.ay = np.zeros(self.N_atoms)\n",
    "        self.az = np.zeros(self.N_atoms)\n",
    "\n",
    "    def Set_Density(self,rho):\n",
    "        self.rho = rho\n",
    "        # calcular a caixa necessária \n",
    "        Vol = self.N_atoms/self.rho\n",
    "        self.Lx = self.Ly = self.Lz = np.power(Vol,1/3.0)*self.sigma.max()\n",
    "\n",
    "    def Initialize_Positions(self):\n",
    "        # Número de pontos em x e y\n",
    "        Nx = Ny = Nz = int(np.ceil(np.power(self.N_atoms,1/3.0)))\n",
    "\n",
    "        # Espaçamento entre os átomos\n",
    "        dx = self.Lx/Nx\n",
    "        dy = self.Ly/Ny\n",
    "        dz = self.Lz/Nz\n",
    "\n",
    "        # Posições possíveis em x e y\n",
    "        id = 0\n",
    "        for i in range(Nx):\n",
    "            for j in range(Ny):\n",
    "                for k in range(Nz):\n",
    "                    if (id < self.N_atoms):\n",
    "                        self.x[id] = (i+0.5)*dx\n",
    "                        self.y[id] = (j+0.5)*dy\n",
    "                        self.z[id] = (k+0.5)*dz\n",
    "\n",
    "                        id +=1\n",
    "\n",
    "    def Initialize_Velocities(self,kT= 1.0):\n",
    "        self.kT = kT\n",
    "\n",
    "        # sorteia uma distribuição normal com devio padrão proporcional a temperatura\n",
    "        self.vx[:] = np.random.normal(loc=0.0, scale=np.sqrt(self.kT/self.m),size=self.N_atoms)\n",
    "        self.vy[:] = np.random.normal(loc=0.0, scale=np.sqrt(self.kT/self.m),size=self.N_atoms)\n",
    "        self.vz[:] = np.random.normal(loc=0.0, scale=np.sqrt(self.kT/self.m),size=self.N_atoms)\n",
    "\n",
    "        # retira qualquer movimento total\n",
    "        self.vx[:] -= self.vx.mean()\n",
    "        self.vy[:] -= self.vy.mean()\n",
    "        self.vz[:] -= self.vz.mean()\n",
    "\n",
    "    def Get_KineticEnergy(self):\n",
    "        self.K = np.sum(0.5*(self.vx**2+self.vy**2+self.vz**2))\n",
    "        return self.K\n",
    "\n",
    "    def Calculate_Interactions(self):\n",
    "        self.ax[:] = 0.0\n",
    "        self.ay[:] = 0.0\n",
    "        self.az[:] = 0.0\n",
    "        self.U = 0.0\n",
    "        for i in range(self.N_atoms):\n",
    "            for j in range(i+1,self.N_atoms):\n",
    "                # calcula distancia entre duas particulas\n",
    "                rx = self.x[i] - self.x[j]\n",
    "                ry = self.y[i] - self.y[j]\n",
    "                rz = self.z[i] - self.z[j]\n",
    "                # testa condição de contorno periodica\n",
    "                rx = rx % self.Lx # em x\n",
    "                ry = ry % self.Ly # em y\n",
    "                rz = rz % self.Lz # em y\n",
    "                # calcula modulo da distancia \n",
    "                r = np.sqrt(rx**2 + ry**2 + rz**2)\n",
    "                # regra de combinação de Lorenz-Berthelot\n",
    "                epsilonij = np.sqrt(self.epsilon[i]*self.epsilon[j])\n",
    "                sigmaij = 0.5*(self.sigma[i]+self.sigma[j])\n",
    "                # Vamos considerar somente interação dentro do raio de corte\n",
    "                if r < self.rcut*sigmaij:\n",
    "                    # calcula a derivada do potencial \n",
    "                    dudr = duljdr(r,epsilonij,sigmaij)\n",
    "                    # calcula aceleração na particula i \n",
    "                    self.ax[i] += -dudr*rx/r\n",
    "                    self.ay[i] += -dudr*ry/r\n",
    "                    self.az[i] += -dudr*rz/r\n",
    "                    # calcula aceleração na particula j usando 3ª Lei de Newton \n",
    "                    self.ax[j] += dudr*rx/r\n",
    "                    self.ay[j] += dudr*ry/r\n",
    "                    self.az[j] += dudr*rz/r\n",
    "                    # calcula energia interna\n",
    "                    self.U += ulj(r,epsilonij,sigmaij)\n",
    "\n",
    "    def Get_PotentialEnergy(self):\n",
    "        return self.U\n",
    "    \n",
    "    def Get_Energies(self):\n",
    "        self.Get_KineticEnergy()\n",
    "        kT = 2*self.K/(3*self.N_atoms)\n",
    "        return self.K, self.U, kT\n",
    "    \n",
    "    def Set_TimeStep(self,h):\n",
    "        self.h = h\n",
    "    \n",
    "    def Calculate_TimeStep(self):\n",
    "        ...\n",
    "\n",
    "    def RunSimulation(self,N_steps,Step_to_print=500):\n",
    "        self.N_steps = N_steps\n",
    "        self.Step_to_print = Step_to_print # steps to print output\n",
    "\n",
    "        self.Calculate_Interactions()\n",
    "\n",
    "        print('iter','K','U','T')\n",
    "        print(0,self.Get_Energies())\n",
    "\n",
    "        t = []\n",
    "        K = []\n",
    "        U = []\n",
    "        E = []\n",
    "        T = []\n",
    "\n",
    "        for i in range(1,self.N_steps):\n",
    "\n",
    "            self.Calculate_TimeStep()\n",
    "\n",
    "            if i % self.Step_to_print == 0:\n",
    "                Ktemp, Utemp, Ttemp = self.Get_Energies()\n",
    "                t.append(i)\n",
    "                K.append(Ktemp)\n",
    "                U.append(Utemp)\n",
    "                E.append(Ktemp+Utemp)\n",
    "                T.append(Ttemp)\n",
    "                print(i,self.Get_Energies())\n",
    "\n",
    "        return t, K, U, E, T"
   ]
  },
  {
   "cell_type": "code",
   "execution_count": null,
   "metadata": {},
   "outputs": [],
   "source": [
    "lj2d = LJsystem(N_atoms=125,m=1.0,epsilon=1.0,sigma=1.0)"
   ]
  },
  {
   "cell_type": "code",
   "execution_count": null,
   "metadata": {},
   "outputs": [],
   "source": [
    "lj2d.Set_Density(0.2)\n",
    "\n",
    "lj2d.rho, lj2d.Lx, lj2d.Ly, lj2d.Lz"
   ]
  },
  {
   "cell_type": "code",
   "execution_count": null,
   "metadata": {},
   "outputs": [],
   "source": [
    "lj2d.Initialize_Positions()"
   ]
  },
  {
   "cell_type": "code",
   "execution_count": null,
   "metadata": {},
   "outputs": [],
   "source": [
    "plt.figure(figsize=(5,5))\n",
    "plt.plot(lj2d.x,lj2d.y,'o',ms=10.0,alpha=0.5)\n",
    "\n",
    "plt.xlim(0,lj2d.Lx)\n",
    "plt.ylim(0,lj2d.Ly)\n",
    "\n",
    "plt.xlabel('x')\n",
    "plt.ylabel('y')"
   ]
  },
  {
   "cell_type": "code",
   "execution_count": null,
   "metadata": {},
   "outputs": [],
   "source": [
    "lj2d.Initialize_Velocities(kT=1.5) # equivalente a 300 K"
   ]
  },
  {
   "cell_type": "code",
   "execution_count": null,
   "metadata": {},
   "outputs": [],
   "source": [
    "plt.figure(figsize=(5,5))\n",
    "plt.plot(lj2d.x,lj2d.y,'o',ms=10.0,alpha=0.5) # posição das partículas\n",
    "plt.quiver(lj2d.x,lj2d.y,lj2d.vx,lj2d.vy,color='C0') # vetor de velocidade\n",
    "\n",
    "plt.xlim(0,lj2d.Lx)\n",
    "plt.ylim(0,lj2d.Ly)\n",
    "\n",
    "plt.xlabel('x')\n",
    "plt.ylabel('y')"
   ]
  },
  {
   "cell_type": "code",
   "execution_count": null,
   "metadata": {},
   "outputs": [],
   "source": [
    "lj2d.Calculate_Interactions()"
   ]
  },
  {
   "cell_type": "code",
   "execution_count": null,
   "metadata": {},
   "outputs": [],
   "source": [
    "plt.figure(figsize=(5,5))\n",
    "plt.plot(lj2d.x,lj2d.z,'o',ms=10.0,alpha=0.5) # posição das partículas\n",
    "plt.quiver(lj2d.x,lj2d.z,lj2d.ax,lj2d.az,color='r') # vetor de velocidade\n",
    "\n",
    "plt.xlim(0,lj2d.Lx)\n",
    "plt.ylim(0,lj2d.Ly)\n",
    "\n",
    "plt.xlabel('x')\n",
    "plt.ylabel('y')"
   ]
  },
  {
   "cell_type": "code",
   "execution_count": null,
   "metadata": {},
   "outputs": [],
   "source": [
    "lj2d.Get_Energies()"
   ]
  },
  {
   "cell_type": "code",
   "execution_count": null,
   "metadata": {},
   "outputs": [],
   "source": [
    "lj2d.Set_TimeStep(h=0.00003)\n",
    "\n",
    "t, K, U, E, T = lj2d.RunSimulation(N_steps=5000)"
   ]
  },
  {
   "cell_type": "markdown",
   "metadata": {},
   "source": [
    "Gráfico das posições iniciais e finais das partículas"
   ]
  },
  {
   "cell_type": "code",
   "execution_count": null,
   "metadata": {},
   "outputs": [],
   "source": [
    "plt.figure(figsize=(5,5))\n",
    "plt.plot(lj2d.x,lj2d.y,'o',ms=10.0,alpha=0.5) # posição das partículas\n",
    "plt.quiver(lj2d.x,lj2d.y,lj2d.vx,lj2d.vy,color='C0') # vetor de velocidade\n",
    "\n",
    "plt.xlim(0,lj2d.Lx)\n",
    "plt.ylim(0,lj2d.Ly)\n",
    "\n",
    "plt.xlabel('x')\n",
    "plt.ylabel('y')"
   ]
  },
  {
   "cell_type": "code",
   "execution_count": null,
   "metadata": {},
   "outputs": [],
   "source": [
    "plt.plot(t,K,label='K')\n",
    "plt.plot(t,U,label='U')\n",
    "plt.plot(t,E,'k--',label='K+U')\n",
    "\n",
    "plt.legend(loc='best')\n",
    "\n",
    "plt.xlabel('t')\n",
    "plt.ylabel(r'$E/\\epsilon$')"
   ]
  },
  {
   "cell_type": "code",
   "execution_count": null,
   "metadata": {},
   "outputs": [],
   "source": [
    "plt.plot(t,T,label='T')\n",
    "\n",
    "plt.legend(loc='best')\n",
    "\n",
    "plt.xlabel('t')\n",
    "plt.ylabel(r'$k_B T/\\epsilon$')"
   ]
  },
  {
   "cell_type": "markdown",
   "metadata": {},
   "source": [
    "## Calculando Médias"
   ]
  },
  {
   "cell_type": "code",
   "execution_count": null,
   "metadata": {},
   "outputs": [],
   "source": []
  }
 ],
 "metadata": {
  "kernelspec": {
   "display_name": "Python 3",
   "language": "python",
   "name": "python3"
  },
  "language_info": {
   "codemirror_mode": {
    "name": "ipython",
    "version": 3
   },
   "file_extension": ".py",
   "mimetype": "text/x-python",
   "name": "python",
   "nbconvert_exporter": "python",
   "pygments_lexer": "ipython3",
   "version": "3.13.2"
  }
 },
 "nbformat": 4,
 "nbformat_minor": 4
}
